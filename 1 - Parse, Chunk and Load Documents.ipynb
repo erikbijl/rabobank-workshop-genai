{
 "cells": [
  {
   "cell_type": "markdown",
   "id": "3cb59233-c8ac-4b5c-99ce-821c8559faea",
   "metadata": {},
   "source": [
    "# Parse, Chunk and Load Documents "
   ]
  },
  {
   "cell_type": "markdown",
   "id": "c0240452-1a49-4960-b9eb-0d36baf1aea5",
   "metadata": {},
   "source": [
    "The following notebook executes three steps: \n",
    "- **Parsing and Chunking**: The first part of the notebook parses and chunks the documents.  This is done by the [PyPDFLoader](https://python.langchain.com/v0.1/docs/modules/data_connection/document_loaders/pdf/#using-pypdf) of LangChain. More documentation can be found here: [LangChain API](https://api.python.langchain.com/en/latest/document_loaders/langchain_community.document_loaders.pdf.PyPDFLoader.html). \n",
    "- **Embeddings**: For every chunk an embeddings is created. For these an OpenAI Embeddings model is used: [text-embedding-3-small](https://platform.openai.com/docs/models/embeddings). \n",
    "- **Load to Database**: The Documents and Chunks are loaded to Neo4j. This is done using the [Python Driver](https://neo4j.com/docs/api/python-driver/current/) that enables querying from a Python script."
   ]
  },
  {
   "cell_type": "code",
   "execution_count": 1,
   "id": "07e9c561",
   "metadata": {},
   "outputs": [
    {
     "name": "stdout",
     "output_type": "stream",
     "text": [
      "Requirement already satisfied: pypdf in /Users/erikbijl/anaconda3/lib/python3.11/site-packages (5.4.0)\n",
      "Requirement already satisfied: langchain_community in /Users/erikbijl/anaconda3/lib/python3.11/site-packages (0.3.16)\n",
      "Requirement already satisfied: langchain in /Users/erikbijl/anaconda3/lib/python3.11/site-packages (0.3.17)\n",
      "Requirement already satisfied: langchain_openai in /Users/erikbijl/anaconda3/lib/python3.11/site-packages (0.3.3)\n",
      "Requirement already satisfied: IPython in /Users/erikbijl/anaconda3/lib/python3.11/site-packages (8.20.0)\n",
      "Requirement already satisfied: neo4j in /Users/erikbijl/anaconda3/lib/python3.11/site-packages (5.28.1)\n",
      "Requirement already satisfied: PyYAML>=5.3 in /Users/erikbijl/anaconda3/lib/python3.11/site-packages (from langchain_community) (6.0.1)\n",
      "Requirement already satisfied: SQLAlchemy<3,>=1.4 in /Users/erikbijl/anaconda3/lib/python3.11/site-packages (from langchain_community) (2.0.25)\n",
      "Requirement already satisfied: aiohttp<4.0.0,>=3.8.3 in /Users/erikbijl/anaconda3/lib/python3.11/site-packages (from langchain_community) (3.9.5)\n",
      "Requirement already satisfied: dataclasses-json<0.7,>=0.5.7 in /Users/erikbijl/anaconda3/lib/python3.11/site-packages (from langchain_community) (0.6.7)\n",
      "Requirement already satisfied: httpx-sse<0.5.0,>=0.4.0 in /Users/erikbijl/anaconda3/lib/python3.11/site-packages (from langchain_community) (0.4.0)\n",
      "Requirement already satisfied: langchain-core<0.4.0,>=0.3.32 in /Users/erikbijl/anaconda3/lib/python3.11/site-packages (from langchain_community) (0.3.33)\n",
      "Requirement already satisfied: langsmith<0.4,>=0.1.125 in /Users/erikbijl/anaconda3/lib/python3.11/site-packages (from langchain_community) (0.1.139)\n",
      "Requirement already satisfied: numpy<2,>=1.22.4 in /Users/erikbijl/anaconda3/lib/python3.11/site-packages (from langchain_community) (1.26.4)\n",
      "Requirement already satisfied: pydantic-settings<3.0.0,>=2.4.0 in /Users/erikbijl/anaconda3/lib/python3.11/site-packages (from langchain_community) (2.6.1)\n",
      "Requirement already satisfied: requests<3,>=2 in /Users/erikbijl/anaconda3/lib/python3.11/site-packages (from langchain_community) (2.32.2)\n",
      "Requirement already satisfied: tenacity!=8.4.0,<10,>=8.1.0 in /Users/erikbijl/anaconda3/lib/python3.11/site-packages (from langchain_community) (9.0.0)\n",
      "Requirement already satisfied: langchain-text-splitters<0.4.0,>=0.3.3 in /Users/erikbijl/anaconda3/lib/python3.11/site-packages (from langchain) (0.3.5)\n",
      "Requirement already satisfied: pydantic<3.0.0,>=2.7.4 in /Users/erikbijl/anaconda3/lib/python3.11/site-packages (from langchain) (2.10.6)\n",
      "Requirement already satisfied: openai<2.0.0,>=1.58.1 in /Users/erikbijl/anaconda3/lib/python3.11/site-packages (from langchain_openai) (1.61.0)\n",
      "Requirement already satisfied: tiktoken<1,>=0.7 in /Users/erikbijl/anaconda3/lib/python3.11/site-packages (from langchain_openai) (0.8.0)\n",
      "Requirement already satisfied: decorator in /Users/erikbijl/anaconda3/lib/python3.11/site-packages (from IPython) (5.1.1)\n",
      "Requirement already satisfied: jedi>=0.16 in /Users/erikbijl/anaconda3/lib/python3.11/site-packages (from IPython) (0.18.1)\n",
      "Requirement already satisfied: matplotlib-inline in /Users/erikbijl/anaconda3/lib/python3.11/site-packages (from IPython) (0.1.6)\n",
      "Requirement already satisfied: prompt-toolkit<3.1.0,>=3.0.41 in /Users/erikbijl/anaconda3/lib/python3.11/site-packages (from IPython) (3.0.43)\n",
      "Requirement already satisfied: pygments>=2.4.0 in /Users/erikbijl/anaconda3/lib/python3.11/site-packages (from IPython) (2.15.1)\n",
      "Requirement already satisfied: stack-data in /Users/erikbijl/anaconda3/lib/python3.11/site-packages (from IPython) (0.2.0)\n",
      "Requirement already satisfied: traitlets>=5 in /Users/erikbijl/anaconda3/lib/python3.11/site-packages (from IPython) (5.7.1)\n",
      "Requirement already satisfied: pexpect>4.3 in /Users/erikbijl/anaconda3/lib/python3.11/site-packages (from IPython) (4.8.0)\n",
      "Requirement already satisfied: pytz in /Users/erikbijl/anaconda3/lib/python3.11/site-packages (from neo4j) (2024.1)\n",
      "Requirement already satisfied: aiosignal>=1.1.2 in /Users/erikbijl/anaconda3/lib/python3.11/site-packages (from aiohttp<4.0.0,>=3.8.3->langchain_community) (1.2.0)\n",
      "Requirement already satisfied: attrs>=17.3.0 in /Users/erikbijl/anaconda3/lib/python3.11/site-packages (from aiohttp<4.0.0,>=3.8.3->langchain_community) (23.1.0)\n",
      "Requirement already satisfied: frozenlist>=1.1.1 in /Users/erikbijl/anaconda3/lib/python3.11/site-packages (from aiohttp<4.0.0,>=3.8.3->langchain_community) (1.4.0)\n",
      "Requirement already satisfied: multidict<7.0,>=4.5 in /Users/erikbijl/anaconda3/lib/python3.11/site-packages (from aiohttp<4.0.0,>=3.8.3->langchain_community) (6.0.4)\n",
      "Requirement already satisfied: yarl<2.0,>=1.0 in /Users/erikbijl/anaconda3/lib/python3.11/site-packages (from aiohttp<4.0.0,>=3.8.3->langchain_community) (1.9.3)\n",
      "Requirement already satisfied: marshmallow<4.0.0,>=3.18.0 in /Users/erikbijl/anaconda3/lib/python3.11/site-packages (from dataclasses-json<0.7,>=0.5.7->langchain_community) (3.23.1)\n",
      "Requirement already satisfied: typing-inspect<1,>=0.4.0 in /Users/erikbijl/anaconda3/lib/python3.11/site-packages (from dataclasses-json<0.7,>=0.5.7->langchain_community) (0.9.0)\n",
      "Requirement already satisfied: parso<0.9.0,>=0.8.0 in /Users/erikbijl/anaconda3/lib/python3.11/site-packages (from jedi>=0.16->IPython) (0.8.3)\n",
      "Requirement already satisfied: jsonpatch<2.0,>=1.33 in /Users/erikbijl/anaconda3/lib/python3.11/site-packages (from langchain-core<0.4.0,>=0.3.32->langchain_community) (1.33)\n",
      "Requirement already satisfied: packaging<25,>=23.2 in /Users/erikbijl/anaconda3/lib/python3.11/site-packages (from langchain-core<0.4.0,>=0.3.32->langchain_community) (23.2)\n",
      "Requirement already satisfied: typing-extensions>=4.7 in /Users/erikbijl/anaconda3/lib/python3.11/site-packages (from langchain-core<0.4.0,>=0.3.32->langchain_community) (4.12.2)\n",
      "Requirement already satisfied: httpx<1,>=0.23.0 in /Users/erikbijl/anaconda3/lib/python3.11/site-packages (from langsmith<0.4,>=0.1.125->langchain_community) (0.27.2)\n",
      "Requirement already satisfied: orjson<4.0.0,>=3.9.14 in /Users/erikbijl/anaconda3/lib/python3.11/site-packages (from langsmith<0.4,>=0.1.125->langchain_community) (3.10.11)\n",
      "Requirement already satisfied: requests-toolbelt<2.0.0,>=1.0.0 in /Users/erikbijl/anaconda3/lib/python3.11/site-packages (from langsmith<0.4,>=0.1.125->langchain_community) (1.0.0)\n",
      "Requirement already satisfied: anyio<5,>=3.5.0 in /Users/erikbijl/anaconda3/lib/python3.11/site-packages (from openai<2.0.0,>=1.58.1->langchain_openai) (4.2.0)\n",
      "Requirement already satisfied: distro<2,>=1.7.0 in /Users/erikbijl/anaconda3/lib/python3.11/site-packages (from openai<2.0.0,>=1.58.1->langchain_openai) (1.9.0)\n",
      "Requirement already satisfied: jiter<1,>=0.4.0 in /Users/erikbijl/anaconda3/lib/python3.11/site-packages (from openai<2.0.0,>=1.58.1->langchain_openai) (0.7.0)\n",
      "Requirement already satisfied: sniffio in /Users/erikbijl/anaconda3/lib/python3.11/site-packages (from openai<2.0.0,>=1.58.1->langchain_openai) (1.3.0)\n",
      "Requirement already satisfied: tqdm>4 in /Users/erikbijl/anaconda3/lib/python3.11/site-packages (from openai<2.0.0,>=1.58.1->langchain_openai) (4.66.4)\n",
      "Requirement already satisfied: ptyprocess>=0.5 in /Users/erikbijl/anaconda3/lib/python3.11/site-packages (from pexpect>4.3->IPython) (0.7.0)\n",
      "Requirement already satisfied: wcwidth in /Users/erikbijl/anaconda3/lib/python3.11/site-packages (from prompt-toolkit<3.1.0,>=3.0.41->IPython) (0.2.5)\n",
      "Requirement already satisfied: annotated-types>=0.6.0 in /Users/erikbijl/anaconda3/lib/python3.11/site-packages (from pydantic<3.0.0,>=2.7.4->langchain) (0.6.0)\n",
      "Requirement already satisfied: pydantic-core==2.27.2 in /Users/erikbijl/anaconda3/lib/python3.11/site-packages (from pydantic<3.0.0,>=2.7.4->langchain) (2.27.2)\n",
      "Requirement already satisfied: python-dotenv>=0.21.0 in /Users/erikbijl/anaconda3/lib/python3.11/site-packages (from pydantic-settings<3.0.0,>=2.4.0->langchain_community) (0.21.0)\n",
      "Requirement already satisfied: charset-normalizer<4,>=2 in /Users/erikbijl/anaconda3/lib/python3.11/site-packages (from requests<3,>=2->langchain_community) (2.0.4)\n",
      "Requirement already satisfied: idna<4,>=2.5 in /Users/erikbijl/anaconda3/lib/python3.11/site-packages (from requests<3,>=2->langchain_community) (3.7)\n",
      "Requirement already satisfied: urllib3<3,>=1.21.1 in /Users/erikbijl/anaconda3/lib/python3.11/site-packages (from requests<3,>=2->langchain_community) (2.2.1)\n",
      "Requirement already satisfied: certifi>=2017.4.17 in /Users/erikbijl/anaconda3/lib/python3.11/site-packages (from requests<3,>=2->langchain_community) (2024.2.2)\n",
      "Requirement already satisfied: regex>=2022.1.18 in /Users/erikbijl/anaconda3/lib/python3.11/site-packages (from tiktoken<1,>=0.7->langchain_openai) (2023.10.3)\n",
      "Requirement already satisfied: executing in /Users/erikbijl/anaconda3/lib/python3.11/site-packages (from stack-data->IPython) (0.8.3)\n",
      "Requirement already satisfied: asttokens in /Users/erikbijl/anaconda3/lib/python3.11/site-packages (from stack-data->IPython) (2.0.5)\n",
      "Requirement already satisfied: pure-eval in /Users/erikbijl/anaconda3/lib/python3.11/site-packages (from stack-data->IPython) (0.2.2)\n",
      "Requirement already satisfied: httpcore==1.* in /Users/erikbijl/anaconda3/lib/python3.11/site-packages (from httpx<1,>=0.23.0->langsmith<0.4,>=0.1.125->langchain_community) (1.0.6)\n",
      "Requirement already satisfied: h11<0.15,>=0.13 in /Users/erikbijl/anaconda3/lib/python3.11/site-packages (from httpcore==1.*->httpx<1,>=0.23.0->langsmith<0.4,>=0.1.125->langchain_community) (0.14.0)\n",
      "Requirement already satisfied: jsonpointer>=1.9 in /Users/erikbijl/anaconda3/lib/python3.11/site-packages (from jsonpatch<2.0,>=1.33->langchain-core<0.4.0,>=0.3.32->langchain_community) (2.1)\n",
      "Requirement already satisfied: mypy-extensions>=0.3.0 in /Users/erikbijl/anaconda3/lib/python3.11/site-packages (from typing-inspect<1,>=0.4.0->dataclasses-json<0.7,>=0.5.7->langchain_community) (1.0.0)\n",
      "Requirement already satisfied: six in /Users/erikbijl/anaconda3/lib/python3.11/site-packages (from asttokens->stack-data->IPython) (1.16.0)\n",
      "Note: you may need to restart the kernel to use updated packages.\n"
     ]
    }
   ],
   "source": [
    "%pip install pypdf langchain_community langchain langchain_openai IPython neo4j"
   ]
  },
  {
   "cell_type": "code",
   "execution_count": 2,
   "id": "6c13ce51-9fce-4b71-a4c5-c4d077d0f0e6",
   "metadata": {},
   "outputs": [],
   "source": [
    "import pandas as pd\n",
    "import numpy as np\n",
    "from langchain_community.document_loaders import PyPDFLoader\n",
    "from langchain.text_splitter import RecursiveCharacterTextSplitter\n",
    "from langchain_openai import OpenAIEmbeddings\n",
    "import os\n",
    "from dotenv import load_dotenv\n",
    "from neo4j import Query, GraphDatabase, RoutingControl, Result\n",
    "import ast\n",
    "from IPython.display import clear_output"
   ]
  },
  {
   "cell_type": "markdown",
   "id": "10119273-1820-4b65-a478-5af8eccef5ba",
   "metadata": {},
   "source": [
    "## Get Credentials"
   ]
  },
  {
   "cell_type": "code",
   "execution_count": 3,
   "id": "9a7210ca-5bfc-4970-9d61-bc8ad52e400a",
   "metadata": {},
   "outputs": [],
   "source": [
    "env_file = 'credentials.env'"
   ]
  },
  {
   "cell_type": "code",
   "execution_count": 4,
   "id": "6cdad99f-c40f-4bee-a988-ac25e3a3f7ee",
   "metadata": {},
   "outputs": [],
   "source": [
    "if os.path.exists(env_file):\n",
    "    load_dotenv(env_file, override=True)\n",
    "\n",
    "    # Neo4j\n",
    "    HOST = os.getenv('NEO4J_URI')\n",
    "    USERNAME = os.getenv('NEO4J_USERNAME')\n",
    "    PASSWORD = os.getenv('NEO4J_PASSWORD')\n",
    "    DATABASE = os.getenv('NEO4J_DATABASE')\n",
    "\n",
    "    # AI\n",
    "    OPENAI_API_KEY = os.getenv('OPENAI_API_KEY')\n",
    "    os.environ['OPENAI_API_KEY']=OPENAI_API_KEY\n",
    "    LLM = os.getenv('LLM')\n",
    "    EMBEDDINGS_MODEL = os.getenv('EMBEDDINGS_MODEL')\n",
    "else:\n",
    "    print(f\"File {env_file} not found.\")"
   ]
  },
  {
   "cell_type": "code",
   "execution_count": 5,
   "id": "de38cdf9-3b3e-4dac-bbb8-efff1117cffe",
   "metadata": {},
   "outputs": [],
   "source": [
    "documents_path = \"documents/\""
   ]
  },
  {
   "cell_type": "markdown",
   "id": "9705045c-c4cb-4160-89f3-1223cabc0f30",
   "metadata": {},
   "source": [
    "## Parse and Chunk Documents"
   ]
  },
  {
   "cell_type": "code",
   "execution_count": 6,
   "id": "3b4fedf1-81a4-4201-b64f-3df3de5aa036",
   "metadata": {},
   "outputs": [],
   "source": [
    "chunk_size = 1000\n",
    "chunk_overlap = 100"
   ]
  },
  {
   "cell_type": "code",
   "execution_count": 7,
   "id": "ddcdfc11-535c-4b5a-8b00-c445d2d18573",
   "metadata": {},
   "outputs": [],
   "source": [
    "text_splitter = RecursiveCharacterTextSplitter(\n",
    "    chunk_size = chunk_size,\n",
    "    chunk_overlap  = chunk_overlap,\n",
    "    length_function = len,\n",
    "    is_separator_regex = False,\n",
    ")"
   ]
  },
  {
   "cell_type": "code",
   "execution_count": 8,
   "id": "c1b982eb-0356-44c6-b286-860bf614fdb6",
   "metadata": {},
   "outputs": [
    {
     "name": "stdout",
     "output_type": "stream",
     "text": [
      "Parsing: Rabo SpaarRekening 2020.pdf\n",
      "chunked 14 pages in 44 chunks\n",
      "Parsing: Payment and Online Services Terms Sept 2022.pdf\n",
      "chunked 112 pages in 354 chunks\n"
     ]
    }
   ],
   "source": [
    "directory = os.fsencode(documents_path)\n",
    "chunk_seq_id = 0\n",
    "chunks_with_metadata = []\n",
    "\n",
    "for doc in os.listdir(directory):\n",
    "    doc_name = os.fsdecode(doc)\n",
    "    print(f\"Parsing: {doc_name}\")\n",
    "    doc_path = documents_path + doc_name\n",
    "    loader = PyPDFLoader(doc_path)\n",
    "    pages = loader.load_and_split()\n",
    "    num_chunks = 0\n",
    "    for page in pages:\n",
    "        chunks = text_splitter.split_text(page.page_content)\n",
    "        for chunk in chunks:\n",
    "            d = {\n",
    "                'file': page.metadata['source'],\n",
    "                'page': page.metadata['page'],\n",
    "                'chunks': chunk,\n",
    "                'num_chuncks': len(chunks),\n",
    "                'chunk_seq_id': chunk_seq_id\n",
    "            }\n",
    "            chunk_seq_id += 1\n",
    "            num_chunks += 1\n",
    "            chunks_with_metadata.append(d.copy())\n",
    "    print(f\"chunked {len(pages)} pages in {num_chunks} chunks\")"
   ]
  },
  {
   "cell_type": "markdown",
   "id": "4c5b86ed-e7dd-4063-9826-ffaf0bf77fe6",
   "metadata": {},
   "source": [
    "Create a DataFrame of Chunks"
   ]
  },
  {
   "cell_type": "code",
   "execution_count": 9,
   "id": "90f9f7ca-e6ba-4fa3-83eb-50a294e3a32c",
   "metadata": {},
   "outputs": [],
   "source": [
    "df = pd.DataFrame.from_dict(chunks_with_metadata)"
   ]
  },
  {
   "cell_type": "code",
   "execution_count": 10,
   "id": "22c1d2a1-e43e-40c8-b305-7fc061896872",
   "metadata": {},
   "outputs": [
    {
     "data": {
      "text/html": [
       "<div>\n",
       "<style scoped>\n",
       "    .dataframe tbody tr th:only-of-type {\n",
       "        vertical-align: middle;\n",
       "    }\n",
       "\n",
       "    .dataframe tbody tr th {\n",
       "        vertical-align: top;\n",
       "    }\n",
       "\n",
       "    .dataframe thead th {\n",
       "        text-align: right;\n",
       "    }\n",
       "</style>\n",
       "<table border=\"1\" class=\"dataframe\">\n",
       "  <thead>\n",
       "    <tr style=\"text-align: right;\">\n",
       "      <th></th>\n",
       "      <th>file</th>\n",
       "      <th>page</th>\n",
       "      <th>chunks</th>\n",
       "      <th>num_chuncks</th>\n",
       "      <th>chunk_seq_id</th>\n",
       "    </tr>\n",
       "  </thead>\n",
       "  <tbody>\n",
       "    <tr>\n",
       "      <th>0</th>\n",
       "      <td>documents/Rabo SpaarRekening 2020.pdf</td>\n",
       "      <td>0</td>\n",
       "      <td>Rabo \\nSpaarRekening 2020</td>\n",
       "      <td>1</td>\n",
       "      <td>0</td>\n",
       "    </tr>\n",
       "    <tr>\n",
       "      <th>1</th>\n",
       "      <td>documents/Rabo SpaarRekening 2020.pdf</td>\n",
       "      <td>1</td>\n",
       "      <td>Pagina 2/14\\nInhoud\\nRabo SpaarRekening  Novem...</td>\n",
       "      <td>1</td>\n",
       "      <td>1</td>\n",
       "    </tr>\n",
       "    <tr>\n",
       "      <th>2</th>\n",
       "      <td>documents/Rabo SpaarRekening 2020.pdf</td>\n",
       "      <td>2</td>\n",
       "      <td>Pagina 3/14\\nProductkenmerken, Rabo SpaarReken...</td>\n",
       "      <td>4</td>\n",
       "      <td>2</td>\n",
       "    </tr>\n",
       "    <tr>\n",
       "      <th>3</th>\n",
       "      <td>documents/Rabo SpaarRekening 2020.pdf</td>\n",
       "      <td>2</td>\n",
       "      <td>openen, wijzigen of opheffen. Hiervoor zijn ee...</td>\n",
       "      <td>4</td>\n",
       "      <td>3</td>\n",
       "    </tr>\n",
       "    <tr>\n",
       "      <th>4</th>\n",
       "      <td>documents/Rabo SpaarRekening 2020.pdf</td>\n",
       "      <td>2</td>\n",
       "      <td>wij de bijbehorende rente. Wij kunnen de schij...</td>\n",
       "      <td>4</td>\n",
       "      <td>4</td>\n",
       "    </tr>\n",
       "    <tr>\n",
       "      <th>...</th>\n",
       "      <td>...</td>\n",
       "      <td>...</td>\n",
       "      <td>...</td>\n",
       "      <td>...</td>\n",
       "      <td>...</td>\n",
       "    </tr>\n",
       "    <tr>\n",
       "      <th>393</th>\n",
       "      <td>documents/Payment and Online Services Terms Se...</td>\n",
       "      <td>76</td>\n",
       "      <td>Pas\\nDe betaalpas, creditcard of digitale pas....</td>\n",
       "      <td>3</td>\n",
       "      <td>393</td>\n",
       "    </tr>\n",
       "    <tr>\n",
       "      <th>394</th>\n",
       "      <td>documents/Payment and Online Services Terms Se...</td>\n",
       "      <td>77</td>\n",
       "      <td>Woordenlijst Voorwaarden betalen en online die...</td>\n",
       "      <td>2</td>\n",
       "      <td>394</td>\n",
       "    </tr>\n",
       "    <tr>\n",
       "      <th>395</th>\n",
       "      <td>documents/Payment and Online Services Terms Se...</td>\n",
       "      <td>77</td>\n",
       "      <td>en Rabo Scanner.\\nTarieven- en limietenoverzic...</td>\n",
       "      <td>2</td>\n",
       "      <td>395</td>\n",
       "    </tr>\n",
       "    <tr>\n",
       "      <th>396</th>\n",
       "      <td>documents/Payment and Online Services Terms Se...</td>\n",
       "      <td>78</td>\n",
       "      <td>79 Voorwaarden betalen en online diensten 2022...</td>\n",
       "      <td>1</td>\n",
       "      <td>396</td>\n",
       "    </tr>\n",
       "    <tr>\n",
       "      <th>397</th>\n",
       "      <td>documents/Payment and Online Services Terms Se...</td>\n",
       "      <td>79</td>\n",
       "      <td>John Doe – Rabobank\\n‘Growing a better \\nworld...</td>\n",
       "      <td>1</td>\n",
       "      <td>397</td>\n",
       "    </tr>\n",
       "  </tbody>\n",
       "</table>\n",
       "<p>398 rows × 5 columns</p>\n",
       "</div>"
      ],
      "text/plain": [
       "                                                  file  page  \\\n",
       "0                documents/Rabo SpaarRekening 2020.pdf     0   \n",
       "1                documents/Rabo SpaarRekening 2020.pdf     1   \n",
       "2                documents/Rabo SpaarRekening 2020.pdf     2   \n",
       "3                documents/Rabo SpaarRekening 2020.pdf     2   \n",
       "4                documents/Rabo SpaarRekening 2020.pdf     2   \n",
       "..                                                 ...   ...   \n",
       "393  documents/Payment and Online Services Terms Se...    76   \n",
       "394  documents/Payment and Online Services Terms Se...    77   \n",
       "395  documents/Payment and Online Services Terms Se...    77   \n",
       "396  documents/Payment and Online Services Terms Se...    78   \n",
       "397  documents/Payment and Online Services Terms Se...    79   \n",
       "\n",
       "                                                chunks  num_chuncks  \\\n",
       "0                            Rabo \\nSpaarRekening 2020            1   \n",
       "1    Pagina 2/14\\nInhoud\\nRabo SpaarRekening  Novem...            1   \n",
       "2    Pagina 3/14\\nProductkenmerken, Rabo SpaarReken...            4   \n",
       "3    openen, wijzigen of opheffen. Hiervoor zijn ee...            4   \n",
       "4    wij de bijbehorende rente. Wij kunnen de schij...            4   \n",
       "..                                                 ...          ...   \n",
       "393  Pas\\nDe betaalpas, creditcard of digitale pas....            3   \n",
       "394  Woordenlijst Voorwaarden betalen en online die...            2   \n",
       "395  en Rabo Scanner.\\nTarieven- en limietenoverzic...            2   \n",
       "396  79 Voorwaarden betalen en online diensten 2022...            1   \n",
       "397  John Doe – Rabobank\\n‘Growing a better \\nworld...            1   \n",
       "\n",
       "     chunk_seq_id  \n",
       "0               0  \n",
       "1               1  \n",
       "2               2  \n",
       "3               3  \n",
       "4               4  \n",
       "..            ...  \n",
       "393           393  \n",
       "394           394  \n",
       "395           395  \n",
       "396           396  \n",
       "397           397  \n",
       "\n",
       "[398 rows x 5 columns]"
      ]
     },
     "execution_count": 10,
     "metadata": {},
     "output_type": "execute_result"
    }
   ],
   "source": [
    "df"
   ]
  },
  {
   "cell_type": "markdown",
   "id": "7d3d272e-1a3f-40b8-a6f1-1df6feff98cf",
   "metadata": {},
   "source": [
    "## Create embeddings"
   ]
  },
  {
   "cell_type": "markdown",
   "id": "56eaf185-6c4d-45d4-9ad9-608d876bf4ad",
   "metadata": {},
   "source": [
    "Load an embedding model"
   ]
  },
  {
   "cell_type": "code",
   "execution_count": 11,
   "id": "103c4c7e-7012-43b1-8fdd-cef8c9baaf55",
   "metadata": {},
   "outputs": [],
   "source": [
    "embeddings_model = OpenAIEmbeddings(\n",
    "    model = EMBEDDINGS_MODEL,\n",
    "    openai_api_key = OPENAI_API_KEY\n",
    ")"
   ]
  },
  {
   "cell_type": "markdown",
   "id": "f8f72bec-6c2b-41ff-b37b-da9d703ccb7e",
   "metadata": {},
   "source": [
    "Add an embedding for every chunk in the DataFrame"
   ]
  },
  {
   "cell_type": "code",
   "execution_count": 12,
   "id": "e76345e9-469b-4f58-9f0d-9f40b0391a4d",
   "metadata": {},
   "outputs": [],
   "source": [
    "df['embedding'] = df['chunks'].apply(lambda x: embeddings_model.embed_query(x))"
   ]
  },
  {
   "cell_type": "markdown",
   "id": "a1c30da8-ab39-4a2d-9a40-639e70c081cd",
   "metadata": {},
   "source": [
    "## Create Neo4j Connection"
   ]
  },
  {
   "cell_type": "markdown",
   "id": "364c6342-1196-4465-a250-713ea5c6fa32",
   "metadata": {},
   "source": [
    "Setup the Python Driver for Neo4j with the loaded credentials"
   ]
  },
  {
   "cell_type": "code",
   "execution_count": 13,
   "id": "b328fe53-6071-4abc-b641-d092c65aacf7",
   "metadata": {},
   "outputs": [],
   "source": [
    "driver = GraphDatabase.driver(\n",
    "    HOST,\n",
    "    auth=(USERNAME, PASSWORD)\n",
    ")"
   ]
  },
  {
   "cell_type": "markdown",
   "id": "be8926e8-766e-46a7-ae09-d632c5207737",
   "metadata": {},
   "source": [
    "Test the Connection"
   ]
  },
  {
   "cell_type": "code",
   "execution_count": 14,
   "id": "7c3249de-e8f3-4e5b-861c-4e490b4dbf66",
   "metadata": {},
   "outputs": [
    {
     "data": {
      "text/html": [
       "<div>\n",
       "<style scoped>\n",
       "    .dataframe tbody tr th:only-of-type {\n",
       "        vertical-align: middle;\n",
       "    }\n",
       "\n",
       "    .dataframe tbody tr th {\n",
       "        vertical-align: top;\n",
       "    }\n",
       "\n",
       "    .dataframe thead th {\n",
       "        text-align: right;\n",
       "    }\n",
       "</style>\n",
       "<table border=\"1\" class=\"dataframe\">\n",
       "  <thead>\n",
       "    <tr style=\"text-align: right;\">\n",
       "      <th></th>\n",
       "      <th>Count</th>\n",
       "    </tr>\n",
       "  </thead>\n",
       "  <tbody>\n",
       "    <tr>\n",
       "      <th>0</th>\n",
       "      <td>0</td>\n",
       "    </tr>\n",
       "  </tbody>\n",
       "</table>\n",
       "</div>"
      ],
      "text/plain": [
       "   Count\n",
       "0      0"
      ]
     },
     "execution_count": 14,
     "metadata": {},
     "output_type": "execute_result"
    }
   ],
   "source": [
    "driver.execute_query(\n",
    "    \"\"\"\n",
    "    MATCH (n) RETURN COUNT(n) as Count\n",
    "    \"\"\",\n",
    "    database_=DATABASE,\n",
    "    routing_=RoutingControl.READ,\n",
    "    result_transformer_= lambda r: r.to_df()\n",
    ")"
   ]
  },
  {
   "cell_type": "markdown",
   "id": "9112f4bb-e5dc-4123-9431-fe7e521e01f4",
   "metadata": {},
   "source": [
    "## Load to Database"
   ]
  },
  {
   "cell_type": "markdown",
   "id": "41fea66b-519c-4696-855b-1b4c0e4c180f",
   "metadata": {},
   "source": [
    "Create some constraints"
   ]
  },
  {
   "cell_type": "code",
   "execution_count": 15,
   "id": "007893ed-9b3d-436f-8839-9399171bb5de",
   "metadata": {},
   "outputs": [
    {
     "data": {
      "text/plain": [
       "EagerResult(records=[], summary=<neo4j._work.summary.ResultSummary object at 0x14719fa10>, keys=[])"
      ]
     },
     "execution_count": 15,
     "metadata": {},
     "output_type": "execute_result"
    }
   ],
   "source": [
    "driver.execute_query(\n",
    "    'CREATE CONSTRAINT unique_document IF NOT EXISTS FOR (d:Document) REQUIRE d.id IS UNIQUE',\n",
    "    database_=DATABASE,\n",
    "    routing_=RoutingControl.WRITE\n",
    ")"
   ]
  },
  {
   "cell_type": "code",
   "execution_count": 16,
   "id": "8ffec8e8-f634-4140-8ae1-c2baa3d7dfd2",
   "metadata": {},
   "outputs": [
    {
     "data": {
      "text/plain": [
       "EagerResult(records=[], summary=<neo4j._work.summary.ResultSummary object at 0x147a29610>, keys=[])"
      ]
     },
     "execution_count": 16,
     "metadata": {},
     "output_type": "execute_result"
    }
   ],
   "source": [
    "driver.execute_query(\n",
    "    'CREATE CONSTRAINT unique_chunk IF NOT EXISTS FOR (c:Chunk) REQUIRE c.id IS UNIQUE',\n",
    "    database_=DATABASE,\n",
    "    routing_=RoutingControl.WRITE\n",
    ")"
   ]
  },
  {
   "cell_type": "code",
   "execution_count": 17,
   "id": "9a400707-e2b0-4fe5-9d74-74b68a389641",
   "metadata": {},
   "outputs": [
    {
     "data": {
      "text/html": [
       "<div>\n",
       "<style scoped>\n",
       "    .dataframe tbody tr th:only-of-type {\n",
       "        vertical-align: middle;\n",
       "    }\n",
       "\n",
       "    .dataframe tbody tr th {\n",
       "        vertical-align: top;\n",
       "    }\n",
       "\n",
       "    .dataframe thead th {\n",
       "        text-align: right;\n",
       "    }\n",
       "</style>\n",
       "<table border=\"1\" class=\"dataframe\">\n",
       "  <thead>\n",
       "    <tr style=\"text-align: right;\">\n",
       "      <th></th>\n",
       "      <th>id</th>\n",
       "      <th>name</th>\n",
       "      <th>type</th>\n",
       "      <th>entityType</th>\n",
       "      <th>labelsOrTypes</th>\n",
       "      <th>properties</th>\n",
       "      <th>ownedIndex</th>\n",
       "      <th>propertyType</th>\n",
       "    </tr>\n",
       "  </thead>\n",
       "  <tbody>\n",
       "    <tr>\n",
       "      <th>0</th>\n",
       "      <td>5</td>\n",
       "      <td>unique_chunk</td>\n",
       "      <td>UNIQUENESS</td>\n",
       "      <td>NODE</td>\n",
       "      <td>[Chunk]</td>\n",
       "      <td>[id]</td>\n",
       "      <td>unique_chunk</td>\n",
       "      <td>None</td>\n",
       "    </tr>\n",
       "    <tr>\n",
       "      <th>1</th>\n",
       "      <td>3</td>\n",
       "      <td>unique_document</td>\n",
       "      <td>UNIQUENESS</td>\n",
       "      <td>NODE</td>\n",
       "      <td>[Document]</td>\n",
       "      <td>[id]</td>\n",
       "      <td>unique_document</td>\n",
       "      <td>None</td>\n",
       "    </tr>\n",
       "  </tbody>\n",
       "</table>\n",
       "</div>"
      ],
      "text/plain": [
       "   id             name        type entityType labelsOrTypes properties  \\\n",
       "0   5     unique_chunk  UNIQUENESS       NODE       [Chunk]       [id]   \n",
       "1   3  unique_document  UNIQUENESS       NODE    [Document]       [id]   \n",
       "\n",
       "        ownedIndex propertyType  \n",
       "0     unique_chunk         None  \n",
       "1  unique_document         None  "
      ]
     },
     "execution_count": 17,
     "metadata": {},
     "output_type": "execute_result"
    }
   ],
   "source": [
    "schema_result_df  = driver.execute_query(\n",
    "    'SHOW CONSTRAINTS',\n",
    "    database_=DATABASE,\n",
    "    routing_=RoutingControl.READ,\n",
    "    result_transformer_= lambda r: r.to_df()\n",
    ")\n",
    "schema_result_df.head()"
   ]
  },
  {
   "cell_type": "markdown",
   "id": "1249c8cb-bdbd-4c15-84d6-0bf9c4772576",
   "metadata": {},
   "source": [
    "### Load Documents Nodes to database"
   ]
  },
  {
   "cell_type": "markdown",
   "id": "4cc5cb9e-c572-4f6d-bd9a-91a34830c979",
   "metadata": {},
   "source": [
    "Create Dataframe from the documents"
   ]
  },
  {
   "cell_type": "code",
   "execution_count": 18,
   "id": "6a3566fc-f580-4ffa-ae72-18136ba443b4",
   "metadata": {},
   "outputs": [
    {
     "data": {
      "text/html": [
       "<div>\n",
       "<style scoped>\n",
       "    .dataframe tbody tr th:only-of-type {\n",
       "        vertical-align: middle;\n",
       "    }\n",
       "\n",
       "    .dataframe tbody tr th {\n",
       "        vertical-align: top;\n",
       "    }\n",
       "\n",
       "    .dataframe thead th {\n",
       "        text-align: right;\n",
       "    }\n",
       "</style>\n",
       "<table border=\"1\" class=\"dataframe\">\n",
       "  <thead>\n",
       "    <tr style=\"text-align: right;\">\n",
       "      <th></th>\n",
       "      <th>doc_id</th>\n",
       "      <th>file_location</th>\n",
       "      <th>file_name</th>\n",
       "    </tr>\n",
       "  </thead>\n",
       "  <tbody>\n",
       "    <tr>\n",
       "      <th>0</th>\n",
       "      <td>0</td>\n",
       "      <td>documents/Rabo SpaarRekening 2020.pdf</td>\n",
       "      <td>Rabo SpaarRekening 2020.pdf</td>\n",
       "    </tr>\n",
       "    <tr>\n",
       "      <th>1</th>\n",
       "      <td>1</td>\n",
       "      <td>documents/Payment and Online Services Terms Se...</td>\n",
       "      <td>Payment and Online Services Terms Sept 2022.pdf</td>\n",
       "    </tr>\n",
       "  </tbody>\n",
       "</table>\n",
       "</div>"
      ],
      "text/plain": [
       "   doc_id                                      file_location  \\\n",
       "0       0              documents/Rabo SpaarRekening 2020.pdf   \n",
       "1       1  documents/Payment and Online Services Terms Se...   \n",
       "\n",
       "                                         file_name  \n",
       "0                      Rabo SpaarRekening 2020.pdf  \n",
       "1  Payment and Online Services Terms Sept 2022.pdf  "
      ]
     },
     "execution_count": 18,
     "metadata": {},
     "output_type": "execute_result"
    }
   ],
   "source": [
    "document_df = df['file'].drop_duplicates().copy()\n",
    "document_df = document_df.reset_index().drop('index',axis=1).reset_index()\n",
    "document_df = document_df.rename(columns={\"index\": \"doc_id\", \"file\": \"file_location\"})\n",
    "document_df['file_name'] = document_df['file_location'].apply(lambda x: x.split('/')[-1])\n",
    "document_df"
   ]
  },
  {
   "cell_type": "markdown",
   "id": "8b74c38e-44fd-4947-ad41-918fee9a0c6e",
   "metadata": {},
   "source": [
    "Get number of pages per file"
   ]
  },
  {
   "cell_type": "code",
   "execution_count": 19,
   "id": "03ebd200-a06e-4251-9de8-05a1f2a4db93",
   "metadata": {},
   "outputs": [],
   "source": [
    "df = pd.merge(df, document_df, left_on='file', right_on='file_location', how='left').copy()"
   ]
  },
  {
   "cell_type": "code",
   "execution_count": 20,
   "id": "263acf5e-6472-49bf-9c21-db411bba39de",
   "metadata": {},
   "outputs": [
    {
     "data": {
      "text/html": [
       "<div>\n",
       "<style scoped>\n",
       "    .dataframe tbody tr th:only-of-type {\n",
       "        vertical-align: middle;\n",
       "    }\n",
       "\n",
       "    .dataframe tbody tr th {\n",
       "        vertical-align: top;\n",
       "    }\n",
       "\n",
       "    .dataframe thead th {\n",
       "        text-align: right;\n",
       "    }\n",
       "</style>\n",
       "<table border=\"1\" class=\"dataframe\">\n",
       "  <thead>\n",
       "    <tr style=\"text-align: right;\">\n",
       "      <th></th>\n",
       "      <th>file</th>\n",
       "      <th>page</th>\n",
       "      <th>chunks</th>\n",
       "      <th>num_chuncks</th>\n",
       "      <th>chunk_seq_id</th>\n",
       "      <th>embedding</th>\n",
       "      <th>doc_id</th>\n",
       "      <th>file_location</th>\n",
       "      <th>file_name</th>\n",
       "    </tr>\n",
       "  </thead>\n",
       "  <tbody>\n",
       "    <tr>\n",
       "      <th>0</th>\n",
       "      <td>documents/Rabo SpaarRekening 2020.pdf</td>\n",
       "      <td>0</td>\n",
       "      <td>Rabo \\nSpaarRekening 2020</td>\n",
       "      <td>1</td>\n",
       "      <td>0</td>\n",
       "      <td>[0.0005772531148977578, -0.044067852199077606,...</td>\n",
       "      <td>0</td>\n",
       "      <td>documents/Rabo SpaarRekening 2020.pdf</td>\n",
       "      <td>Rabo SpaarRekening 2020.pdf</td>\n",
       "    </tr>\n",
       "    <tr>\n",
       "      <th>1</th>\n",
       "      <td>documents/Rabo SpaarRekening 2020.pdf</td>\n",
       "      <td>1</td>\n",
       "      <td>Pagina 2/14\\nInhoud\\nRabo SpaarRekening  Novem...</td>\n",
       "      <td>1</td>\n",
       "      <td>1</td>\n",
       "      <td>[-0.010542603209614754, -0.03696855157613754, ...</td>\n",
       "      <td>0</td>\n",
       "      <td>documents/Rabo SpaarRekening 2020.pdf</td>\n",
       "      <td>Rabo SpaarRekening 2020.pdf</td>\n",
       "    </tr>\n",
       "    <tr>\n",
       "      <th>2</th>\n",
       "      <td>documents/Rabo SpaarRekening 2020.pdf</td>\n",
       "      <td>2</td>\n",
       "      <td>Pagina 3/14\\nProductkenmerken, Rabo SpaarReken...</td>\n",
       "      <td>4</td>\n",
       "      <td>2</td>\n",
       "      <td>[0.0010430770926177502, -0.02986893244087696, ...</td>\n",
       "      <td>0</td>\n",
       "      <td>documents/Rabo SpaarRekening 2020.pdf</td>\n",
       "      <td>Rabo SpaarRekening 2020.pdf</td>\n",
       "    </tr>\n",
       "    <tr>\n",
       "      <th>3</th>\n",
       "      <td>documents/Rabo SpaarRekening 2020.pdf</td>\n",
       "      <td>2</td>\n",
       "      <td>openen, wijzigen of opheffen. Hiervoor zijn ee...</td>\n",
       "      <td>4</td>\n",
       "      <td>3</td>\n",
       "      <td>[0.010642684996128082, -0.031895823776721954, ...</td>\n",
       "      <td>0</td>\n",
       "      <td>documents/Rabo SpaarRekening 2020.pdf</td>\n",
       "      <td>Rabo SpaarRekening 2020.pdf</td>\n",
       "    </tr>\n",
       "    <tr>\n",
       "      <th>4</th>\n",
       "      <td>documents/Rabo SpaarRekening 2020.pdf</td>\n",
       "      <td>2</td>\n",
       "      <td>wij de bijbehorende rente. Wij kunnen de schij...</td>\n",
       "      <td>4</td>\n",
       "      <td>4</td>\n",
       "      <td>[-0.022181766107678413, -0.033395808190107346,...</td>\n",
       "      <td>0</td>\n",
       "      <td>documents/Rabo SpaarRekening 2020.pdf</td>\n",
       "      <td>Rabo SpaarRekening 2020.pdf</td>\n",
       "    </tr>\n",
       "    <tr>\n",
       "      <th>...</th>\n",
       "      <td>...</td>\n",
       "      <td>...</td>\n",
       "      <td>...</td>\n",
       "      <td>...</td>\n",
       "      <td>...</td>\n",
       "      <td>...</td>\n",
       "      <td>...</td>\n",
       "      <td>...</td>\n",
       "      <td>...</td>\n",
       "    </tr>\n",
       "    <tr>\n",
       "      <th>393</th>\n",
       "      <td>documents/Payment and Online Services Terms Se...</td>\n",
       "      <td>76</td>\n",
       "      <td>Pas\\nDe betaalpas, creditcard of digitale pas....</td>\n",
       "      <td>3</td>\n",
       "      <td>393</td>\n",
       "      <td>[-0.009391930885612965, -0.010842716321349144,...</td>\n",
       "      <td>1</td>\n",
       "      <td>documents/Payment and Online Services Terms Se...</td>\n",
       "      <td>Payment and Online Services Terms Sept 2022.pdf</td>\n",
       "    </tr>\n",
       "    <tr>\n",
       "      <th>394</th>\n",
       "      <td>documents/Payment and Online Services Terms Se...</td>\n",
       "      <td>77</td>\n",
       "      <td>Woordenlijst Voorwaarden betalen en online die...</td>\n",
       "      <td>2</td>\n",
       "      <td>394</td>\n",
       "      <td>[0.0028593363240361214, -0.011541321873664856,...</td>\n",
       "      <td>1</td>\n",
       "      <td>documents/Payment and Online Services Terms Se...</td>\n",
       "      <td>Payment and Online Services Terms Sept 2022.pdf</td>\n",
       "    </tr>\n",
       "    <tr>\n",
       "      <th>395</th>\n",
       "      <td>documents/Payment and Online Services Terms Se...</td>\n",
       "      <td>77</td>\n",
       "      <td>en Rabo Scanner.\\nTarieven- en limietenoverzic...</td>\n",
       "      <td>2</td>\n",
       "      <td>395</td>\n",
       "      <td>[-0.011058064177632332, -0.03008638136088848, ...</td>\n",
       "      <td>1</td>\n",
       "      <td>documents/Payment and Online Services Terms Se...</td>\n",
       "      <td>Payment and Online Services Terms Sept 2022.pdf</td>\n",
       "    </tr>\n",
       "    <tr>\n",
       "      <th>396</th>\n",
       "      <td>documents/Payment and Online Services Terms Se...</td>\n",
       "      <td>78</td>\n",
       "      <td>79 Voorwaarden betalen en online diensten 2022...</td>\n",
       "      <td>1</td>\n",
       "      <td>396</td>\n",
       "      <td>[-0.008227122016251087, -0.03939712420105934, ...</td>\n",
       "      <td>1</td>\n",
       "      <td>documents/Payment and Online Services Terms Se...</td>\n",
       "      <td>Payment and Online Services Terms Sept 2022.pdf</td>\n",
       "    </tr>\n",
       "    <tr>\n",
       "      <th>397</th>\n",
       "      <td>documents/Payment and Online Services Terms Se...</td>\n",
       "      <td>79</td>\n",
       "      <td>John Doe – Rabobank\\n‘Growing a better \\nworld...</td>\n",
       "      <td>1</td>\n",
       "      <td>397</td>\n",
       "      <td>[-0.01546164695173502, -0.03131671994924545, 0...</td>\n",
       "      <td>1</td>\n",
       "      <td>documents/Payment and Online Services Terms Se...</td>\n",
       "      <td>Payment and Online Services Terms Sept 2022.pdf</td>\n",
       "    </tr>\n",
       "  </tbody>\n",
       "</table>\n",
       "<p>398 rows × 9 columns</p>\n",
       "</div>"
      ],
      "text/plain": [
       "                                                  file  page  \\\n",
       "0                documents/Rabo SpaarRekening 2020.pdf     0   \n",
       "1                documents/Rabo SpaarRekening 2020.pdf     1   \n",
       "2                documents/Rabo SpaarRekening 2020.pdf     2   \n",
       "3                documents/Rabo SpaarRekening 2020.pdf     2   \n",
       "4                documents/Rabo SpaarRekening 2020.pdf     2   \n",
       "..                                                 ...   ...   \n",
       "393  documents/Payment and Online Services Terms Se...    76   \n",
       "394  documents/Payment and Online Services Terms Se...    77   \n",
       "395  documents/Payment and Online Services Terms Se...    77   \n",
       "396  documents/Payment and Online Services Terms Se...    78   \n",
       "397  documents/Payment and Online Services Terms Se...    79   \n",
       "\n",
       "                                                chunks  num_chuncks  \\\n",
       "0                            Rabo \\nSpaarRekening 2020            1   \n",
       "1    Pagina 2/14\\nInhoud\\nRabo SpaarRekening  Novem...            1   \n",
       "2    Pagina 3/14\\nProductkenmerken, Rabo SpaarReken...            4   \n",
       "3    openen, wijzigen of opheffen. Hiervoor zijn ee...            4   \n",
       "4    wij de bijbehorende rente. Wij kunnen de schij...            4   \n",
       "..                                                 ...          ...   \n",
       "393  Pas\\nDe betaalpas, creditcard of digitale pas....            3   \n",
       "394  Woordenlijst Voorwaarden betalen en online die...            2   \n",
       "395  en Rabo Scanner.\\nTarieven- en limietenoverzic...            2   \n",
       "396  79 Voorwaarden betalen en online diensten 2022...            1   \n",
       "397  John Doe – Rabobank\\n‘Growing a better \\nworld...            1   \n",
       "\n",
       "     chunk_seq_id                                          embedding  doc_id  \\\n",
       "0               0  [0.0005772531148977578, -0.044067852199077606,...       0   \n",
       "1               1  [-0.010542603209614754, -0.03696855157613754, ...       0   \n",
       "2               2  [0.0010430770926177502, -0.02986893244087696, ...       0   \n",
       "3               3  [0.010642684996128082, -0.031895823776721954, ...       0   \n",
       "4               4  [-0.022181766107678413, -0.033395808190107346,...       0   \n",
       "..            ...                                                ...     ...   \n",
       "393           393  [-0.009391930885612965, -0.010842716321349144,...       1   \n",
       "394           394  [0.0028593363240361214, -0.011541321873664856,...       1   \n",
       "395           395  [-0.011058064177632332, -0.03008638136088848, ...       1   \n",
       "396           396  [-0.008227122016251087, -0.03939712420105934, ...       1   \n",
       "397           397  [-0.01546164695173502, -0.03131671994924545, 0...       1   \n",
       "\n",
       "                                         file_location  \\\n",
       "0                documents/Rabo SpaarRekening 2020.pdf   \n",
       "1                documents/Rabo SpaarRekening 2020.pdf   \n",
       "2                documents/Rabo SpaarRekening 2020.pdf   \n",
       "3                documents/Rabo SpaarRekening 2020.pdf   \n",
       "4                documents/Rabo SpaarRekening 2020.pdf   \n",
       "..                                                 ...   \n",
       "393  documents/Payment and Online Services Terms Se...   \n",
       "394  documents/Payment and Online Services Terms Se...   \n",
       "395  documents/Payment and Online Services Terms Se...   \n",
       "396  documents/Payment and Online Services Terms Se...   \n",
       "397  documents/Payment and Online Services Terms Se...   \n",
       "\n",
       "                                           file_name  \n",
       "0                        Rabo SpaarRekening 2020.pdf  \n",
       "1                        Rabo SpaarRekening 2020.pdf  \n",
       "2                        Rabo SpaarRekening 2020.pdf  \n",
       "3                        Rabo SpaarRekening 2020.pdf  \n",
       "4                        Rabo SpaarRekening 2020.pdf  \n",
       "..                                               ...  \n",
       "393  Payment and Online Services Terms Sept 2022.pdf  \n",
       "394  Payment and Online Services Terms Sept 2022.pdf  \n",
       "395  Payment and Online Services Terms Sept 2022.pdf  \n",
       "396  Payment and Online Services Terms Sept 2022.pdf  \n",
       "397  Payment and Online Services Terms Sept 2022.pdf  \n",
       "\n",
       "[398 rows x 9 columns]"
      ]
     },
     "execution_count": 20,
     "metadata": {},
     "output_type": "execute_result"
    }
   ],
   "source": [
    "df"
   ]
  },
  {
   "cell_type": "code",
   "execution_count": 21,
   "id": "89c5bd7e-7feb-429f-a36a-abc1e50ef13e",
   "metadata": {},
   "outputs": [],
   "source": [
    "pages_df = df.groupby(['doc_id', 'file_name']).max(['page'])['page'].apply(lambda x: x+1)"
   ]
  },
  {
   "cell_type": "code",
   "execution_count": 22,
   "id": "340c8f6c-1d66-4ed6-a706-16340eff6f60",
   "metadata": {},
   "outputs": [
    {
     "data": {
      "text/html": [
       "<div>\n",
       "<style scoped>\n",
       "    .dataframe tbody tr th:only-of-type {\n",
       "        vertical-align: middle;\n",
       "    }\n",
       "\n",
       "    .dataframe tbody tr th {\n",
       "        vertical-align: top;\n",
       "    }\n",
       "\n",
       "    .dataframe thead th {\n",
       "        text-align: right;\n",
       "    }\n",
       "</style>\n",
       "<table border=\"1\" class=\"dataframe\">\n",
       "  <thead>\n",
       "    <tr style=\"text-align: right;\">\n",
       "      <th></th>\n",
       "      <th>doc_id</th>\n",
       "      <th>file_location</th>\n",
       "      <th>file_name</th>\n",
       "      <th>page</th>\n",
       "    </tr>\n",
       "  </thead>\n",
       "  <tbody>\n",
       "    <tr>\n",
       "      <th>0</th>\n",
       "      <td>0</td>\n",
       "      <td>documents/Rabo SpaarRekening 2020.pdf</td>\n",
       "      <td>Rabo SpaarRekening 2020.pdf</td>\n",
       "      <td>14</td>\n",
       "    </tr>\n",
       "    <tr>\n",
       "      <th>1</th>\n",
       "      <td>1</td>\n",
       "      <td>documents/Payment and Online Services Terms Se...</td>\n",
       "      <td>Payment and Online Services Terms Sept 2022.pdf</td>\n",
       "      <td>80</td>\n",
       "    </tr>\n",
       "  </tbody>\n",
       "</table>\n",
       "</div>"
      ],
      "text/plain": [
       "   doc_id                                      file_location  \\\n",
       "0       0              documents/Rabo SpaarRekening 2020.pdf   \n",
       "1       1  documents/Payment and Online Services Terms Se...   \n",
       "\n",
       "                                         file_name  page  \n",
       "0                      Rabo SpaarRekening 2020.pdf    14  \n",
       "1  Payment and Online Services Terms Sept 2022.pdf    80  "
      ]
     },
     "execution_count": 22,
     "metadata": {},
     "output_type": "execute_result"
    }
   ],
   "source": [
    "document_df = pd.merge(document_df, pages_df, on='doc_id', how='left')\n",
    "document_df"
   ]
  },
  {
   "cell_type": "markdown",
   "id": "bd81c08e-d951-410a-8b20-2b36b97f1e7b",
   "metadata": {},
   "source": [
    "### Load the Documents"
   ]
  },
  {
   "cell_type": "code",
   "execution_count": 23,
   "id": "048d132b-c0d1-4282-b9ab-aea8a00a4a8c",
   "metadata": {},
   "outputs": [],
   "source": [
    "merge_file_query = \"\"\"\n",
    "    MERGE(mergedDocument:Document {id: $doc_id})\n",
    "    SET mergedDocument.file_location = $file_location,\n",
    "        mergedDocument.file_name = $file_name,\n",
    "        mergedDocument.pages = $file_pages\n",
    "    RETURN mergedDocument\n",
    "    \"\"\""
   ]
  },
  {
   "cell_type": "code",
   "execution_count": 24,
   "id": "cddd288f-a19f-4d76-a926-35a5df7d427c",
   "metadata": {},
   "outputs": [
    {
     "data": {
      "text/html": [
       "<div>\n",
       "<style scoped>\n",
       "    .dataframe tbody tr th:only-of-type {\n",
       "        vertical-align: middle;\n",
       "    }\n",
       "\n",
       "    .dataframe tbody tr th {\n",
       "        vertical-align: top;\n",
       "    }\n",
       "\n",
       "    .dataframe thead th {\n",
       "        text-align: right;\n",
       "    }\n",
       "</style>\n",
       "<table border=\"1\" class=\"dataframe\">\n",
       "  <thead>\n",
       "    <tr style=\"text-align: right;\">\n",
       "      <th></th>\n",
       "      <th>doc_id</th>\n",
       "      <th>file_location</th>\n",
       "      <th>file_name</th>\n",
       "      <th>page</th>\n",
       "    </tr>\n",
       "  </thead>\n",
       "  <tbody>\n",
       "    <tr>\n",
       "      <th>0</th>\n",
       "      <td>0</td>\n",
       "      <td>documents/Rabo SpaarRekening 2020.pdf</td>\n",
       "      <td>Rabo SpaarRekening 2020.pdf</td>\n",
       "      <td>14</td>\n",
       "    </tr>\n",
       "    <tr>\n",
       "      <th>1</th>\n",
       "      <td>1</td>\n",
       "      <td>documents/Payment and Online Services Terms Se...</td>\n",
       "      <td>Payment and Online Services Terms Sept 2022.pdf</td>\n",
       "      <td>80</td>\n",
       "    </tr>\n",
       "  </tbody>\n",
       "</table>\n",
       "</div>"
      ],
      "text/plain": [
       "   doc_id                                      file_location  \\\n",
       "0       0              documents/Rabo SpaarRekening 2020.pdf   \n",
       "1       1  documents/Payment and Online Services Terms Se...   \n",
       "\n",
       "                                         file_name  page  \n",
       "0                      Rabo SpaarRekening 2020.pdf    14  \n",
       "1  Payment and Online Services Terms Sept 2022.pdf    80  "
      ]
     },
     "execution_count": 24,
     "metadata": {},
     "output_type": "execute_result"
    }
   ],
   "source": [
    "document_df"
   ]
  },
  {
   "cell_type": "code",
   "execution_count": 25,
   "id": "32dbfc3d-0900-47fa-b0b7-b41d36ba7e9a",
   "metadata": {},
   "outputs": [
    {
     "name": "stdout",
     "output_type": "stream",
     "text": [
      "Loaded Payment and Online Services Terms Sept 2022.pdf\n",
      "Progress:  100.0 %\n"
     ]
    }
   ],
   "source": [
    "for index, row in document_df.iterrows():\n",
    "    print(row)\n",
    "    clear_output(wait=True)\n",
    "    driver.execute_query(\n",
    "        merge_file_query,\n",
    "        database_=DATABASE,\n",
    "        routing_=RoutingControl.WRITE,\n",
    "        doc_id = row.doc_id,\n",
    "        file_location = row.file_location,\n",
    "        file_name = row.file_name,\n",
    "        file_pages = row.page\n",
    "    )\n",
    "    print(f\"Loaded {row['file_name']}\")\n",
    "    print(\"Progress: \", np.round((index+1)/document_df.shape[0]*100,2), \"%\")"
   ]
  },
  {
   "cell_type": "markdown",
   "id": "920b65eb-a1e6-47cf-a1f2-a1ed3ed3cd59",
   "metadata": {},
   "source": [
    "### Load Chunk Nodes to database"
   ]
  },
  {
   "cell_type": "markdown",
   "id": "da740799-3ce3-4b73-8e15-c95b41487ab9",
   "metadata": {},
   "source": [
    "Create Dataframe for chunks"
   ]
  },
  {
   "cell_type": "code",
   "execution_count": 26,
   "id": "c285d41f-9c12-43a6-84c7-2b4950b072f9",
   "metadata": {},
   "outputs": [
    {
     "data": {
      "text/html": [
       "<div>\n",
       "<style scoped>\n",
       "    .dataframe tbody tr th:only-of-type {\n",
       "        vertical-align: middle;\n",
       "    }\n",
       "\n",
       "    .dataframe tbody tr th {\n",
       "        vertical-align: top;\n",
       "    }\n",
       "\n",
       "    .dataframe thead th {\n",
       "        text-align: right;\n",
       "    }\n",
       "</style>\n",
       "<table border=\"1\" class=\"dataframe\">\n",
       "  <thead>\n",
       "    <tr style=\"text-align: right;\">\n",
       "      <th></th>\n",
       "      <th>chunk_seq_id</th>\n",
       "      <th>num_chuncks</th>\n",
       "      <th>page</th>\n",
       "      <th>chunks</th>\n",
       "      <th>embedding</th>\n",
       "    </tr>\n",
       "  </thead>\n",
       "  <tbody>\n",
       "    <tr>\n",
       "      <th>0</th>\n",
       "      <td>0</td>\n",
       "      <td>1</td>\n",
       "      <td>0</td>\n",
       "      <td>Rabo \\nSpaarRekening 2020</td>\n",
       "      <td>[0.0005772531148977578, -0.044067852199077606,...</td>\n",
       "    </tr>\n",
       "    <tr>\n",
       "      <th>1</th>\n",
       "      <td>1</td>\n",
       "      <td>1</td>\n",
       "      <td>1</td>\n",
       "      <td>Pagina 2/14\\nInhoud\\nRabo SpaarRekening  Novem...</td>\n",
       "      <td>[-0.010542603209614754, -0.03696855157613754, ...</td>\n",
       "    </tr>\n",
       "    <tr>\n",
       "      <th>2</th>\n",
       "      <td>2</td>\n",
       "      <td>4</td>\n",
       "      <td>2</td>\n",
       "      <td>Pagina 3/14\\nProductkenmerken, Rabo SpaarReken...</td>\n",
       "      <td>[0.0010430770926177502, -0.02986893244087696, ...</td>\n",
       "    </tr>\n",
       "    <tr>\n",
       "      <th>3</th>\n",
       "      <td>3</td>\n",
       "      <td>4</td>\n",
       "      <td>2</td>\n",
       "      <td>openen, wijzigen of opheffen. Hiervoor zijn ee...</td>\n",
       "      <td>[0.010642684996128082, -0.031895823776721954, ...</td>\n",
       "    </tr>\n",
       "    <tr>\n",
       "      <th>4</th>\n",
       "      <td>4</td>\n",
       "      <td>4</td>\n",
       "      <td>2</td>\n",
       "      <td>wij de bijbehorende rente. Wij kunnen de schij...</td>\n",
       "      <td>[-0.022181766107678413, -0.033395808190107346,...</td>\n",
       "    </tr>\n",
       "    <tr>\n",
       "      <th>...</th>\n",
       "      <td>...</td>\n",
       "      <td>...</td>\n",
       "      <td>...</td>\n",
       "      <td>...</td>\n",
       "      <td>...</td>\n",
       "    </tr>\n",
       "    <tr>\n",
       "      <th>393</th>\n",
       "      <td>393</td>\n",
       "      <td>3</td>\n",
       "      <td>76</td>\n",
       "      <td>Pas\\nDe betaalpas, creditcard of digitale pas....</td>\n",
       "      <td>[-0.009391930885612965, -0.010842716321349144,...</td>\n",
       "    </tr>\n",
       "    <tr>\n",
       "      <th>394</th>\n",
       "      <td>394</td>\n",
       "      <td>2</td>\n",
       "      <td>77</td>\n",
       "      <td>Woordenlijst Voorwaarden betalen en online die...</td>\n",
       "      <td>[0.0028593363240361214, -0.011541321873664856,...</td>\n",
       "    </tr>\n",
       "    <tr>\n",
       "      <th>395</th>\n",
       "      <td>395</td>\n",
       "      <td>2</td>\n",
       "      <td>77</td>\n",
       "      <td>en Rabo Scanner.\\nTarieven- en limietenoverzic...</td>\n",
       "      <td>[-0.011058064177632332, -0.03008638136088848, ...</td>\n",
       "    </tr>\n",
       "    <tr>\n",
       "      <th>396</th>\n",
       "      <td>396</td>\n",
       "      <td>1</td>\n",
       "      <td>78</td>\n",
       "      <td>79 Voorwaarden betalen en online diensten 2022...</td>\n",
       "      <td>[-0.008227122016251087, -0.03939712420105934, ...</td>\n",
       "    </tr>\n",
       "    <tr>\n",
       "      <th>397</th>\n",
       "      <td>397</td>\n",
       "      <td>1</td>\n",
       "      <td>79</td>\n",
       "      <td>John Doe – Rabobank\\n‘Growing a better \\nworld...</td>\n",
       "      <td>[-0.01546164695173502, -0.03131671994924545, 0...</td>\n",
       "    </tr>\n",
       "  </tbody>\n",
       "</table>\n",
       "<p>398 rows × 5 columns</p>\n",
       "</div>"
      ],
      "text/plain": [
       "     chunk_seq_id  num_chuncks  page  \\\n",
       "0               0            1     0   \n",
       "1               1            1     1   \n",
       "2               2            4     2   \n",
       "3               3            4     2   \n",
       "4               4            4     2   \n",
       "..            ...          ...   ...   \n",
       "393           393            3    76   \n",
       "394           394            2    77   \n",
       "395           395            2    77   \n",
       "396           396            1    78   \n",
       "397           397            1    79   \n",
       "\n",
       "                                                chunks  \\\n",
       "0                            Rabo \\nSpaarRekening 2020   \n",
       "1    Pagina 2/14\\nInhoud\\nRabo SpaarRekening  Novem...   \n",
       "2    Pagina 3/14\\nProductkenmerken, Rabo SpaarReken...   \n",
       "3    openen, wijzigen of opheffen. Hiervoor zijn ee...   \n",
       "4    wij de bijbehorende rente. Wij kunnen de schij...   \n",
       "..                                                 ...   \n",
       "393  Pas\\nDe betaalpas, creditcard of digitale pas....   \n",
       "394  Woordenlijst Voorwaarden betalen en online die...   \n",
       "395  en Rabo Scanner.\\nTarieven- en limietenoverzic...   \n",
       "396  79 Voorwaarden betalen en online diensten 2022...   \n",
       "397  John Doe – Rabobank\\n‘Growing a better \\nworld...   \n",
       "\n",
       "                                             embedding  \n",
       "0    [0.0005772531148977578, -0.044067852199077606,...  \n",
       "1    [-0.010542603209614754, -0.03696855157613754, ...  \n",
       "2    [0.0010430770926177502, -0.02986893244087696, ...  \n",
       "3    [0.010642684996128082, -0.031895823776721954, ...  \n",
       "4    [-0.022181766107678413, -0.033395808190107346,...  \n",
       "..                                                 ...  \n",
       "393  [-0.009391930885612965, -0.010842716321349144,...  \n",
       "394  [0.0028593363240361214, -0.011541321873664856,...  \n",
       "395  [-0.011058064177632332, -0.03008638136088848, ...  \n",
       "396  [-0.008227122016251087, -0.03939712420105934, ...  \n",
       "397  [-0.01546164695173502, -0.03131671994924545, 0...  \n",
       "\n",
       "[398 rows x 5 columns]"
      ]
     },
     "execution_count": 26,
     "metadata": {},
     "output_type": "execute_result"
    }
   ],
   "source": [
    "chunks_df = df[['chunk_seq_id', 'num_chuncks', 'page', 'chunks', 'embedding']]\n",
    "chunks_df"
   ]
  },
  {
   "cell_type": "code",
   "execution_count": 27,
   "id": "3ddc32bf-825f-49c9-8742-0229e39684fd",
   "metadata": {},
   "outputs": [],
   "source": [
    "merge_chunck_query = \"\"\"\n",
    "    MERGE(mergedChunk:Chunk {id: $chunk_seq_id})\n",
    "        ON CREATE SET\n",
    "            mergedChunk.page = $page,\n",
    "            mergedChunk.chunk = $chunk,\n",
    "            mergedChunk.embedding = $embedding\n",
    "    RETURN mergedChunk\n",
    "\"\"\""
   ]
  },
  {
   "cell_type": "code",
   "execution_count": 28,
   "id": "d15c2d39-f138-4fbb-96fd-e417cfad2ff4",
   "metadata": {},
   "outputs": [
    {
     "name": "stdout",
     "output_type": "stream",
     "text": [
      "Progress:  100.0 %\n"
     ]
    }
   ],
   "source": [
    "for index, row in chunks_df.iterrows():\n",
    "    clear_output(wait=True)\n",
    "    driver.execute_query(\n",
    "        merge_chunck_query,\n",
    "        database_=DATABASE,\n",
    "        routing_=RoutingControl.WRITE,\n",
    "        chunk_seq_id = row.chunk_seq_id,\n",
    "        page = row.page,\n",
    "        chunk = row.chunks,\n",
    "        embedding = row.embedding\n",
    "    )\n",
    "    print(\"Progress: \", np.round(((index+1)/chunks_df.shape[0])*100,2), \"%\")"
   ]
  },
  {
   "cell_type": "markdown",
   "id": "3c3cb6cd-81e8-489b-91cc-924f9c3cbb29",
   "metadata": {},
   "source": [
    "### Load File to Chunk Relationship"
   ]
  },
  {
   "cell_type": "code",
   "execution_count": 29,
   "id": "d5616bbe-5ae9-4cca-892d-0c839324feda",
   "metadata": {},
   "outputs": [
    {
     "data": {
      "text/html": [
       "<div>\n",
       "<style scoped>\n",
       "    .dataframe tbody tr th:only-of-type {\n",
       "        vertical-align: middle;\n",
       "    }\n",
       "\n",
       "    .dataframe tbody tr th {\n",
       "        vertical-align: top;\n",
       "    }\n",
       "\n",
       "    .dataframe thead th {\n",
       "        text-align: right;\n",
       "    }\n",
       "</style>\n",
       "<table border=\"1\" class=\"dataframe\">\n",
       "  <thead>\n",
       "    <tr style=\"text-align: right;\">\n",
       "      <th></th>\n",
       "      <th>chunk_seq_id</th>\n",
       "      <th>doc_id</th>\n",
       "    </tr>\n",
       "  </thead>\n",
       "  <tbody>\n",
       "    <tr>\n",
       "      <th>0</th>\n",
       "      <td>0</td>\n",
       "      <td>0</td>\n",
       "    </tr>\n",
       "    <tr>\n",
       "      <th>1</th>\n",
       "      <td>1</td>\n",
       "      <td>0</td>\n",
       "    </tr>\n",
       "    <tr>\n",
       "      <th>2</th>\n",
       "      <td>2</td>\n",
       "      <td>0</td>\n",
       "    </tr>\n",
       "    <tr>\n",
       "      <th>3</th>\n",
       "      <td>3</td>\n",
       "      <td>0</td>\n",
       "    </tr>\n",
       "    <tr>\n",
       "      <th>4</th>\n",
       "      <td>4</td>\n",
       "      <td>0</td>\n",
       "    </tr>\n",
       "    <tr>\n",
       "      <th>...</th>\n",
       "      <td>...</td>\n",
       "      <td>...</td>\n",
       "    </tr>\n",
       "    <tr>\n",
       "      <th>393</th>\n",
       "      <td>393</td>\n",
       "      <td>1</td>\n",
       "    </tr>\n",
       "    <tr>\n",
       "      <th>394</th>\n",
       "      <td>394</td>\n",
       "      <td>1</td>\n",
       "    </tr>\n",
       "    <tr>\n",
       "      <th>395</th>\n",
       "      <td>395</td>\n",
       "      <td>1</td>\n",
       "    </tr>\n",
       "    <tr>\n",
       "      <th>396</th>\n",
       "      <td>396</td>\n",
       "      <td>1</td>\n",
       "    </tr>\n",
       "    <tr>\n",
       "      <th>397</th>\n",
       "      <td>397</td>\n",
       "      <td>1</td>\n",
       "    </tr>\n",
       "  </tbody>\n",
       "</table>\n",
       "<p>398 rows × 2 columns</p>\n",
       "</div>"
      ],
      "text/plain": [
       "     chunk_seq_id  doc_id\n",
       "0               0       0\n",
       "1               1       0\n",
       "2               2       0\n",
       "3               3       0\n",
       "4               4       0\n",
       "..            ...     ...\n",
       "393           393       1\n",
       "394           394       1\n",
       "395           395       1\n",
       "396           396       1\n",
       "397           397       1\n",
       "\n",
       "[398 rows x 2 columns]"
      ]
     },
     "execution_count": 29,
     "metadata": {},
     "output_type": "execute_result"
    }
   ],
   "source": [
    "part_of_df = df[['chunk_seq_id', 'doc_id']].copy()\n",
    "part_of_df"
   ]
  },
  {
   "cell_type": "code",
   "execution_count": 30,
   "id": "858cb936-5338-4e81-a1ab-7cc69121578d",
   "metadata": {},
   "outputs": [],
   "source": [
    "merge_part_of_query = \"\"\"\n",
    "    MATCH\n",
    "        (doc:Document {id: $doc_id}),\n",
    "        (chunk:Chunk {id: $chunk_id})\n",
    "    MERGE (doc)<-[r:PART_OF]-(chunk)\n",
    "    RETURN doc.name, type(r), chunk.title\n",
    "\"\"\""
   ]
  },
  {
   "cell_type": "code",
   "execution_count": 31,
   "id": "b1c0e30d-fe86-4f9a-933a-ec0e9c835579",
   "metadata": {},
   "outputs": [
    {
     "name": "stdout",
     "output_type": "stream",
     "text": [
      "Progress:  100.0 %\n"
     ]
    }
   ],
   "source": [
    "for index, row in part_of_df.iterrows():\n",
    "    clear_output(wait=True)\n",
    "    driver.execute_query(\n",
    "        merge_part_of_query,\n",
    "        database_=DATABASE,\n",
    "        routing_=RoutingControl.WRITE,\n",
    "        doc_id = row.doc_id,\n",
    "        chunk_id = row.chunk_seq_id\n",
    "    )\n",
    "    # print(f\"Loaded relationship from document {row['doc_id']} to chunk {row['chunk_seq_id']}\")\n",
    "    print(\"Progress: \", np.round(((index+1)/part_of_df.shape[0])*100,2), \"%\")"
   ]
  },
  {
   "cell_type": "markdown",
   "id": "d631ada2-93f6-49ac-a5e7-b6a8b21a1678",
   "metadata": {},
   "source": [
    "## Load Chunk to Chunk Relationship"
   ]
  },
  {
   "cell_type": "markdown",
   "id": "41df0221-5e67-4ffb-b6ff-9c8f9fb10b15",
   "metadata": {},
   "source": [
    "Link the chunks in order by the \"NEXT\" relationship."
   ]
  },
  {
   "cell_type": "code",
   "execution_count": 32,
   "id": "2a68e7d9-ffe4-451a-9835-53777fe2caad",
   "metadata": {},
   "outputs": [],
   "source": [
    "next_query = \"\"\"\n",
    "    MATCH (doc:Document)\n",
    "    WITH doc\n",
    "    CALL (doc) {\n",
    "        MATCH (doc)<-[:PART_OF]-(chunks:Chunk)\n",
    "        WITH chunks ORDER BY chunks.id ASC\n",
    "        WITH collect(chunks) as chunk_list\n",
    "        CALL apoc.nodes.link(\n",
    "            chunk_list,\n",
    "            \"NEXT\",\n",
    "            {avoidDuplicates: true}\n",
    "        )\n",
    "        RETURN size(chunk_list) as size_chunk_list\n",
    "    }\n",
    "    WITH doc, size_chunk_list\n",
    "    RETURN doc, size_chunk_list\n",
    "\"\"\""
   ]
  },
  {
   "cell_type": "code",
   "execution_count": 33,
   "id": "ed34e4b9",
   "metadata": {},
   "outputs": [
    {
     "data": {
      "text/plain": [
       "EagerResult(records=[<Record doc=<Node element_id='4:c6d37cd5-dbfb-40c4-9e15-be5560ce9c92:0' labels=frozenset({'Document'}) properties={'file_location': 'documents/Rabo SpaarRekening 2020.pdf', 'pages': 14, 'file_name': 'Rabo SpaarRekening 2020.pdf', 'id': 0}> size_chunk_list=44>, <Record doc=<Node element_id='4:c6d37cd5-dbfb-40c4-9e15-be5560ce9c92:1' labels=frozenset({'Document'}) properties={'file_location': 'documents/Payment and Online Services Terms Sept 2022.pdf', 'pages': 80, 'file_name': 'Payment and Online Services Terms Sept 2022.pdf', 'id': 1}> size_chunk_list=354>], summary=<neo4j._work.summary.ResultSummary object at 0x155ec38d0>, keys=['doc', 'size_chunk_list'])"
      ]
     },
     "execution_count": 33,
     "metadata": {},
     "output_type": "execute_result"
    }
   ],
   "source": [
    " driver.execute_query(\n",
    "        next_query,\n",
    "        database_=DATABASE,\n",
    "        routing_=RoutingControl.WRITE\n",
    "    )"
   ]
  }
 ],
 "metadata": {
  "kernelspec": {
   "display_name": "Python 3 (ipykernel)",
   "language": "python",
   "name": "python3"
  },
  "language_info": {
   "codemirror_mode": {
    "name": "ipython",
    "version": 3
   },
   "file_extension": ".py",
   "mimetype": "text/x-python",
   "name": "python",
   "nbconvert_exporter": "python",
   "pygments_lexer": "ipython3",
   "version": "3.11.5"
  }
 },
 "nbformat": 4,
 "nbformat_minor": 5
}
