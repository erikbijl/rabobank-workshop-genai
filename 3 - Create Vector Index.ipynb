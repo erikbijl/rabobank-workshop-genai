{
 "cells": [
  {
   "cell_type": "markdown",
   "metadata": {},
   "source": [
    "# Create Vector Index "
   ]
  },
  {
   "cell_type": "markdown",
   "metadata": {},
   "source": [
    "This notebook creates a Vector Index on top of the embeddings in Neo4j. This can be used later on for a vector search in the database. Documentation of the vector index in Neo4j can be found here: [Neo4j Vector Index and Search](https://neo4j.com/labs/genai-ecosystem/vector-search/?msclkid=c56d8efbd9a0151f76ebea164f5643cb&utm_source=Google&utm_medium=PaidSearch&utm_campaign=Evergreen&utm_content=EMEA-Search-SEMCE-DSA-None-SEM-SEM-NonABM&utm_term=&utm_adgroup=DSA&gad_source=1&gclid=Cj0KCQjw9vqyBhCKARIsAIIcLMEVATnevK1iXdTlPzxCK8eytADNy4tWZXXRF_NAthTi4x_sO19uUP4aAubSEALw_wcB). \n",
    "\n",
    "Again, for executing the queries we make use of [Python Driver](https://neo4j.com/docs/api/python-driver/current/) that enables querying Neo4j from a Python script"
   ]
  },
  {
   "cell_type": "code",
   "execution_count": 33,
   "metadata": {},
   "outputs": [],
   "source": [
    "import pandas as pd\n",
    "from neo4j import Query, GraphDatabase, RoutingControl, Result\n",
    "import os\n",
    "from dotenv import load_dotenv\n",
    "from langchain_openai import OpenAIEmbeddings\n",
    "from json import loads, dumps"
   ]
  },
  {
   "cell_type": "markdown",
   "metadata": {},
   "source": [
    "## Get Credentials"
   ]
  },
  {
   "cell_type": "code",
   "execution_count": 5,
   "metadata": {},
   "outputs": [],
   "source": [
    "env_file = 'credentials.env'"
   ]
  },
  {
   "cell_type": "code",
   "execution_count": 6,
   "metadata": {},
   "outputs": [],
   "source": [
    "if os.path.exists(env_file):\n",
    "    load_dotenv(env_file, override=True)\n",
    "\n",
    "    # Neo4j\n",
    "    HOST = os.getenv('NEO4J_URI')\n",
    "    USERNAME = os.getenv('NEO4J_USERNAME')\n",
    "    PASSWORD = os.getenv('NEO4J_PASSWORD')\n",
    "    DATABASE = os.getenv('NEO4J_DATABASE')\n",
    "\n",
    "    # AI\n",
    "    OPENAI_API_KEY = os.getenv('OPENAI_API_KEY')\n",
    "    os.environ['OPENAI_API_KEY']=OPENAI_API_KEY\n",
    "    LLM = os.getenv('LLM')\n",
    "    EMBEDDINGS_MODEL = os.getenv('EMBEDDINGS_MODEL')\n",
    "else:\n",
    "    print(f\"File {env_file} not found.\")"
   ]
  },
  {
   "cell_type": "markdown",
   "metadata": {},
   "source": [
    "## Setup Connection to Database"
   ]
  },
  {
   "cell_type": "markdown",
   "metadata": {},
   "source": [
    "Connect to neo4j db"
   ]
  },
  {
   "cell_type": "code",
   "execution_count": 7,
   "metadata": {},
   "outputs": [],
   "source": [
    "driver = GraphDatabase.driver(\n",
    "    HOST,\n",
    "    auth=(USERNAME, PASSWORD)\n",
    ")"
   ]
  },
  {
   "cell_type": "markdown",
   "metadata": {},
   "source": [
    "Test the connection"
   ]
  },
  {
   "cell_type": "code",
   "execution_count": 8,
   "metadata": {},
   "outputs": [
    {
     "data": {
      "text/html": [
       "<div>\n",
       "<style scoped>\n",
       "    .dataframe tbody tr th:only-of-type {\n",
       "        vertical-align: middle;\n",
       "    }\n",
       "\n",
       "    .dataframe tbody tr th {\n",
       "        vertical-align: top;\n",
       "    }\n",
       "\n",
       "    .dataframe thead th {\n",
       "        text-align: right;\n",
       "    }\n",
       "</style>\n",
       "<table border=\"1\" class=\"dataframe\">\n",
       "  <thead>\n",
       "    <tr style=\"text-align: right;\">\n",
       "      <th></th>\n",
       "      <th>Count</th>\n",
       "    </tr>\n",
       "  </thead>\n",
       "  <tbody>\n",
       "    <tr>\n",
       "      <th>0</th>\n",
       "      <td>773</td>\n",
       "    </tr>\n",
       "  </tbody>\n",
       "</table>\n",
       "</div>"
      ],
      "text/plain": [
       "   Count\n",
       "0    773"
      ]
     },
     "execution_count": 8,
     "metadata": {},
     "output_type": "execute_result"
    }
   ],
   "source": [
    "driver.execute_query(\n",
    "    \"\"\"\n",
    "    MATCH (n) RETURN COUNT(n) as Count\n",
    "    \"\"\",\n",
    "    database_=DATABASE,\n",
    "    routing_=RoutingControl.READ,\n",
    "    result_transformer_= lambda r: r.to_df()\n",
    ")"
   ]
  },
  {
   "cell_type": "markdown",
   "metadata": {},
   "source": [
    "## Create Vector Index "
   ]
  },
  {
   "cell_type": "markdown",
   "metadata": {},
   "source": [
    "Convert the embeddings to a vector property with the [setNodeVectorProperty](https://neo4j.com/docs/operations-manual/5/reference/procedures/#procedure_db_create_setNodeVectorProperty) procedure."
   ]
  },
  {
   "cell_type": "code",
   "execution_count": 9,
   "metadata": {},
   "outputs": [],
   "source": [
    "no_chunks = driver.execute_query(\n",
    "    \"\"\"\n",
    "    MATCH (n:Chunk) RETURN COUNT(n) as Count\n",
    "    \"\"\",\n",
    "    database_=DATABASE,\n",
    "    routing_=RoutingControl.READ,\n",
    "    result_transformer_= lambda r: r.to_df()\n",
    ")"
   ]
  },
  {
   "cell_type": "code",
   "execution_count": 10,
   "metadata": {},
   "outputs": [
    {
     "data": {
      "text/html": [
       "<div>\n",
       "<style scoped>\n",
       "    .dataframe tbody tr th:only-of-type {\n",
       "        vertical-align: middle;\n",
       "    }\n",
       "\n",
       "    .dataframe tbody tr th {\n",
       "        vertical-align: top;\n",
       "    }\n",
       "\n",
       "    .dataframe thead th {\n",
       "        text-align: right;\n",
       "    }\n",
       "</style>\n",
       "<table border=\"1\" class=\"dataframe\">\n",
       "  <thead>\n",
       "    <tr style=\"text-align: right;\">\n",
       "      <th></th>\n",
       "      <th>Count</th>\n",
       "    </tr>\n",
       "  </thead>\n",
       "  <tbody>\n",
       "    <tr>\n",
       "      <th>0</th>\n",
       "      <td>610</td>\n",
       "    </tr>\n",
       "  </tbody>\n",
       "</table>\n",
       "</div>"
      ],
      "text/plain": [
       "   Count\n",
       "0    610"
      ]
     },
     "execution_count": 10,
     "metadata": {},
     "output_type": "execute_result"
    }
   ],
   "source": [
    "no_chunks"
   ]
  },
  {
   "cell_type": "code",
   "execution_count": 11,
   "metadata": {},
   "outputs": [
    {
     "name": "stdout",
     "output_type": "stream",
     "text": [
      "Running 7 batches with size 100\n"
     ]
    }
   ],
   "source": [
    "batch_size = 100\n",
    "nr_batches = int(no_chunks.iloc[0].Count / batch_size) + 1\n",
    "print(f'Running {nr_batches} batches with size {batch_size}')"
   ]
  },
  {
   "cell_type": "code",
   "execution_count": 12,
   "metadata": {},
   "outputs": [],
   "source": [
    "for batch in range(nr_batches):\n",
    "    query = f\"\"\"\n",
    "        MATCH(c:Chunk)\n",
    "        WHERE c.id >= {(batch*batch_size)+1} AND c.id <= {(batch+1)*batch_size}\n",
    "        CALL db.create.setNodeVectorProperty(c, \"embedding\", c.embedding)\n",
    "        RETURN count(c) AS propertySetCount\n",
    "    \"\"\"\n",
    "\n",
    "    driver.execute_query(\n",
    "        query,\n",
    "        database_=DATABASE,\n",
    "        routing_=RoutingControl.WRITE,\n",
    "    )\n",
    "    \n",
    "    if ((batch % 10 == 0) & (batch != 0)):\n",
    "        print(f\"Finished: {batch}/{nr_batches} batches ({round(batch/nr_batches*100,2)}%)\")"
   ]
  },
  {
   "cell_type": "markdown",
   "metadata": {},
   "source": [
    "Create the [vector index](https://neo4j.com/docs/cypher-manual/current/indexes/semantic-indexes/vector-indexes/#create-vector-index) in Neo4j"
   ]
  },
  {
   "cell_type": "code",
   "execution_count": 13,
   "metadata": {},
   "outputs": [],
   "source": [
    "query = \"\"\"\n",
    "    CREATE VECTOR INDEX `chunk-embeddings` IF NOT EXISTS\n",
    "    FOR (c:Chunk) ON (c.embedding)\n",
    "    OPTIONS {\n",
    "        indexConfig: {\n",
    "            `vector.dimensions`: 1536,\n",
    "            `vector.similarity_function`: 'cosine'\n",
    "        } \n",
    "    }\n",
    "\"\"\""
   ]
  },
  {
   "cell_type": "code",
   "execution_count": 14,
   "metadata": {},
   "outputs": [
    {
     "data": {
      "text/plain": [
       "EagerResult(records=[], summary=<neo4j._work.summary.ResultSummary object at 0x15ac5bd10>, keys=[])"
      ]
     },
     "execution_count": 14,
     "metadata": {},
     "output_type": "execute_result"
    }
   ],
   "source": [
    "driver.execute_query(\n",
    "    query,\n",
    "    database_=DATABASE,\n",
    "    routing_=RoutingControl.WRITE\n",
    ")"
   ]
  },
  {
   "cell_type": "code",
   "execution_count": 15,
   "metadata": {},
   "outputs": [
    {
     "data": {
      "text/html": [
       "<div>\n",
       "<style scoped>\n",
       "    .dataframe tbody tr th:only-of-type {\n",
       "        vertical-align: middle;\n",
       "    }\n",
       "\n",
       "    .dataframe tbody tr th {\n",
       "        vertical-align: top;\n",
       "    }\n",
       "\n",
       "    .dataframe thead th {\n",
       "        text-align: right;\n",
       "    }\n",
       "</style>\n",
       "<table border=\"1\" class=\"dataframe\">\n",
       "  <thead>\n",
       "    <tr style=\"text-align: right;\">\n",
       "      <th></th>\n",
       "      <th>id</th>\n",
       "      <th>name</th>\n",
       "      <th>state</th>\n",
       "      <th>populationPercent</th>\n",
       "      <th>type</th>\n",
       "      <th>entityType</th>\n",
       "      <th>labelsOrTypes</th>\n",
       "      <th>properties</th>\n",
       "      <th>indexProvider</th>\n",
       "      <th>owningConstraint</th>\n",
       "      <th>lastRead</th>\n",
       "      <th>readCount</th>\n",
       "    </tr>\n",
       "  </thead>\n",
       "  <tbody>\n",
       "    <tr>\n",
       "      <th>0</th>\n",
       "      <td>6</td>\n",
       "      <td>chunk-embeddings</td>\n",
       "      <td>ONLINE</td>\n",
       "      <td>100.0</td>\n",
       "      <td>VECTOR</td>\n",
       "      <td>NODE</td>\n",
       "      <td>[Chunk]</td>\n",
       "      <td>[embedding]</td>\n",
       "      <td>vector-2.0</td>\n",
       "      <td>None</td>\n",
       "      <td>2025-05-07T13:19:43.793000000+00:00</td>\n",
       "      <td>58</td>\n",
       "    </tr>\n",
       "    <tr>\n",
       "      <th>1</th>\n",
       "      <td>0</td>\n",
       "      <td>index_343aff4e</td>\n",
       "      <td>ONLINE</td>\n",
       "      <td>100.0</td>\n",
       "      <td>LOOKUP</td>\n",
       "      <td>NODE</td>\n",
       "      <td>None</td>\n",
       "      <td>None</td>\n",
       "      <td>token-lookup-1.0</td>\n",
       "      <td>None</td>\n",
       "      <td>2025-05-12T14:18:16.988000000+00:00</td>\n",
       "      <td>2307</td>\n",
       "    </tr>\n",
       "    <tr>\n",
       "      <th>2</th>\n",
       "      <td>1</td>\n",
       "      <td>index_f7700477</td>\n",
       "      <td>ONLINE</td>\n",
       "      <td>100.0</td>\n",
       "      <td>LOOKUP</td>\n",
       "      <td>RELATIONSHIP</td>\n",
       "      <td>None</td>\n",
       "      <td>None</td>\n",
       "      <td>token-lookup-1.0</td>\n",
       "      <td>None</td>\n",
       "      <td>2025-05-12T12:24:46.937000000+00:00</td>\n",
       "      <td>13</td>\n",
       "    </tr>\n",
       "    <tr>\n",
       "      <th>3</th>\n",
       "      <td>4</td>\n",
       "      <td>unique_chunk</td>\n",
       "      <td>ONLINE</td>\n",
       "      <td>100.0</td>\n",
       "      <td>RANGE</td>\n",
       "      <td>NODE</td>\n",
       "      <td>[Chunk]</td>\n",
       "      <td>[id]</td>\n",
       "      <td>range-1.0</td>\n",
       "      <td>unique_chunk</td>\n",
       "      <td>2025-05-12T14:36:57.804000000+00:00</td>\n",
       "      <td>5978</td>\n",
       "    </tr>\n",
       "    <tr>\n",
       "      <th>4</th>\n",
       "      <td>2</td>\n",
       "      <td>unique_document</td>\n",
       "      <td>ONLINE</td>\n",
       "      <td>100.0</td>\n",
       "      <td>RANGE</td>\n",
       "      <td>NODE</td>\n",
       "      <td>[Document]</td>\n",
       "      <td>[id]</td>\n",
       "      <td>range-1.0</td>\n",
       "      <td>unique_document</td>\n",
       "      <td>2025-05-12T12:04:21.073000000+00:00</td>\n",
       "      <td>1492</td>\n",
       "    </tr>\n",
       "  </tbody>\n",
       "</table>\n",
       "</div>"
      ],
      "text/plain": [
       "   id              name   state  populationPercent    type    entityType  \\\n",
       "0   6  chunk-embeddings  ONLINE              100.0  VECTOR          NODE   \n",
       "1   0    index_343aff4e  ONLINE              100.0  LOOKUP          NODE   \n",
       "2   1    index_f7700477  ONLINE              100.0  LOOKUP  RELATIONSHIP   \n",
       "3   4      unique_chunk  ONLINE              100.0   RANGE          NODE   \n",
       "4   2   unique_document  ONLINE              100.0   RANGE          NODE   \n",
       "\n",
       "  labelsOrTypes   properties     indexProvider owningConstraint  \\\n",
       "0       [Chunk]  [embedding]        vector-2.0             None   \n",
       "1          None         None  token-lookup-1.0             None   \n",
       "2          None         None  token-lookup-1.0             None   \n",
       "3       [Chunk]         [id]         range-1.0     unique_chunk   \n",
       "4    [Document]         [id]         range-1.0  unique_document   \n",
       "\n",
       "                              lastRead  readCount  \n",
       "0  2025-05-07T13:19:43.793000000+00:00         58  \n",
       "1  2025-05-12T14:18:16.988000000+00:00       2307  \n",
       "2  2025-05-12T12:24:46.937000000+00:00         13  \n",
       "3  2025-05-12T14:36:57.804000000+00:00       5978  \n",
       "4  2025-05-12T12:04:21.073000000+00:00       1492  "
      ]
     },
     "execution_count": 15,
     "metadata": {},
     "output_type": "execute_result"
    }
   ],
   "source": [
    "schema_result_df  = driver.execute_query(\n",
    "    'SHOW INDEXES',\n",
    "    database_=DATABASE,\n",
    "    routing_=RoutingControl.READ,\n",
    "    result_transformer_= lambda r: r.to_df()\n",
    ")\n",
    "schema_result_df.head()"
   ]
  },
  {
   "cell_type": "markdown",
   "metadata": {},
   "source": [
    "## Experiment with the Vector Search"
   ]
  },
  {
   "cell_type": "code",
   "execution_count": 16,
   "metadata": {},
   "outputs": [],
   "source": [
    "embedding_model = OpenAIEmbeddings(\n",
    "    model=EMBEDDINGS_MODEL,\n",
    "    openai_api_key=OPENAI_API_KEY\n",
    ")"
   ]
  },
  {
   "cell_type": "code",
   "execution_count": 17,
   "metadata": {},
   "outputs": [
    {
     "data": {
      "text/plain": [
       "'text-embedding-ada-002'"
      ]
     },
     "execution_count": 17,
     "metadata": {},
     "output_type": "execute_result"
    }
   ],
   "source": [
    "embedding_model.model"
   ]
  },
  {
   "cell_type": "code",
   "execution_count": 21,
   "metadata": {},
   "outputs": [],
   "source": [
    "message = \"rood staan\""
   ]
  },
  {
   "cell_type": "code",
   "execution_count": 22,
   "metadata": {},
   "outputs": [],
   "source": [
    "message_vector = embedding_model.embed_query(message)"
   ]
  },
  {
   "cell_type": "code",
   "execution_count": 34,
   "metadata": {},
   "outputs": [],
   "source": [
    "similarity_query = \"\"\" \n",
    "    CALL db.index.vector.queryNodes(\"chunk-embeddings\", 5, $message_vector) YIELD node, score\n",
    "    WITH node as chunk, score ORDER BY score DESC\n",
    "    MATCH (d:Document)<-[:PART_OF]-(chunk)\n",
    "    RETURN score, d.file_name as file_name, chunk.id as chunk_id, chunk.page as page, chunk.chunk AS chunk\n",
    "\"\"\""
   ]
  },
  {
   "cell_type": "code",
   "execution_count": 35,
   "metadata": {},
   "outputs": [],
   "source": [
    "results_df = driver.execute_query(\n",
    "    similarity_query,\n",
    "    database_=DATABASE,\n",
    "    routing_=RoutingControl.READ,\n",
    "    message_vector=message_vector,\n",
    "    result_transformer_= lambda r: r.to_df()\n",
    ")"
   ]
  },
  {
   "cell_type": "code",
   "execution_count": 36,
   "metadata": {},
   "outputs": [
    {
     "data": {
      "text/html": [
       "<div>\n",
       "<style scoped>\n",
       "    .dataframe tbody tr th:only-of-type {\n",
       "        vertical-align: middle;\n",
       "    }\n",
       "\n",
       "    .dataframe tbody tr th {\n",
       "        vertical-align: top;\n",
       "    }\n",
       "\n",
       "    .dataframe thead th {\n",
       "        text-align: right;\n",
       "    }\n",
       "</style>\n",
       "<table border=\"1\" class=\"dataframe\">\n",
       "  <thead>\n",
       "    <tr style=\"text-align: right;\">\n",
       "      <th></th>\n",
       "      <th>score</th>\n",
       "      <th>file_name</th>\n",
       "      <th>chunk_id</th>\n",
       "      <th>page</th>\n",
       "      <th>chunk</th>\n",
       "    </tr>\n",
       "  </thead>\n",
       "  <tbody>\n",
       "    <tr>\n",
       "      <th>0</th>\n",
       "      <td>0.908554</td>\n",
       "      <td>Rabo Beleggersrekening Terms 2020.pdf</td>\n",
       "      <td>557</td>\n",
       "      <td>9</td>\n",
       "      <td>Pagina 9/24\\nAlgemene voorwaarden 2020, Rabo B...</td>\n",
       "    </tr>\n",
       "    <tr>\n",
       "      <th>1</th>\n",
       "      <td>0.906113</td>\n",
       "      <td>Payment and Online Services Terms Sept 2022.pdf</td>\n",
       "      <td>456</td>\n",
       "      <td>61</td>\n",
       "      <td>ongeoorloofd roodstaan.  \\nHet bedrag van de o...</td>\n",
       "    </tr>\n",
       "    <tr>\n",
       "      <th>2</th>\n",
       "      <td>0.896973</td>\n",
       "      <td>Rabo Beleggersrekening Terms 2020.pdf</td>\n",
       "      <td>609</td>\n",
       "      <td>24</td>\n",
       "      <td>www.rabobank.nl</td>\n",
       "    </tr>\n",
       "    <tr>\n",
       "      <th>3</th>\n",
       "      <td>0.896454</td>\n",
       "      <td>Rabo Beleggersrekening Terms 2020.pdf</td>\n",
       "      <td>596</td>\n",
       "      <td>20</td>\n",
       "      <td>bestaan. Verdere informatie staat op www.rabob...</td>\n",
       "    </tr>\n",
       "    <tr>\n",
       "      <th>4</th>\n",
       "      <td>0.895401</td>\n",
       "      <td>Payment and Online Services Terms Sept 2022.pdf</td>\n",
       "      <td>455</td>\n",
       "      <td>61</td>\n",
       "      <td>rente wijzigt.\\n173. U betaalt een maandbedrag...</td>\n",
       "    </tr>\n",
       "  </tbody>\n",
       "</table>\n",
       "</div>"
      ],
      "text/plain": [
       "      score                                        file_name  chunk_id  page  \\\n",
       "0  0.908554            Rabo Beleggersrekening Terms 2020.pdf       557     9   \n",
       "1  0.906113  Payment and Online Services Terms Sept 2022.pdf       456    61   \n",
       "2  0.896973            Rabo Beleggersrekening Terms 2020.pdf       609    24   \n",
       "3  0.896454            Rabo Beleggersrekening Terms 2020.pdf       596    20   \n",
       "4  0.895401  Payment and Online Services Terms Sept 2022.pdf       455    61   \n",
       "\n",
       "                                               chunk  \n",
       "0  Pagina 9/24\\nAlgemene voorwaarden 2020, Rabo B...  \n",
       "1  ongeoorloofd roodstaan.  \\nHet bedrag van de o...  \n",
       "2                                    www.rabobank.nl  \n",
       "3  bestaan. Verdere informatie staat op www.rabob...  \n",
       "4  rente wijzigt.\\n173. U betaalt een maandbedrag...  "
      ]
     },
     "execution_count": 36,
     "metadata": {},
     "output_type": "execute_result"
    }
   ],
   "source": [
    "results_df"
   ]
  },
  {
   "cell_type": "code",
   "execution_count": 42,
   "metadata": {},
   "outputs": [
    {
     "name": "stdout",
     "output_type": "stream",
     "text": [
      "[\n",
      "  {\n",
      "    \"score\": 0.9085540771,\n",
      "    \"file_name\": \"Rabo Beleggersrekening Terms 2020.pdf\",\n",
      "    \"chunk_id\": 557,\n",
      "    \"page\": 9,\n",
      "    \"chunk\": \"Pagina 9/24\\nAlgemene voorwaarden 2020, Rabo BeleggersRekening  Febru ari 2020\\n13. Zonder effectenkrediet rood staan op de beleggersrekening\\n 1 U mag niet rood staan op de beleggersr\\nekening als u geen effectenkrediet heeft.\\n 2 \\n U betaalt rent\\ne als u zonder effectenkrediet rood staat op de beleggersrekening. Deze rente is variabel. En deze \\nnoemen wij \\u2018debetrente bij ongeoorloofde roodstand\\u2019 . Wij kunnen deze rente altijd wijzigen. Kijk in artikel 9 van \\nhoofdstuk 4 voor hoe wij deze rente berekenen. Wij kunnen met u afspreken dat hierbij een andere opslag geldt \\ndan de opslag die wij gebruiken om de debetrente over een effectenkrediet te berekenen.\\n 3 \\n Bij een ongeoorloof\\nde roodstand bent u zonder dat een ingebrekestelling nodig is, in verzuim en is het bedrag dat \\nu rood staat onmiddellijk opeisbaar. Dit betekent dat u het bedrag meteen aan ons moet terugbetalen, zonder dat \\nwij daar om hoeven te vragen.\\n14. Ov\\nerlijden\\n 1 Als u ov\"\n",
      "  },\n",
      "  {\n",
      "    \"score\": 0.9061126709,\n",
      "    \"file_name\": \"Payment and Online Services Terms Sept 2022.pdf\",\n",
      "    \"chunk_id\": 456,\n",
      "    \"page\": 61,\n",
      "    \"chunk\": \"ongeoorloofd roodstaan.  \\nHet bedrag van de ongeoorloofde roodstand is onmiddellijk opeisbaar. Daarbij is \\ngeen ingebrekestelling of andere formaliteit nodig. Dat betekent dat u het bedrag \\nvan deze ongeoorloofde roodstand meteen aan ons moet terugbetalen, zonder \\ndat wij daar om hoeven te vragen.\\n2. Is het afboeken van de debetrente over het gebruikte krediet de reden dat u meer \\nrood staat dan de kredietlimiet? Dan stellen wij u in gebreke door u te vragen \\nhet bedrag van de afgeboekte debetrente die de ongeoorloofde roodstand heeft \\nveroorzaakt v\\u00f3\\u00f3r een bepaalde datum te betalen. Als u dan nog niet betaalt, \\nbrengen wij u over het bedrag dat u aan ons moet betalen vertragingsrente in \\nrekening. \\n175. Vertragingsrente\\na. Moet u ons een bedrag betalen? En bent u daar te laat mee? Dan stellen wij u \\nin gebreke. U krijgt dan een laatste gelegenheid om v\\u00f3\\u00f3r een bepaalde datum \\nte betalen. Als u dan nog niet betaalt, brengen wij vanaf dat moment over het\"\n",
      "  },\n",
      "  {\n",
      "    \"score\": 0.8969726562,\n",
      "    \"file_name\": \"Rabo Beleggersrekening Terms 2020.pdf\",\n",
      "    \"chunk_id\": 609,\n",
      "    \"page\": 24,\n",
      "    \"chunk\": \"www.rabobank.nl\"\n",
      "  },\n",
      "  {\n",
      "    \"score\": 0.8964538574,\n",
      "    \"file_name\": \"Rabo Beleggersrekening Terms 2020.pdf\",\n",
      "    \"chunk_id\": 596,\n",
      "    \"page\": 20,\n",
      "    \"chunk\": \"bestaan. Verdere informatie staat op www.rabobank.com.\"\n",
      "  },\n",
      "  {\n",
      "    \"score\": 0.895401001,\n",
      "    \"file_name\": \"Payment and Online Services Terms Sept 2022.pdf\",\n",
      "    \"chunk_id\": 455,\n",
      "    \"page\": 61,\n",
      "    \"chunk\": \"rente wijzigt.\\n173. U betaalt een maandbedrag niet of niet op tijd\\n  Betaalt u een maandbedrag meer dan twee maanden niet? Dan stellen wij u in \\ngebreke.  \\n  U krijgt dan een laatste gelegenheid om v\\u00f3\\u00f3r een bepaalde datum te betalen.  \\nBetaalt u dan nog niet? Dan eindigt het krediet, is het gebruikte krediet \\nonmiddellijk opeisbaar en moet u ons alles meteen betalen. Ook kan het \\nbetekenen dat u extra kosten moet betalen. \\n174. Staat u meer rood dan de kredietlimiet?\\n1. Dan is er sprake van \\u201ceen overschrijding\\u201d of \\u201congeoorloofd roodstaan\\u201d . Hierna \\ngebruiken wij hiervoor het woord \\u201congeoorloofd roodstaan\\u201d . U moet hierover \\n\\u2018debetrente bij ongeoorloofd roodstaan\\u2019 betalen; deze is variabel en kunnen \\nwij altijd wijzigen. De debetrente bij ongeoorloofd roodstaan kan hoger zijn \\ndan de debetrente die geldt voor uw krediet. Artikel 168 en 169 zijn ook van \\ntoepassing op de opbouw van- en de (wijze van) berekening van de debetrente bij \\nongeoorloofd roodstaan.\"\n",
      "  }\n",
      "]\n"
     ]
    }
   ],
   "source": [
    "results = dumps(loads(results_df.to_json(orient=\"records\")), indent=2)\n",
    "print(results)"
   ]
  }
 ],
 "metadata": {
  "createdOn": 1712246150170,
  "creator": "admin",
  "customFields": {},
  "hide_input": false,
  "kernelspec": {
   "display_name": "Python 3 (ipykernel)",
   "language": "python",
   "name": "python3"
  },
  "language_info": {
   "codemirror_mode": {
    "name": "ipython",
    "version": 3
   },
   "file_extension": ".py",
   "mimetype": "text/x-python",
   "name": "python",
   "nbconvert_exporter": "python",
   "pygments_lexer": "ipython3",
   "version": "3.11.5"
  },
  "modifiedBy": "admin",
  "tags": []
 },
 "nbformat": 4,
 "nbformat_minor": 4
}
