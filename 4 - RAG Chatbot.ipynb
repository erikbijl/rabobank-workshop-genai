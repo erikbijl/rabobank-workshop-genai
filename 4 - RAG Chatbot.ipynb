{
 "cells": [
  {
   "cell_type": "markdown",
   "metadata": {},
   "source": [
    "# Module 4 - RAG-Chatbot "
   ]
  },
  {
   "cell_type": "markdown",
   "metadata": {},
   "source": [
    "In this module we create a chatbot using RAG ([Retrieval Augmented Generation](https://en.wikipedia.org/wiki/Retrieval-augmented_generation)) and [GraphRAG](https://graphrag.com/). "
   ]
  },
  {
   "cell_type": "markdown",
   "metadata": {},
   "source": [
    "Import our usual suspects (and some more...)"
   ]
  },
  {
   "cell_type": "code",
   "execution_count": 1,
   "metadata": {},
   "outputs": [],
   "source": [
    "import pandas as pd\n",
    "import os\n",
    "from langchain_openai import OpenAIEmbeddings\n",
    "from langchain.chat_models import ChatOpenAI\n",
    "from langchain.prompts import PromptTemplate\n",
    "from neo4j import Query, GraphDatabase, RoutingControl, Result\n",
    "from dotenv import load_dotenv\n",
    "import gradio as gr\n",
    "import time\n",
    "from IPython.display import display, HTML\n",
    "import warnings\n",
    "from json import loads, dumps\n",
    "warnings.filterwarnings('ignore')"
   ]
  },
  {
   "cell_type": "markdown",
   "metadata": {},
   "source": [
    "## Get Credentials"
   ]
  },
  {
   "cell_type": "markdown",
   "metadata": {},
   "source": [
    "Load env variables"
   ]
  },
  {
   "cell_type": "code",
   "execution_count": 2,
   "metadata": {},
   "outputs": [],
   "source": [
    "env_file = 'ws.env'"
   ]
  },
  {
   "cell_type": "code",
   "execution_count": 3,
   "metadata": {},
   "outputs": [],
   "source": [
    "if os.path.exists(env_file):\n",
    "    load_dotenv(env_file, override=True)\n",
    "\n",
    "    # Neo4j\n",
    "    HOST = os.getenv('NEO4J_URI')\n",
    "    USERNAME = os.getenv('NEO4J_USERNAME')\n",
    "    PASSWORD = os.getenv('NEO4J_PASSWORD')\n",
    "    DATABASE = os.getenv('NEO4J_DATABASE')\n",
    "\n",
    "    # AI\n",
    "    OPENAI_API_KEY = os.getenv('OPENAI_API_KEY')\n",
    "    os.environ['OPENAI_API_KEY']=OPENAI_API_KEY\n",
    "    LLM = os.getenv('LLM')\n",
    "    EMBEDDINGS_MODEL = os.getenv('EMBEDDINGS_MODEL')\n",
    "else:\n",
    "    print(f\"File {env_file} not found.\")"
   ]
  },
  {
   "cell_type": "markdown",
   "metadata": {},
   "source": [
    "## Setup Connection to Database"
   ]
  },
  {
   "cell_type": "markdown",
   "metadata": {},
   "source": [
    "Setup connection to the database with the [Python Driver](https://neo4j.com/docs/python-manual/5/)."
   ]
  },
  {
   "cell_type": "code",
   "execution_count": 4,
   "metadata": {},
   "outputs": [],
   "source": [
    "driver = GraphDatabase.driver(\n",
    "    HOST,\n",
    "    auth=(USERNAME, PASSWORD)\n",
    ")"
   ]
  },
  {
   "cell_type": "markdown",
   "metadata": {},
   "source": [
    "Test the connection"
   ]
  },
  {
   "cell_type": "code",
   "execution_count": 5,
   "metadata": {},
   "outputs": [
    {
     "data": {
      "text/html": [
       "<div>\n",
       "<style scoped>\n",
       "    .dataframe tbody tr th:only-of-type {\n",
       "        vertical-align: middle;\n",
       "    }\n",
       "\n",
       "    .dataframe tbody tr th {\n",
       "        vertical-align: top;\n",
       "    }\n",
       "\n",
       "    .dataframe thead th {\n",
       "        text-align: right;\n",
       "    }\n",
       "</style>\n",
       "<table border=\"1\" class=\"dataframe\">\n",
       "  <thead>\n",
       "    <tr style=\"text-align: right;\">\n",
       "      <th></th>\n",
       "      <th>Count</th>\n",
       "    </tr>\n",
       "  </thead>\n",
       "  <tbody>\n",
       "    <tr>\n",
       "      <th>0</th>\n",
       "      <td>1388</td>\n",
       "    </tr>\n",
       "  </tbody>\n",
       "</table>\n",
       "</div>"
      ],
      "text/plain": [
       "   Count\n",
       "0   1388"
      ]
     },
     "execution_count": 5,
     "metadata": {},
     "output_type": "execute_result"
    }
   ],
   "source": [
    "driver.execute_query(\n",
    "    \"\"\"\n",
    "    MATCH (n) RETURN COUNT(n) as Count\n",
    "    \"\"\",\n",
    "    database_=DATABASE,\n",
    "    routing_=RoutingControl.READ,\n",
    "    result_transformer_= lambda r: r.to_df()\n",
    ")"
   ]
  },
  {
   "cell_type": "markdown",
   "metadata": {},
   "source": [
    "## Create RAG-application"
   ]
  },
  {
   "cell_type": "markdown",
   "metadata": {},
   "source": [
    "For the the chatbot we both need an Embedding-model and LLM. Create both below:"
   ]
  },
  {
   "cell_type": "code",
   "execution_count": 6,
   "metadata": {},
   "outputs": [],
   "source": [
    "embedding_model = OpenAIEmbeddings(\n",
    "    model=EMBEDDINGS_MODEL,\n",
    "    openai_api_key=OPENAI_API_KEY\n",
    ")"
   ]
  },
  {
   "cell_type": "code",
   "execution_count": 7,
   "metadata": {},
   "outputs": [
    {
     "data": {
      "text/plain": [
       "'text-embedding-ada-002'"
      ]
     },
     "execution_count": 7,
     "metadata": {},
     "output_type": "execute_result"
    }
   ],
   "source": [
    "embedding_model.model"
   ]
  },
  {
   "cell_type": "code",
   "execution_count": 8,
   "metadata": {},
   "outputs": [],
   "source": [
    "llm = ChatOpenAI(temperature=0, model=LLM)"
   ]
  },
  {
   "cell_type": "code",
   "execution_count": 9,
   "metadata": {},
   "outputs": [
    {
     "data": {
      "text/plain": [
       "'gpt-4o'"
      ]
     },
     "execution_count": 9,
     "metadata": {},
     "output_type": "execute_result"
    }
   ],
   "source": [
    "llm.model_name"
   ]
  },
  {
   "cell_type": "markdown",
   "metadata": {},
   "source": [
    "### Retrieval Queries"
   ]
  },
  {
   "cell_type": "markdown",
   "metadata": {},
   "source": [
    "To illustrate the difference between a \"Regular\" Vector Search and GraphRAG we create different retrieval queries."
   ]
  },
  {
   "cell_type": "markdown",
   "metadata": {},
   "source": [
    "The following function retrieves the context using a regular vector search. "
   ]
  },
  {
   "cell_type": "code",
   "execution_count": 10,
   "metadata": {},
   "outputs": [],
   "source": [
    "def get_context_vector_search(search_prompt):\n",
    "    query_vector = embedding_model.embed_query(search_prompt)\n",
    "    \n",
    "    similarity_query = \"\"\" \n",
    "        CALL db.index.vector.queryNodes(\"chunk-embeddings\", 3, $query_vector) YIELD node, score\n",
    "        WITH node as chunk, score ORDER BY score DESC\n",
    "        MATCH (d:Document)<-[:PART_OF]-(chunk)\n",
    "        RETURN score, d.file_name as file_name, chunk.id as chunk_id, chunk.page as page, chunk.chunk_eng AS chunk\n",
    "       \"\"\"\n",
    "    results = driver.execute_query(\n",
    "        similarity_query,\n",
    "        database_=DATABASE,\n",
    "        routing_=RoutingControl.READ,\n",
    "        query_vector=query_vector,\n",
    "        result_transformer_= lambda r: r.to_df()\n",
    "    )\n",
    "    \n",
    "    results = results.to_json(orient=\"records\")\n",
    "    parsed = loads(results)\n",
    "    context = dumps(parsed, indent=2)\n",
    "\n",
    "    return context"
   ]
  },
  {
   "cell_type": "markdown",
   "metadata": {},
   "source": [
    "The following function retrieves the context using a the Knowledge Graph (GraphRAG). We start with a regular vector search and can find more than that. "
   ]
  },
  {
   "cell_type": "code",
   "execution_count": 11,
   "metadata": {},
   "outputs": [],
   "source": [
    "def get_context_graphrag(search_prompt):\n",
    "    query_vector = embedding_model.embed_query(search_prompt)\n",
    "    \n",
    "    similarity_query = \"\"\" \n",
    "        CALL db.index.vector.queryNodes(\"chunk-embeddings\", 3, $query_vector) YIELD node, score\n",
    "        WITH node as chunk, score ORDER BY score DESC\n",
    "        CALL (chunk) {\n",
    "            MATCH (chunk)-[r:OVERLAPPING_DEFINITIONS]-(overlapping_chunk:Chunk)\n",
    "            WHERE r.overlap > 3\n",
    "            RETURN collect(overlapping_chunk) AS overlapping_chunks\n",
    "        }\n",
    "        WITH [chunk] + overlapping_chunks AS chunks\n",
    "        UNWIND chunks as chunk\n",
    "        MATCH (d:Document)<-[:PART_OF]-(chunk)\n",
    "        RETURN d.file_name as file_name, chunk.id as chunk_id, chunk.page as page, chunk.chunk_eng AS chunk\n",
    "       \"\"\"\n",
    "    results_1 = driver.execute_query(\n",
    "        similarity_query,\n",
    "        database_=DATABASE,\n",
    "        routing_=RoutingControl.READ,\n",
    "        query_vector=query_vector,\n",
    "        result_transformer_= lambda r: r.to_df()\n",
    "    )\n",
    "\n",
    "    chunk_ids = list(set(results_1['chunk_id'].to_list()))\n",
    "\n",
    "    definition_query = \"\"\"    \n",
    "       CALL db.index.vector.queryNodes(\"definition-embeddings\", 5, $query_vector) YIELD node, score\n",
    "            WITH node as definition, score ORDER BY score DESC\n",
    "            WHERE definition.degree < 20\n",
    "            WITH definition LIMIT 1\n",
    "            MATCH (definition)<-[:MENTIONS]-(chunk:Chunk)\n",
    "            WHERE NOT (chunk.id IN $chunk_ids)\n",
    "            WITH chunk LIMIT 3\n",
    "            MATCH (d:Document)<-[:PART_OF]-(chunk)\n",
    "            RETURN d.file_name as file_name, chunk.id as chunk_id, chunk.page as page, chunk.chunk_eng AS chunk\n",
    "    \"\"\"\n",
    "    results_2 = driver.execute_query(\n",
    "        definition_query,\n",
    "        database_=DATABASE,\n",
    "        routing_=RoutingControl.READ,\n",
    "        chunk_ids=chunk_ids,\n",
    "        query_vector=query_vector,\n",
    "        result_transformer_= lambda r: r.to_df()\n",
    "    )\n",
    "    results = pd.concat([results_1,results_2]).drop_duplicates()\n",
    "    results = results.to_json(orient=\"records\")\n",
    "    parsed = loads(results)\n",
    "    context = dumps(parsed, indent=2)\n",
    "    return context"
   ]
  },
  {
   "cell_type": "markdown",
   "metadata": {},
   "source": [
    "### Prompts "
   ]
  },
  {
   "cell_type": "markdown",
   "metadata": {},
   "source": [
    "Prompt for vector search which returns just the context."
   ]
  },
  {
   "cell_type": "code",
   "execution_count": 12,
   "metadata": {},
   "outputs": [],
   "source": [
    "def generate_prompt(search_prompt, context):\n",
    "    prompt_template = \"\"\"\n",
    "\n",
    "    You are a chatbot on Rabobank product. Your goal is to help people with questions on product policies.  \n",
    "    A user will come to you with questions on their policy. Their questions must be answered based on the relevant documents of the policy.\n",
    "    Respond in English. \n",
    "\n",
    "    The question is the following: \n",
    "    {search_prompt}\n",
    "    \n",
    "    Always respond in the language in which the question was asked. So, do not respond in a different language.\n",
    "    \n",
    "    The context is the following: \n",
    "    {context}\n",
    "\n",
    "    Please explain your answer as thorough as possbile based on the context above. Don't come up with anything yourself.\n",
    "    \n",
    "    Please end your message with listing your sources with file name and page number. \n",
    "    \"\"\"\n",
    "    prompt = PromptTemplate.from_template(prompt_template)\n",
    "    \n",
    "    theprompt = prompt.format_prompt(search_prompt=search_prompt, context=context)\n",
    "    return theprompt"
   ]
  },
  {
   "cell_type": "markdown",
   "metadata": {},
   "source": [
    "The prompt for GraphRAG provides context and definitions."
   ]
  },
  {
   "cell_type": "markdown",
   "metadata": {},
   "source": [
    "## Some examples to test the models"
   ]
  },
  {
   "cell_type": "markdown",
   "metadata": {},
   "source": [
    "For every example there can be chosen between GraphRAG and vector search. "
   ]
  },
  {
   "cell_type": "code",
   "execution_count": 13,
   "metadata": {},
   "outputs": [
    {
     "name": "stdout",
     "output_type": "stream",
     "text": [
      "==================================\u001b[1m Ai Message \u001b[0m==================================\n",
      "\n",
      "The term \"Rabofoon\" refers to a service provided by Rabobank that allows customers to perform banking transactions over the phone. Specifically, it enables users to give payment orders using the phone's keys. Once a payment order is given, the user must follow the instructions provided by Rabofoon to authorize the transaction. The payment order is considered received by Rabobank as soon as the system records the confirmation key being pressed, at which point the order cannot be withdrawn. For transactions made via Rabofoon, the International Bank Account Number (IBAN) is used as a unique identifier. If a customer enters an account number, Rabobank will convert it into the beneficiary's IBAN, and the customer must verify that this is correct before the payment is executed.\n",
      "\n",
      "Additionally, Rabofoon requires a personal access code for checking balances, transactions, or making transfers. There are no subscription fees for maintaining an agreement for Rabofoon, but calling the service incurs a cost of €0.20 per call, excluding any additional charges from the internet or telephone provider.\n",
      "\n",
      "Sources:\n",
      "- \"Payment and Online Services Terms Sept 2022.pdf\", page 51\n",
      "- \"Payment and Online Services Terms Sept 2022.pdf\", page 30\n",
      "- \"Rabo SpaarRekening 2020.pdf\", page 3\n"
     ]
    }
   ],
   "source": [
    "search_prompt = 'What is meant with the Rabofoon?'\n",
    "\n",
    "context = get_context_vector_search(search_prompt)\n",
    "theprompt = generate_prompt(search_prompt, context)\n",
    "llm(theprompt.to_messages()).pretty_print()"
   ]
  },
  {
   "cell_type": "code",
   "execution_count": 14,
   "metadata": {},
   "outputs": [
    {
     "name": "stdout",
     "output_type": "stream",
     "text": [
      "==================================\u001b[1m Ai Message \u001b[0m==================================\n",
      "\n",
      "The term \"Rabofoon\" refers to a telephone banking service provided by Rabobank. It allows users to perform certain banking activities over the phone. Here are the key points about Rabofoon based on the provided context:\n",
      "\n",
      "1. **Payment Orders**: If you have access to Rabofoon and it is activated for you, you can give payment orders using the phone's keys. You authorize the payment order by following the instructions provided by Rabofoon. Once you press the confirmation key, the payment order is received by Rabobank's systems and cannot be withdrawn. For transfers, the IBAN is used as a unique identifier, and Rabobank will convert any account number you enter into the beneficiary's IBAN, which you must verify (Payment and Online Services Terms Sept 2022.pdf, page 51).\n",
      "\n",
      "2. **Security Codes**: Rabofoon uses a 5-digit code for security, which can be blocked by entering an incorrect code three times if you suspect unauthorized use. This code can be used interchangeably with Rabo Online Banking (Payment and Online Services Terms Sept 2022.pdf, page 30).\n",
      "\n",
      "3. **Access and Costs**: To use Rabofoon, you need a personal access code. There are no subscription fees for maintaining an agreement for Rabofoon, but calling the service costs €0.20 per call, excluding any additional charges from your telephone provider (Rabo SpaarRekening 2020.pdf, page 3).\n",
      "\n",
      "4. **Balance and Transactions**: You can check your current balance and transactions or make transfers via Rabofoon, provided you have the necessary access code (Rabo SpaarRekening 2020.pdf, page 3).\n",
      "\n",
      "5. **Security and Safety**: Rabofoon is part of Rabobank's electronic banking services, which require adherence to security rules to prevent fraud. This includes using security codes responsibly and not sharing them with others (Payment and Online Services Terms Sept 2022.pdf, page 16).\n",
      "\n",
      "Sources:\n",
      "- Payment and Online Services Terms Sept 2022.pdf, pages 15, 16, 30, 51\n",
      "- Rabo SpaarRekening 2020.pdf, page 3\n"
     ]
    }
   ],
   "source": [
    "search_prompt = 'What is meant with the Rabofoon?'\n",
    "\n",
    "context = get_context_graphrag(search_prompt)\n",
    "theprompt = generate_prompt(search_prompt, context)\n",
    "llm(theprompt.to_messages()).pretty_print()"
   ]
  },
  {
   "cell_type": "code",
   "execution_count": 15,
   "metadata": {},
   "outputs": [
    {
     "name": "stdout",
     "output_type": "stream",
     "text": [
      "==================================\u001b[1m Ai Message \u001b[0m==================================\n",
      "\n",
      "Based on the provided context from the Interpolis Short-Term Travel Insurance policy documents, the insurance coverage depends on several factors, including the geographical area covered by your policy and the nature of your trip.\n",
      "\n",
      "1. **Geographical Coverage**: The insurance applies either within Europe or worldwide, as specified in your policy document. The European coverage includes specific regions such as the Azores, the Canary Islands, Cyprus, Madeira, and parts of Russia. Outside of Europe, it also covers countries like Algeria, Egypt, Iceland, Israel, Lebanon, Libya, Morocco, Syria, Tunisia, and Turkey. However, it explicitly does not cover Bonaire, Sint Eustatius, and Saba (Interpolis Short-Term Travel Insurance, page 16).\n",
      "\n",
      "2. **Nature of the Trip**: The insurance covers trips for leisure, volunteer work, holiday work, study, internship, and necessary private trips. However, it does not cover trips if the insured regularly crosses the border for work, school, or study purposes (commuting) (Interpolis Short-Term Travel Insurance, page 15).\n",
      "\n",
      "3. **High-Risk Countries**: The context provided does not explicitly mention high-risk countries or specific exclusions related to them. Therefore, whether a high-risk country is covered would depend on whether it falls within the geographical coverage specified in your policy document. If your policy includes worldwide coverage, then theoretically, you would be insured in high-risk countries unless there are specific exclusions not mentioned in the provided context.\n",
      "\n",
      "In conclusion, to determine if you are insured when traveling to a high-risk country, you need to check if the country is included in the geographical coverage of your policy and ensure there are no specific exclusions related to high-risk areas in your policy document.\n",
      "\n",
      "**Sources**:\n",
      "- Interpolis Short-Term Travel Insurance, page 15\n",
      "- Interpolis Short-Term Travel Insurance, page 16\n"
     ]
    }
   ],
   "source": [
    "search_prompt = 'Are you insured when traveling to a high-risk country?'\n",
    "\n",
    "context = get_context_vector_search(search_prompt)\n",
    "theprompt = generate_prompt(search_prompt, context)\n",
    "llm(theprompt.to_messages()).pretty_print()"
   ]
  },
  {
   "cell_type": "code",
   "execution_count": 16,
   "metadata": {},
   "outputs": [
    {
     "name": "stdout",
     "output_type": "stream",
     "text": [
      "==================================\u001b[1m Ai Message \u001b[0m==================================\n",
      "\n",
      "Based on the provided context from the \"Interpolis Short-Term Travel Insurance\" document, you are not insured when traveling to a high-risk country if the area has been issued a 'red' color code by the Ministry of Foreign Affairs. The document explicitly states that assistance and costs are never covered if the insured travels to an area with a 'red' color code. However, if the insured is already in the area at the time it receives a 'red' color code, they are covered under the condition that they leave the area as soon as possible. It is important to note that the costs to leave the area are not covered.\n",
      "\n",
      "This means that if you plan to travel to a high-risk country that has been designated with a 'red' color code, your travel insurance will not cover you. If you are already in such an area when the designation is made, you must leave promptly to maintain any coverage, but you will have to bear the costs of leaving yourself.\n",
      "\n",
      "Sources:\n",
      "- \"Interpolis Short-Term Travel Insurance.pdf\", Page 14, Chunk 30\n"
     ]
    }
   ],
   "source": [
    "search_prompt = 'Are you insured when traveling to a high-risk country?'\n",
    "\n",
    "context = get_context_graphrag(search_prompt)\n",
    "theprompt = generate_prompt(search_prompt, context)\n",
    "llm(theprompt.to_messages()).pretty_print()"
   ]
  },
  {
   "cell_type": "code",
   "execution_count": 17,
   "metadata": {},
   "outputs": [
    {
     "name": "stdout",
     "output_type": "stream",
     "text": [
      "==================================\u001b[1m Ai Message \u001b[0m==================================\n",
      "\n",
      "The rules for a joint investment account at Rabobank, as outlined in the provided context, are as follows:\n",
      "\n",
      "1. **Communication and Information Sharing**: Rabobank is only required to inform one account holder about any information related to the account. It is the responsibility of the informed account holder to immediately share this information with the other account holders. All account holders are bound by the information provided to any one of them (Rabo Beleggersrekening Terms 2020.pdf, page 5).\n",
      "\n",
      "2. **Actions Upon Death of an Account Holder**: If one of the account holders passes away, the heirs of the deceased can only use the investment account together. They are also required to perform any legal actions related to the agreement and/or the general terms and conditions collectively (Rabo Beleggersrekening Terms 2020.pdf, page 5).\n",
      "\n",
      "3. **Joint Use and Legal Actions**: For a joint investment account, all account holders must use the account together. Any legal actions regarding the agreement and/or the general terms and conditions must also be performed together (Rabo Beleggersrekening Terms 2020.pdf, page 6).\n",
      "\n",
      "4. **Liability for Overdrafts**: If there is an overdraft on the investment account, each account holder can be held separately liable for the entire overdraft. This is referred to as joint and several liability (Rabo Beleggersrekening Terms 2020.pdf, page 6).\n",
      "\n",
      "5. **Separate Use and Legal Actions**: Despite the requirement for joint use, account holders may use the investment account separately and perform other legal actions related to the agreement and/or the general terms and conditions independently. This rule applies even after the death of an account holder or if an account holder is placed under guardianship or conservatorship by a court. For these actions, the cooperation of other account holders is not necessary (Rabo Beleggersrekening Terms 2020.pdf, page 6).\n",
      "\n",
      "These rules ensure that all account holders are informed and responsible for the account, while also allowing for flexibility in the management and use of the account.\n",
      "\n",
      "**Sources**:\n",
      "- Rabo Beleggersrekening Terms 2020.pdf, page 5\n",
      "- Rabo Beleggersrekening Terms 2020.pdf, page 6\n"
     ]
    }
   ],
   "source": [
    "search_prompt = 'What are the rules for a joint investment account?'\n",
    "\n",
    "context = get_context_vector_search(search_prompt)\n",
    "theprompt = generate_prompt(search_prompt, context)\n",
    "llm(theprompt.to_messages()).pretty_print()"
   ]
  },
  {
   "cell_type": "code",
   "execution_count": 18,
   "metadata": {},
   "outputs": [
    {
     "name": "stdout",
     "output_type": "stream",
     "text": [
      "==================================\u001b[1m Ai Message \u001b[0m==================================\n",
      "\n",
      "The rules for a joint investment account, as outlined in the provided context, are as follows:\n",
      "\n",
      "1. **Joint and/or Investment Account vs. Joint Investment Account**: If the investment account has multiple account holders, it is considered a joint and/or investment account unless specifically agreed upon as a joint investment account (Rabo Beleggersrekening Terms 2020, page 5).\n",
      "\n",
      "2. **Communication**: For both types of accounts, the bank only needs to inform one account holder. It is the responsibility of the informed account holder to immediately share any information with the other account holders. All account holders are bound by the information provided to any one of them (Rabo Beleggersrekening Terms 2020, page 5).\n",
      "\n",
      "3. **Actions and Usage**: \n",
      "   - For a joint investment account, all account holders must use the account together and perform any legal actions regarding the agreement and/or general terms and conditions together (Rabo Beleggersrekening Terms 2020, page 6).\n",
      "   - In contrast, for a joint and/or investment account, account holders may use the account separately and perform legal actions independently. This remains applicable even after the death of an account holder or if an account holder is placed under guardianship or conservatorship (Rabo Beleggersrekening Terms 2020, page 6).\n",
      "\n",
      "4. **Liability**: Each account holder can be held separately liable for the entire overdraft on the investment account. This is referred to as joint and several liability (Rabo Beleggersrekening Terms 2020, page 6).\n",
      "\n",
      "5. **Death of an Account Holder**: If one account holder dies, the heirs of the deceased can only use the investment account together and perform legal actions related to the agreement and/or general terms and conditions in place of the deceased (Rabo Beleggersrekening Terms 2020, page 5).\n",
      "\n",
      "6. **Power of Attorney**: A power of attorney may no longer be used if certain conditions occur, such as the death of the account holder who issued it, bankruptcy, or if the account holder is placed under guardianship (Rabo Beleggersrekening Terms 2020, page 8).\n",
      "\n",
      "These rules ensure that all account holders are aware of their responsibilities and liabilities, and they provide a framework for how the account should be managed in various situations.\n",
      "\n",
      "**Sources**:\n",
      "- Rabo Beleggersrekening Terms 2020, page 5\n",
      "- Rabo Beleggersrekening Terms 2020, page 6\n",
      "- Rabo Beleggersrekening Terms 2020, page 8\n"
     ]
    }
   ],
   "source": [
    "search_prompt = 'What are the rules for a joint investment account?'\n",
    "\n",
    "context = get_context_graphrag(search_prompt)\n",
    "theprompt = generate_prompt(search_prompt, context)\n",
    "llm(theprompt.to_messages()).pretty_print()"
   ]
  },
  {
   "cell_type": "markdown",
   "metadata": {},
   "source": [
    "## Gradio Chatbot that uses RAG and GraphRAG"
   ]
  },
  {
   "cell_type": "markdown",
   "metadata": {},
   "source": [
    "Example code is coming from Gradio documentation: [Creating a custom chatbot with blocks](https://www.gradio.app/guides/creating-a-custom-chatbot-with-blocks#add-streaming-to-your-chatbot)"
   ]
  },
  {
   "cell_type": "code",
   "execution_count": 19,
   "metadata": {},
   "outputs": [
    {
     "name": "stdout",
     "output_type": "stream",
     "text": [
      "* Running on local URL:  http://127.0.0.1:7860\n",
      "\n",
      "To create a public link, set `share=True` in `launch()`.\n"
     ]
    },
    {
     "data": {
      "text/html": [
       "<div><iframe src=\"http://127.0.0.1:7860/\" width=\"100%\" height=\"500\" allow=\"autoplay; camera; microphone; clipboard-read; clipboard-write;\" frameborder=\"0\" allowfullscreen></iframe></div>"
      ],
      "text/plain": [
       "<IPython.core.display.HTML object>"
      ]
     },
     "metadata": {},
     "output_type": "display_data"
    },
    {
     "data": {
      "text/plain": []
     },
     "execution_count": 19,
     "metadata": {},
     "output_type": "execute_result"
    }
   ],
   "source": [
    "def user(user_message, history):\n",
    "    return \"\", history + [[user_message, None]]\n",
    "\n",
    "def get_answer(search_prompt, rag_method):\n",
    "    if rag_method == \"Vector-Search\":\n",
    "        context = get_context_vector_search(search_prompt)\n",
    "        theprompt = generate_prompt(search_prompt, context)\n",
    "    else: \n",
    "    # rag_method == \"GraphRAG\"\n",
    "        context = get_context_graphrag(search_prompt)\n",
    "        theprompt = generate_prompt(search_prompt, context)\n",
    "    messages = llm(theprompt.to_messages())\n",
    "    return messages.content\n",
    "\n",
    "def bot(history, rag_method):\n",
    "    bot_message = get_answer(history[-1][0], rag_method)\n",
    "    history[-1][1] = \"\"\n",
    "    for character in bot_message:\n",
    "        history[-1][1] += character\n",
    "        time.sleep(0.01)\n",
    "        yield history\n",
    "\n",
    "with gr.Blocks() as demo:\n",
    "    chatbot = gr.Chatbot(\n",
    "        label=\"Chatbot with RAG\", \n",
    "        avatar_images=[\"https://png.pngtree.com/png-vector/20220525/ourmid/pngtree-concept-of-facial-animal-avatar-chatbot-dog-chat-machine-illustration-vector-png-image_46652864.jpg\",\"https://d-cb.jc-cdn.com/sites/crackberry.com/files/styles/larger/public/article_images/2023/08/openai-logo.jpg\"]\n",
    "    )\n",
    "    msg = gr.Textbox(label=\"Message\")\n",
    "    rag_method = gr.Radio([\"Vector-Search\", \"GraphRAG\"], label=\"RAG-method:\")\n",
    "    clear = gr.Button(\"Clear\")\n",
    "\n",
    "\n",
    "    msg.submit(user, [msg, chatbot], [msg, chatbot], queue=False).then(\n",
    "        bot, [chatbot, rag_method], chatbot\n",
    "    )\n",
    "    \n",
    "    clear.click(lambda: None, None, chatbot, queue=False)\n",
    "\n",
    "    \n",
    "demo.queue()\n",
    "demo.launch(share=False)"
   ]
  },
  {
   "cell_type": "markdown",
   "metadata": {},
   "source": [
    "If you want to have the light-mode for the chatbot paste the following after the URL: /?__theme=light"
   ]
  }
 ],
 "metadata": {
  "createdOn": 1712323594898,
  "creator": "admin",
  "customFields": {},
  "hide_input": false,
  "kernelspec": {
   "display_name": "Python 3 (ipykernel)",
   "language": "python",
   "name": "python3"
  },
  "language_info": {
   "codemirror_mode": {
    "name": "ipython",
    "version": 3
   },
   "file_extension": ".py",
   "mimetype": "text/x-python",
   "name": "python",
   "nbconvert_exporter": "python",
   "pygments_lexer": "ipython3",
   "version": "3.11.5"
  },
  "modifiedBy": "admin",
  "tags": [],
  "versionNumber": 3
 },
 "nbformat": 4,
 "nbformat_minor": 4
}
