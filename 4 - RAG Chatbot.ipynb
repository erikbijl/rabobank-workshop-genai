{
 "cells": [
  {
   "cell_type": "markdown",
   "metadata": {},
   "source": [
    "# RAG-Chatbot "
   ]
  },
  {
   "cell_type": "code",
   "execution_count": 1,
   "metadata": {},
   "outputs": [],
   "source": [
    "import pandas as pd\n",
    "import os\n",
    "from langchain_openai import OpenAIEmbeddings\n",
    "from langchain.chat_models import ChatOpenAI\n",
    "from langchain.prompts import PromptTemplate\n",
    "from neo4j import Query, GraphDatabase, RoutingControl, Result\n",
    "from dotenv import load_dotenv\n",
    "import gradio as gr\n",
    "import time\n",
    "from IPython.display import display, HTML\n",
    "import warnings\n",
    "warnings.filterwarnings('ignore')"
   ]
  },
  {
   "cell_type": "markdown",
   "metadata": {},
   "source": [
    "## Get Credentials"
   ]
  },
  {
   "cell_type": "code",
   "execution_count": 2,
   "metadata": {},
   "outputs": [],
   "source": [
    "env_file = 'credentials.env'"
   ]
  },
  {
   "cell_type": "code",
   "execution_count": 3,
   "metadata": {},
   "outputs": [],
   "source": [
    "if os.path.exists(env_file):\n",
    "    load_dotenv(env_file, override=True)\n",
    "\n",
    "    # Neo4j\n",
    "    HOST = os.getenv('NEO4J_URI')\n",
    "    USERNAME = os.getenv('NEO4J_USERNAME')\n",
    "    PASSWORD = os.getenv('NEO4J_PASSWORD')\n",
    "    DATABASE = os.getenv('NEO4J_DATABASE')\n",
    "\n",
    "    # AI\n",
    "    OPENAI_API_KEY = os.getenv('OPENAI_API_KEY')\n",
    "    os.environ['OPENAI_API_KEY']=OPENAI_API_KEY\n",
    "    LLM = os.getenv('LLM')\n",
    "    EMBEDDINGS_MODEL = os.getenv('EMBEDDINGS_MODEL')\n",
    "else:\n",
    "    print(f\"File {env_file} not found.\")"
   ]
  },
  {
   "cell_type": "markdown",
   "metadata": {},
   "source": [
    "## Setup Connection to Database"
   ]
  },
  {
   "cell_type": "markdown",
   "metadata": {},
   "source": [
    "Setup connection to the database with the Python Driver"
   ]
  },
  {
   "cell_type": "code",
   "execution_count": 4,
   "metadata": {},
   "outputs": [],
   "source": [
    "driver = GraphDatabase.driver(\n",
    "    HOST,\n",
    "    auth=(USERNAME, PASSWORD)\n",
    ")"
   ]
  },
  {
   "cell_type": "code",
   "execution_count": 5,
   "metadata": {},
   "outputs": [
    {
     "data": {
      "text/html": [
       "<div>\n",
       "<style scoped>\n",
       "    .dataframe tbody tr th:only-of-type {\n",
       "        vertical-align: middle;\n",
       "    }\n",
       "\n",
       "    .dataframe tbody tr th {\n",
       "        vertical-align: top;\n",
       "    }\n",
       "\n",
       "    .dataframe thead th {\n",
       "        text-align: right;\n",
       "    }\n",
       "</style>\n",
       "<table border=\"1\" class=\"dataframe\">\n",
       "  <thead>\n",
       "    <tr style=\"text-align: right;\">\n",
       "      <th></th>\n",
       "      <th>Count</th>\n",
       "    </tr>\n",
       "  </thead>\n",
       "  <tbody>\n",
       "    <tr>\n",
       "      <th>0</th>\n",
       "      <td>902</td>\n",
       "    </tr>\n",
       "  </tbody>\n",
       "</table>\n",
       "</div>"
      ],
      "text/plain": [
       "   Count\n",
       "0    902"
      ]
     },
     "execution_count": 5,
     "metadata": {},
     "output_type": "execute_result"
    }
   ],
   "source": [
    "driver.execute_query(\n",
    "    \"\"\"\n",
    "    MATCH (n) RETURN COUNT(n) as Count\n",
    "    \"\"\",\n",
    "    database_=DATABASE,\n",
    "    routing_=RoutingControl.READ,\n",
    "    result_transformer_= lambda r: r.to_df()\n",
    ")"
   ]
  },
  {
   "cell_type": "markdown",
   "metadata": {},
   "source": [
    "## Create RAG-application"
   ]
  },
  {
   "cell_type": "markdown",
   "metadata": {},
   "source": [
    "For the the chatbot we both need an Embedding-model and LLM. Create both below:"
   ]
  },
  {
   "cell_type": "code",
   "execution_count": 6,
   "metadata": {},
   "outputs": [],
   "source": [
    "embedding_model = OpenAIEmbeddings(\n",
    "    model=EMBEDDINGS_MODEL,\n",
    "    openai_api_key=OPENAI_API_KEY\n",
    ")"
   ]
  },
  {
   "cell_type": "code",
   "execution_count": 7,
   "metadata": {},
   "outputs": [
    {
     "data": {
      "text/plain": [
       "'text-embedding-ada-002'"
      ]
     },
     "execution_count": 7,
     "metadata": {},
     "output_type": "execute_result"
    }
   ],
   "source": [
    "embedding_model.model"
   ]
  },
  {
   "cell_type": "code",
   "execution_count": 8,
   "metadata": {},
   "outputs": [
    {
     "data": {
      "text/plain": [
       "'gpt-4o'"
      ]
     },
     "execution_count": 8,
     "metadata": {},
     "output_type": "execute_result"
    }
   ],
   "source": [
    "llm = ChatOpenAI(temperature=0, model=LLM)\n",
    "llm.model_name"
   ]
  },
  {
   "cell_type": "markdown",
   "metadata": {},
   "source": [
    "### Retrieval Queries"
   ]
  },
  {
   "cell_type": "markdown",
   "metadata": {},
   "source": [
    "To illustrate the difference between a \"Regular\" Vector Search and GraphRAG we create different retrieval queries."
   ]
  },
  {
   "cell_type": "code",
   "execution_count": 9,
   "metadata": {},
   "outputs": [],
   "source": [
    "def get_context_vector_search(search_prompt):\n",
    "    query_vector = embedding_model.embed_query(search_prompt)\n",
    "    \n",
    "    similarity_query = \"\"\" \n",
    "        CALL db.index.vector.queryNodes(\"chunk-embeddings\", 5, $query_vector) YIELD node, score\n",
    "        WITH node as chunk, score ORDER BY score DESC\n",
    "        MATCH (d:Document)<-[:PART_OF]-(chunk)\n",
    "        RETURN score, d.file_name as file_name, chunk.page as page, chunk.chunk AS chunk\n",
    "       \"\"\"\n",
    "    results = driver.execute_query(\n",
    "        similarity_query,\n",
    "        database_=DATABASE,\n",
    "        routing_=RoutingControl.READ,\n",
    "        query_vector=query_vector,\n",
    "        result_transformer_= lambda r: r.to_df()\n",
    "    )\n",
    "    print(results)\n",
    "#    context = \"Related documents: \\n\\n\" + \"\\n\\n\".join([\"file_name: \" + record['file_name'] + \"\\n\" + \"page: \" + str(record['page'] + 1) + \"\\n\" + \"text: \" + record['chunk'] + \"\\n\" for record in results.records])\n",
    "    return results"
   ]
  },
  {
   "cell_type": "code",
   "execution_count": 10,
   "metadata": {},
   "outputs": [],
   "source": [
    "# def get_context_graphrag(search_prompt):\n",
    "    \n",
    "#     return context, definitions"
   ]
  },
  {
   "cell_type": "markdown",
   "metadata": {},
   "source": [
    "Function to retrieve the client name from a client id"
   ]
  },
  {
   "cell_type": "markdown",
   "metadata": {},
   "source": [
    "### Prompts "
   ]
  },
  {
   "cell_type": "markdown",
   "metadata": {},
   "source": [
    "Prompt for vector search (without definitions)"
   ]
  },
  {
   "cell_type": "code",
   "execution_count": 17,
   "metadata": {},
   "outputs": [],
   "source": [
    "def generate_prompt_vector_search(search_prompt, context):\n",
    "    prompt_template = \"\"\"\n",
    "\n",
    "    You are a chatbot on Rabobank product. Your goal is to help people with questions on product policies.  \n",
    "    A user will come to you with questions on their policy. Their questions must be answered based on the relevant documents of the policy.\n",
    "    \n",
    "    The question is the following: \n",
    "    {search_prompt}\n",
    "    Always respond in the language in which the question was asked. So, do not respond in a different language.\n",
    "    \n",
    "    The context is the following: \n",
    "    {context}\n",
    "\n",
    "    Please end your message with listing your sources with file name and page number. \n",
    "    \"\"\"\n",
    "    prompt = PromptTemplate.from_template(prompt_template)\n",
    "    \n",
    "    theprompt = prompt.format_prompt(search_prompt=search_prompt, context=context)\n",
    "    return theprompt"
   ]
  },
  {
   "cell_type": "markdown",
   "metadata": {},
   "source": [
    "Prompt for GraphRAG"
   ]
  },
  {
   "cell_type": "markdown",
   "metadata": {},
   "source": [
    "## Some examples to test the models"
   ]
  },
  {
   "cell_type": "markdown",
   "metadata": {},
   "source": [
    "For every example there can be chosen between GraphRAG and vector search. "
   ]
  },
  {
   "cell_type": "code",
   "execution_count": 18,
   "metadata": {},
   "outputs": [
    {
     "name": "stdout",
     "output_type": "stream",
     "text": [
      "      score                                        file_name  page  \\\n",
      "0  0.920654  Payment and Online Services Terms Sept 2022.pdf    51   \n",
      "1  0.916840  Payment and Online Services Terms Sept 2022.pdf    30   \n",
      "2  0.914246                      Rabo SpaarRekening 2020.pdf     3   \n",
      "3  0.911942  Payment and Online Services Terms Sept 2022.pdf    30   \n",
      "4  0.910614  Payment and Online Services Terms Sept 2022.pdf    24   \n",
      "\n",
      "                                               chunk  \n",
      "0  verbonden? Bijvoorbeeld voor een postzegel? Da...  \n",
      "1  Hoofdstuk 4 Online diensten31 Voorwaarden beta...  \n",
      "2  Als u via de Rabofoon of de Rabo Bankieren App...  \n",
      "3  3. Als u Rabofoon bij ons aanvraagt, dan krijg...  \n",
      "4  2. U mag de Rabo Scanner en Random Reader alle...  \n",
      "==================================\u001b[1m Ai Message \u001b[0m==================================\n",
      "\n",
      "De Rabofoon is een telefonische dienst van Rabobank waarmee klanten hun bankzaken kunnen regelen via de telefoon. Het biedt de mogelijkheid om bijvoorbeeld saldo-informatie op te vragen, overboekingen te doen en andere bankzaken te beheren zonder dat je naar een fysieke banklocatie hoeft te gaan of online in te loggen.\n",
      "\n",
      "Bronnen:\n",
      "- Rabo SpaarRekening 2020.pdf, pagina 3\n",
      "- Payment and Online Services Terms Sept 2022.pdf, pagina 30\n"
     ]
    }
   ],
   "source": [
    "search_prompt = 'Wat wordt bedoelt met de Rabofoon?'\n",
    "\n",
    "context = get_context_vector_search(search_prompt)\n",
    "theprompt = generate_prompt_vector_search(search_prompt, context)\n",
    "llm(theprompt.to_messages()).pretty_print()"
   ]
  },
  {
   "cell_type": "code",
   "execution_count": 19,
   "metadata": {},
   "outputs": [
    {
     "name": "stdout",
     "output_type": "stream",
     "text": [
      "      score                                        file_name  page  \\\n",
      "0  0.893509                      Rabo SpaarRekening 2020.pdf    12   \n",
      "1  0.892441  Payment and Online Services Terms Sept 2022.pdf    12   \n",
      "2  0.889313  Payment and Online Services Terms Sept 2022.pdf    12   \n",
      "3  0.885864  Payment and Online Services Terms Sept 2022.pdf    13   \n",
      "4  0.884811  Payment and Online Services Terms Sept 2022.pdf    73   \n",
      "\n",
      "                                               chunk  \n",
      "0  Pagina 13/14\\nAlgemene voorwaarden Rabo SpaarR...  \n",
      "1  bepaling ongeldig. In plaats van die bepaling ...  \n",
      "2  2. Contractsoverneming\\n   Wij kunnen onze ond...  \n",
      "3  3. Overdracht\\n   Wij kunnen de vorderingen op...  \n",
      "4                                       Woordenlijst  \n",
      "==================================\u001b[1m Ai Message \u001b[0m==================================\n",
      "\n",
      "Fuseren is een term die vaak wordt gebruikt in de context van bedrijfsfusies, waarbij twee of meer bedrijven samenkomen om één entiteit te vormen. In de context van bankproducten kan het verwijzen naar het samenvoegen van rekeningen of diensten. Helaas biedt de gegeven context geen specifieke definitie van \"fuseren\" binnen de Rabobank-producten. Voor een nauwkeurige uitleg raad ik aan om de specifieke voorwaarden van uw product te raadplegen of contact op te nemen met de klantenservice van Rabobank.\n",
      "\n",
      "Bronnen:\n",
      "- Rabo SpaarRekening 2020.pdf, pagina 12\n",
      "- Payment and Online Services Terms Sept 2022.pdf, pagina 12, 13, 73\n"
     ]
    }
   ],
   "source": [
    "search_prompt = 'Wat is fuseren?'\n",
    "\n",
    "context = get_context_vector_search(search_prompt)\n",
    "theprompt = generate_prompt_vector_search(search_prompt, context)\n",
    "llm(theprompt.to_messages()).pretty_print()"
   ]
  },
  {
   "cell_type": "code",
   "execution_count": 20,
   "metadata": {},
   "outputs": [
    {
     "name": "stdout",
     "output_type": "stream",
     "text": [
      "      score                                        file_name  page  \\\n",
      "0  0.928192  Payment and Online Services Terms Sept 2022.pdf    19   \n",
      "1  0.925293  Payment and Online Services Terms Sept 2022.pdf    61   \n",
      "2  0.915268  Payment and Online Services Terms Sept 2022.pdf    21   \n",
      "3  0.914307  Payment and Online Services Terms Sept 2022.pdf    19   \n",
      "4  0.911911  Payment and Online Services Terms Sept 2022.pdf    34   \n",
      "\n",
      "                                               chunk  \n",
      "0  dit niet tot korting op het tarief. \\n \\n4. Wi...  \n",
      "1  ongeoorloofd roodstaan.  \\nHet bedrag van de o...  \n",
      "2  3. Als u rood staat op de rekening, is iedere ...  \n",
      "3  3. Als wij dat vragen, geeft u ons een incasso...  \n",
      "4  Hoofdstuk 5 Betaalopdrachten35 Voorwaarden bet...  \n",
      "==================================\u001b[1m Ai Message \u001b[0m==================================\n",
      "\n",
      "Ja, je mag rood staan op je rekening, maar er zijn voorwaarden aan verbonden. Als je rood staat, is iedere dag dat je rood staat een ongeoorloofd roodstaan. Het bedrag van de ongeoorloofde roodstand moet zo snel mogelijk worden aangezuiverd. \n",
      "\n",
      "Bronnen:\n",
      "- Payment and Online Services Terms Sept 2022.pdf, pagina 61\n",
      "- Payment and Online Services Terms Sept 2022.pdf, pagina 21\n"
     ]
    }
   ],
   "source": [
    "search_prompt = 'Mag ik rood staan op mijn rekening?'\n",
    "\n",
    "context = get_context_vector_search(search_prompt)\n",
    "theprompt = generate_prompt_vector_search(search_prompt, context)\n",
    "llm(theprompt.to_messages()).pretty_print()"
   ]
  },
  {
   "cell_type": "code",
   "execution_count": 15,
   "metadata": {},
   "outputs": [
    {
     "data": {
      "text/html": [
       "<div>\n",
       "<style scoped>\n",
       "    .dataframe tbody tr th:only-of-type {\n",
       "        vertical-align: middle;\n",
       "    }\n",
       "\n",
       "    .dataframe tbody tr th {\n",
       "        vertical-align: top;\n",
       "    }\n",
       "\n",
       "    .dataframe thead th {\n",
       "        text-align: right;\n",
       "    }\n",
       "</style>\n",
       "<table border=\"1\" class=\"dataframe\">\n",
       "  <thead>\n",
       "    <tr style=\"text-align: right;\">\n",
       "      <th></th>\n",
       "      <th>score</th>\n",
       "      <th>file_name</th>\n",
       "      <th>page</th>\n",
       "      <th>chunk</th>\n",
       "    </tr>\n",
       "  </thead>\n",
       "  <tbody>\n",
       "    <tr>\n",
       "      <th>0</th>\n",
       "      <td>0.928192</td>\n",
       "      <td>Payment and Online Services Terms Sept 2022.pdf</td>\n",
       "      <td>19</td>\n",
       "      <td>dit niet tot korting op het tarief. \\n \\n4. Wi...</td>\n",
       "    </tr>\n",
       "    <tr>\n",
       "      <th>1</th>\n",
       "      <td>0.925293</td>\n",
       "      <td>Payment and Online Services Terms Sept 2022.pdf</td>\n",
       "      <td>61</td>\n",
       "      <td>ongeoorloofd roodstaan.  \\nHet bedrag van de o...</td>\n",
       "    </tr>\n",
       "    <tr>\n",
       "      <th>2</th>\n",
       "      <td>0.915268</td>\n",
       "      <td>Payment and Online Services Terms Sept 2022.pdf</td>\n",
       "      <td>21</td>\n",
       "      <td>3. Als u rood staat op de rekening, is iedere ...</td>\n",
       "    </tr>\n",
       "    <tr>\n",
       "      <th>3</th>\n",
       "      <td>0.914307</td>\n",
       "      <td>Payment and Online Services Terms Sept 2022.pdf</td>\n",
       "      <td>19</td>\n",
       "      <td>3. Als wij dat vragen, geeft u ons een incasso...</td>\n",
       "    </tr>\n",
       "    <tr>\n",
       "      <th>4</th>\n",
       "      <td>0.911911</td>\n",
       "      <td>Payment and Online Services Terms Sept 2022.pdf</td>\n",
       "      <td>34</td>\n",
       "      <td>Hoofdstuk 5 Betaalopdrachten35 Voorwaarden bet...</td>\n",
       "    </tr>\n",
       "  </tbody>\n",
       "</table>\n",
       "</div>"
      ],
      "text/plain": [
       "      score                                        file_name  page  \\\n",
       "0  0.928192  Payment and Online Services Terms Sept 2022.pdf    19   \n",
       "1  0.925293  Payment and Online Services Terms Sept 2022.pdf    61   \n",
       "2  0.915268  Payment and Online Services Terms Sept 2022.pdf    21   \n",
       "3  0.914307  Payment and Online Services Terms Sept 2022.pdf    19   \n",
       "4  0.911911  Payment and Online Services Terms Sept 2022.pdf    34   \n",
       "\n",
       "                                               chunk  \n",
       "0  dit niet tot korting op het tarief. \\n \\n4. Wi...  \n",
       "1  ongeoorloofd roodstaan.  \\nHet bedrag van de o...  \n",
       "2  3. Als u rood staat op de rekening, is iedere ...  \n",
       "3  3. Als wij dat vragen, geeft u ons een incasso...  \n",
       "4  Hoofdstuk 5 Betaalopdrachten35 Voorwaarden bet...  "
      ]
     },
     "execution_count": 15,
     "metadata": {},
     "output_type": "execute_result"
    }
   ],
   "source": [
    "context"
   ]
  },
  {
   "cell_type": "markdown",
   "metadata": {},
   "source": [
    "## Gradio Chatbot that uses RAG and GraphRAG"
   ]
  },
  {
   "cell_type": "markdown",
   "metadata": {},
   "source": [
    "Example code is coming from Gradio documentation: [Creating a custom chatbot with blocks](https://www.gradio.app/guides/creating-a-custom-chatbot-with-blocks#add-streaming-to-your-chatbot)"
   ]
  },
  {
   "cell_type": "code",
   "execution_count": 16,
   "metadata": {},
   "outputs": [
    {
     "name": "stdout",
     "output_type": "stream",
     "text": [
      "* Running on local URL:  http://127.0.0.1:7860\n",
      "\n",
      "To create a public link, set `share=True` in `launch()`.\n"
     ]
    },
    {
     "data": {
      "text/html": [
       "<div><iframe src=\"http://127.0.0.1:7860/\" width=\"100%\" height=\"500\" allow=\"autoplay; camera; microphone; clipboard-read; clipboard-write;\" frameborder=\"0\" allowfullscreen></iframe></div>"
      ],
      "text/plain": [
       "<IPython.core.display.HTML object>"
      ]
     },
     "metadata": {},
     "output_type": "display_data"
    },
    {
     "data": {
      "text/plain": []
     },
     "execution_count": 16,
     "metadata": {},
     "output_type": "execute_result"
    }
   ],
   "source": [
    "def user(user_message, history):\n",
    "    return \"\", history + [[user_message, None]]\n",
    "\n",
    "def get_answer(search_prompt, rag_method):\n",
    "    if rag_method == \"Vector-Search\":\n",
    "        context = get_context_vector_search(search_prompt)\n",
    "        theprompt = generate_prompt_vector_search(search_prompt, context)\n",
    "    else: \n",
    "    # rag_method == \"GraphRAG\"\n",
    "        context, definitions = get_context_graphrag(search_prompt)\n",
    "        theprompt = generate_prompt_graphrag(search_prompt, context, definitions)\n",
    "    messages = llm(theprompt.to_messages())\n",
    "    return messages.content\n",
    "\n",
    "def bot(history, rag_method):\n",
    "    bot_message = get_answer(history[-1][0], rag_method)\n",
    "    history[-1][1] = \"\"\n",
    "    for character in bot_message:\n",
    "        history[-1][1] += character\n",
    "        time.sleep(0.01)\n",
    "        yield history\n",
    "\n",
    "with gr.Blocks() as demo:\n",
    "    chatbot = gr.Chatbot(\n",
    "        label=\"Chatbot with RAG\", \n",
    "        avatar_images=[\"https://png.pngtree.com/png-vector/20220525/ourmid/pngtree-concept-of-facial-animal-avatar-chatbot-dog-chat-machine-illustration-vector-png-image_46652864.jpg\",\"https://d-cb.jc-cdn.com/sites/crackberry.com/files/styles/larger/public/article_images/2023/08/openai-logo.jpg\"]\n",
    "    )\n",
    "    msg = gr.Textbox(label=\"Message\")\n",
    "    rag_method = gr.Radio([\"Vector-Search\", \"GraphRAG\"], label=\"RAG-method:\")\n",
    "    clear = gr.Button(\"Clear\")\n",
    "\n",
    "\n",
    "    msg.submit(user, [msg, chatbot], [msg, chatbot], queue=False).then(\n",
    "        bot, [chatbot, rag_method], chatbot\n",
    "    )\n",
    "    \n",
    "    clear.click(lambda: None, None, chatbot, queue=False)\n",
    "\n",
    "    \n",
    "demo.queue()\n",
    "demo.launch(share=False)"
   ]
  },
  {
   "cell_type": "markdown",
   "metadata": {},
   "source": [
    "If you want to have the light-mode for the chatbot paste the following after the URL: /?__theme=light"
   ]
  }
 ],
 "metadata": {
  "createdOn": 1712323594898,
  "creator": "admin",
  "customFields": {},
  "hide_input": false,
  "kernelspec": {
   "display_name": "Python 3 (ipykernel)",
   "language": "python",
   "name": "python3"
  },
  "language_info": {
   "codemirror_mode": {
    "name": "ipython",
    "version": 3
   },
   "file_extension": ".py",
   "mimetype": "text/x-python",
   "name": "python",
   "nbconvert_exporter": "python",
   "pygments_lexer": "ipython3",
   "version": "3.11.5"
  },
  "modifiedBy": "admin",
  "tags": [],
  "versionNumber": 3
 },
 "nbformat": 4,
 "nbformat_minor": 4
}
