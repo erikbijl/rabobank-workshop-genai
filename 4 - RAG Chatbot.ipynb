{
 "cells": [
  {
   "cell_type": "markdown",
   "metadata": {},
   "source": [
    "# RAG-Chatbot "
   ]
  },
  {
   "cell_type": "code",
   "execution_count": 42,
   "metadata": {},
   "outputs": [],
   "source": [
    "import pandas as pd\n",
    "import os\n",
    "from langchain_openai import OpenAIEmbeddings\n",
    "from langchain.chat_models import ChatOpenAI\n",
    "from langchain.prompts import PromptTemplate\n",
    "from neo4j import Query, GraphDatabase, RoutingControl, Result\n",
    "from dotenv import load_dotenv\n",
    "import gradio as gr\n",
    "import time\n",
    "from IPython.display import display, HTML\n",
    "import warnings\n",
    "from json import loads, dumps\n",
    "warnings.filterwarnings('ignore')"
   ]
  },
  {
   "cell_type": "markdown",
   "metadata": {},
   "source": [
    "## Get Credentials"
   ]
  },
  {
   "cell_type": "code",
   "execution_count": 6,
   "metadata": {},
   "outputs": [],
   "source": [
    "env_file = 'credentials.env'"
   ]
  },
  {
   "cell_type": "code",
   "execution_count": 7,
   "metadata": {},
   "outputs": [],
   "source": [
    "if os.path.exists(env_file):\n",
    "    load_dotenv(env_file, override=True)\n",
    "\n",
    "    # Neo4j\n",
    "    HOST = os.getenv('NEO4J_URI')\n",
    "    USERNAME = os.getenv('NEO4J_USERNAME')\n",
    "    PASSWORD = os.getenv('NEO4J_PASSWORD')\n",
    "    DATABASE = os.getenv('NEO4J_DATABASE')\n",
    "\n",
    "    # AI\n",
    "    OPENAI_API_KEY = os.getenv('OPENAI_API_KEY')\n",
    "    os.environ['OPENAI_API_KEY']=OPENAI_API_KEY\n",
    "    LLM = os.getenv('LLM')\n",
    "    EMBEDDINGS_MODEL = os.getenv('EMBEDDINGS_MODEL')\n",
    "else:\n",
    "    print(f\"File {env_file} not found.\")"
   ]
  },
  {
   "cell_type": "markdown",
   "metadata": {},
   "source": [
    "## Setup Connection to Database"
   ]
  },
  {
   "cell_type": "markdown",
   "metadata": {},
   "source": [
    "Setup connection to the database with the Python Driver"
   ]
  },
  {
   "cell_type": "code",
   "execution_count": 8,
   "metadata": {},
   "outputs": [],
   "source": [
    "driver = GraphDatabase.driver(\n",
    "    HOST,\n",
    "    auth=(USERNAME, PASSWORD)\n",
    ")"
   ]
  },
  {
   "cell_type": "code",
   "execution_count": 9,
   "metadata": {},
   "outputs": [
    {
     "data": {
      "text/html": [
       "<div>\n",
       "<style scoped>\n",
       "    .dataframe tbody tr th:only-of-type {\n",
       "        vertical-align: middle;\n",
       "    }\n",
       "\n",
       "    .dataframe tbody tr th {\n",
       "        vertical-align: top;\n",
       "    }\n",
       "\n",
       "    .dataframe thead th {\n",
       "        text-align: right;\n",
       "    }\n",
       "</style>\n",
       "<table border=\"1\" class=\"dataframe\">\n",
       "  <thead>\n",
       "    <tr style=\"text-align: right;\">\n",
       "      <th></th>\n",
       "      <th>Count</th>\n",
       "    </tr>\n",
       "  </thead>\n",
       "  <tbody>\n",
       "    <tr>\n",
       "      <th>0</th>\n",
       "      <td>902</td>\n",
       "    </tr>\n",
       "  </tbody>\n",
       "</table>\n",
       "</div>"
      ],
      "text/plain": [
       "   Count\n",
       "0    902"
      ]
     },
     "execution_count": 9,
     "metadata": {},
     "output_type": "execute_result"
    }
   ],
   "source": [
    "driver.execute_query(\n",
    "    \"\"\"\n",
    "    MATCH (n) RETURN COUNT(n) as Count\n",
    "    \"\"\",\n",
    "    database_=DATABASE,\n",
    "    routing_=RoutingControl.READ,\n",
    "    result_transformer_= lambda r: r.to_df()\n",
    ")"
   ]
  },
  {
   "cell_type": "markdown",
   "metadata": {},
   "source": [
    "## Create RAG-application"
   ]
  },
  {
   "cell_type": "markdown",
   "metadata": {},
   "source": [
    "For the the chatbot we both need an Embedding-model and LLM. Create both below:"
   ]
  },
  {
   "cell_type": "code",
   "execution_count": 10,
   "metadata": {},
   "outputs": [],
   "source": [
    "embedding_model = OpenAIEmbeddings(\n",
    "    model=EMBEDDINGS_MODEL,\n",
    "    openai_api_key=OPENAI_API_KEY\n",
    ")"
   ]
  },
  {
   "cell_type": "code",
   "execution_count": 11,
   "metadata": {},
   "outputs": [
    {
     "data": {
      "text/plain": [
       "'text-embedding-ada-002'"
      ]
     },
     "execution_count": 11,
     "metadata": {},
     "output_type": "execute_result"
    }
   ],
   "source": [
    "embedding_model.model"
   ]
  },
  {
   "cell_type": "code",
   "execution_count": 12,
   "metadata": {},
   "outputs": [
    {
     "data": {
      "text/plain": [
       "'gpt-4o'"
      ]
     },
     "execution_count": 12,
     "metadata": {},
     "output_type": "execute_result"
    }
   ],
   "source": [
    "llm = ChatOpenAI(temperature=0, model=LLM)\n",
    "llm.model_name"
   ]
  },
  {
   "cell_type": "markdown",
   "metadata": {},
   "source": [
    "### Retrieval Queries"
   ]
  },
  {
   "cell_type": "markdown",
   "metadata": {},
   "source": [
    "To illustrate the difference between a \"Regular\" Vector Search and GraphRAG we create different retrieval queries."
   ]
  },
  {
   "cell_type": "code",
   "execution_count": 85,
   "metadata": {},
   "outputs": [],
   "source": [
    "def get_context_vector_search(search_prompt):\n",
    "    query_vector = embedding_model.embed_query(search_prompt)\n",
    "    \n",
    "    similarity_query = \"\"\" \n",
    "        CALL db.index.vector.queryNodes(\"chunk-embeddings\", 5, $query_vector) YIELD node, score\n",
    "        WITH node as chunk, score ORDER BY score DESC\n",
    "        MATCH (d:Document)<-[:PART_OF]-(chunk)\n",
    "        RETURN score, d.file_name as file_name, chunk.id as chunk_id, chunk.page as page, chunk.chunk AS chunk\n",
    "       \"\"\"\n",
    "    results = driver.execute_query(\n",
    "        similarity_query,\n",
    "        database_=DATABASE,\n",
    "        routing_=RoutingControl.READ,\n",
    "        query_vector=query_vector,\n",
    "        result_transformer_= lambda r: r.to_df()\n",
    "    )\n",
    "    \n",
    "    results = results.to_json(orient=\"records\")\n",
    "    parsed = loads(results)\n",
    "    context = dumps(parsed, indent=4)\n",
    "\n",
    "    return context"
   ]
  },
  {
   "cell_type": "code",
   "execution_count": 80,
   "metadata": {},
   "outputs": [],
   "source": [
    "def get_context_graphrag(search_prompt):\n",
    "\n",
    "    query_vector = embedding_model.embed_query(search_prompt)\n",
    "    \n",
    "    similarity_query = \"\"\" \n",
    "        CALL db.index.vector.queryNodes(\"chunk-embeddings\", 5, $query_vector) YIELD node, score\n",
    "        WITH node as chunk, score ORDER BY score DESC\n",
    "        MATCH (d:Document)<-[:PART_OF]-(chunk)\n",
    "        RETURN score, d.file_name as file_name, chunk.id as chunk_id, chunk.page as page, chunk.chunk AS chunk\n",
    "       \"\"\"\n",
    "    results = driver.execute_query(\n",
    "        similarity_query,\n",
    "        database_=DATABASE,\n",
    "        routing_=RoutingControl.READ,\n",
    "        query_vector=query_vector,\n",
    "        result_transformer_= lambda r: r.to_df()\n",
    "    )\n",
    "\n",
    "    chunk_ids = list(set(results['chunk_id'].to_list()))\n",
    "\n",
    "    results = results.to_json(orient=\"records\")\n",
    "    parsed = loads(results)\n",
    "    context = dumps(parsed, indent=4)\n",
    "\n",
    "    definition_query = \"\"\"    \n",
    "        MATCH (c:Chunk)-[:MENTIONS]->(d:Definition)\n",
    "        WHERE c.id in $chunk_ids\n",
    "        RETURN DISTINCT d.term as term, d.description as description\n",
    "    \"\"\"\n",
    "    results = driver.execute_query(\n",
    "        definition_query,\n",
    "        database_=DATABASE,\n",
    "        routing_=RoutingControl.READ,\n",
    "        chunk_ids=chunk_ids,\n",
    "        result_transformer_= lambda r: r.to_df()\n",
    "    )\n",
    "    results = results.to_json(orient=\"records\")\n",
    "    parsed = loads(results)\n",
    "    definitions = dumps(parsed, indent=4)\n",
    "    return context, definitions"
   ]
  },
  {
   "cell_type": "markdown",
   "metadata": {},
   "source": [
    "Function to retrieve the client name from a client id"
   ]
  },
  {
   "cell_type": "markdown",
   "metadata": {},
   "source": [
    "### Prompts "
   ]
  },
  {
   "cell_type": "markdown",
   "metadata": {},
   "source": [
    "Prompt for vector search (without definitions)"
   ]
  },
  {
   "cell_type": "code",
   "execution_count": 81,
   "metadata": {},
   "outputs": [],
   "source": [
    "def generate_prompt_vector_search(search_prompt, context):\n",
    "    prompt_template = \"\"\"\n",
    "\n",
    "    You are a chatbot on Rabobank product. Your goal is to help people with questions on product policies.  \n",
    "    A user will come to you with questions on their policy. Their questions must be answered based on the relevant documents of the policy.\n",
    "    \n",
    "    The question is the following: \n",
    "    {search_prompt}\n",
    "    Always respond in the language in which the question was asked. So, do not respond in a different language.\n",
    "    \n",
    "    The context is the following: \n",
    "    {context}\n",
    "\n",
    "    Please end your message with listing your sources with file name and page number. \n",
    "    \"\"\"\n",
    "    prompt = PromptTemplate.from_template(prompt_template)\n",
    "    \n",
    "    theprompt = prompt.format_prompt(search_prompt=search_prompt, context=context)\n",
    "    return theprompt"
   ]
  },
  {
   "cell_type": "code",
   "execution_count": 82,
   "metadata": {},
   "outputs": [],
   "source": [
    "def generate_prompt_graphrag(search_prompt, context, definitions):\n",
    "    prompt_template = \"\"\"\n",
    "\n",
    "    You are a chatbot on Rabobank product. Your goal is to help people with questions on product policies.  \n",
    "    A user will come to you with questions on their policy. Their questions must be answered based on the relevant documents of the policy.\n",
    "    \n",
    "    The question is the following: \n",
    "    {search_prompt}\n",
    "    Always respond in the language in which the question was asked. So, do not respond in a different language.\n",
    "    \n",
    "    The context is the following: \n",
    "    {context}\n",
    "\n",
    "    The definitions are the following: \n",
    "    {definitions}\n",
    "    \n",
    "    Please end your message with listing your sources with file name and page number. \n",
    "    \"\"\"\n",
    "    prompt = PromptTemplate.from_template(prompt_template)\n",
    "    \n",
    "    theprompt = prompt.format_prompt(search_prompt=search_prompt, context=context, definitions=definitions)\n",
    "    return theprompt"
   ]
  },
  {
   "cell_type": "markdown",
   "metadata": {},
   "source": [
    "Prompt for GraphRAG"
   ]
  },
  {
   "cell_type": "markdown",
   "metadata": {},
   "source": [
    "## Some examples to test the models"
   ]
  },
  {
   "cell_type": "markdown",
   "metadata": {},
   "source": [
    "For every example there can be chosen between GraphRAG and vector search. "
   ]
  },
  {
   "cell_type": "code",
   "execution_count": 86,
   "metadata": {},
   "outputs": [
    {
     "name": "stdout",
     "output_type": "stream",
     "text": [
      "==================================\u001b[1m Ai Message \u001b[0m==================================\n",
      "\n",
      "De Rabofoon is een dienst van Rabobank waarmee u betaalopdrachten kunt geven via een vaste of mobiele telefoon. U kunt de Rabofoon gebruiken als deze voor u is geactiveerd. Met de toetsen van de telefoon geeft u de betaalopdracht en vervolgens geeft u toestemming volgens de aanwijzingen van de Rabofoon. Zodra de bevestigingstoets is ingetoetst, is de betaalopdracht ontvangen en kan deze niet meer worden ingetrokken. Voor overboekingen via de Rabofoon moet het IBAN als unieke identificator worden gebruikt. Daarnaast is het gebruik van de Rabofoon gratis, maar er kunnen wel kosten in rekening worden gebracht voor de telefoonverbinding.\n",
      "\n",
      "Bronnen:\n",
      "- Payment and Online Services Terms Sept 2022.pdf, pagina 51\n",
      "- Payment and Online Services Terms Sept 2022.pdf, pagina 30\n",
      "- Rabo SpaarRekening 2020.pdf, pagina 3\n"
     ]
    }
   ],
   "source": [
    "search_prompt = 'Wat wordt bedoelt met de Rabofoon?'\n",
    "\n",
    "context = get_context_vector_search(search_prompt)\n",
    "theprompt = generate_prompt_vector_search(search_prompt, context)\n",
    "llm(theprompt.to_messages()).pretty_print()"
   ]
  },
  {
   "cell_type": "code",
   "execution_count": 87,
   "metadata": {},
   "outputs": [
    {
     "name": "stdout",
     "output_type": "stream",
     "text": [
      "==================================\u001b[1m Ai Message \u001b[0m==================================\n",
      "\n",
      "De Rabofoon is een dienst van Rabobank waarmee u betaalopdrachten kunt geven via de telefoon. U gebruikt de toetsen van de telefoon om de opdracht in te voeren en volgt de aanwijzingen van de Rabofoon om de opdracht te bevestigen. Zodra de systemen van Rabobank vastleggen dat u de bevestigingstoets heeft ingetoetst, wordt de betaalopdracht ontvangen en kan deze niet meer worden ingetrokken. Voor overboekingen met de Rabofoon moet het IBAN als unieke identificator worden gebruikt. \n",
      "\n",
      "Bronnen:\n",
      "- \"Payment and Online Services Terms Sept 2022.pdf\", pagina 51\n",
      "- \"Payment and Online Services Terms Sept 2022.pdf\", pagina 30\n"
     ]
    }
   ],
   "source": [
    "search_prompt = 'Wat wordt bedoelt met de Rabofoon?'\n",
    "\n",
    "context, definitions = get_context_graphrag(search_prompt)\n",
    "theprompt = generate_prompt_graphrag(search_prompt, context, definitions)\n",
    "llm(theprompt.to_messages()).pretty_print()"
   ]
  },
  {
   "cell_type": "code",
   "execution_count": 52,
   "metadata": {},
   "outputs": [
    {
     "name": "stdout",
     "output_type": "stream",
     "text": [
      "[\n",
      "    {\n",
      "        \"score\": 0.8935089111,\n",
      "        \"file_name\": \"Rabo SpaarRekening 2020.pdf\",\n",
      "        \"chunk_id\": 37,\n",
      "        \"page\": 12,\n",
      "        \"chunk\": \"Pagina 13/14\\nAlgemene voorwaarden Rabo SpaarRekening 2020  November 2023\\n24. Fusie, splitsing, contractsoverneming of overdracht\\n 1 Fusie en splitsing\\n   Wij kunnen samengaan met een andere rechtspersoon. Dat heet fuseren. Wij kunnen ook in onderdelen \\nworden opgesplitst. Dat heet splitsen. Fuseren of splitsen wij? Dan kunnen onze rechtsopvolgers zelfstandig \\nen ieder voor het geheel:\\n \\u2022 alle rechten en bevoegdheden tegenover u uitoefenen\\n \\u2022 al onze verplichtingen tegenover u nakomen.\\n 2 Contractsoverneming\\n   Wij mogen de rechtsverhouding met u en de rechten, plichten en nevenrechten die daarbij horen overdragen \\naan een ander. Dat kan helemaal of voor een deel. Dat heet contractsoverneming. U geeft ons daarvoor nu al \\ntoestemming door het sluiten van de overeenkomst.\\n 3 Overdracht\\n   Wij mogen de vorderingen op u, de rechten uit de overeenkomst en de nevenrechten die daarbij horen, aan\"\n",
      "    },\n",
      "    {\n",
      "        \"score\": 0.8924407959,\n",
      "        \"file_name\": \"Payment and Online Services Terms Sept 2022.pdf\",\n",
      "        \"chunk_id\": 93,\n",
      "        \"page\": 12,\n",
      "        \"chunk\": \"bepaling ongeldig. In plaats van die bepaling kan dan een bepaling gelden die zoveel \\nmogelijk daarop lijkt en wel geldig is. De overige bepalingen in deze voorwaarden \\nblijven gewoon geldig.\\n36. Niet overdragen of verpanden\\n  U kunt de rechten uit de overeenkomst alleen aan ons overdragen of verpanden. Niet \\naan een ander. Deze bepaling heeft goederenrechtelijke werking. Dit betekent dat u \\nhier niet van kunt afwijken.\\n37. Fusie, splitsing, contractsoverneming of overdracht\\n1. Fusie en splitsing van Rabobank\\n   Wij kunnen samengaan met een andere rechtspersoon. Dat heet fuseren.  \\nWij kunnen ook in onderdelen worden opgesplitst. Dat heet splitsen.\\n   Fuseren of splitsen wij? Dan kunnen onze rechtsopvolgers zelfstandig en ieder \\nvoor het geheel:\\na alle rechten en bevoegdheden tegenover u uitoefenen\\nb al onze verplichtingen tegenover u nakomen.\\n2. Contractsoverneming\\n   Wij kunnen onze onderneming (deels) overdragen aan een ander. Wij kunnen\"\n",
      "    },\n",
      "    {\n",
      "        \"score\": 0.8893127441,\n",
      "        \"file_name\": \"Payment and Online Services Terms Sept 2022.pdf\",\n",
      "        \"chunk_id\": 94,\n",
      "        \"page\": 12,\n",
      "        \"chunk\": \"2. Contractsoverneming\\n   Wij kunnen onze onderneming (deels) overdragen aan een ander. Wij kunnen \\ndaarbij mee overdragen de rechtsverhouding die wij met u hebben uit een \\novereenkomst met u. U verleent nu alvast uw medewerking hieraan. Deze \\noverdracht van de overeenkomst met u noemen wij ook wel contractsoverneming. \\nUiteraard krijgt u van die contractsoverneming bericht.\\nHoofdstuk 1 Algemeen13 Voorwaarden betalen en online diensten 2022\"\n",
      "    },\n",
      "    {\n",
      "        \"score\": 0.8858642578,\n",
      "        \"file_name\": \"Payment and Online Services Terms Sept 2022.pdf\",\n",
      "        \"chunk_id\": 95,\n",
      "        \"page\": 13,\n",
      "        \"chunk\": \"3. Overdracht\\n   Wij kunnen de vorderingen op u, de rechten uit de overeenkomst en de \\nnevenrechten die daarbij horen, aan een ander overdragen. Wij kunnen deze \\nook verpanden of hiervoor een zogenaamde financi\\u00eblezekerheidsovereenkomst \\nafsluiten. Dat kunnen we voor alle vorderingen en rechten doen en ook voor een \\ndeel daarvan.\\n   Is er sprake van fusie, splitsing, contractsoverneming of overdracht? Dan \\nwordt met \\u2018wij\\u2019 en \\u2018ons\\u2019 in de overeenkomst en deze voorwaarden ook onze \\nrechtsopvolgers bedoeld.\\n38. Onze gegevens en onze toezichthouders\\n1. Wij, de Co\\u00f6peratieve Rabobank U.A., zijn statutair gevestigd te Amsterdam. \\nWij hebben ons hoofdkantoor aan de Croeselaan 18, 3521 CB te Utrecht. In het \\nhandelsregister zijn wij ingeschreven onder nummer 30046259.\\n2. Rabobank is onder meer aanbieder van betaaldiensten en betaal- en \\nspaarrekeningen, kredieten en hypothecaire financieringen. Ook bemiddelen wij \\nin verzekeringen en kredieten.\\n3. Onze toezichthouders zijn:\"\n",
      "    },\n",
      "    {\n",
      "        \"score\": 0.8848114014,\n",
      "        \"file_name\": \"Payment and Online Services Terms Sept 2022.pdf\",\n",
      "        \"chunk_id\": 384,\n",
      "        \"page\": 73,\n",
      "        \"chunk\": \"Woordenlijst\"\n",
      "    }\n",
      "]\n",
      "==================================\u001b[1m Ai Message \u001b[0m==================================\n",
      "\n",
      "Fuseren betekent samengaan met een andere rechtspersoon. Dit houdt in dat Rabobank kan besluiten om te fuseren met een andere organisatie. In het geval van een fusie kunnen de rechtsopvolgers van Rabobank zelfstandig en ieder voor het geheel alle rechten en bevoegdheden tegenover u uitoefenen en al hun verplichtingen tegenover u nakomen.\n",
      "\n",
      "**Bronnen:**\n",
      "- Rabo SpaarRekening 2020.pdf, pagina 12\n",
      "- Payment and Online Services Terms Sept 2022.pdf, pagina 12\n"
     ]
    }
   ],
   "source": [
    "search_prompt = 'Wat is fuseren?'\n",
    "\n",
    "context = get_context_vector_search(search_prompt)\n",
    "theprompt = generate_prompt_vector_search(search_prompt, context)\n",
    "llm(theprompt.to_messages()).pretty_print()"
   ]
  },
  {
   "cell_type": "code",
   "execution_count": 53,
   "metadata": {},
   "outputs": [
    {
     "name": "stdout",
     "output_type": "stream",
     "text": [
      "[\n",
      "    {\n",
      "        \"score\": 0.9281921387,\n",
      "        \"file_name\": \"Payment and Online Services Terms Sept 2022.pdf\",\n",
      "        \"chunk_id\": 116,\n",
      "        \"page\": 19,\n",
      "        \"chunk\": \"dit niet tot korting op het tarief. \\n \\n4. Wilt u niet langer online bankieren? Dan kan dat tot gevolg hebben dat uw \\nbetaalpakket niet meer geschikt is en u een ander pakket moet kiezen. Maakt u \\ngeen keuze? Dan mogen wij uw betaalpakket omzetten.\\n49. Zonder krediet rood staan op de rekening\\n1. Als u geen krediet heeft, kunt u toch rood komen te staan op de rekening. \\nBijvoorbeeld doordat wij de kosten van het betaalpakket afboeken van de \\nrekening. Wij noemen dat ongeoorloofd rood staan. U betaalt hierover een \\nvariabele rente.  \\nWij kunnen deze rente altijd wijzigen.\\n2. Deze variabele rente is opgebouwd uit de volgende componenten: een \\nbasistarief, opslagen in verband met ontwikkelingen op de kapitaalmarkten \\nen kapitaalkosten, eventueel individuele risico-opslagen, doorlopende kosten \\n(bijvoorbeeld administratie- en beheerkosten) en een winstopslag.\\n3. Wij kunnen de hoogte van de verschillende componenten altijd wijzigen.\"\n",
      "    },\n",
      "    {\n",
      "        \"score\": 0.9252929688,\n",
      "        \"file_name\": \"Payment and Online Services Terms Sept 2022.pdf\",\n",
      "        \"chunk_id\": 322,\n",
      "        \"page\": 61,\n",
      "        \"chunk\": \"ongeoorloofd roodstaan.  \\nHet bedrag van de ongeoorloofde roodstand is onmiddellijk opeisbaar. Daarbij is \\ngeen ingebrekestelling of andere formaliteit nodig. Dat betekent dat u het bedrag \\nvan deze ongeoorloofde roodstand meteen aan ons moet terugbetalen, zonder \\ndat wij daar om hoeven te vragen.\\n2. Is het afboeken van de debetrente over het gebruikte krediet de reden dat u meer \\nrood staat dan de kredietlimiet? Dan stellen wij u in gebreke door u te vragen \\nhet bedrag van de afgeboekte debetrente die de ongeoorloofde roodstand heeft \\nveroorzaakt v\\u00f3\\u00f3r een bepaalde datum te betalen. Als u dan nog niet betaalt, \\nbrengen wij u over het bedrag dat u aan ons moet betalen vertragingsrente in \\nrekening. \\n175. Vertragingsrente\\na. Moet u ons een bedrag betalen? En bent u daar te laat mee? Dan stellen wij u \\nin gebreke. U krijgt dan een laatste gelegenheid om v\\u00f3\\u00f3r een bepaalde datum \\nte betalen. Als u dan nog niet betaalt, brengen wij vanaf dat moment over het\"\n",
      "    },\n",
      "    {\n",
      "        \"score\": 0.9152679443,\n",
      "        \"file_name\": \"Payment and Online Services Terms Sept 2022.pdf\",\n",
      "        \"chunk_id\": 128,\n",
      "        \"page\": 21,\n",
      "        \"chunk\": \"3. Als u rood staat op de rekening, is iedere rekeninghouder verplicht het hele \\nbedrag van de schuld aan ons te betalen, als wij daar om vragen. De wet noemt dit \\n\\u2018hoofdelijke aansprakelijkheid\\u2019 .\\n4. Als u ons informeert of mededelingen doet, dan mogen wij er van uit gaan dat u \\ndit mede namens de andere rekeninghouder doet.\\n56. Welke extra regels gelden bij een en/of-rekening?\\n1. U mag de rekening ieder afzonderlijk gebruiken. Dit geldt ook na het overlijden \\nvan \\u00e9\\u00e9n van de rekeninghouders, of als een rechter een rekeninghouder onder \\nbewind of curatele stelt. \\n   Elke rekeninghouder mag ook afzonderlijk andere (rechts)handelingen verrichten, \\ndie betrekking hebben op de rekening, bijvoorbeeld:\\na Het geven van een volmacht.\\nb Het delen van gegevens over u, de rekening, betalingen en de details daarvan \\nen informatie uit het inzicht, zoals de categorie\\u00ebn die u ziet in Rabo Online \\nBankieren. Bijvoorbeeld voor de beoordeling van een kredietaanvraag die de\"\n",
      "    },\n",
      "    {\n",
      "        \"score\": 0.9143066406,\n",
      "        \"file_name\": \"Payment and Online Services Terms Sept 2022.pdf\",\n",
      "        \"chunk_id\": 115,\n",
      "        \"page\": 19,\n",
      "        \"chunk\": \"3. Als wij dat vragen, geeft u ons een incassomachtiging voor bedragen die u aan \\nons moet betalen. Wij laten u dan minimaal zeven werkdagen van tevoren weten \\nwanneer er bedragen afgeschreven worden op basis van die machtiging.\\n47. Hoeveel rekeningen mag u bij ons aanhouden?\\n Wij mogen bepalen hoeveel rekeningen u bij ons mag aanhouden.\\n48. Wat u moet weten over de betaalpakketten van Rabobank\\n1. De meeste rekeningen maken deel uit van een betaalpakket. \\n2. Wij mogen het pakket wijzigen, onderdelen van het pakket wijzigen, onderdelen \\nuit het pakket halen of onderdelen aan het pakket toevoegen. Wij mogen van \\nvaste onderdelen van een pakket keuzeonderdelen maken en andersom. Wij \\ninformeren u vooraf over wijzigingen. Hiervoor geldt hetgeen we met u hebben \\nafgesproken in de artikelen 22 en 23 van deze voorwaarden.\\n3. Als u \\u00e9\\u00e9n of meer verplichte onderdelen van een betaalpakket niet gebruikt, leidt \\ndit niet tot korting op het tarief.\"\n",
      "    },\n",
      "    {\n",
      "        \"score\": 0.9119110107,\n",
      "        \"file_name\": \"Payment and Online Services Terms Sept 2022.pdf\",\n",
      "        \"chunk_id\": 183,\n",
      "        \"page\": 34,\n",
      "        \"chunk\": \"Hoofdstuk 5 Betaalopdrachten35 Voorwaarden betalen en online diensten 2022\\n2. Bij een reservering op uw rekening, wordt de reservering nog niet verwerkt in  \\nuw saldo. U komt dus niet rood te staan op uw rekening door een reservering.  \\nAls de reservering leidt tot een betaling, verandert uw saldo wel en kunt u wel \\nrood komen te staan.\\n3. Een reservering eindigt:\\n \\u2022 als de reservering leidt tot een betaling\\n \\u2022 als de reservering geannuleerd wordt door de beoogde begunstigde\\n \\u2022 na maximaal 30 kalenderdagen.\\n4. Reserveringen worden gebruikt voor verschillende doelen, bijvoorbeeld:\\n \\u2022 als u in het buitenland een bedrag in een andere muntsoort dan euro betaalt \\nof opneemt met een pas\\n \\u2022 als u een borg betaalt bij de huur van een auto of vakantieverblijf\\n \\u2022 als u bij een onbemand tankstation betaalt met een pas \\n \\u2022 als u ervoor kiest om een bestelling in delen geleverd te krijgen, en u afspreekt \\nmet de verkoper dat er per deellevering betaald wordt via de pas.\"\n",
      "    }\n",
      "]\n",
      "==================================\u001b[1m Ai Message \u001b[0m==================================\n",
      "\n",
      "Ja, u mag rood staan op uw rekening, zelfs als u geen krediet heeft. Dit kan bijvoorbeeld gebeuren doordat de kosten van het betaalpakket van uw rekening worden afgeschreven. Dit wordt ongeoorloofd rood staan genoemd, en hierover betaalt u een variabele rente. Het bedrag van de ongeoorloofde roodstand is onmiddellijk opeisbaar, wat betekent dat u het bedrag direct moet terugbetalen zonder dat de bank daar om hoeft te vragen.\n",
      "\n",
      "Bronnen:\n",
      "- \"Payment and Online Services Terms Sept 2022.pdf\", pagina 19\n",
      "- \"Payment and Online Services Terms Sept 2022.pdf\", pagina 61\n"
     ]
    }
   ],
   "source": [
    "search_prompt = 'Mag ik rood staan op mijn rekening?'\n",
    "\n",
    "context = get_context_vector_search(search_prompt)\n",
    "theprompt = generate_prompt_vector_search(search_prompt, context)\n",
    "llm(theprompt.to_messages()).pretty_print()"
   ]
  },
  {
   "cell_type": "code",
   "execution_count": 54,
   "metadata": {},
   "outputs": [
    {
     "name": "stdout",
     "output_type": "stream",
     "text": [
      "[\n",
      "    {\n",
      "        \"score\": 0.9281921387,\n",
      "        \"file_name\": \"Payment and Online Services Terms Sept 2022.pdf\",\n",
      "        \"chunk_id\": 116,\n",
      "        \"page\": 19,\n",
      "        \"chunk\": \"dit niet tot korting op het tarief. \\n \\n4. Wilt u niet langer online bankieren? Dan kan dat tot gevolg hebben dat uw \\nbetaalpakket niet meer geschikt is en u een ander pakket moet kiezen. Maakt u \\ngeen keuze? Dan mogen wij uw betaalpakket omzetten.\\n49. Zonder krediet rood staan op de rekening\\n1. Als u geen krediet heeft, kunt u toch rood komen te staan op de rekening. \\nBijvoorbeeld doordat wij de kosten van het betaalpakket afboeken van de \\nrekening. Wij noemen dat ongeoorloofd rood staan. U betaalt hierover een \\nvariabele rente.  \\nWij kunnen deze rente altijd wijzigen.\\n2. Deze variabele rente is opgebouwd uit de volgende componenten: een \\nbasistarief, opslagen in verband met ontwikkelingen op de kapitaalmarkten \\nen kapitaalkosten, eventueel individuele risico-opslagen, doorlopende kosten \\n(bijvoorbeeld administratie- en beheerkosten) en een winstopslag.\\n3. Wij kunnen de hoogte van de verschillende componenten altijd wijzigen.\"\n",
      "    },\n",
      "    {\n",
      "        \"score\": 0.9252929688,\n",
      "        \"file_name\": \"Payment and Online Services Terms Sept 2022.pdf\",\n",
      "        \"chunk_id\": 322,\n",
      "        \"page\": 61,\n",
      "        \"chunk\": \"ongeoorloofd roodstaan.  \\nHet bedrag van de ongeoorloofde roodstand is onmiddellijk opeisbaar. Daarbij is \\ngeen ingebrekestelling of andere formaliteit nodig. Dat betekent dat u het bedrag \\nvan deze ongeoorloofde roodstand meteen aan ons moet terugbetalen, zonder \\ndat wij daar om hoeven te vragen.\\n2. Is het afboeken van de debetrente over het gebruikte krediet de reden dat u meer \\nrood staat dan de kredietlimiet? Dan stellen wij u in gebreke door u te vragen \\nhet bedrag van de afgeboekte debetrente die de ongeoorloofde roodstand heeft \\nveroorzaakt v\\u00f3\\u00f3r een bepaalde datum te betalen. Als u dan nog niet betaalt, \\nbrengen wij u over het bedrag dat u aan ons moet betalen vertragingsrente in \\nrekening. \\n175. Vertragingsrente\\na. Moet u ons een bedrag betalen? En bent u daar te laat mee? Dan stellen wij u \\nin gebreke. U krijgt dan een laatste gelegenheid om v\\u00f3\\u00f3r een bepaalde datum \\nte betalen. Als u dan nog niet betaalt, brengen wij vanaf dat moment over het\"\n",
      "    },\n",
      "    {\n",
      "        \"score\": 0.9152679443,\n",
      "        \"file_name\": \"Payment and Online Services Terms Sept 2022.pdf\",\n",
      "        \"chunk_id\": 128,\n",
      "        \"page\": 21,\n",
      "        \"chunk\": \"3. Als u rood staat op de rekening, is iedere rekeninghouder verplicht het hele \\nbedrag van de schuld aan ons te betalen, als wij daar om vragen. De wet noemt dit \\n\\u2018hoofdelijke aansprakelijkheid\\u2019 .\\n4. Als u ons informeert of mededelingen doet, dan mogen wij er van uit gaan dat u \\ndit mede namens de andere rekeninghouder doet.\\n56. Welke extra regels gelden bij een en/of-rekening?\\n1. U mag de rekening ieder afzonderlijk gebruiken. Dit geldt ook na het overlijden \\nvan \\u00e9\\u00e9n van de rekeninghouders, of als een rechter een rekeninghouder onder \\nbewind of curatele stelt. \\n   Elke rekeninghouder mag ook afzonderlijk andere (rechts)handelingen verrichten, \\ndie betrekking hebben op de rekening, bijvoorbeeld:\\na Het geven van een volmacht.\\nb Het delen van gegevens over u, de rekening, betalingen en de details daarvan \\nen informatie uit het inzicht, zoals de categorie\\u00ebn die u ziet in Rabo Online \\nBankieren. Bijvoorbeeld voor de beoordeling van een kredietaanvraag die de\"\n",
      "    },\n",
      "    {\n",
      "        \"score\": 0.9143066406,\n",
      "        \"file_name\": \"Payment and Online Services Terms Sept 2022.pdf\",\n",
      "        \"chunk_id\": 115,\n",
      "        \"page\": 19,\n",
      "        \"chunk\": \"3. Als wij dat vragen, geeft u ons een incassomachtiging voor bedragen die u aan \\nons moet betalen. Wij laten u dan minimaal zeven werkdagen van tevoren weten \\nwanneer er bedragen afgeschreven worden op basis van die machtiging.\\n47. Hoeveel rekeningen mag u bij ons aanhouden?\\n Wij mogen bepalen hoeveel rekeningen u bij ons mag aanhouden.\\n48. Wat u moet weten over de betaalpakketten van Rabobank\\n1. De meeste rekeningen maken deel uit van een betaalpakket. \\n2. Wij mogen het pakket wijzigen, onderdelen van het pakket wijzigen, onderdelen \\nuit het pakket halen of onderdelen aan het pakket toevoegen. Wij mogen van \\nvaste onderdelen van een pakket keuzeonderdelen maken en andersom. Wij \\ninformeren u vooraf over wijzigingen. Hiervoor geldt hetgeen we met u hebben \\nafgesproken in de artikelen 22 en 23 van deze voorwaarden.\\n3. Als u \\u00e9\\u00e9n of meer verplichte onderdelen van een betaalpakket niet gebruikt, leidt \\ndit niet tot korting op het tarief.\"\n",
      "    },\n",
      "    {\n",
      "        \"score\": 0.9119110107,\n",
      "        \"file_name\": \"Payment and Online Services Terms Sept 2022.pdf\",\n",
      "        \"chunk_id\": 183,\n",
      "        \"page\": 34,\n",
      "        \"chunk\": \"Hoofdstuk 5 Betaalopdrachten35 Voorwaarden betalen en online diensten 2022\\n2. Bij een reservering op uw rekening, wordt de reservering nog niet verwerkt in  \\nuw saldo. U komt dus niet rood te staan op uw rekening door een reservering.  \\nAls de reservering leidt tot een betaling, verandert uw saldo wel en kunt u wel \\nrood komen te staan.\\n3. Een reservering eindigt:\\n \\u2022 als de reservering leidt tot een betaling\\n \\u2022 als de reservering geannuleerd wordt door de beoogde begunstigde\\n \\u2022 na maximaal 30 kalenderdagen.\\n4. Reserveringen worden gebruikt voor verschillende doelen, bijvoorbeeld:\\n \\u2022 als u in het buitenland een bedrag in een andere muntsoort dan euro betaalt \\nof opneemt met een pas\\n \\u2022 als u een borg betaalt bij de huur van een auto of vakantieverblijf\\n \\u2022 als u bij een onbemand tankstation betaalt met een pas \\n \\u2022 als u ervoor kiest om een bestelling in delen geleverd te krijgen, en u afspreekt \\nmet de verkoper dat er per deellevering betaald wordt via de pas.\"\n",
      "    }\n",
      "]\n",
      "==================================\u001b[1m Ai Message \u001b[0m==================================\n",
      "\n",
      "Ja, u mag rood staan op uw rekening, zelfs als u geen krediet heeft. Dit kan bijvoorbeeld gebeuren doordat de kosten van het betaalpakket van uw rekening worden afgeschreven. Dit wordt ongeoorloofd rood staan genoemd, en hierover betaalt u een variabele rente. Het bedrag van de ongeoorloofde roodstand is onmiddellijk opeisbaar, wat betekent dat u het bedrag meteen moet terugbetalen zonder dat de bank daar om hoeft te vragen.\n",
      "\n",
      "**Bronnen:**\n",
      "- \"Payment and Online Services Terms Sept 2022.pdf\", pagina 19\n",
      "- \"Payment and Online Services Terms Sept 2022.pdf\", pagina 61\n"
     ]
    }
   ],
   "source": [
    "search_prompt = 'Mag ik rood staan op mijn rekening?'\n",
    "\n",
    "context = get_context_vector_search(search_prompt)\n",
    "theprompt = generate_prompt_vector_search(search_prompt, context)\n",
    "llm(theprompt.to_messages()).pretty_print()"
   ]
  },
  {
   "cell_type": "markdown",
   "metadata": {},
   "source": [
    "## Gradio Chatbot that uses RAG and GraphRAG"
   ]
  },
  {
   "cell_type": "markdown",
   "metadata": {},
   "source": [
    "Example code is coming from Gradio documentation: [Creating a custom chatbot with blocks](https://www.gradio.app/guides/creating-a-custom-chatbot-with-blocks#add-streaming-to-your-chatbot)"
   ]
  },
  {
   "cell_type": "code",
   "execution_count": 16,
   "metadata": {},
   "outputs": [
    {
     "name": "stdout",
     "output_type": "stream",
     "text": [
      "* Running on local URL:  http://127.0.0.1:7860\n",
      "\n",
      "To create a public link, set `share=True` in `launch()`.\n"
     ]
    },
    {
     "data": {
      "text/html": [
       "<div><iframe src=\"http://127.0.0.1:7860/\" width=\"100%\" height=\"500\" allow=\"autoplay; camera; microphone; clipboard-read; clipboard-write;\" frameborder=\"0\" allowfullscreen></iframe></div>"
      ],
      "text/plain": [
       "<IPython.core.display.HTML object>"
      ]
     },
     "metadata": {},
     "output_type": "display_data"
    },
    {
     "data": {
      "text/plain": []
     },
     "execution_count": 16,
     "metadata": {},
     "output_type": "execute_result"
    }
   ],
   "source": [
    "def user(user_message, history):\n",
    "    return \"\", history + [[user_message, None]]\n",
    "\n",
    "def get_answer(search_prompt, rag_method):\n",
    "    if rag_method == \"Vector-Search\":\n",
    "        context = get_context_vector_search(search_prompt)\n",
    "        theprompt = generate_prompt_vector_search(search_prompt, context)\n",
    "    else: \n",
    "    # rag_method == \"GraphRAG\"\n",
    "        context, definitions = get_context_graphrag(search_prompt)\n",
    "        theprompt = generate_prompt_graphrag(search_prompt, context, definitions)\n",
    "    messages = llm(theprompt.to_messages())\n",
    "    return messages.content\n",
    "\n",
    "def bot(history, rag_method):\n",
    "    bot_message = get_answer(history[-1][0], rag_method)\n",
    "    history[-1][1] = \"\"\n",
    "    for character in bot_message:\n",
    "        history[-1][1] += character\n",
    "        time.sleep(0.01)\n",
    "        yield history\n",
    "\n",
    "with gr.Blocks() as demo:\n",
    "    chatbot = gr.Chatbot(\n",
    "        label=\"Chatbot with RAG\", \n",
    "        avatar_images=[\"https://png.pngtree.com/png-vector/20220525/ourmid/pngtree-concept-of-facial-animal-avatar-chatbot-dog-chat-machine-illustration-vector-png-image_46652864.jpg\",\"https://d-cb.jc-cdn.com/sites/crackberry.com/files/styles/larger/public/article_images/2023/08/openai-logo.jpg\"]\n",
    "    )\n",
    "    msg = gr.Textbox(label=\"Message\")\n",
    "    rag_method = gr.Radio([\"Vector-Search\", \"GraphRAG\"], label=\"RAG-method:\")\n",
    "    clear = gr.Button(\"Clear\")\n",
    "\n",
    "\n",
    "    msg.submit(user, [msg, chatbot], [msg, chatbot], queue=False).then(\n",
    "        bot, [chatbot, rag_method], chatbot\n",
    "    )\n",
    "    \n",
    "    clear.click(lambda: None, None, chatbot, queue=False)\n",
    "\n",
    "    \n",
    "demo.queue()\n",
    "demo.launch(share=False)"
   ]
  },
  {
   "cell_type": "markdown",
   "metadata": {},
   "source": [
    "If you want to have the light-mode for the chatbot paste the following after the URL: /?__theme=light"
   ]
  }
 ],
 "metadata": {
  "createdOn": 1712323594898,
  "creator": "admin",
  "customFields": {},
  "hide_input": false,
  "kernelspec": {
   "display_name": "Python 3 (ipykernel)",
   "language": "python",
   "name": "python3"
  },
  "language_info": {
   "codemirror_mode": {
    "name": "ipython",
    "version": 3
   },
   "file_extension": ".py",
   "mimetype": "text/x-python",
   "name": "python",
   "nbconvert_exporter": "python",
   "pygments_lexer": "ipython3",
   "version": "3.11.5"
  },
  "modifiedBy": "admin",
  "tags": [],
  "versionNumber": 3
 },
 "nbformat": 4,
 "nbformat_minor": 4
}
