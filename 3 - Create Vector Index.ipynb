{
 "cells": [
  {
   "cell_type": "markdown",
   "metadata": {},
   "source": [
    "# Create Vector Index "
   ]
  },
  {
   "cell_type": "markdown",
   "metadata": {},
   "source": [
    "This notebook creates a Vector Index on top of the embeddings in Neo4j. This can be used later on for a vector search in the database. Documentation of the vector index in Neo4j can be found here: [Neo4j Vector Index and Search](https://neo4j.com/labs/genai-ecosystem/vector-search/?msclkid=c56d8efbd9a0151f76ebea164f5643cb&utm_source=Google&utm_medium=PaidSearch&utm_campaign=Evergreen&utm_content=EMEA-Search-SEMCE-DSA-None-SEM-SEM-NonABM&utm_term=&utm_adgroup=DSA&gad_source=1&gclid=Cj0KCQjw9vqyBhCKARIsAIIcLMEVATnevK1iXdTlPzxCK8eytADNy4tWZXXRF_NAthTi4x_sO19uUP4aAubSEALw_wcB). \n",
    "\n",
    "Again, for executing the queries we make use of [Python Driver](https://neo4j.com/docs/api/python-driver/current/) that enables querying Neo4j from a Python script"
   ]
  },
  {
   "cell_type": "code",
   "execution_count": 1,
   "metadata": {},
   "outputs": [],
   "source": [
    "import pandas as pd\n",
    "from neo4j import Query, GraphDatabase, RoutingControl, Result\n",
    "import os\n",
    "from dotenv import load_dotenv\n",
    "from langchain_openai import OpenAIEmbeddings\n",
    "from json import loads, dumps"
   ]
  },
  {
   "cell_type": "markdown",
   "metadata": {},
   "source": [
    "## Get Credentials"
   ]
  },
  {
   "cell_type": "code",
   "execution_count": 2,
   "metadata": {},
   "outputs": [],
   "source": [
    "env_file = 'credentials.env'"
   ]
  },
  {
   "cell_type": "code",
   "execution_count": 3,
   "metadata": {},
   "outputs": [],
   "source": [
    "if os.path.exists(env_file):\n",
    "    load_dotenv(env_file, override=True)\n",
    "\n",
    "    # Neo4j\n",
    "    HOST = os.getenv('NEO4J_URI')\n",
    "    USERNAME = os.getenv('NEO4J_USERNAME')\n",
    "    PASSWORD = os.getenv('NEO4J_PASSWORD')\n",
    "    DATABASE = os.getenv('NEO4J_DATABASE')\n",
    "\n",
    "    # AI\n",
    "    OPENAI_API_KEY = os.getenv('OPENAI_API_KEY')\n",
    "    os.environ['OPENAI_API_KEY']=OPENAI_API_KEY\n",
    "    LLM = os.getenv('LLM')\n",
    "    EMBEDDINGS_MODEL = os.getenv('EMBEDDINGS_MODEL')\n",
    "else:\n",
    "    print(f\"File {env_file} not found.\")"
   ]
  },
  {
   "cell_type": "markdown",
   "metadata": {},
   "source": [
    "## Setup Connection to Database"
   ]
  },
  {
   "cell_type": "markdown",
   "metadata": {},
   "source": [
    "Connect to neo4j db"
   ]
  },
  {
   "cell_type": "code",
   "execution_count": 4,
   "metadata": {},
   "outputs": [],
   "source": [
    "driver = GraphDatabase.driver(\n",
    "    HOST,\n",
    "    auth=(USERNAME, PASSWORD)\n",
    ")"
   ]
  },
  {
   "cell_type": "markdown",
   "metadata": {},
   "source": [
    "Test the connection"
   ]
  },
  {
   "cell_type": "code",
   "execution_count": 5,
   "metadata": {},
   "outputs": [
    {
     "data": {
      "text/html": [
       "<div>\n",
       "<style scoped>\n",
       "    .dataframe tbody tr th:only-of-type {\n",
       "        vertical-align: middle;\n",
       "    }\n",
       "\n",
       "    .dataframe tbody tr th {\n",
       "        vertical-align: top;\n",
       "    }\n",
       "\n",
       "    .dataframe thead th {\n",
       "        text-align: right;\n",
       "    }\n",
       "</style>\n",
       "<table border=\"1\" class=\"dataframe\">\n",
       "  <thead>\n",
       "    <tr style=\"text-align: right;\">\n",
       "      <th></th>\n",
       "      <th>Count</th>\n",
       "    </tr>\n",
       "  </thead>\n",
       "  <tbody>\n",
       "    <tr>\n",
       "      <th>0</th>\n",
       "      <td>1419</td>\n",
       "    </tr>\n",
       "  </tbody>\n",
       "</table>\n",
       "</div>"
      ],
      "text/plain": [
       "   Count\n",
       "0   1419"
      ]
     },
     "execution_count": 5,
     "metadata": {},
     "output_type": "execute_result"
    }
   ],
   "source": [
    "driver.execute_query(\n",
    "    \"\"\"\n",
    "    MATCH (n) RETURN COUNT(n) as Count\n",
    "    \"\"\",\n",
    "    database_=DATABASE,\n",
    "    routing_=RoutingControl.READ,\n",
    "    result_transformer_= lambda r: r.to_df()\n",
    ")"
   ]
  },
  {
   "cell_type": "markdown",
   "metadata": {},
   "source": [
    "## Create Vector Index "
   ]
  },
  {
   "cell_type": "markdown",
   "metadata": {},
   "source": [
    "Convert the embeddings to a vector property with the [setNodeVectorProperty](https://neo4j.com/docs/operations-manual/5/reference/procedures/#procedure_db_create_setNodeVectorProperty) procedure."
   ]
  },
  {
   "cell_type": "code",
   "execution_count": 6,
   "metadata": {},
   "outputs": [],
   "source": [
    "no_chunks = driver.execute_query(\n",
    "    \"\"\"\n",
    "    MATCH (n:Chunk) RETURN COUNT(n) as Count\n",
    "    \"\"\",\n",
    "    database_=DATABASE,\n",
    "    routing_=RoutingControl.READ,\n",
    "    result_transformer_= lambda r: r.to_df()\n",
    ")"
   ]
  },
  {
   "cell_type": "code",
   "execution_count": 7,
   "metadata": {},
   "outputs": [
    {
     "data": {
      "text/html": [
       "<div>\n",
       "<style scoped>\n",
       "    .dataframe tbody tr th:only-of-type {\n",
       "        vertical-align: middle;\n",
       "    }\n",
       "\n",
       "    .dataframe tbody tr th {\n",
       "        vertical-align: top;\n",
       "    }\n",
       "\n",
       "    .dataframe thead th {\n",
       "        text-align: right;\n",
       "    }\n",
       "</style>\n",
       "<table border=\"1\" class=\"dataframe\">\n",
       "  <thead>\n",
       "    <tr style=\"text-align: right;\">\n",
       "      <th></th>\n",
       "      <th>Count</th>\n",
       "    </tr>\n",
       "  </thead>\n",
       "  <tbody>\n",
       "    <tr>\n",
       "      <th>0</th>\n",
       "      <td>610</td>\n",
       "    </tr>\n",
       "  </tbody>\n",
       "</table>\n",
       "</div>"
      ],
      "text/plain": [
       "   Count\n",
       "0    610"
      ]
     },
     "execution_count": 7,
     "metadata": {},
     "output_type": "execute_result"
    }
   ],
   "source": [
    "no_chunks"
   ]
  },
  {
   "cell_type": "code",
   "execution_count": 8,
   "metadata": {},
   "outputs": [
    {
     "name": "stdout",
     "output_type": "stream",
     "text": [
      "Running 7 batches with size 100\n"
     ]
    }
   ],
   "source": [
    "batch_size = 100\n",
    "nr_batches = int(no_chunks.iloc[0].Count / batch_size) + 1\n",
    "print(f'Running {nr_batches} batches with size {batch_size}')"
   ]
  },
  {
   "cell_type": "code",
   "execution_count": 9,
   "metadata": {},
   "outputs": [],
   "source": [
    "for batch in range(nr_batches):\n",
    "    query = f\"\"\"\n",
    "        MATCH(c:Chunk)\n",
    "        WHERE c.id >= {(batch*batch_size)+1} AND c.id <= {(batch+1)*batch_size}\n",
    "        CALL db.create.setNodeVectorProperty(c, \"embedding\", c.embedding)\n",
    "        RETURN count(c) AS propertySetCount\n",
    "    \"\"\"\n",
    "\n",
    "    driver.execute_query(\n",
    "        query,\n",
    "        database_=DATABASE,\n",
    "        routing_=RoutingControl.WRITE,\n",
    "    )\n",
    "    \n",
    "    if ((batch % 10 == 0) & (batch != 0)):\n",
    "        print(f\"Finished: {batch}/{nr_batches} batches ({round(batch/nr_batches*100,2)}%)\")"
   ]
  },
  {
   "cell_type": "markdown",
   "metadata": {},
   "source": [
    "Create the [vector index](https://neo4j.com/docs/cypher-manual/current/indexes/semantic-indexes/vector-indexes/#create-vector-index) on Embeddings in Neo4j"
   ]
  },
  {
   "cell_type": "code",
   "execution_count": 10,
   "metadata": {},
   "outputs": [],
   "source": [
    "query = \"\"\"\n",
    "    CREATE VECTOR INDEX `chunk-embeddings` IF NOT EXISTS\n",
    "    FOR (c:Chunk) ON (c.embedding)\n",
    "    OPTIONS {\n",
    "        indexConfig: {\n",
    "            `vector.dimensions`: 1536,\n",
    "            `vector.similarity_function`: 'cosine'\n",
    "        } \n",
    "    }\n",
    "\"\"\""
   ]
  },
  {
   "cell_type": "code",
   "execution_count": 11,
   "metadata": {},
   "outputs": [
    {
     "data": {
      "text/plain": [
       "EagerResult(records=[], summary=<neo4j._work.summary.ResultSummary object at 0x1528f7610>, keys=[])"
      ]
     },
     "execution_count": 11,
     "metadata": {},
     "output_type": "execute_result"
    }
   ],
   "source": [
    "driver.execute_query(\n",
    "    query,\n",
    "    database_=DATABASE,\n",
    "    routing_=RoutingControl.WRITE\n",
    ")"
   ]
  },
  {
   "cell_type": "markdown",
   "metadata": {},
   "source": [
    "Create the [vector index](https://neo4j.com/docs/cypher-manual/current/indexes/semantic-indexes/vector-indexes/#create-vector-index) on Definitions in Neo4j"
   ]
  },
  {
   "cell_type": "code",
   "execution_count": 12,
   "metadata": {},
   "outputs": [],
   "source": [
    "query = \"\"\"\n",
    "    CREATE VECTOR INDEX `definition-embeddings` IF NOT EXISTS\n",
    "    FOR (def:Definition) ON (def.embedding)\n",
    "    OPTIONS {\n",
    "        indexConfig: {\n",
    "            `vector.dimensions`: 1536,\n",
    "            `vector.similarity_function`: 'cosine'\n",
    "        } \n",
    "    }\n",
    "\"\"\""
   ]
  },
  {
   "cell_type": "code",
   "execution_count": 13,
   "metadata": {},
   "outputs": [
    {
     "data": {
      "text/plain": [
       "EagerResult(records=[], summary=<neo4j._work.summary.ResultSummary object at 0x1528fa5d0>, keys=[])"
      ]
     },
     "execution_count": 13,
     "metadata": {},
     "output_type": "execute_result"
    }
   ],
   "source": [
    "driver.execute_query(\n",
    "    query,\n",
    "    database_=DATABASE,\n",
    "    routing_=RoutingControl.WRITE\n",
    ")"
   ]
  },
  {
   "cell_type": "markdown",
   "metadata": {},
   "source": [
    "Show the results"
   ]
  },
  {
   "cell_type": "code",
   "execution_count": 14,
   "metadata": {},
   "outputs": [
    {
     "data": {
      "text/html": [
       "<div>\n",
       "<style scoped>\n",
       "    .dataframe tbody tr th:only-of-type {\n",
       "        vertical-align: middle;\n",
       "    }\n",
       "\n",
       "    .dataframe tbody tr th {\n",
       "        vertical-align: top;\n",
       "    }\n",
       "\n",
       "    .dataframe thead th {\n",
       "        text-align: right;\n",
       "    }\n",
       "</style>\n",
       "<table border=\"1\" class=\"dataframe\">\n",
       "  <thead>\n",
       "    <tr style=\"text-align: right;\">\n",
       "      <th></th>\n",
       "      <th>id</th>\n",
       "      <th>name</th>\n",
       "      <th>state</th>\n",
       "      <th>populationPercent</th>\n",
       "      <th>type</th>\n",
       "      <th>entityType</th>\n",
       "      <th>labelsOrTypes</th>\n",
       "      <th>properties</th>\n",
       "      <th>indexProvider</th>\n",
       "      <th>owningConstraint</th>\n",
       "      <th>lastRead</th>\n",
       "      <th>readCount</th>\n",
       "    </tr>\n",
       "  </thead>\n",
       "  <tbody>\n",
       "    <tr>\n",
       "      <th>0</th>\n",
       "      <td>6</td>\n",
       "      <td>chunk-embeddings</td>\n",
       "      <td>POPULATING</td>\n",
       "      <td>0.0</td>\n",
       "      <td>VECTOR</td>\n",
       "      <td>NODE</td>\n",
       "      <td>[Chunk]</td>\n",
       "      <td>[embedding]</td>\n",
       "      <td>vector-2.0</td>\n",
       "      <td>None</td>\n",
       "      <td>None</td>\n",
       "      <td>NaN</td>\n",
       "    </tr>\n",
       "    <tr>\n",
       "      <th>1</th>\n",
       "      <td>7</td>\n",
       "      <td>definition-embeddings</td>\n",
       "      <td>POPULATING</td>\n",
       "      <td>0.0</td>\n",
       "      <td>VECTOR</td>\n",
       "      <td>NODE</td>\n",
       "      <td>[Definition]</td>\n",
       "      <td>[embedding]</td>\n",
       "      <td>vector-2.0</td>\n",
       "      <td>None</td>\n",
       "      <td>None</td>\n",
       "      <td>NaN</td>\n",
       "    </tr>\n",
       "    <tr>\n",
       "      <th>2</th>\n",
       "      <td>0</td>\n",
       "      <td>index_343aff4e</td>\n",
       "      <td>ONLINE</td>\n",
       "      <td>100.0</td>\n",
       "      <td>LOOKUP</td>\n",
       "      <td>NODE</td>\n",
       "      <td>None</td>\n",
       "      <td>None</td>\n",
       "      <td>token-lookup-1.0</td>\n",
       "      <td>None</td>\n",
       "      <td>2025-05-15T09:54:11.633000000+00:00</td>\n",
       "      <td>6929.0</td>\n",
       "    </tr>\n",
       "    <tr>\n",
       "      <th>3</th>\n",
       "      <td>1</td>\n",
       "      <td>index_f7700477</td>\n",
       "      <td>ONLINE</td>\n",
       "      <td>100.0</td>\n",
       "      <td>LOOKUP</td>\n",
       "      <td>RELATIONSHIP</td>\n",
       "      <td>None</td>\n",
       "      <td>None</td>\n",
       "      <td>token-lookup-1.0</td>\n",
       "      <td>None</td>\n",
       "      <td>2025-05-15T06:38:36.692000000+00:00</td>\n",
       "      <td>120.0</td>\n",
       "    </tr>\n",
       "    <tr>\n",
       "      <th>4</th>\n",
       "      <td>2</td>\n",
       "      <td>unique_chunk</td>\n",
       "      <td>ONLINE</td>\n",
       "      <td>100.0</td>\n",
       "      <td>RANGE</td>\n",
       "      <td>NODE</td>\n",
       "      <td>[Chunk]</td>\n",
       "      <td>[id]</td>\n",
       "      <td>range-1.0</td>\n",
       "      <td>unique_chunk</td>\n",
       "      <td>2025-05-15T09:24:03.456000000+00:00</td>\n",
       "      <td>2440.0</td>\n",
       "    </tr>\n",
       "  </tbody>\n",
       "</table>\n",
       "</div>"
      ],
      "text/plain": [
       "   id                   name       state  populationPercent    type  \\\n",
       "0   6       chunk-embeddings  POPULATING                0.0  VECTOR   \n",
       "1   7  definition-embeddings  POPULATING                0.0  VECTOR   \n",
       "2   0         index_343aff4e      ONLINE              100.0  LOOKUP   \n",
       "3   1         index_f7700477      ONLINE              100.0  LOOKUP   \n",
       "4   2           unique_chunk      ONLINE              100.0   RANGE   \n",
       "\n",
       "     entityType labelsOrTypes   properties     indexProvider owningConstraint  \\\n",
       "0          NODE       [Chunk]  [embedding]        vector-2.0             None   \n",
       "1          NODE  [Definition]  [embedding]        vector-2.0             None   \n",
       "2          NODE          None         None  token-lookup-1.0             None   \n",
       "3  RELATIONSHIP          None         None  token-lookup-1.0             None   \n",
       "4          NODE       [Chunk]         [id]         range-1.0     unique_chunk   \n",
       "\n",
       "                              lastRead  readCount  \n",
       "0                                 None        NaN  \n",
       "1                                 None        NaN  \n",
       "2  2025-05-15T09:54:11.633000000+00:00     6929.0  \n",
       "3  2025-05-15T06:38:36.692000000+00:00      120.0  \n",
       "4  2025-05-15T09:24:03.456000000+00:00     2440.0  "
      ]
     },
     "execution_count": 14,
     "metadata": {},
     "output_type": "execute_result"
    }
   ],
   "source": [
    "schema_result_df  = driver.execute_query(\n",
    "    'SHOW INDEXES',\n",
    "    database_=DATABASE,\n",
    "    routing_=RoutingControl.READ,\n",
    "    result_transformer_= lambda r: r.to_df()\n",
    ")\n",
    "schema_result_df.head()"
   ]
  },
  {
   "cell_type": "markdown",
   "metadata": {},
   "source": [
    "## Experiment with the Vector Search"
   ]
  },
  {
   "cell_type": "markdown",
   "metadata": {},
   "source": [
    "Define the Embeddings Model"
   ]
  },
  {
   "cell_type": "code",
   "execution_count": 15,
   "metadata": {},
   "outputs": [],
   "source": [
    "embedding_model = OpenAIEmbeddings(\n",
    "    model=EMBEDDINGS_MODEL,\n",
    "    openai_api_key=OPENAI_API_KEY\n",
    ")"
   ]
  },
  {
   "cell_type": "code",
   "execution_count": 16,
   "metadata": {},
   "outputs": [
    {
     "data": {
      "text/plain": [
       "'text-embedding-ada-002'"
      ]
     },
     "execution_count": 16,
     "metadata": {},
     "output_type": "execute_result"
    }
   ],
   "source": [
    "embedding_model.model"
   ]
  },
  {
   "cell_type": "markdown",
   "metadata": {},
   "source": [
    "Define the function to perform a Vector Search"
   ]
  },
  {
   "cell_type": "code",
   "execution_count": 17,
   "metadata": {},
   "outputs": [],
   "source": [
    "def vector_search_chunks(message, nn=5, embedding_model=embedding_model):\n",
    "    message_vector = embedding_model.embed_query(message)\n",
    "    similarity_query = \"\"\" \n",
    "        CALL db.index.vector.queryNodes(\"chunk-embeddings\", $nn, $message_vector) YIELD node, score\n",
    "        WITH node as chunk, score ORDER BY score DESC\n",
    "        MATCH (d:Document)<-[:PART_OF]-(chunk)\n",
    "        RETURN score, d.file_name as file_name, chunk.id as chunk_id, chunk.page as page, chunk.chunk_eng AS chunk\n",
    "    \"\"\"\n",
    "    results_df = driver.execute_query(\n",
    "        similarity_query,\n",
    "        database_=DATABASE,\n",
    "        routing_=RoutingControl.READ,\n",
    "        message_vector=message_vector,\n",
    "        nn = nn, \n",
    "        result_transformer_= lambda r: r.to_df()\n",
    "    )\n",
    "    return results_df"
   ]
  },
  {
   "cell_type": "markdown",
   "metadata": {},
   "source": [
    "#### Example"
   ]
  },
  {
   "cell_type": "markdown",
   "metadata": {},
   "source": [
    "Let's run an example with the vector search on the chunks. Examples: \n",
    "\n",
    "-  \"Can I enable push notifications?\"\n",
    "-  \"How can I use the online services safely?\"\n",
    "-  \"What is meant with the Rabofoon?\""
   ]
  },
  {
   "cell_type": "code",
   "execution_count": 18,
   "metadata": {},
   "outputs": [],
   "source": [
    "message = \"How can I use the online services safely?\""
   ]
  },
  {
   "cell_type": "code",
   "execution_count": 21,
   "metadata": {},
   "outputs": [],
   "source": [
    "results_df = vector_search_chunks(message, 5, embedding_model)"
   ]
  },
  {
   "cell_type": "code",
   "execution_count": 22,
   "metadata": {},
   "outputs": [
    {
     "data": {
      "text/html": [
       "<div>\n",
       "<style scoped>\n",
       "    .dataframe tbody tr th:only-of-type {\n",
       "        vertical-align: middle;\n",
       "    }\n",
       "\n",
       "    .dataframe tbody tr th {\n",
       "        vertical-align: top;\n",
       "    }\n",
       "\n",
       "    .dataframe thead th {\n",
       "        text-align: right;\n",
       "    }\n",
       "</style>\n",
       "<table border=\"1\" class=\"dataframe\">\n",
       "  <thead>\n",
       "    <tr style=\"text-align: right;\">\n",
       "      <th></th>\n",
       "      <th>score</th>\n",
       "      <th>file_name</th>\n",
       "      <th>chunk_id</th>\n",
       "      <th>page</th>\n",
       "      <th>chunk</th>\n",
       "    </tr>\n",
       "  </thead>\n",
       "  <tbody>\n",
       "    <tr>\n",
       "      <th>0</th>\n",
       "      <td>0.925720</td>\n",
       "      <td>Terms &amp; Conditions for Online Business Service...</td>\n",
       "      <td>128</td>\n",
       "      <td>14</td>\n",
       "      <td>Page | 14\\n\\nSection 6: How to use our Online ...</td>\n",
       "    </tr>\n",
       "    <tr>\n",
       "      <th>1</th>\n",
       "      <td>0.923584</td>\n",
       "      <td>Terms &amp; Conditions for Online Business Service...</td>\n",
       "      <td>132</td>\n",
       "      <td>15</td>\n",
       "      <td>Page | 15\\n\\niv. switch to using any other rec...</td>\n",
       "    </tr>\n",
       "    <tr>\n",
       "      <th>2</th>\n",
       "      <td>0.923233</td>\n",
       "      <td>Terms &amp; Conditions for Online Business Service...</td>\n",
       "      <td>133</td>\n",
       "      <td>15</td>\n",
       "      <td>6.3. Using Internet, telecommunication and/or ...</td>\n",
       "    </tr>\n",
       "    <tr>\n",
       "      <th>3</th>\n",
       "      <td>0.919617</td>\n",
       "      <td>Payment and Online Services Terms Sept 2022.pdf</td>\n",
       "      <td>243</td>\n",
       "      <td>17</td>\n",
       "      <td>18 Terms and Conditions for Payment and Online...</td>\n",
       "    </tr>\n",
       "    <tr>\n",
       "      <th>4</th>\n",
       "      <td>0.917267</td>\n",
       "      <td>Payment and Online Services Terms Sept 2022.pdf</td>\n",
       "      <td>267</td>\n",
       "      <td>23</td>\n",
       "      <td>Chapter 4  \\nOnline services</td>\n",
       "    </tr>\n",
       "  </tbody>\n",
       "</table>\n",
       "</div>"
      ],
      "text/plain": [
       "      score                                          file_name  chunk_id  \\\n",
       "0  0.925720  Terms & Conditions for Online Business Service...       128   \n",
       "1  0.923584  Terms & Conditions for Online Business Service...       132   \n",
       "2  0.923233  Terms & Conditions for Online Business Service...       133   \n",
       "3  0.919617    Payment and Online Services Terms Sept 2022.pdf       243   \n",
       "4  0.917267    Payment and Online Services Terms Sept 2022.pdf       267   \n",
       "\n",
       "   page                                              chunk  \n",
       "0    14  Page | 14\\n\\nSection 6: How to use our Online ...  \n",
       "1    15  Page | 15\\n\\niv. switch to using any other rec...  \n",
       "2    15  6.3. Using Internet, telecommunication and/or ...  \n",
       "3    17  18 Terms and Conditions for Payment and Online...  \n",
       "4    23                       Chapter 4  \\nOnline services  "
      ]
     },
     "execution_count": 22,
     "metadata": {},
     "output_type": "execute_result"
    }
   ],
   "source": [
    "results_df"
   ]
  },
  {
   "cell_type": "code",
   "execution_count": 23,
   "metadata": {},
   "outputs": [
    {
     "name": "stdout",
     "output_type": "stream",
     "text": [
      "[\n",
      "  {\n",
      "    \"score\": 0.9257202148,\n",
      "    \"file_name\": \"Terms & Conditions for Online Business Services - April 2024.pdf\",\n",
      "    \"chunk_id\": 128,\n",
      "    \"page\": 14,\n",
      "    \"chunk\": \"Page | 14\\n\\nSection 6: How to use our Online Services safely\\n\\n6.1. What you need to do\\n\\na. Before using any Online Services you and each User must make sure that the Devices are (i) compatible with the Online Services, (ii) free of any viruses, (iii) adequately protected by installing up-to-date security, anti-virus and other software and (iv) adequately locked with a Security Code or other appropriate security measure, if possible.  \\nb. It is essential that you and each User take all reasonable steps to protect all Security Resources and Security Codes including by:  \\ni. not keeping a written record of any Security Code or, if you do keep a record of a Security Code, keeping it in a secure place separate from any other Security Code or Security Resource and anything which may identify you or your accounts;  \\nii. never storing or saving any Security Resources together nor record any Security Code on any software which saves it automatically;\"\n",
      "  },\n",
      "  {\n",
      "    \"score\": 0.9235839844,\n",
      "    \"file_name\": \"Terms & Conditions for Online Business Services - April 2024.pdf\",\n",
      "    \"chunk_id\": 132,\n",
      "    \"page\": 15,\n",
      "    \"chunk\": \"Page | 15\\n\\niv. switch to using any other recommended Security Resources or additional security measures, in line with Clause sub c of this clause. f. If you or a User do not follow the requirements of this clause, you may be liable for any losses which arise as a result of unauthorized access to the Online Service. e. You may be required to assist us and/or the police or other competent authorities in any inquiries related to a breach of security of the Online Services. In connection with these inquiries, we may disclose information to the police or other competent authorities to prevent or recover losses.\\n\\n6.2. Secure environment\\n\\nAre you visiting the Website using a browser? Then you must check and ensure that you are still in the secure environment of our Online Service. You can tell from the address bar in your Internet browser.\\n\\n6.3. Using Internet, telecommunication and/or other services, hardware and software safely\"\n",
      "  },\n",
      "  {\n",
      "    \"score\": 0.9232330322,\n",
      "    \"file_name\": \"Terms & Conditions for Online Business Services - April 2024.pdf\",\n",
      "    \"chunk_id\": 133,\n",
      "    \"page\": 15,\n",
      "    \"chunk\": \"6.3. Using Internet, telecommunication and/or other services, hardware and software safely\\n\\na. It is your responsibility to arrange all Internet, telecommunication and/or other services, goods, hardware (including a Device) and software needed to use an Online Service.  \\nb. You must use those Internet, telecommunication and/or other services, hardware, security, and software in such a way as not to cause us or a third party any damage.  \\nc. In addition to the software referred to in this article, we may provide software or arrange for software to be provided to make a data connection extra secure. If we do, you must install the software. We are in no event liable for the use and/or any side effects of this software.  \\n\\n6.4. Rules on Apps\\n\\nIf you want to access an Online Service and/or authenticate yourself for an Online Service via an App, the following rules apply:  \\na. Before installing the App, you must check whether it is one of our Apps.\"\n",
      "  },\n",
      "  {\n",
      "    \"score\": 0.9196166992,\n",
      "    \"file_name\": \"Payment and Online Services Terms Sept 2022.pdf\",\n",
      "    \"chunk_id\": 243,\n",
      "    \"page\": 17,\n",
      "    \"chunk\": \"18 Terms and Conditions for Payment and Online Services 2022\\n3) Ensure proper security of the equipment you use for your banking\\n Consider the following:\\n\\u2022 Ensure that the installed software on the equipment, such as computer, tablet, and/or smartphone, that you use for managing your banking is equipped with current (security) updates. Installed software includes the operating system and security programs, such as a virus scanner and firewall.\\n\\u2022 Do not install illegal software.\\n\\u2022 Secure access to the equipment you use for managing your banking with an access code.\\n\\u2022 Also ensure that applications provided by us, on the equipment you use for managing your banking, cannot be used by unauthorized persons.\\n\\u2022 Always log out when you are finished managing your banking.\\n4) Check your account\"\n",
      "  },\n",
      "  {\n",
      "    \"score\": 0.9172668457,\n",
      "    \"file_name\": \"Payment and Online Services Terms Sept 2022.pdf\",\n",
      "    \"chunk_id\": 267,\n",
      "    \"page\": 23,\n",
      "    \"chunk\": \"Chapter 4  \\nOnline services\"\n",
      "  }\n",
      "]\n"
     ]
    }
   ],
   "source": [
    "results = dumps(loads(results_df.to_json(orient=\"records\")), indent=2)\n",
    "print(results)"
   ]
  },
  {
   "cell_type": "markdown",
   "metadata": {},
   "source": [
    "### Vector Search on Definitions"
   ]
  },
  {
   "cell_type": "markdown",
   "metadata": {},
   "source": [
    "Now perform an Vector Search on the definitions."
   ]
  },
  {
   "cell_type": "code",
   "execution_count": 24,
   "metadata": {},
   "outputs": [],
   "source": [
    "def vector_search_definition(message, nn=5, embedding_model=embedding_model):\n",
    "    message_vector = embedding_model.embed_query(message)\n",
    "    similarity_query = \"\"\" \n",
    "        CALL db.index.vector.queryNodes(\"definition-embeddings\", $nn, $message_vector) YIELD node, score\n",
    "        WITH node as definition, score ORDER BY score DESC\n",
    "        RETURN score, definition.term as term, definition.description as description\n",
    "    \"\"\"\n",
    "    results_df = driver.execute_query(\n",
    "        similarity_query,\n",
    "        database_=DATABASE,\n",
    "        routing_=RoutingControl.READ,\n",
    "        message_vector=message_vector,\n",
    "        nn = nn, \n",
    "        result_transformer_= lambda r: r.to_df()\n",
    "    )\n",
    "    return results_df"
   ]
  },
  {
   "cell_type": "markdown",
   "metadata": {},
   "source": [
    "#### Example"
   ]
  },
  {
   "cell_type": "code",
   "execution_count": 25,
   "metadata": {},
   "outputs": [],
   "source": [
    "message = \"What is meant with the Rabofoon?\""
   ]
  },
  {
   "cell_type": "code",
   "execution_count": 26,
   "metadata": {},
   "outputs": [],
   "source": [
    "results_df = vector_search_definition(message, 5, embedding_model)"
   ]
  },
  {
   "cell_type": "code",
   "execution_count": 27,
   "metadata": {},
   "outputs": [
    {
     "name": "stdout",
     "output_type": "stream",
     "text": [
      "[\n",
      "  {\n",
      "    \"score\": 0.9451599121,\n",
      "    \"term\": \"rabofoon\",\n",
      "    \"description\": \"A service that allows you to give payment orders using the phone's keys. You give permission for the payment order according to the instructions of Rabofoon. Transfers with Rabofoon require the use of IBAN as a unique identifier.\"\n",
      "  },\n",
      "  {\n",
      "    \"score\": 0.9116210938,\n",
      "    \"term\": \"rabo\",\n",
      "    \"description\": \"Savings Account 2020\"\n",
      "  },\n",
      "  {\n",
      "    \"score\": 0.910446167,\n",
      "    \"term\": \"rabo alert\",\n",
      "    \"description\": \"An example of a push message or an email message that is sent to the email address specified by the user.\"\n",
      "  },\n",
      "  {\n",
      "    \"score\": 0.9073181152,\n",
      "    \"term\": \"rabo app\",\n",
      "    \"description\": \"To use a digital card, you need the Rabo App, unless we inform you otherwise.\"\n",
      "  },\n",
      "  {\n",
      "    \"score\": 0.9063873291,\n",
      "    \"term\": \"rabo alerts\",\n",
      "    \"description\": \"Notifications that can be received, and there is a concern if someone else gains access to your email address.\"\n",
      "  }\n",
      "]\n"
     ]
    }
   ],
   "source": [
    "results = dumps(loads(results_df.to_json(orient=\"records\")), indent=2)\n",
    "print(results)"
   ]
  }
 ],
 "metadata": {
  "createdOn": 1712246150170,
  "creator": "admin",
  "customFields": {},
  "hide_input": false,
  "kernelspec": {
   "display_name": "Python 3 (ipykernel)",
   "language": "python",
   "name": "python3"
  },
  "language_info": {
   "codemirror_mode": {
    "name": "ipython",
    "version": 3
   },
   "file_extension": ".py",
   "mimetype": "text/x-python",
   "name": "python",
   "nbconvert_exporter": "python",
   "pygments_lexer": "ipython3",
   "version": "3.11.5"
  },
  "modifiedBy": "admin",
  "tags": []
 },
 "nbformat": 4,
 "nbformat_minor": 4
}
