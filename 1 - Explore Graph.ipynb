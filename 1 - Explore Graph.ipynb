{
 "cells": [
  {
   "cell_type": "markdown",
   "id": "7e6aa8b7-10ef-40a9-9afa-0a512e0b33b7",
   "metadata": {},
   "source": [
    "# Module 1 - Explore Graph with Cypher\n",
    "\n",
    "This module has the following objective:\n",
    "- Running Cypher queries to better understand the data we've loaded"
   ]
  },
  {
   "cell_type": "markdown",
   "id": "7d816501",
   "metadata": {},
   "source": [
    "Import our usual suspects (and some more...)"
   ]
  },
  {
   "cell_type": "code",
   "execution_count": null,
   "id": "85a560b2",
   "metadata": {},
   "outputs": [],
   "source": [
    "import os\n",
    "import pandas as pd\n",
    "from dotenv import load_dotenv\n",
    "from graphdatascience import GraphDataScience\n",
    "from neo4j import Query, GraphDatabase, RoutingControl, Result"
   ]
  },
  {
   "cell_type": "markdown",
   "id": "322562de",
   "metadata": {},
   "source": [
    "# Setup"
   ]
  },
  {
   "cell_type": "markdown",
   "id": "775be180",
   "metadata": {},
   "source": [
    "Load env variables"
   ]
  },
  {
   "cell_type": "code",
   "execution_count": null,
   "id": "ab270818",
   "metadata": {},
   "outputs": [],
   "source": [
    "env_file = 'ws.env'"
   ]
  },
  {
   "cell_type": "code",
   "execution_count": null,
   "id": "02db1f7f",
   "metadata": {},
   "outputs": [],
   "source": [
    "if os.path.exists(env_file):\n",
    "    load_dotenv(env_file, override=True)\n",
    "\n",
    "    # Neo4j\n",
    "    HOST = os.getenv('NEO4J_URI')\n",
    "    USERNAME = os.getenv('NEO4J_USERNAME')\n",
    "    PASSWORD = os.getenv('NEO4J_PASSWORD')\n",
    "    DATABASE = os.getenv('NEO4J_DATABASE')\n",
    "else:\n",
    "    print(f\"File {env_file} not found.\")"
   ]
  },
  {
   "cell_type": "markdown",
   "id": "c8884132",
   "metadata": {},
   "source": [
    "Setup connection to the database with the [Python Driver](https://neo4j.com/docs/python-manual/5/)."
   ]
  },
  {
   "cell_type": "code",
   "execution_count": null,
   "id": "6ab531f5",
   "metadata": {},
   "outputs": [],
   "source": [
    "driver = GraphDatabase.driver(\n",
    "    HOST,\n",
    "    auth=(USERNAME, PASSWORD)\n",
    ")"
   ]
  },
  {
   "cell_type": "markdown",
   "id": "440bc4a0",
   "metadata": {},
   "source": [
    "Test the connection"
   ]
  },
  {
   "cell_type": "code",
   "execution_count": null,
   "id": "a6355d04",
   "metadata": {},
   "outputs": [],
   "source": [
    "driver.execute_query(\n",
    "    \"\"\"\n",
    "    MATCH (n) RETURN COUNT(n) as Count\n",
    "    \"\"\",\n",
    "    database_=DATABASE,\n",
    "    routing_=RoutingControl.READ,\n",
    "    result_transformer_= lambda r: r.to_df()\n",
    ")"
   ]
  },
  {
   "cell_type": "markdown",
   "id": "2d94494d",
   "metadata": {},
   "source": [
    "## Explore the graph \n",
    "\n",
    "Now to the database and observe what is there. Example queries:\n",
    "\n",
    "- `MATCH (n:Customer) RETURN n LIMIT 25`\n",
    "\n",
    "- `MATCH (n:Chunk) RETURN n LIMIT 25`\n",
    "\n",
    "- `MATCH p=()-[r:PART_OF]->() RETURN p LIMIT 25`\n",
    "\n",
    "We can also run this via the [Neo4j Python Driver](https://neo4j.com/docs/python-manual/5/) wihtin your Notebook. Let's do so below!"
   ]
  },
  {
   "cell_type": "markdown",
   "id": "014c0e47",
   "metadata": {},
   "source": [
    "### How many Customers are there in the graph?"
   ]
  },
  {
   "cell_type": "code",
   "execution_count": null,
   "id": "08afd46e",
   "metadata": {},
   "outputs": [],
   "source": [
    "driver.execute_query(\n",
    "    \"\"\"\n",
    "    MATCH (cust:Customer) \n",
    "    RETURN COUNT(cust)\n",
    "    \"\"\",\n",
    "    database_=DATABASE,\n",
    "    routing_=RoutingControl.READ,\n",
    "    result_transformer_= lambda r: r.to_df()\n",
    ")"
   ]
  },
  {
   "cell_type": "markdown",
   "id": "3a9af862",
   "metadata": {},
   "source": [
    "### What products do customers have? "
   ]
  },
  {
   "cell_type": "code",
   "execution_count": null,
   "id": "25e03cc8",
   "metadata": {},
   "outputs": [],
   "source": [
    "customer_product_df = driver.execute_query(\n",
    "    \"\"\"\n",
    "    MATCH (cust:Customer)-[:HAS_PRODUCT]->(prod:Product)\n",
    "    WITH DISTINCT cust, COLLECT(prod.name) AS products\n",
    "    RETURN cust.name AS customer_name, SIZE(products) AS num_products, products LIMIT 10\n",
    "    \"\"\",\n",
    "    database_=DATABASE,\n",
    "    routing_=RoutingControl.READ,\n",
    "    result_transformer_= lambda r: r.to_df()\n",
    ")"
   ]
  },
  {
   "cell_type": "code",
   "execution_count": null,
   "id": "ee60e422",
   "metadata": {},
   "outputs": [],
   "source": [
    "customer_product_df"
   ]
  },
  {
   "cell_type": "markdown",
   "id": "95906f9a",
   "metadata": {},
   "source": [
    "### How many products on average?"
   ]
  },
  {
   "cell_type": "code",
   "execution_count": null,
   "id": "21654acc",
   "metadata": {},
   "outputs": [],
   "source": [
    "customer_product_df[\"num_products\"].describe()"
   ]
  },
  {
   "cell_type": "markdown",
   "id": "5413454c",
   "metadata": {},
   "source": [
    "### What are the most common products?"
   ]
  },
  {
   "cell_type": "code",
   "execution_count": null,
   "id": "fd2b19d0",
   "metadata": {},
   "outputs": [],
   "source": [
    "product_df = driver.execute_query(\n",
    "    \"\"\"\n",
    "    MATCH (cust:Customer)-[:HAS_PRODUCT]->(prod:Product)\n",
    "    RETURN DISTINCT prod.name AS product_name, COUNT(cust) AS num_customers ORDER BY num_customers DESC\n",
    "    \"\"\",\n",
    "    database_=DATABASE,\n",
    "    routing_=RoutingControl.READ,\n",
    "    result_transformer_= lambda r: r.to_df()\n",
    ")"
   ]
  },
  {
   "cell_type": "code",
   "execution_count": null,
   "id": "ac296e0a",
   "metadata": {},
   "outputs": [],
   "source": [
    "product_df"
   ]
  },
  {
   "cell_type": "markdown",
   "id": "3d7e1192",
   "metadata": {},
   "source": [
    "### What documents are in the database?"
   ]
  },
  {
   "cell_type": "code",
   "execution_count": null,
   "id": "5ad11f83",
   "metadata": {},
   "outputs": [],
   "source": [
    "document_df = driver.execute_query(\n",
    "    \"\"\"\n",
    "    MATCH (prod_type:ProductType)<-[:RELATED_TO]-(doc:Document) \n",
    "    RETURN DISTINCT prod_type.name AS product_type, doc.file_name AS document, doc.pages AS num_pages\n",
    "    \"\"\",\n",
    "    database_=DATABASE,\n",
    "    routing_=RoutingControl.READ,\n",
    "    result_transformer_= lambda r: r.to_df()\n",
    ")"
   ]
  },
  {
   "cell_type": "code",
   "execution_count": null,
   "id": "671ed1d3",
   "metadata": {},
   "outputs": [],
   "source": [
    "document_df"
   ]
  },
  {
   "cell_type": "markdown",
   "id": "fb3d1556",
   "metadata": {},
   "source": [
    "### How many chunks are the documents split into?"
   ]
  },
  {
   "cell_type": "code",
   "execution_count": null,
   "id": "ba3d4117",
   "metadata": {},
   "outputs": [],
   "source": [
    "document_chunks_df = driver.execute_query(\n",
    "    \"\"\"\n",
    "    MATCH (doc:Document)<-[:PART_OF]-(chunk:Chunk)\n",
    "    WITH DISTINCT doc, COLLECT(chunk) AS chunks\n",
    "    RETURN doc.file_name AS file_name, doc.pages AS pages, SIZE(chunks) AS chunk_count\n",
    "    \"\"\",\n",
    "    database_=DATABASE,\n",
    "    routing_=RoutingControl.READ,\n",
    "    result_transformer_= lambda r: r.to_df()\n",
    ")"
   ]
  },
  {
   "cell_type": "code",
   "execution_count": null,
   "id": "1b538eea",
   "metadata": {},
   "outputs": [],
   "source": [
    "document_chunks_df"
   ]
  },
  {
   "cell_type": "markdown",
   "id": "d5c9983f",
   "metadata": {},
   "source": [
    "## Extracted Definitions\n",
    "\n",
    "Let's dive into the extracted definitions. "
   ]
  },
  {
   "cell_type": "code",
   "execution_count": null,
   "id": "c27970d2",
   "metadata": {},
   "outputs": [],
   "source": [
    "definitions_df = driver.execute_query(\n",
    "    \"\"\"\n",
    "    MATCH (doc:Document)<-[:PART_OF]-(chunk:Chunk)-[:MENTIONS]->(def:Definition)\n",
    "    WITH DISTINCT doc, COLLECT(def) AS definitions\n",
    "    RETURN doc.file_name AS file_name, SIZE(definitions) AS definition_count, [def in definitions | def.term][0] AS definition_example, [def in definitions | def.description][0] AS description_example\n",
    "    \"\"\",\n",
    "    database_=DATABASE,\n",
    "    routing_=RoutingControl.READ,\n",
    "    result_transformer_= lambda r: r.to_df()\n",
    ")"
   ]
  },
  {
   "cell_type": "code",
   "execution_count": null,
   "id": "7b7dfeae",
   "metadata": {},
   "outputs": [],
   "source": [
    "definitions_df"
   ]
  },
  {
   "cell_type": "markdown",
   "id": "4234456d",
   "metadata": {},
   "source": [
    "### What definitions are mentioned most frequently within chunks?\n",
    "\n",
    "Some definitions are mentioned in many chunks. These \"supernodes\" are often not informative as they do not capture specific information about the particular chunk itself."
   ]
  },
  {
   "cell_type": "code",
   "execution_count": null,
   "id": "f734ffb5",
   "metadata": {},
   "outputs": [],
   "source": [
    "definition_count_df = driver.execute_query(\n",
    "    \"\"\"\n",
    "    MATCH (doc:Document)<-[:PART_OF]-(chunk:Chunk)-[:MENTIONS]->(def:Definition)\n",
    "    WITH DISTINCT def, COUNT(DISTINCT chunk) AS chunk_count, COUNT(DISTINCT doc) AS document_count\n",
    "    RETURN def.term AS definition, def.description AS description, chunk_count, document_count ORDER BY chunk_count DESC LIMIT 25\n",
    "    \"\"\",\n",
    "    database_=DATABASE,\n",
    "    routing_=RoutingControl.READ,\n",
    "    result_transformer_= lambda r: r.to_df(),\n",
    ")"
   ]
  },
  {
   "cell_type": "code",
   "execution_count": null,
   "id": "10146c4c",
   "metadata": {},
   "outputs": [],
   "source": [
    "definition_count_df"
   ]
  }
 ],
 "metadata": {
  "kernelspec": {
   "display_name": "Python 3 (ipykernel)",
   "language": "python",
   "name": "python3"
  },
  "language_info": {
   "codemirror_mode": {
    "name": "ipython",
    "version": 3
   },
   "file_extension": ".py",
   "mimetype": "text/x-python",
   "name": "python",
   "nbconvert_exporter": "python",
   "pygments_lexer": "ipython3",
   "version": "3.11.5"
  }
 },
 "nbformat": 4,
 "nbformat_minor": 5
}
