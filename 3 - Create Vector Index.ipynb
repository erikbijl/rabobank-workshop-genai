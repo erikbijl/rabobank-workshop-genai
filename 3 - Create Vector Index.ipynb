{
 "cells": [
  {
   "cell_type": "markdown",
   "metadata": {},
   "source": [
    "# Create Vector Index "
   ]
  },
  {
   "cell_type": "markdown",
   "metadata": {},
   "source": [
    "This notebook creates a Vector Index on top of the embeddings in Neo4j. This can be used later on for a vector search in the database. Documentation of the vector index in Neo4j can be found here: [Neo4j Vector Index and Search](https://neo4j.com/labs/genai-ecosystem/vector-search/?msclkid=c56d8efbd9a0151f76ebea164f5643cb&utm_source=Google&utm_medium=PaidSearch&utm_campaign=Evergreen&utm_content=EMEA-Search-SEMCE-DSA-None-SEM-SEM-NonABM&utm_term=&utm_adgroup=DSA&gad_source=1&gclid=Cj0KCQjw9vqyBhCKARIsAIIcLMEVATnevK1iXdTlPzxCK8eytADNy4tWZXXRF_NAthTi4x_sO19uUP4aAubSEALw_wcB). \n",
    "\n",
    "Again, for executing the queries we make use of [Python Driver](https://neo4j.com/docs/api/python-driver/current/) that enables querying Neo4j from a Python script"
   ]
  },
  {
   "cell_type": "code",
   "execution_count": 27,
   "metadata": {},
   "outputs": [],
   "source": [
    "import pandas as pd\n",
    "from neo4j import Query, GraphDatabase, RoutingControl, Result\n",
    "import os\n",
    "from dotenv import load_dotenv\n",
    "from langchain_openai import OpenAIEmbeddings\n",
    "from json import loads, dumps"
   ]
  },
  {
   "cell_type": "markdown",
   "metadata": {},
   "source": [
    "## Get Credentials"
   ]
  },
  {
   "cell_type": "code",
   "execution_count": 28,
   "metadata": {},
   "outputs": [],
   "source": [
    "env_file = 'credentials.env'"
   ]
  },
  {
   "cell_type": "code",
   "execution_count": 29,
   "metadata": {},
   "outputs": [],
   "source": [
    "if os.path.exists(env_file):\n",
    "    load_dotenv(env_file, override=True)\n",
    "\n",
    "    # Neo4j\n",
    "    HOST = os.getenv('NEO4J_URI')\n",
    "    USERNAME = os.getenv('NEO4J_USERNAME')\n",
    "    PASSWORD = os.getenv('NEO4J_PASSWORD')\n",
    "    DATABASE = os.getenv('NEO4J_DATABASE')\n",
    "\n",
    "    # AI\n",
    "    OPENAI_API_KEY = os.getenv('OPENAI_API_KEY')\n",
    "    os.environ['OPENAI_API_KEY']=OPENAI_API_KEY\n",
    "    LLM = os.getenv('LLM')\n",
    "    EMBEDDINGS_MODEL = os.getenv('EMBEDDINGS_MODEL')\n",
    "else:\n",
    "    print(f\"File {env_file} not found.\")"
   ]
  },
  {
   "cell_type": "markdown",
   "metadata": {},
   "source": [
    "## Setup Connection to Database"
   ]
  },
  {
   "cell_type": "markdown",
   "metadata": {},
   "source": [
    "Connect to neo4j db"
   ]
  },
  {
   "cell_type": "code",
   "execution_count": 30,
   "metadata": {},
   "outputs": [],
   "source": [
    "driver = GraphDatabase.driver(\n",
    "    HOST,\n",
    "    auth=(USERNAME, PASSWORD)\n",
    ")"
   ]
  },
  {
   "cell_type": "markdown",
   "metadata": {},
   "source": [
    "Test the connection"
   ]
  },
  {
   "cell_type": "code",
   "execution_count": 31,
   "metadata": {},
   "outputs": [
    {
     "data": {
      "text/html": [
       "<div>\n",
       "<style scoped>\n",
       "    .dataframe tbody tr th:only-of-type {\n",
       "        vertical-align: middle;\n",
       "    }\n",
       "\n",
       "    .dataframe tbody tr th {\n",
       "        vertical-align: top;\n",
       "    }\n",
       "\n",
       "    .dataframe thead th {\n",
       "        text-align: right;\n",
       "    }\n",
       "</style>\n",
       "<table border=\"1\" class=\"dataframe\">\n",
       "  <thead>\n",
       "    <tr style=\"text-align: right;\">\n",
       "      <th></th>\n",
       "      <th>Count</th>\n",
       "    </tr>\n",
       "  </thead>\n",
       "  <tbody>\n",
       "    <tr>\n",
       "      <th>0</th>\n",
       "      <td>1494</td>\n",
       "    </tr>\n",
       "  </tbody>\n",
       "</table>\n",
       "</div>"
      ],
      "text/plain": [
       "   Count\n",
       "0   1494"
      ]
     },
     "execution_count": 31,
     "metadata": {},
     "output_type": "execute_result"
    }
   ],
   "source": [
    "driver.execute_query(\n",
    "    \"\"\"\n",
    "    MATCH (n) RETURN COUNT(n) as Count\n",
    "    \"\"\",\n",
    "    database_=DATABASE,\n",
    "    routing_=RoutingControl.READ,\n",
    "    result_transformer_= lambda r: r.to_df()\n",
    ")"
   ]
  },
  {
   "cell_type": "markdown",
   "metadata": {},
   "source": [
    "## Create Vector Index "
   ]
  },
  {
   "cell_type": "markdown",
   "metadata": {},
   "source": [
    "Convert the embeddings to a vector property with the [setNodeVectorProperty](https://neo4j.com/docs/operations-manual/5/reference/procedures/#procedure_db_create_setNodeVectorProperty) procedure."
   ]
  },
  {
   "cell_type": "code",
   "execution_count": 32,
   "metadata": {},
   "outputs": [],
   "source": [
    "no_chunks = driver.execute_query(\n",
    "    \"\"\"\n",
    "    MATCH (n:Chunk) RETURN COUNT(n) as Count\n",
    "    \"\"\",\n",
    "    database_=DATABASE,\n",
    "    routing_=RoutingControl.READ,\n",
    "    result_transformer_= lambda r: r.to_df()\n",
    ")"
   ]
  },
  {
   "cell_type": "code",
   "execution_count": 33,
   "metadata": {},
   "outputs": [
    {
     "data": {
      "text/html": [
       "<div>\n",
       "<style scoped>\n",
       "    .dataframe tbody tr th:only-of-type {\n",
       "        vertical-align: middle;\n",
       "    }\n",
       "\n",
       "    .dataframe tbody tr th {\n",
       "        vertical-align: top;\n",
       "    }\n",
       "\n",
       "    .dataframe thead th {\n",
       "        text-align: right;\n",
       "    }\n",
       "</style>\n",
       "<table border=\"1\" class=\"dataframe\">\n",
       "  <thead>\n",
       "    <tr style=\"text-align: right;\">\n",
       "      <th></th>\n",
       "      <th>Count</th>\n",
       "    </tr>\n",
       "  </thead>\n",
       "  <tbody>\n",
       "    <tr>\n",
       "      <th>0</th>\n",
       "      <td>610</td>\n",
       "    </tr>\n",
       "  </tbody>\n",
       "</table>\n",
       "</div>"
      ],
      "text/plain": [
       "   Count\n",
       "0    610"
      ]
     },
     "execution_count": 33,
     "metadata": {},
     "output_type": "execute_result"
    }
   ],
   "source": [
    "no_chunks"
   ]
  },
  {
   "cell_type": "code",
   "execution_count": 34,
   "metadata": {},
   "outputs": [
    {
     "name": "stdout",
     "output_type": "stream",
     "text": [
      "Running 7 batches with size 100\n"
     ]
    }
   ],
   "source": [
    "batch_size = 100\n",
    "nr_batches = int(no_chunks.iloc[0].Count / batch_size) + 1\n",
    "print(f'Running {nr_batches} batches with size {batch_size}')"
   ]
  },
  {
   "cell_type": "code",
   "execution_count": 35,
   "metadata": {},
   "outputs": [],
   "source": [
    "for batch in range(nr_batches):\n",
    "    query = f\"\"\"\n",
    "        MATCH(c:Chunk)\n",
    "        WHERE c.id >= {(batch*batch_size)+1} AND c.id <= {(batch+1)*batch_size}\n",
    "        CALL db.create.setNodeVectorProperty(c, \"embedding\", c.embedding)\n",
    "        RETURN count(c) AS propertySetCount\n",
    "    \"\"\"\n",
    "\n",
    "    driver.execute_query(\n",
    "        query,\n",
    "        database_=DATABASE,\n",
    "        routing_=RoutingControl.WRITE,\n",
    "    )\n",
    "    \n",
    "    if ((batch % 10 == 0) & (batch != 0)):\n",
    "        print(f\"Finished: {batch}/{nr_batches} batches ({round(batch/nr_batches*100,2)}%)\")"
   ]
  },
  {
   "cell_type": "markdown",
   "metadata": {},
   "source": [
    "Create the [vector index](https://neo4j.com/docs/cypher-manual/current/indexes/semantic-indexes/vector-indexes/#create-vector-index) in Neo4j"
   ]
  },
  {
   "cell_type": "code",
   "execution_count": 36,
   "metadata": {},
   "outputs": [],
   "source": [
    "query = \"\"\"\n",
    "    CREATE VECTOR INDEX `chunk-embeddings` IF NOT EXISTS\n",
    "    FOR (c:Chunk) ON (c.embedding)\n",
    "    OPTIONS {\n",
    "        indexConfig: {\n",
    "            `vector.dimensions`: 1536,\n",
    "            `vector.similarity_function`: 'cosine'\n",
    "        } \n",
    "    }\n",
    "\"\"\""
   ]
  },
  {
   "cell_type": "code",
   "execution_count": 37,
   "metadata": {},
   "outputs": [
    {
     "data": {
      "text/plain": [
       "EagerResult(records=[], summary=<neo4j._work.summary.ResultSummary object at 0x16739e390>, keys=[])"
      ]
     },
     "execution_count": 37,
     "metadata": {},
     "output_type": "execute_result"
    }
   ],
   "source": [
    "driver.execute_query(\n",
    "    query,\n",
    "    database_=DATABASE,\n",
    "    routing_=RoutingControl.WRITE\n",
    ")"
   ]
  },
  {
   "cell_type": "code",
   "execution_count": 38,
   "metadata": {},
   "outputs": [
    {
     "data": {
      "text/html": [
       "<div>\n",
       "<style scoped>\n",
       "    .dataframe tbody tr th:only-of-type {\n",
       "        vertical-align: middle;\n",
       "    }\n",
       "\n",
       "    .dataframe tbody tr th {\n",
       "        vertical-align: top;\n",
       "    }\n",
       "\n",
       "    .dataframe thead th {\n",
       "        text-align: right;\n",
       "    }\n",
       "</style>\n",
       "<table border=\"1\" class=\"dataframe\">\n",
       "  <thead>\n",
       "    <tr style=\"text-align: right;\">\n",
       "      <th></th>\n",
       "      <th>id</th>\n",
       "      <th>name</th>\n",
       "      <th>state</th>\n",
       "      <th>populationPercent</th>\n",
       "      <th>type</th>\n",
       "      <th>entityType</th>\n",
       "      <th>labelsOrTypes</th>\n",
       "      <th>properties</th>\n",
       "      <th>indexProvider</th>\n",
       "      <th>owningConstraint</th>\n",
       "      <th>lastRead</th>\n",
       "      <th>readCount</th>\n",
       "    </tr>\n",
       "  </thead>\n",
       "  <tbody>\n",
       "    <tr>\n",
       "      <th>0</th>\n",
       "      <td>6</td>\n",
       "      <td>chunk-embeddings</td>\n",
       "      <td>ONLINE</td>\n",
       "      <td>100.0</td>\n",
       "      <td>VECTOR</td>\n",
       "      <td>NODE</td>\n",
       "      <td>[Chunk]</td>\n",
       "      <td>[embedding]</td>\n",
       "      <td>vector-2.0</td>\n",
       "      <td>None</td>\n",
       "      <td>2025-05-13T10:14:40.648000000+00:00</td>\n",
       "      <td>62</td>\n",
       "    </tr>\n",
       "    <tr>\n",
       "      <th>1</th>\n",
       "      <td>0</td>\n",
       "      <td>index_343aff4e</td>\n",
       "      <td>ONLINE</td>\n",
       "      <td>100.0</td>\n",
       "      <td>LOOKUP</td>\n",
       "      <td>NODE</td>\n",
       "      <td>None</td>\n",
       "      <td>None</td>\n",
       "      <td>token-lookup-1.0</td>\n",
       "      <td>None</td>\n",
       "      <td>2025-05-13T13:52:42.707000000+00:00</td>\n",
       "      <td>3692</td>\n",
       "    </tr>\n",
       "    <tr>\n",
       "      <th>2</th>\n",
       "      <td>1</td>\n",
       "      <td>index_f7700477</td>\n",
       "      <td>ONLINE</td>\n",
       "      <td>100.0</td>\n",
       "      <td>LOOKUP</td>\n",
       "      <td>RELATIONSHIP</td>\n",
       "      <td>None</td>\n",
       "      <td>None</td>\n",
       "      <td>token-lookup-1.0</td>\n",
       "      <td>None</td>\n",
       "      <td>2025-05-12T12:24:46.937000000+00:00</td>\n",
       "      <td>13</td>\n",
       "    </tr>\n",
       "    <tr>\n",
       "      <th>3</th>\n",
       "      <td>4</td>\n",
       "      <td>unique_chunk</td>\n",
       "      <td>ONLINE</td>\n",
       "      <td>100.0</td>\n",
       "      <td>RANGE</td>\n",
       "      <td>NODE</td>\n",
       "      <td>[Chunk]</td>\n",
       "      <td>[id]</td>\n",
       "      <td>range-1.0</td>\n",
       "      <td>unique_chunk</td>\n",
       "      <td>2025-05-13T12:31:28.842000000+00:00</td>\n",
       "      <td>10865</td>\n",
       "    </tr>\n",
       "    <tr>\n",
       "      <th>4</th>\n",
       "      <td>2</td>\n",
       "      <td>unique_document</td>\n",
       "      <td>ONLINE</td>\n",
       "      <td>100.0</td>\n",
       "      <td>RANGE</td>\n",
       "      <td>NODE</td>\n",
       "      <td>[Document]</td>\n",
       "      <td>[id]</td>\n",
       "      <td>range-1.0</td>\n",
       "      <td>unique_document</td>\n",
       "      <td>2025-05-13T12:31:28.842000000+00:00</td>\n",
       "      <td>2742</td>\n",
       "    </tr>\n",
       "  </tbody>\n",
       "</table>\n",
       "</div>"
      ],
      "text/plain": [
       "   id              name   state  populationPercent    type    entityType  \\\n",
       "0   6  chunk-embeddings  ONLINE              100.0  VECTOR          NODE   \n",
       "1   0    index_343aff4e  ONLINE              100.0  LOOKUP          NODE   \n",
       "2   1    index_f7700477  ONLINE              100.0  LOOKUP  RELATIONSHIP   \n",
       "3   4      unique_chunk  ONLINE              100.0   RANGE          NODE   \n",
       "4   2   unique_document  ONLINE              100.0   RANGE          NODE   \n",
       "\n",
       "  labelsOrTypes   properties     indexProvider owningConstraint  \\\n",
       "0       [Chunk]  [embedding]        vector-2.0             None   \n",
       "1          None         None  token-lookup-1.0             None   \n",
       "2          None         None  token-lookup-1.0             None   \n",
       "3       [Chunk]         [id]         range-1.0     unique_chunk   \n",
       "4    [Document]         [id]         range-1.0  unique_document   \n",
       "\n",
       "                              lastRead  readCount  \n",
       "0  2025-05-13T10:14:40.648000000+00:00         62  \n",
       "1  2025-05-13T13:52:42.707000000+00:00       3692  \n",
       "2  2025-05-12T12:24:46.937000000+00:00         13  \n",
       "3  2025-05-13T12:31:28.842000000+00:00      10865  \n",
       "4  2025-05-13T12:31:28.842000000+00:00       2742  "
      ]
     },
     "execution_count": 38,
     "metadata": {},
     "output_type": "execute_result"
    }
   ],
   "source": [
    "schema_result_df  = driver.execute_query(\n",
    "    'SHOW INDEXES',\n",
    "    database_=DATABASE,\n",
    "    routing_=RoutingControl.READ,\n",
    "    result_transformer_= lambda r: r.to_df()\n",
    ")\n",
    "schema_result_df.head()"
   ]
  },
  {
   "cell_type": "markdown",
   "metadata": {},
   "source": [
    "## Experiment with the Vector Search"
   ]
  },
  {
   "cell_type": "code",
   "execution_count": 39,
   "metadata": {},
   "outputs": [],
   "source": [
    "embedding_model = OpenAIEmbeddings(\n",
    "    model=EMBEDDINGS_MODEL,\n",
    "    openai_api_key=OPENAI_API_KEY\n",
    ")"
   ]
  },
  {
   "cell_type": "code",
   "execution_count": 40,
   "metadata": {},
   "outputs": [
    {
     "data": {
      "text/plain": [
       "'text-embedding-ada-002'"
      ]
     },
     "execution_count": 40,
     "metadata": {},
     "output_type": "execute_result"
    }
   ],
   "source": [
    "embedding_model.model"
   ]
  },
  {
   "cell_type": "code",
   "execution_count": 41,
   "metadata": {},
   "outputs": [],
   "source": [
    "similarity_query = \"\"\" \n",
    "    CALL db.index.vector.queryNodes(\"chunk-embeddings\", 5, $message_vector) YIELD node, score\n",
    "    WITH node as chunk, score ORDER BY score DESC\n",
    "    MATCH (d:Document)<-[:PART_OF]-(chunk)\n",
    "    RETURN score, d.file_name as file_name, chunk.id as chunk_id, chunk.page as page, chunk.chunk_eng AS chunk\n",
    "\"\"\""
   ]
  },
  {
   "cell_type": "code",
   "execution_count": 42,
   "metadata": {},
   "outputs": [],
   "source": [
    "message = \"How can I use the online services safely?\""
   ]
  },
  {
   "cell_type": "code",
   "execution_count": 43,
   "metadata": {},
   "outputs": [],
   "source": [
    "message_vector = embedding_model.embed_query(message)"
   ]
  },
  {
   "cell_type": "code",
   "execution_count": 44,
   "metadata": {},
   "outputs": [],
   "source": [
    "results_df = driver.execute_query(\n",
    "    similarity_query,\n",
    "    database_=DATABASE,\n",
    "    routing_=RoutingControl.READ,\n",
    "    message_vector=message_vector,\n",
    "    result_transformer_= lambda r: r.to_df()\n",
    ")"
   ]
  },
  {
   "cell_type": "code",
   "execution_count": 45,
   "metadata": {},
   "outputs": [
    {
     "data": {
      "text/html": [
       "<div>\n",
       "<style scoped>\n",
       "    .dataframe tbody tr th:only-of-type {\n",
       "        vertical-align: middle;\n",
       "    }\n",
       "\n",
       "    .dataframe tbody tr th {\n",
       "        vertical-align: top;\n",
       "    }\n",
       "\n",
       "    .dataframe thead th {\n",
       "        text-align: right;\n",
       "    }\n",
       "</style>\n",
       "<table border=\"1\" class=\"dataframe\">\n",
       "  <thead>\n",
       "    <tr style=\"text-align: right;\">\n",
       "      <th></th>\n",
       "      <th>score</th>\n",
       "      <th>file_name</th>\n",
       "      <th>chunk_id</th>\n",
       "      <th>page</th>\n",
       "      <th>chunk</th>\n",
       "    </tr>\n",
       "  </thead>\n",
       "  <tbody>\n",
       "    <tr>\n",
       "      <th>0</th>\n",
       "      <td>0.925171</td>\n",
       "      <td>Terms &amp; Conditions for Online Business Service...</td>\n",
       "      <td>128</td>\n",
       "      <td>14</td>\n",
       "      <td>Page | 14\\n\\nSection 6: How to use our Online ...</td>\n",
       "    </tr>\n",
       "    <tr>\n",
       "      <th>1</th>\n",
       "      <td>0.922913</td>\n",
       "      <td>Terms &amp; Conditions for Online Business Service...</td>\n",
       "      <td>132</td>\n",
       "      <td>15</td>\n",
       "      <td>Page | 15\\n\\niv. switch to using any other rec...</td>\n",
       "    </tr>\n",
       "    <tr>\n",
       "      <th>2</th>\n",
       "      <td>0.922852</td>\n",
       "      <td>Terms &amp; Conditions for Online Business Service...</td>\n",
       "      <td>133</td>\n",
       "      <td>15</td>\n",
       "      <td>6.3. Using Internet, telecommunication and/or ...</td>\n",
       "    </tr>\n",
       "    <tr>\n",
       "      <th>3</th>\n",
       "      <td>0.919052</td>\n",
       "      <td>Terms &amp; Conditions for Online Business Service...</td>\n",
       "      <td>100</td>\n",
       "      <td>4</td>\n",
       "      <td>user. \\n\\nPlease ensure that you keep your Sec...</td>\n",
       "    </tr>\n",
       "    <tr>\n",
       "      <th>4</th>\n",
       "      <td>0.918594</td>\n",
       "      <td>Payment and Online Services Terms Sept 2022.pdf</td>\n",
       "      <td>243</td>\n",
       "      <td>17</td>\n",
       "      <td>18 Terms and Conditions for Payment and Online...</td>\n",
       "    </tr>\n",
       "  </tbody>\n",
       "</table>\n",
       "</div>"
      ],
      "text/plain": [
       "      score                                          file_name  chunk_id  \\\n",
       "0  0.925171  Terms & Conditions for Online Business Service...       128   \n",
       "1  0.922913  Terms & Conditions for Online Business Service...       132   \n",
       "2  0.922852  Terms & Conditions for Online Business Service...       133   \n",
       "3  0.919052  Terms & Conditions for Online Business Service...       100   \n",
       "4  0.918594    Payment and Online Services Terms Sept 2022.pdf       243   \n",
       "\n",
       "   page                                              chunk  \n",
       "0    14  Page | 14\\n\\nSection 6: How to use our Online ...  \n",
       "1    15  Page | 15\\n\\niv. switch to using any other rec...  \n",
       "2    15  6.3. Using Internet, telecommunication and/or ...  \n",
       "3     4  user. \\n\\nPlease ensure that you keep your Sec...  \n",
       "4    17  18 Terms and Conditions for Payment and Online...  "
      ]
     },
     "execution_count": 45,
     "metadata": {},
     "output_type": "execute_result"
    }
   ],
   "source": [
    "results_df"
   ]
  },
  {
   "cell_type": "code",
   "execution_count": 46,
   "metadata": {},
   "outputs": [
    {
     "name": "stdout",
     "output_type": "stream",
     "text": [
      "[\n",
      "  {\n",
      "    \"score\": 0.9251708984,\n",
      "    \"file_name\": \"Terms & Conditions for Online Business Services - April 2024.pdf\",\n",
      "    \"chunk_id\": 128,\n",
      "    \"page\": 14,\n",
      "    \"chunk\": \"Page | 14\\n\\nSection 6: How to use our Online Services safely\\n\\n6.1. What you need to do\\n\\na. Before using any Online Services you and each User must make sure that the Devices are (i) compatible with the Online Services, (ii) free of any viruses, (iii) adequately protected by installing up-to-date security, anti-virus and other software and (iv) adequately locked with a Security Code or other appropriate security measure, if possible.  \\nb. It is essential that you and each User take all reasonable steps to protect all Security Resources and Security Codes including by:  \\ni. not keeping a written record of any Security Code or, if you do keep a record of a Security Code, keeping it in a secure place separate from any other Security Code or Security Resource and anything which may identify you or your accounts;  \\nii. never storing or saving any Security Resources together nor record any Security Code on any software which saves it automatically;\"\n",
      "  },\n",
      "  {\n",
      "    \"score\": 0.9229125977,\n",
      "    \"file_name\": \"Terms & Conditions for Online Business Services - April 2024.pdf\",\n",
      "    \"chunk_id\": 132,\n",
      "    \"page\": 15,\n",
      "    \"chunk\": \"Page | 15\\n\\niv. switch to using any other recommended Security Resources or additional security measures, in line with Clause sub c of this clause. f. If you or a User do not follow the requirements of this clause, you may be liable for any losses which arise as a result of unauthorised access to the Online Service. e. You may be required to assist us and/or the police or other competent authorities in any enquiries related to a breach of security of the Online Services. In connection with these enquiries, we may disclose information to the police or other competent authorities to prevent or recover losses.\\n\\n6.2. Secure environment\\n\\nAre you visiting the Website using a browser? Then you must check and ensure that you are still in the secure environment of our Online Service. You can tell from the address bar in your Internet browser.\\n\\n6.3. Using Internet, telecommunication and/or other services, hardware and software safely\"\n",
      "  },\n",
      "  {\n",
      "    \"score\": 0.9228515625,\n",
      "    \"file_name\": \"Terms & Conditions for Online Business Services - April 2024.pdf\",\n",
      "    \"chunk_id\": 133,\n",
      "    \"page\": 15,\n",
      "    \"chunk\": \"6.3. Using Internet, telecommunication and/or other services, hardware and software safely\\n\\na. It is your responsibility to arrange all Internet, telecommunication and/or other services, goods, hardware (including a Device) and software needed to use an Online Service.  \\nb. You must use those Internet, telecommunication and/or other services, hardware, security, and software in such a way as not to cause us or a third party any damage.  \\nc. In addition to the software referred to in this article, we may provide software or arrange for software to be provided to make a data connection extra secure. If we do, you must install the software. We are in no event liable for the use and/or any side effects of this software.  \\n\\n6.4. Rules on Apps\\n\\nIf you want to access an Online Service and/or authenticate yourself for an Online Service via an App, the following rules apply:  \\na. Before installing the App, you must check whether it is one of our Apps.\"\n",
      "  },\n",
      "  {\n",
      "    \"score\": 0.919052124,\n",
      "    \"file_name\": \"Terms & Conditions for Online Business Services - April 2024.pdf\",\n",
      "    \"chunk_id\": 100,\n",
      "    \"page\": 4,\n",
      "    \"chunk\": \"user. \\n\\nPlease ensure that you keep your Security Code confidential and do not share it with anyone. If you suspect that your Security Code has been compromised, please contact us immediately to secure your account. \\n\\nBy using our Online Services, you agree to comply with all security measures and protocols we have in place to protect your information and the integrity of our services. \\n\\nThank you for your cooperation and understanding.\"\n",
      "  },\n",
      "  {\n",
      "    \"score\": 0.9185943604,\n",
      "    \"file_name\": \"Payment and Online Services Terms Sept 2022.pdf\",\n",
      "    \"chunk_id\": 243,\n",
      "    \"page\": 17,\n",
      "    \"chunk\": \"18 Terms and Conditions for Payment and Online Services 2022\\n3) Ensure proper security of the equipment you use for your banking\\n Consider the following:\\n\\u2022 Ensure that the installed software on the equipment, such as computer, tablet, and/or smartphone, that you use for managing your banking is equipped with current (security) updates. Installed software includes the operating system and security programs, such as a virus scanner and firewall.\\n\\u2022 Do not install illegal software.\\n\\u2022 Secure access to the equipment you use for managing your banking with an access code.\\n\\u2022 Also ensure that applications provided by us, on the equipment you use for managing your banking, cannot be used by unauthorized persons.\\n\\u2022 Always log out when you are finished managing your banking.\\n4) Check your account\"\n",
      "  }\n",
      "]\n"
     ]
    }
   ],
   "source": [
    "results = dumps(loads(results_df.to_json(orient=\"records\")), indent=2)\n",
    "print(results)"
   ]
  },
  {
   "cell_type": "code",
   "execution_count": 47,
   "metadata": {},
   "outputs": [],
   "source": [
    "message = \"Can I enable push notifications?\""
   ]
  },
  {
   "cell_type": "code",
   "execution_count": 48,
   "metadata": {},
   "outputs": [],
   "source": [
    "message_vector = embedding_model.embed_query(message)"
   ]
  },
  {
   "cell_type": "code",
   "execution_count": 49,
   "metadata": {},
   "outputs": [],
   "source": [
    "results_df = driver.execute_query(\n",
    "    similarity_query,\n",
    "    database_=DATABASE,\n",
    "    routing_=RoutingControl.READ,\n",
    "    message_vector=message_vector,\n",
    "    result_transformer_= lambda r: r.to_df()\n",
    ")"
   ]
  },
  {
   "cell_type": "code",
   "execution_count": 50,
   "metadata": {},
   "outputs": [
    {
     "data": {
      "text/html": [
       "<div>\n",
       "<style scoped>\n",
       "    .dataframe tbody tr th:only-of-type {\n",
       "        vertical-align: middle;\n",
       "    }\n",
       "\n",
       "    .dataframe tbody tr th {\n",
       "        vertical-align: top;\n",
       "    }\n",
       "\n",
       "    .dataframe thead th {\n",
       "        text-align: right;\n",
       "    }\n",
       "</style>\n",
       "<table border=\"1\" class=\"dataframe\">\n",
       "  <thead>\n",
       "    <tr style=\"text-align: right;\">\n",
       "      <th></th>\n",
       "      <th>score</th>\n",
       "      <th>file_name</th>\n",
       "      <th>chunk_id</th>\n",
       "      <th>page</th>\n",
       "      <th>chunk</th>\n",
       "    </tr>\n",
       "  </thead>\n",
       "  <tbody>\n",
       "    <tr>\n",
       "      <th>0</th>\n",
       "      <td>0.891418</td>\n",
       "      <td>Payment and Online Services Terms Sept 2022.pdf</td>\n",
       "      <td>185</td>\n",
       "      <td>4</td>\n",
       "      <td>You can often do this by setting it up in Rabo...</td>\n",
       "    </tr>\n",
       "    <tr>\n",
       "      <th>1</th>\n",
       "      <td>0.887299</td>\n",
       "      <td>Terms &amp; Conditions for Online Business Service...</td>\n",
       "      <td>140</td>\n",
       "      <td>17</td>\n",
       "      <td>us, you must ensure that your Device is set up...</td>\n",
       "    </tr>\n",
       "    <tr>\n",
       "      <th>2</th>\n",
       "      <td>0.884811</td>\n",
       "      <td>Terms &amp; Conditions for Online Business Service...</td>\n",
       "      <td>139</td>\n",
       "      <td>17</td>\n",
       "      <td>iii. creating security interests;  \\niv. check...</td>\n",
       "    </tr>\n",
       "    <tr>\n",
       "      <th>3</th>\n",
       "      <td>0.879608</td>\n",
       "      <td>Payment and Online Services Terms Sept 2022.pdf</td>\n",
       "      <td>184</td>\n",
       "      <td>4</td>\n",
       "      <td>contact us through one of the reporting points...</td>\n",
       "    </tr>\n",
       "    <tr>\n",
       "      <th>4</th>\n",
       "      <td>0.876083</td>\n",
       "      <td>Payment and Online Services Terms Sept 2022.pdf</td>\n",
       "      <td>320</td>\n",
       "      <td>34</td>\n",
       "      <td>information about this can be found in the rat...</td>\n",
       "    </tr>\n",
       "  </tbody>\n",
       "</table>\n",
       "</div>"
      ],
      "text/plain": [
       "      score                                          file_name  chunk_id  \\\n",
       "0  0.891418    Payment and Online Services Terms Sept 2022.pdf       185   \n",
       "1  0.887299  Terms & Conditions for Online Business Service...       140   \n",
       "2  0.884811  Terms & Conditions for Online Business Service...       139   \n",
       "3  0.879608    Payment and Online Services Terms Sept 2022.pdf       184   \n",
       "4  0.876083    Payment and Online Services Terms Sept 2022.pdf       320   \n",
       "\n",
       "   page                                              chunk  \n",
       "0     4  You can often do this by setting it up in Rabo...  \n",
       "1    17  us, you must ensure that your Device is set up...  \n",
       "2    17  iii. creating security interests;  \\niv. check...  \n",
       "3     4  contact us through one of the reporting points...  \n",
       "4    34  information about this can be found in the rat...  "
      ]
     },
     "execution_count": 50,
     "metadata": {},
     "output_type": "execute_result"
    }
   ],
   "source": [
    "results_df"
   ]
  },
  {
   "cell_type": "code",
   "execution_count": 51,
   "metadata": {},
   "outputs": [
    {
     "name": "stdout",
     "output_type": "stream",
     "text": [
      "[\n",
      "  {\n",
      "    \"score\": 0.891418457,\n",
      "    \"file_name\": \"Payment and Online Services Terms Sept 2022.pdf\",\n",
      "    \"chunk_id\": 185,\n",
      "    \"page\": 4,\n",
      "    \"chunk\": \"You can often do this by setting it up in Rabo Online Banking. If you set up to receive push notifications from us, you must ensure that your device is set up in such a way that you actually see them.  \\n3. We send these notifications without further codes and other security measures. You are responsible for keeping the content of the notification confidential.  \\n5. What applies to the information we provide you?  \\n1. We provide you with information about:  \\na the use of the account, for example about amounts that are credited and debited  \\nb the use of a credit if we have given it to you  \\nc the use of debit cards, digital cards, and credit cards  \\nd other (bank) services determined by us, such as payment requests and online services like iDIN.  \\n2. We can do this on paper or via an online service. If we have agreed with you, you will receive this information once a month on paper.\"\n",
      "  },\n",
      "  {\n",
      "    \"score\": 0.887298584,\n",
      "    \"file_name\": \"Terms & Conditions for Online Business Services - April 2024.pdf\",\n",
      "    \"chunk_id\": 140,\n",
      "    \"page\": 17,\n",
      "    \"chunk\": \"us, you must ensure that your Device is set up so that you can actually see them. A Rabo Alert is an example of such a push message. And/or is an email message that we send to the email address specified by you.  \\nb. We may send you an alert or text message without your consent in special cases. For security reasons, for example. You must then immediately follow the instructions given in the alert or text message. \\nc. You can make changes relating to Rabo Alerts via Rabo Business Banking. For example, if there has been a change of email address or mobile phone number. You can also terminate or block Rabo Alerts via Rabo Business Banking.  \\nd. We send these notifications via push such as Rabo Alerts. It is your responsibility to keep the content of the notification confidential. \\ne. In the event of theft or loss of the Devices that you use to receive Rabo Alerts, you can block receipt via Rabo Business Banking or the helpdesk as described in Clause 9.5. The\"\n",
      "  },\n",
      "  {\n",
      "    \"score\": 0.8848114014,\n",
      "    \"file_name\": \"Terms & Conditions for Online Business Services - April 2024.pdf\",\n",
      "    \"chunk_id\": 139,\n",
      "    \"page\": 17,\n",
      "    \"chunk\": \"iii. creating security interests;  \\niv. checking information you receive from us;  \\nv. placing orders and accepting confirmations;  \\nvi. executing actions for trade and commodity related products;  \\nvii. submitting documents to or receiving documents from us; viewing balances on products you hold with us; or  \\nviii. making more detailed arrangements with us about an Online Service.  \\nThe features of the various Online Services are described in more detail on our Website.  \\nb. You can only arrange to use the Online Service(s) via your Device by registering yourself and your Device. To access the service, you will need a Security Resource and a Security Code.  \\n\\n7.2. Push notifications such as Rabo Alerts  \\n\\na. In Rabo Business Banking, you can set up to receive notifications from us via push notifications (\\u201cRabo Alert\\u201d). If you configure your system to receive push messages from us, you must ensure that your Device is set up so that you can actually see them. A Rabo\"\n",
      "  },\n",
      "  {\n",
      "    \"score\": 0.8796081543,\n",
      "    \"file_name\": \"Payment and Online Services Terms Sept 2022.pdf\",\n",
      "    \"chunk_id\": 184,\n",
      "    \"page\": 4,\n",
      "    \"chunk\": \"contact us through one of the reporting points mentioned in article 43.\\n\\n3. How do we communicate with each other?\\n1. If these terms state that you must notify us of something, we mean that you should do so in writing or by mail. Unless we indicate that it can also be done in another way, for example via Rabo Online Banking or an online form.\\n2. If we want to notify or inform you of something, we determine how we do this. We can also do this solely through an online service. For example, via Rabo Online Banking. We do not need to do this in any other way.\\n\\n4. What applies to notifications we send you?\\n1. We can send you short notifications. We have various options for this, such as email, push notifications, and SMS messages.\\n2. For some notifications, you can set whether or not you want to receive them. You can often do this by configuring it in Rabo Online Banking. If you\"\n",
      "  },\n",
      "  {\n",
      "    \"score\": 0.876083374,\n",
      "    \"file_name\": \"Payment and Online Services Terms Sept 2022.pdf\",\n",
      "    \"chunk_id\": 320,\n",
      "    \"page\": 34,\n",
      "    \"chunk\": \"information about this can be found in the rates and limits overview. \\n5. Are you paying with a debit card, credit card, or a digital card in a foreign currency, \\nso in a currency other than the euro? Or are you withdrawing such a currency from \\nan ATM? Then you may sometimes receive a notification from us containing information \\nabout the exchange rate we apply for that currency. You will receive this notification via \\nemail. If we do not have your email address, we can also send you an SMS or \\npush notification. Do you not wish to receive these notifications? Please let us know. \\nGeneral rules for transfers\\n89. You can transfer money from your account \\n1. You transfer money from your account to a beneficiary's account by \\ngiving us a payment order for a transfer. The beneficiary's account can be an account in the Netherlands or abroad. You can also \\ntransfer money to another account of yours with us or with another bank.\"\n",
      "  }\n",
      "]\n"
     ]
    }
   ],
   "source": [
    "results = dumps(loads(results_df.to_json(orient=\"records\")), indent=2)\n",
    "print(results)"
   ]
  }
 ],
 "metadata": {
  "createdOn": 1712246150170,
  "creator": "admin",
  "customFields": {},
  "hide_input": false,
  "kernelspec": {
   "display_name": "Python 3 (ipykernel)",
   "language": "python",
   "name": "python3"
  },
  "language_info": {
   "codemirror_mode": {
    "name": "ipython",
    "version": 3
   },
   "file_extension": ".py",
   "mimetype": "text/x-python",
   "name": "python",
   "nbconvert_exporter": "python",
   "pygments_lexer": "ipython3",
   "version": "3.11.5"
  },
  "modifiedBy": "admin",
  "tags": []
 },
 "nbformat": 4,
 "nbformat_minor": 4
}
