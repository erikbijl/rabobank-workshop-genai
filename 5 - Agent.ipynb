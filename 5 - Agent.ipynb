{
 "cells": [
  {
   "cell_type": "markdown",
   "metadata": {},
   "source": [
    "# Module 3 - GraphRAG and Agents\n",
    "\n",
    "This module has the following objectives:\n",
    "- Experiment with queries for an Agent\n",
    "- Define Tooling\n",
    "- Create an agents with the available tools\n",
    "- Chatbot for an Agent\n",
    "- Text2Cypher (if we got time)"
   ]
  },
  {
   "cell_type": "code",
   "execution_count": 30,
   "metadata": {
    "id": "FHKg4DVZiQ98"
   },
   "outputs": [],
   "source": [
    "#!pip install graphdatascience neo4j dotenv openai langchain, langgraph, pydantic, gradio"
   ]
  },
  {
   "cell_type": "markdown",
   "metadata": {},
   "source": [
    "Import our usual suspects (and some more...)"
   ]
  },
  {
   "cell_type": "code",
   "execution_count": 60,
   "metadata": {},
   "outputs": [],
   "source": [
    "import os\n",
    "import pandas as pd\n",
    "from dotenv import load_dotenv\n",
    "from graphdatascience import GraphDataScience\n",
    "from neo4j import Query, GraphDatabase, RoutingControl, Result\n",
    "from langchain.schema import HumanMessage\n",
    "from langchain_openai import OpenAIEmbeddings, ChatOpenAI\n",
    "from langchain_core.messages import HumanMessage\n",
    "from langchain_core.prompts import ChatPromptTemplate, PromptTemplate\n",
    "from langchain_core.output_parsers import StrOutputParser\n",
    "from langgraph.prebuilt import create_react_agent\n",
    "from openai import OpenAI\n",
    "from typing import List, Optional\n",
    "from pydantic import BaseModel, Field, validator\n",
    "import functools\n",
    "from langchain_core.tools import tool\n",
    "import gradio as gr\n",
    "import time\n",
    "from json import loads, dumps"
   ]
  },
  {
   "cell_type": "markdown",
   "metadata": {
    "id": "ynPe6RLRWSKd"
   },
   "source": [
    "## Setup"
   ]
  },
  {
   "cell_type": "markdown",
   "metadata": {
    "id": "pa61u1jfyk3t"
   },
   "source": [
    "Load env variables"
   ]
  },
  {
   "cell_type": "code",
   "execution_count": 35,
   "metadata": {},
   "outputs": [],
   "source": [
    "env_file = 'credentials.env'"
   ]
  },
  {
   "cell_type": "code",
   "execution_count": 36,
   "metadata": {
    "id": "CHR_0lmElZ-R"
   },
   "outputs": [],
   "source": [
    "if os.path.exists(env_file):\n",
    "    load_dotenv(env_file, override=True)\n",
    "\n",
    "    # Neo4j\n",
    "    HOST = os.getenv('NEO4J_URI')\n",
    "    USERNAME = os.getenv('NEO4J_USERNAME')\n",
    "    PASSWORD = os.getenv('NEO4J_PASSWORD')\n",
    "    DATABASE = os.getenv('NEO4J_DATABASE')\n",
    "\n",
    "    # AI\n",
    "    OPENAI_API_KEY = os.getenv('OPENAI_API_KEY')\n",
    "    os.environ['OPENAI_API_KEY']=OPENAI_API_KEY\n",
    "    LLM = os.getenv('LLM')\n",
    "    EMBEDDINGS_MODEL = os.getenv('EMBEDDINGS_MODEL')\n",
    "else:\n",
    "    print(f\"File {env_file} not found.\")"
   ]
  },
  {
   "cell_type": "markdown",
   "metadata": {},
   "source": [
    "Connect to neo4j db"
   ]
  },
  {
   "cell_type": "code",
   "execution_count": 37,
   "metadata": {},
   "outputs": [],
   "source": [
    "driver = GraphDatabase.driver(\n",
    "    HOST,\n",
    "    auth=(USERNAME, PASSWORD)\n",
    ")"
   ]
  },
  {
   "cell_type": "markdown",
   "metadata": {},
   "source": [
    "Test the connection"
   ]
  },
  {
   "cell_type": "code",
   "execution_count": 38,
   "metadata": {
    "id": "5w4eCb7xZZ-S"
   },
   "outputs": [
    {
     "data": {
      "text/html": [
       "<div>\n",
       "<style scoped>\n",
       "    .dataframe tbody tr th:only-of-type {\n",
       "        vertical-align: middle;\n",
       "    }\n",
       "\n",
       "    .dataframe tbody tr th {\n",
       "        vertical-align: top;\n",
       "    }\n",
       "\n",
       "    .dataframe thead th {\n",
       "        text-align: right;\n",
       "    }\n",
       "</style>\n",
       "<table border=\"1\" class=\"dataframe\">\n",
       "  <thead>\n",
       "    <tr style=\"text-align: right;\">\n",
       "      <th></th>\n",
       "      <th>Count</th>\n",
       "    </tr>\n",
       "  </thead>\n",
       "  <tbody>\n",
       "    <tr>\n",
       "      <th>0</th>\n",
       "      <td>904</td>\n",
       "    </tr>\n",
       "  </tbody>\n",
       "</table>\n",
       "</div>"
      ],
      "text/plain": [
       "   Count\n",
       "0    904"
      ]
     },
     "execution_count": 38,
     "metadata": {},
     "output_type": "execute_result"
    }
   ],
   "source": [
    "driver.execute_query(\n",
    "    \"\"\"\n",
    "    MATCH (n) RETURN COUNT(n) as Count\n",
    "    \"\"\",\n",
    "    database_=DATABASE,\n",
    "    routing_=RoutingControl.READ,\n",
    "    result_transformer_= lambda r: r.to_df()\n",
    ")"
   ]
  },
  {
   "cell_type": "markdown",
   "metadata": {
    "id": "cdTfdAyV2ZaR"
   },
   "source": [
    "Test whether we got our constraints"
   ]
  },
  {
   "cell_type": "code",
   "execution_count": 39,
   "metadata": {
    "id": "cdTfdAyV2ZaR"
   },
   "outputs": [],
   "source": [
    "schema_result_df  = driver.execute_query(\n",
    "    'show indexes',\n",
    "    database_=DATABASE,\n",
    "    routing_=RoutingControl.READ,\n",
    "    result_transformer_= lambda r: r.to_df()\n",
    ")"
   ]
  },
  {
   "cell_type": "code",
   "execution_count": 40,
   "metadata": {
    "id": "cdTfdAyV2ZaR"
   },
   "outputs": [
    {
     "data": {
      "text/html": [
       "<div>\n",
       "<style scoped>\n",
       "    .dataframe tbody tr th:only-of-type {\n",
       "        vertical-align: middle;\n",
       "    }\n",
       "\n",
       "    .dataframe tbody tr th {\n",
       "        vertical-align: top;\n",
       "    }\n",
       "\n",
       "    .dataframe thead th {\n",
       "        text-align: right;\n",
       "    }\n",
       "</style>\n",
       "<table border=\"1\" class=\"dataframe\">\n",
       "  <thead>\n",
       "    <tr style=\"text-align: right;\">\n",
       "      <th></th>\n",
       "      <th>id</th>\n",
       "      <th>name</th>\n",
       "      <th>state</th>\n",
       "      <th>populationPercent</th>\n",
       "      <th>type</th>\n",
       "      <th>entityType</th>\n",
       "      <th>labelsOrTypes</th>\n",
       "      <th>properties</th>\n",
       "      <th>indexProvider</th>\n",
       "      <th>owningConstraint</th>\n",
       "      <th>lastRead</th>\n",
       "      <th>readCount</th>\n",
       "    </tr>\n",
       "  </thead>\n",
       "  <tbody>\n",
       "    <tr>\n",
       "      <th>0</th>\n",
       "      <td>6</td>\n",
       "      <td>chunk-embeddings</td>\n",
       "      <td>ONLINE</td>\n",
       "      <td>100.0</td>\n",
       "      <td>VECTOR</td>\n",
       "      <td>NODE</td>\n",
       "      <td>[Chunk]</td>\n",
       "      <td>[embedding]</td>\n",
       "      <td>vector-2.0</td>\n",
       "      <td>None</td>\n",
       "      <td>2025-05-07T12:27:38.642000000+00:00</td>\n",
       "      <td>46</td>\n",
       "    </tr>\n",
       "    <tr>\n",
       "      <th>1</th>\n",
       "      <td>0</td>\n",
       "      <td>index_343aff4e</td>\n",
       "      <td>ONLINE</td>\n",
       "      <td>100.0</td>\n",
       "      <td>LOOKUP</td>\n",
       "      <td>NODE</td>\n",
       "      <td>None</td>\n",
       "      <td>None</td>\n",
       "      <td>token-lookup-1.0</td>\n",
       "      <td>None</td>\n",
       "      <td>2025-05-07T12:59:14.211000000+00:00</td>\n",
       "      <td>1683</td>\n",
       "    </tr>\n",
       "    <tr>\n",
       "      <th>2</th>\n",
       "      <td>1</td>\n",
       "      <td>index_f7700477</td>\n",
       "      <td>ONLINE</td>\n",
       "      <td>100.0</td>\n",
       "      <td>LOOKUP</td>\n",
       "      <td>RELATIONSHIP</td>\n",
       "      <td>None</td>\n",
       "      <td>None</td>\n",
       "      <td>token-lookup-1.0</td>\n",
       "      <td>None</td>\n",
       "      <td>2025-04-30T14:19:28.584000000+00:00</td>\n",
       "      <td>4</td>\n",
       "    </tr>\n",
       "    <tr>\n",
       "      <th>3</th>\n",
       "      <td>4</td>\n",
       "      <td>unique_chunk</td>\n",
       "      <td>ONLINE</td>\n",
       "      <td>100.0</td>\n",
       "      <td>RANGE</td>\n",
       "      <td>NODE</td>\n",
       "      <td>[Chunk]</td>\n",
       "      <td>[id]</td>\n",
       "      <td>range-1.0</td>\n",
       "      <td>unique_chunk</td>\n",
       "      <td>2025-05-07T12:27:38.658000000+00:00</td>\n",
       "      <td>3429</td>\n",
       "    </tr>\n",
       "    <tr>\n",
       "      <th>4</th>\n",
       "      <td>2</td>\n",
       "      <td>unique_document</td>\n",
       "      <td>ONLINE</td>\n",
       "      <td>100.0</td>\n",
       "      <td>RANGE</td>\n",
       "      <td>NODE</td>\n",
       "      <td>[Document]</td>\n",
       "      <td>[id]</td>\n",
       "      <td>range-1.0</td>\n",
       "      <td>unique_document</td>\n",
       "      <td>2025-05-06T13:02:01.319000000+00:00</td>\n",
       "      <td>867</td>\n",
       "    </tr>\n",
       "  </tbody>\n",
       "</table>\n",
       "</div>"
      ],
      "text/plain": [
       "   id              name   state  populationPercent    type    entityType  \\\n",
       "0   6  chunk-embeddings  ONLINE              100.0  VECTOR          NODE   \n",
       "1   0    index_343aff4e  ONLINE              100.0  LOOKUP          NODE   \n",
       "2   1    index_f7700477  ONLINE              100.0  LOOKUP  RELATIONSHIP   \n",
       "3   4      unique_chunk  ONLINE              100.0   RANGE          NODE   \n",
       "4   2   unique_document  ONLINE              100.0   RANGE          NODE   \n",
       "\n",
       "  labelsOrTypes   properties     indexProvider owningConstraint  \\\n",
       "0       [Chunk]  [embedding]        vector-2.0             None   \n",
       "1          None         None  token-lookup-1.0             None   \n",
       "2          None         None  token-lookup-1.0             None   \n",
       "3       [Chunk]         [id]         range-1.0     unique_chunk   \n",
       "4    [Document]         [id]         range-1.0  unique_document   \n",
       "\n",
       "                              lastRead  readCount  \n",
       "0  2025-05-07T12:27:38.642000000+00:00         46  \n",
       "1  2025-05-07T12:59:14.211000000+00:00       1683  \n",
       "2  2025-04-30T14:19:28.584000000+00:00          4  \n",
       "3  2025-05-07T12:27:38.658000000+00:00       3429  \n",
       "4  2025-05-06T13:02:01.319000000+00:00        867  "
      ]
     },
     "execution_count": 40,
     "metadata": {},
     "output_type": "execute_result"
    }
   ],
   "source": [
    "schema_result_df.head(100)"
   ]
  },
  {
   "cell_type": "code",
   "execution_count": 49,
   "metadata": {},
   "outputs": [],
   "source": [
    "embedding_model = OpenAIEmbeddings(\n",
    "    model=EMBEDDINGS_MODEL,\n",
    "    openai_api_key=OPENAI_API_KEY\n",
    ")"
   ]
  },
  {
   "cell_type": "code",
   "execution_count": 50,
   "metadata": {},
   "outputs": [
    {
     "data": {
      "text/plain": [
       "'text-embedding-ada-002'"
      ]
     },
     "execution_count": 50,
     "metadata": {},
     "output_type": "execute_result"
    }
   ],
   "source": [
    "embedding_model.model"
   ]
  },
  {
   "cell_type": "markdown",
   "metadata": {},
   "source": [
    "## Agents with GraphRAG"
   ]
  },
  {
   "cell_type": "markdown",
   "metadata": {},
   "source": [
    "### Lets create a Retrieval agent"
   ]
  },
  {
   "cell_type": "code",
   "execution_count": 51,
   "metadata": {},
   "outputs": [],
   "source": [
    "# class Skill(BaseModel):\n",
    "#     \"\"\"\n",
    "#     Represents a professional skill or knowledge of a person.\n",
    "#     \"\"\"\n",
    "#     name: str = Field(..., description=\"Sortened name of the skill\")"
   ]
  },
  {
   "cell_type": "markdown",
   "metadata": {},
   "source": [
    "### Tool 1"
   ]
  },
  {
   "cell_type": "code",
   "execution_count": 52,
   "metadata": {},
   "outputs": [],
   "source": [
    "def retrieve_products() -> pd.DataFrame:\n",
    "    \"\"\"Retrieve the products in the database. Products are specified with name. \"\"\"\n",
    "    return driver.execute_query(\n",
    "        \"\"\"\n",
    "        MATCH (p:Product)\n",
    "        RETURN p.name as name\n",
    "        \"\"\",\n",
    "        database_=DATABASE,\n",
    "        routing_=RoutingControl.READ,\n",
    "        result_transformer_= lambda r: r.to_df(),\n",
    "    )"
   ]
  },
  {
   "cell_type": "code",
   "execution_count": 53,
   "metadata": {},
   "outputs": [
    {
     "data": {
      "text/html": [
       "<div>\n",
       "<style scoped>\n",
       "    .dataframe tbody tr th:only-of-type {\n",
       "        vertical-align: middle;\n",
       "    }\n",
       "\n",
       "    .dataframe tbody tr th {\n",
       "        vertical-align: top;\n",
       "    }\n",
       "\n",
       "    .dataframe thead th {\n",
       "        text-align: right;\n",
       "    }\n",
       "</style>\n",
       "<table border=\"1\" class=\"dataframe\">\n",
       "  <thead>\n",
       "    <tr style=\"text-align: right;\">\n",
       "      <th></th>\n",
       "      <th>name</th>\n",
       "    </tr>\n",
       "  </thead>\n",
       "  <tbody>\n",
       "    <tr>\n",
       "      <th>0</th>\n",
       "      <td>SpaarRekening</td>\n",
       "    </tr>\n",
       "    <tr>\n",
       "      <th>1</th>\n",
       "      <td>DirectRekening</td>\n",
       "    </tr>\n",
       "  </tbody>\n",
       "</table>\n",
       "</div>"
      ],
      "text/plain": [
       "             name\n",
       "0   SpaarRekening\n",
       "1  DirectRekening"
      ]
     },
     "execution_count": 53,
     "metadata": {},
     "output_type": "execute_result"
    }
   ],
   "source": [
    "retrieve_products() "
   ]
  },
  {
   "cell_type": "markdown",
   "metadata": {},
   "source": [
    "### Tool 2"
   ]
  },
  {
   "cell_type": "code",
   "execution_count": 102,
   "metadata": {},
   "outputs": [],
   "source": [
    "def get_context_graphrag(product, search_prompt):\n",
    "\n",
    "    query_vector = embedding_model.embed_query(search_prompt)\n",
    "    \n",
    "    similarity_query = \"\"\" \n",
    "        CALL db.index.vector.queryNodes(\"chunk-embeddings\", 30, $query_vector) YIELD node, score\n",
    "        WITH node as chunk, score ORDER BY score DESC\n",
    "        MATCH (p:Product{name: $product})<-[:RELATED_TO]-(d:Document)<-[:PART_OF]-(chunk)\n",
    "        WITH score, d, chunk LIMIT 5\n",
    "        RETURN score, d.file_name as file_name, chunk.id as chunk_id, chunk.page as page, chunk.chunk AS chunk\n",
    "       \"\"\"\n",
    "    results = driver.execute_query(\n",
    "        similarity_query,\n",
    "        database_=DATABASE,\n",
    "        routing_=RoutingControl.READ,\n",
    "        product = product,\n",
    "        query_vector=query_vector,\n",
    "        result_transformer_= lambda r: r.to_df()\n",
    "    )\n",
    "\n",
    "    chunk_ids = list(set(results['chunk_id'].to_list()))\n",
    "\n",
    "    results = results.to_json(orient=\"records\")\n",
    "    parsed = loads(results)\n",
    "    context = dumps(parsed, indent=4)\n",
    "\n",
    "    definition_query = \"\"\"    \n",
    "        MATCH (c:Chunk)-[:MENTIONS]->(d:Definition)\n",
    "        WHERE c.id in $chunk_ids\n",
    "        RETURN DISTINCT d.term as term, d.description as description\n",
    "    \"\"\"\n",
    "    results = driver.execute_query(\n",
    "        definition_query,\n",
    "        database_=DATABASE,\n",
    "        routing_=RoutingControl.READ,\n",
    "        chunk_ids=chunk_ids,\n",
    "        result_transformer_= lambda r: r.to_df()\n",
    "    )\n",
    "    results = results.to_json(orient=\"records\")\n",
    "    parsed = loads(results)\n",
    "    definitions = dumps(parsed, indent=4)\n",
    "    return context, definitions"
   ]
  },
  {
   "cell_type": "code",
   "execution_count": 103,
   "metadata": {},
   "outputs": [],
   "source": [
    "def perform_search_in_document(product, search_prompt) -> pd.DataFrame:\n",
    "    \"\"\"Peform a search in the document to search relevant text and definitions to answer a user question. The product first needs to be determined before a search should be performed.\"\"\"\n",
    "\n",
    "    context, definitions = get_context_graphrag(product, search_prompt)\n",
    "    \n",
    "    return context, definitions"
   ]
  },
  {
   "cell_type": "code",
   "execution_count": 104,
   "metadata": {},
   "outputs": [
    {
     "name": "stdout",
     "output_type": "stream",
     "text": [
      "[\n",
      "    {\n",
      "        \"score\": 0.9044647217,\n",
      "        \"file_name\": \"Payment and Online Services Terms Sept 2022.pdf\",\n",
      "        \"chunk_id\": 322,\n",
      "        \"page\": 61,\n",
      "        \"chunk\": \"ongeoorloofd roodstaan.  \\nHet bedrag van de ongeoorloofde roodstand is onmiddellijk opeisbaar. Daarbij is \\ngeen ingebrekestelling of andere formaliteit nodig. Dat betekent dat u het bedrag \\nvan deze ongeoorloofde roodstand meteen aan ons moet terugbetalen, zonder \\ndat wij daar om hoeven te vragen.\\n2. Is het afboeken van de debetrente over het gebruikte krediet de reden dat u meer \\nrood staat dan de kredietlimiet? Dan stellen wij u in gebreke door u te vragen \\nhet bedrag van de afgeboekte debetrente die de ongeoorloofde roodstand heeft \\nveroorzaakt v\\u00f3\\u00f3r een bepaalde datum te betalen. Als u dan nog niet betaalt, \\nbrengen wij u over het bedrag dat u aan ons moet betalen vertragingsrente in \\nrekening. \\n175. Vertragingsrente\\na. Moet u ons een bedrag betalen? En bent u daar te laat mee? Dan stellen wij u \\nin gebreke. U krijgt dan een laatste gelegenheid om v\\u00f3\\u00f3r een bepaalde datum \\nte betalen. Als u dan nog niet betaalt, brengen wij vanaf dat moment over het\"\n",
      "    },\n",
      "    {\n",
      "        \"score\": 0.9040222168,\n",
      "        \"file_name\": \"Payment and Online Services Terms Sept 2022.pdf\",\n",
      "        \"chunk_id\": 116,\n",
      "        \"page\": 19,\n",
      "        \"chunk\": \"dit niet tot korting op het tarief. \\n \\n4. Wilt u niet langer online bankieren? Dan kan dat tot gevolg hebben dat uw \\nbetaalpakket niet meer geschikt is en u een ander pakket moet kiezen. Maakt u \\ngeen keuze? Dan mogen wij uw betaalpakket omzetten.\\n49. Zonder krediet rood staan op de rekening\\n1. Als u geen krediet heeft, kunt u toch rood komen te staan op de rekening. \\nBijvoorbeeld doordat wij de kosten van het betaalpakket afboeken van de \\nrekening. Wij noemen dat ongeoorloofd rood staan. U betaalt hierover een \\nvariabele rente.  \\nWij kunnen deze rente altijd wijzigen.\\n2. Deze variabele rente is opgebouwd uit de volgende componenten: een \\nbasistarief, opslagen in verband met ontwikkelingen op de kapitaalmarkten \\nen kapitaalkosten, eventueel individuele risico-opslagen, doorlopende kosten \\n(bijvoorbeeld administratie- en beheerkosten) en een winstopslag.\\n3. Wij kunnen de hoogte van de verschillende componenten altijd wijzigen.\"\n",
      "    },\n",
      "    {\n",
      "        \"score\": 0.8976898193,\n",
      "        \"file_name\": \"Payment and Online Services Terms Sept 2022.pdf\",\n",
      "        \"chunk_id\": 282,\n",
      "        \"page\": 52,\n",
      "        \"chunk\": \"Hiermee kan de incassant vaststellen dat de Digitale Incassomachtiging van u \\nafkomstig is.\\n145. Incassobetaling bij ongeoorloofd rood staan\\n1. Wij mogen een incassobetaling ook uitvoeren als er onvoldoende geld op de \\nrekening staat of er onvoldoende ruimte is in het krediet op de rekening en er \\ndoor de incassobetaling een ongeoorloofde roodstand ontstaat. \\n2. Zorgt een incassobetaling voor een ongeoorloofde roodstand? Dan mogen wij tot \\nen met vijf werkdagen na de datum van afschrijving controleren of u nog steeds \\nongeoorloofd rood staat. Is er na deze vijf werkdagen nog steeds sprake is van een \\nongeoorloofde roodstand? Dan mogen wij de uitgevoerde incassobetaling laten \\nterugboeken naar uw rekening. \\n146. Maatregelen voor u en ons bij incasso\\u2019s\\n1. U kunt verschillende maatregelen nemen om te voorkomen dat er een of meer \\nincassobetalingen plaatsvinden. U neemt deze maatregelen per rekening. Ook zijn\"\n",
      "    },\n",
      "    {\n",
      "        \"score\": 0.8930969238,\n",
      "        \"file_name\": \"Payment and Online Services Terms Sept 2022.pdf\",\n",
      "        \"chunk_id\": 374,\n",
      "        \"page\": 70,\n",
      "        \"chunk\": \"Daarbij houden wij rekening met uw situatie en omstandigheden, maar ook met de \\nbelangen van de bank. Als wij op grond van deze belangenafweging vinden dat het \\nniet redelijk is om op te eisen, zullen wij dit niet doen.\\n4. Wanneer kunnen wij uw krediet opeisen?\\na  U of de zekerheidgever doet niet wat wij met u of hem hebben afgesproken \\nover het krediet of de zekerheid. Er is bijvoorbeeld sprake van een \\nongeoorloofde roodstand. Of u betaalt ons niet of niet op tijd. Dit kunnen ook \\nafspraken zijn die over andere zaken gaan dan het krediet dat we opeisen.\"\n",
      "    },\n",
      "    {\n",
      "        \"score\": 0.8905029297,\n",
      "        \"file_name\": \"Payment and Online Services Terms Sept 2022.pdf\",\n",
      "        \"chunk_id\": 321,\n",
      "        \"page\": 61,\n",
      "        \"chunk\": \"rente wijzigt.\\n173. U betaalt een maandbedrag niet of niet op tijd\\n  Betaalt u een maandbedrag meer dan twee maanden niet? Dan stellen wij u in \\ngebreke.  \\n  U krijgt dan een laatste gelegenheid om v\\u00f3\\u00f3r een bepaalde datum te betalen.  \\nBetaalt u dan nog niet? Dan eindigt het krediet, is het gebruikte krediet \\nonmiddellijk opeisbaar en moet u ons alles meteen betalen. Ook kan het \\nbetekenen dat u extra kosten moet betalen. \\n174. Staat u meer rood dan de kredietlimiet?\\n1. Dan is er sprake van \\u201ceen overschrijding\\u201d of \\u201congeoorloofd roodstaan\\u201d . Hierna \\ngebruiken wij hiervoor het woord \\u201congeoorloofd roodstaan\\u201d . U moet hierover \\n\\u2018debetrente bij ongeoorloofd roodstaan\\u2019 betalen; deze is variabel en kunnen \\nwij altijd wijzigen. De debetrente bij ongeoorloofd roodstaan kan hoger zijn \\ndan de debetrente die geldt voor uw krediet. Artikel 168 en 169 zijn ook van \\ntoepassing op de opbouw van- en de (wijze van) berekening van de debetrente bij \\nongeoorloofd roodstaan.\"\n",
      "    }\n",
      "]\n",
      "[\n",
      "    {\n",
      "        \"term\": \"U\",\n",
      "        \"description\": \"de rekeninghouder alle rekeninghouders samen iedere rekeninghouder apart.\"\n",
      "    },\n",
      "    {\n",
      "        \"term\": \"Wij\",\n",
      "        \"description\": \"De Co\\u00f6peratieve Rabobank U.A.\"\n",
      "    },\n",
      "    {\n",
      "        \"term\": \"Rente\",\n",
      "        \"description\": \"De periodiek door de bank berekende en op de spaarrekening bijgeschreven of afgeschreven vergoeding over het tegoed.\"\n",
      "    },\n",
      "    {\n",
      "        \"term\": \"Betalen\",\n",
      "        \"description\": \"Het overdragen van geld als vergoeding voor goederen of diensten.\"\n",
      "    },\n",
      "    {\n",
      "        \"term\": \"rekening\",\n",
      "        \"description\": \"Een rekening is een financi\\u00eble account waarop geld kan worden gestort en vanwaar geld kan worden opgenomen.\"\n",
      "    },\n",
      "    {\n",
      "        \"term\": \"Kosten\",\n",
      "        \"description\": \"Verschillende soorten kosten die in rekening kunnen worden gebracht, afhankelijk van het betaalpakket en de diensten die worden gebruikt.\"\n",
      "    },\n",
      "    {\n",
      "        \"term\": \"Wijzigen\",\n",
      "        \"description\": \"Het aanpassen van de voorwaarden. Minimaal twee maanden voordat de wijziging ingaat, wordt de klant hierover ge\\u00efnformeerd en de reden van de wijziging wordt gegeven.\"\n",
      "    },\n",
      "    {\n",
      "        \"term\": \"debetrente\",\n",
      "        \"description\": \"Rente die u betaalt over het gebruikte krediet tot het moment van opeisbaarheid.\"\n",
      "    },\n",
      "    {\n",
      "        \"term\": \"Debetrente\",\n",
      "        \"description\": \"De rente die in rekening wordt gebracht voor het gebruik van krediet. De debetrente is variabel en kan altijd worden gewijzigd.\"\n",
      "    },\n",
      "    {\n",
      "        \"term\": \"maandbedrag\",\n",
      "        \"description\": \"Het bedrag dat u elke maand moet betalen als u het krediet gebruikt, totdat alles is betaald. Het maandbedrag dekt de rente en eventueel een deel van het gebruikte krediet.\"\n",
      "    },\n",
      "    {\n",
      "        \"term\": \"ongeoorloofd roodstaan\",\n",
      "        \"description\": \"Het bedrag van de ongeoorloofde roodstand is onmiddellijk opeisbaar. Daarbij is geen ingebrekestelling of andere formaliteit nodig. Dat betekent dat u het bedrag van deze ongeoorloofde roodstand meteen aan ons moet terugbetalen, zonder dat wij daar om hoeven te vragen.\"\n",
      "    },\n",
      "    {\n",
      "        \"term\": \"Kredietlimiet\",\n",
      "        \"description\": \"Met het krediet mag u tot de kredietlimiet creditcardtransacties verrichten.\"\n",
      "    },\n",
      "    {\n",
      "        \"term\": \"Maandbedrag\",\n",
      "        \"description\": \"Het bedrag dat maandelijks moet worden betaald, inclusief rente en eventuele aflossing van het krediet.\"\n",
      "    },\n",
      "    {\n",
      "        \"term\": \"Overschrijding\",\n",
      "        \"description\": \"Wanneer er meer krediet gebruikt is dan de kredietlimiet, is er sprake van een overschrijding. U bent hierover \\u2018debetrente bij overschrijding\\u2019 verschuldigd.\"\n",
      "    },\n",
      "    {\n",
      "        \"term\": \"opeisbaar\",\n",
      "        \"description\": \"Het recht om een schuld onmiddellijk terug te vorderen.\"\n",
      "    },\n",
      "    {\n",
      "        \"term\": \"Pas\",\n",
      "        \"description\": \"De betaalpas, creditcard of digitale pas.\"\n",
      "    },\n",
      "    {\n",
      "        \"term\": \"Rekening\",\n",
      "        \"description\": \"De betaalrekening die u bij ons aanhoudt.\"\n",
      "    },\n",
      "    {\n",
      "        \"term\": \"afgeboekt\",\n",
      "        \"description\": \"Als een bedrag van de rekening wordt afgeboekt, bepalen wij tot welke datum u hierover negatieve creditrente moet betalen.\"\n",
      "    },\n",
      "    {\n",
      "        \"term\": \"vertragingsrente\",\n",
      "        \"description\": \"De rente die in rekening wordt gebracht wanneer er een betalingsachterstand is.\"\n",
      "    },\n",
      "    {\n",
      "        \"term\": \"Vertragingsrente\",\n",
      "        \"description\": \"Een rente die in rekening wordt gebracht als u een bedrag te laat betaalt. Als u niet betaalt v\\u00f3\\u00f3r een bepaalde datum, wordt vertragingsrente in rekening gebracht over het bedrag dat u aan ons moet betalen. Deze rente is variabel en kan altijd worden gewijzigd.\"\n",
      "    },\n",
      "    {\n",
      "        \"term\": \"ongeoorloofde roodstand\",\n",
      "        \"description\": \"Een situatie waarin een rekeninghouder meer geld heeft uitgegeven dan er op de rekening staat, zonder dat daar een afspraak over is gemaakt met de bank.\"\n",
      "    },\n",
      "    {\n",
      "        \"term\": \"Variabele rente\",\n",
      "        \"description\": \"De variabele rente is opgebouwd uit de volgende componenten: een basistarief, opslagen in verband met ontwikkelingen op de kapitaalmarkten en kapitaalkosten, eventuele individuele risico-opslagen, doorlopende kosten (bijvoorbeeld administratie- en beheerkosten) en een winstopslag.\"\n",
      "    },\n",
      "    {\n",
      "        \"term\": \"betaalpakket\",\n",
      "        \"description\": \"Een pakket waar de meeste rekeningen deel van uitmaken, dat door ons gewijzigd kan worden, inclusief het toevoegen of verwijderen van onderdelen.\"\n",
      "    },\n",
      "    {\n",
      "        \"term\": \"Ongeoorloofd rood staan\",\n",
      "        \"description\": \"Als u geen krediet heeft, kunt u toch rood komen te staan op de rekening. Bijvoorbeeld doordat wij de kosten van het betaalpakket afboeken van de rekening. U betaalt hierover een variabele rente.\"\n",
      "    },\n",
      "    {\n",
      "        \"term\": \"ongeoorloofd rood staan\",\n",
      "        \"description\": \"Een situatie waarin de rekening een negatief saldo heeft zonder dat hiervoor toestemming is gegeven.\"\n",
      "    },\n",
      "    {\n",
      "        \"term\": \"Bankieren\",\n",
      "        \"description\": \"Bijvoorbeeld voor de beoordeling van een kredietaanvraag die de rekeninghouder alleen of samen met een of meer anderen doet.\"\n",
      "    },\n",
      "    {\n",
      "        \"term\": \"Online bankieren\",\n",
      "        \"description\": \"De oude naam van Rabo Online Bankieren.\"\n",
      "    },\n",
      "    {\n",
      "        \"term\": \"Betaalpakket\",\n",
      "        \"description\": \"Het pakket aan diensten waar uw betaalrekening soms verplicht onderdeel van uitmaakt. Dit is afhankelijk van de betaalrekening die u heeft.\"\n",
      "    },\n",
      "    {\n",
      "        \"term\": \"Rood staan\",\n",
      "        \"description\": \"Een negatief saldo op de rekening.\"\n",
      "    },\n",
      "    {\n",
      "        \"term\": \"Krediet opeisen\",\n",
      "        \"description\": \"Het proces waarbij de kredietverstrekker het volledige kredietbedrag, inclusief rente en kosten, terugvordert van de kredietnemer.\"\n",
      "    },\n",
      "    {\n",
      "        \"term\": \"belangenafweging\",\n",
      "        \"description\": \"Het proces waarbij de bank de situatie en omstandigheden van de klant afweegt tegen de belangen van de bank voordat een besluit wordt genomen.\"\n",
      "    },\n",
      "    {\n",
      "        \"term\": \"Zekerheidgever\",\n",
      "        \"description\": \"Een persoon of entiteit die zekerheid biedt voor een schuld of verplichting.\"\n",
      "    },\n",
      "    {\n",
      "        \"term\": \"zekerheidgever\",\n",
      "        \"description\": \"Als er meer personen zekerheidgever zijn, bedoelen wij met zekerheidgever alle zekerheidgevers samen, maar ook iedere zekerheidgever apart.\"\n",
      "    },\n",
      "    {\n",
      "        \"term\": \"zekerheid\",\n",
      "        \"description\": \"Een zekerheid kan zijn een hypotheekrecht, een pandrecht of een borgtocht.\"\n",
      "    },\n",
      "    {\n",
      "        \"term\": \"incassomachtiging\",\n",
      "        \"description\": \"Een toestemming die u aan een bedrijf geeft om geld van uw rekening af te schrijven.\"\n",
      "    },\n",
      "    {\n",
      "        \"term\": \"Incassomachtiging\",\n",
      "        \"description\": \"De schriftelijke of digitale toestemming die u geeft aan de incassant om de incassant een of meer bedragen van de rekening te laten afschrijven.\"\n",
      "    },\n",
      "    {\n",
      "        \"term\": \"Digitale Incassomachtiging\",\n",
      "        \"description\": \"Een incassomachtiging waarvoor u elektronisch toestemming geeft via Rabo Online Bankieren.\"\n",
      "    },\n",
      "    {\n",
      "        \"term\": \"Incassobetaling bij ongeoorloofd rood staan\",\n",
      "        \"description\": \"Wij mogen een incassobetaling ook uitvoeren als er onvoldoende geld op de rekening staat of er onvoldoende ruimte is in het krediet op de rekening en er door de incassobetaling een ongeoorloofde roodstand ontstaat.\"\n",
      "    },\n",
      "    {\n",
      "        \"term\": \"incassobetalingen\",\n",
      "        \"description\": \"Betalingen die via een incassoprocedure worden uitgevoerd.\"\n",
      "    },\n",
      "    {\n",
      "        \"term\": \"incassant\",\n",
      "        \"description\": \"De partij die gemachtigd is om bedragen van uw rekening af te schrijven.\"\n",
      "    },\n",
      "    {\n",
      "        \"term\": \"incassobetaling\",\n",
      "        \"description\": \"Een incassobetaling is onterecht als de incassant daarvoor geen geldige incassomachtiging van u heeft op het moment dat de incassobetaling van de rekening wordt afgeboekt.\"\n",
      "    },\n",
      "    {\n",
      "        \"term\": \"Krediet op de rekening\",\n",
      "        \"description\": \"Een vorm van krediet waarbij een bepaald bedrag op een rekening beschikbaar wordt gesteld voor gebruik.\"\n",
      "    },\n",
      "    {\n",
      "        \"term\": \"Betaling\",\n",
      "        \"description\": \"Iedere betalingstransactie die voortvloeit uit de in deze voorwaarden beschreven betaaldiensten.\"\n",
      "    },\n",
      "    {\n",
      "        \"term\": \"Incassant\",\n",
      "        \"description\": \"Een ander die een of meer bedragen in euro van de rekening laat afschrijven met een automatische incasso.\"\n",
      "    },\n",
      "    {\n",
      "        \"term\": \"Incassobetaling\",\n",
      "        \"description\": \"De afschrijving van een bedrag door een incassant in euro.\"\n",
      "    },\n",
      "    {\n",
      "        \"term\": \"Werkdag\",\n",
      "        \"description\": \"Een dag waarop wij betaalopdrachten uitvoeren. De werkdagen kunnen per betaaldienst verschillen.\"\n",
      "    }\n",
      "]\n"
     ]
    }
   ],
   "source": [
    "context, definitions = perform_search_in_document('DirectRekening', 'Mag ik rood staan?')\n",
    "\n",
    "print(context)\n",
    "print(definitions)"
   ]
  },
  {
   "cell_type": "markdown",
   "metadata": {},
   "source": [
    "## Setting up the Agent"
   ]
  },
  {
   "cell_type": "code",
   "execution_count": 81,
   "metadata": {},
   "outputs": [],
   "source": [
    "llm = ChatOpenAI(model_name=LLM, temperature=0)"
   ]
  },
  {
   "cell_type": "code",
   "execution_count": 82,
   "metadata": {},
   "outputs": [
    {
     "data": {
      "text/plain": [
       "'Hello! How can I assist you today?'"
      ]
     },
     "execution_count": 82,
     "metadata": {},
     "output_type": "execute_result"
    }
   ],
   "source": [
    "response = llm.invoke([HumanMessage(content=\"hi!\")])\n",
    "response.content"
   ]
  },
  {
   "cell_type": "code",
   "execution_count": 83,
   "metadata": {},
   "outputs": [],
   "source": [
    "tools = [\n",
    "    retrieve_products, \n",
    "    perform_search_in_document,\n",
    "]\n",
    "\n",
    "llm_with_tools = llm.bind_tools(tools)"
   ]
  },
  {
   "cell_type": "code",
   "execution_count": 84,
   "metadata": {},
   "outputs": [
    {
     "name": "stdout",
     "output_type": "stream",
     "text": [
      "ContentString: \n",
      "ToolCalls: [{'name': 'retrieve_products', 'args': {}, 'id': 'call_W1KzX5kOH1GJJptE0eDC3RuD', 'type': 'tool_call'}]\n"
     ]
    }
   ],
   "source": [
    "response = llm_with_tools.invoke([HumanMessage(content=\"I got a question on a DirectRekening. Is a negative debit allowed?\")])\n",
    "\n",
    "print(f\"ContentString: {response.content}\")\n",
    "print(f\"ToolCalls: {response.tool_calls}\")"
   ]
  },
  {
   "cell_type": "code",
   "execution_count": 73,
   "metadata": {},
   "outputs": [
    {
     "name": "stdout",
     "output_type": "stream",
     "text": [
      "ContentString: \n",
      "ToolCalls: [{'name': 'retrieve_products', 'args': {}, 'id': 'call_RGwjaRvuAL9MldV2b33armh8', 'type': 'tool_call'}]\n"
     ]
    }
   ],
   "source": [
    "response = llm_with_tools.invoke([HumanMessage(content=\"Is a negative debit allowed?\")])\n",
    "\n",
    "print(f\"ContentString: {response.content}\")\n",
    "print(f\"ToolCalls: {response.tool_calls}\")"
   ]
  },
  {
   "cell_type": "markdown",
   "metadata": {},
   "source": [
    "We can see that there's now no text content, but there is a tool call! It wants us to call the Tavily Search tool. This isn't calling that tool yet - it's just telling us to. In order to actually call it, we'll want to create our agent."
   ]
  },
  {
   "cell_type": "markdown",
   "metadata": {},
   "source": [
    "## Running Agents with LangGraph"
   ]
  },
  {
   "cell_type": "code",
   "execution_count": 85,
   "metadata": {},
   "outputs": [],
   "source": [
    "agent_executor = create_react_agent(llm, tools)"
   ]
  },
  {
   "cell_type": "code",
   "execution_count": 86,
   "metadata": {},
   "outputs": [],
   "source": [
    "response = agent_executor.invoke({\"messages\": [HumanMessage(content=\"hi!\")]})"
   ]
  },
  {
   "cell_type": "code",
   "execution_count": 87,
   "metadata": {},
   "outputs": [
    {
     "data": {
      "text/plain": [
       "[HumanMessage(content='hi!', additional_kwargs={}, response_metadata={}, id='3b9d0beb-f135-41d4-8768-b4eee73fab12'),\n",
       " AIMessage(content='Hello! How can I assist you today?', additional_kwargs={'refusal': None}, response_metadata={'token_usage': {'completion_tokens': 11, 'prompt_tokens': 100, 'total_tokens': 111, 'completion_tokens_details': {'accepted_prediction_tokens': 0, 'audio_tokens': 0, 'reasoning_tokens': 0, 'rejected_prediction_tokens': 0}, 'prompt_tokens_details': {'audio_tokens': 0, 'cached_tokens': 0}}, 'model_name': 'gpt-4o-2024-08-06', 'system_fingerprint': 'fp_90122d973c', 'finish_reason': 'stop', 'logprobs': None}, id='run-92494f07-544d-424d-832d-e8e673066fb0-0', usage_metadata={'input_tokens': 100, 'output_tokens': 11, 'total_tokens': 111, 'input_token_details': {'audio': 0, 'cache_read': 0}, 'output_token_details': {'audio': 0, 'reasoning': 0}})]"
      ]
     },
     "execution_count": 87,
     "metadata": {},
     "output_type": "execute_result"
    }
   ],
   "source": [
    "response[\"messages\"]"
   ]
  },
  {
   "cell_type": "markdown",
   "metadata": {},
   "source": [
    "#### Run some examples! "
   ]
  },
  {
   "cell_type": "code",
   "execution_count": 105,
   "metadata": {},
   "outputs": [],
   "source": [
    "def ask_to_agent(question):\n",
    "    for step in agent_executor.stream(\n",
    "        {\"messages\": [HumanMessage(content=question)]},\n",
    "        stream_mode=\"values\",\n",
    "    ):\n",
    "        step[\"messages\"][-1].pretty_print()"
   ]
  },
  {
   "cell_type": "code",
   "execution_count": 108,
   "metadata": {},
   "outputs": [],
   "source": [
    "question = \"Mag ik rood staan?\""
   ]
  },
  {
   "cell_type": "code",
   "execution_count": 109,
   "metadata": {},
   "outputs": [
    {
     "name": "stdout",
     "output_type": "stream",
     "text": [
      "================================\u001b[1m Human Message \u001b[0m=================================\n",
      "\n",
      "Mag ik rood staan?\n",
      "==================================\u001b[1m Ai Message \u001b[0m==================================\n",
      "\n",
      "Of je rood mag staan (oftewel een negatieve saldo hebben op je bankrekening) hangt af van de voorwaarden van je bank en het type bankrekening dat je hebt. Veel banken bieden de mogelijkheid om rood te staan, maar dit is vaak onderhevig aan bepaalde voorwaarden en kan rente kosten. Het is het beste om contact op te nemen met je bank of hun website te raadplegen voor specifieke informatie over rood staan en de bijbehorende voorwaarden en kosten.\n"
     ]
    }
   ],
   "source": [
    "ask_to_agent(question)"
   ]
  },
  {
   "cell_type": "markdown",
   "metadata": {},
   "source": [
    "## Chatbot"
   ]
  },
  {
   "cell_type": "markdown",
   "metadata": {},
   "source": [
    "Now create a chatbot with the agent providing the responses"
   ]
  },
  {
   "cell_type": "code",
   "execution_count": null,
   "metadata": {},
   "outputs": [],
   "source": [
    "def user(user_message, history):\n",
    "    if history is None:\n",
    "        history = []\n",
    "    history.append({\"role\": \"user\", \"content\": user_message})\n",
    "    return \"\", history\n",
    "\n",
    "def get_answer(history):\n",
    "    steps = []\n",
    "    full_prompt = \"\\n\".join([f\"{msg['role'].capitalize()}: {msg['content']}\" for msg in history])\n",
    "    \n",
    "    for step in agent_executor.stream(\n",
    "            {\"messages\": [HumanMessage(content=full_prompt)]},\n",
    "            stream_mode=\"values\",\n",
    "    ):\n",
    "        step[\"messages\"][-1].pretty_print()\n",
    "        steps.append(step[\"messages\"][-1].content)\n",
    "    \n",
    "    return steps[-1]\n",
    "\n",
    "def bot(history):\n",
    "    bot_message = get_answer(history)\n",
    "    history.append({\"role\": \"assistant\", \"content\": \"\"})\n",
    "\n",
    "    for character in bot_message:\n",
    "        history[-1][\"content\"] += character\n",
    "        time.sleep(0.01)\n",
    "        yield history\n",
    "\n",
    "with gr.Blocks() as demo:\n",
    "    chatbot = gr.Chatbot(\n",
    "        label=\"Chatbot on a Graph\",\n",
    "        avatar_images=[\n",
    "            \"https://png.pngtree.com/png-vector/20220525/ourmid/pngtree-concept-of-facial-animal-avatar-chatbot-dog-chat-machine-illustration-vector-png-image_46652864.jpg\",\n",
    "            \"https://d-cb.jc-cdn.com/sites/crackberry.com/files/styles/larger/public/article_images/2023/08/openai-logo.jpg\"\n",
    "        ],\n",
    "        type=\"messages\", \n",
    "    )\n",
    "    msg = gr.Textbox(label=\"Message\")\n",
    "    clear = gr.Button(\"Clear\")\n",
    "\n",
    "    msg.submit(user, [msg, chatbot], [msg, chatbot], queue=False).then(\n",
    "        bot, [chatbot], chatbot\n",
    "    )\n",
    "\n",
    "    clear.click(lambda: [], None, chatbot, queue=False)\n",
    "\n",
    "demo.queue()\n",
    "demo.launch(share=True)"
   ]
  },
  {
   "cell_type": "markdown",
   "metadata": {},
   "source": [
    "If you want to have the light-mode for the chatbot paste the following after the URL: /?__theme=light"
   ]
  }
 ],
 "metadata": {
  "colab": {
   "provenance": []
  },
  "kernelspec": {
   "display_name": "Python 3 (ipykernel)",
   "language": "python",
   "name": "python3"
  },
  "language_info": {
   "codemirror_mode": {
    "name": "ipython",
    "version": 3
   },
   "file_extension": ".py",
   "mimetype": "text/x-python",
   "name": "python",
   "nbconvert_exporter": "python",
   "pygments_lexer": "ipython3",
   "version": "3.11.5"
  }
 },
 "nbformat": 4,
 "nbformat_minor": 4
}
