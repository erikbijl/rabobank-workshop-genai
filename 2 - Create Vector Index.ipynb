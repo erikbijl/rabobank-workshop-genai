{
 "cells": [
  {
   "cell_type": "markdown",
   "metadata": {},
   "source": [
    "# Module 2 - Create Vector Index "
   ]
  },
  {
   "cell_type": "markdown",
   "metadata": {},
   "source": [
    "This notebook creates a Vector Index on top of the embeddings in Neo4j. This can be used later on for a vector search in the database. Documentation of the vector index in Neo4j can be found here: [Neo4j Vector Index and Search](https://neo4j.com/labs/genai-ecosystem/vector-search/?msclkid=c56d8efbd9a0151f76ebea164f5643cb&utm_source=Google&utm_medium=PaidSearch&utm_campaign=Evergreen&utm_content=EMEA-Search-SEMCE-DSA-None-SEM-SEM-NonABM&utm_term=&utm_adgroup=DSA&gad_source=1&gclid=Cj0KCQjw9vqyBhCKARIsAIIcLMEVATnevK1iXdTlPzxCK8eytADNy4tWZXXRF_NAthTi4x_sO19uUP4aAubSEALw_wcB). \n",
    "\n",
    "Again, for executing the queries we make use of [Python Driver](https://neo4j.com/docs/api/python-driver/current/) that enables querying Neo4j from a Python script"
   ]
  },
  {
   "cell_type": "code",
   "execution_count": 1,
   "metadata": {},
   "outputs": [],
   "source": [
    "import pandas as pd\n",
    "from neo4j import Query, GraphDatabase, RoutingControl, Result\n",
    "import os\n",
    "from dotenv import load_dotenv\n",
    "from langchain_openai import OpenAIEmbeddings\n",
    "from json import loads, dumps"
   ]
  },
  {
   "cell_type": "markdown",
   "metadata": {},
   "source": [
    "## Get Credentials"
   ]
  },
  {
   "cell_type": "code",
   "execution_count": 2,
   "metadata": {},
   "outputs": [],
   "source": [
    "env_file = 'ws.env'"
   ]
  },
  {
   "cell_type": "code",
   "execution_count": 3,
   "metadata": {},
   "outputs": [],
   "source": [
    "if os.path.exists(env_file):\n",
    "    load_dotenv(env_file, override=True)\n",
    "\n",
    "    # Neo4j\n",
    "    HOST = os.getenv('NEO4J_URI')\n",
    "    USERNAME = os.getenv('NEO4J_USERNAME')\n",
    "    PASSWORD = os.getenv('NEO4J_PASSWORD')\n",
    "    DATABASE = os.getenv('NEO4J_DATABASE')\n",
    "\n",
    "    # AI\n",
    "    OPENAI_API_KEY = os.getenv('OPENAI_API_KEY')\n",
    "    os.environ['OPENAI_API_KEY']=OPENAI_API_KEY\n",
    "    LLM = os.getenv('LLM')\n",
    "    EMBEDDINGS_MODEL = os.getenv('EMBEDDINGS_MODEL')\n",
    "else:\n",
    "    print(f\"File {env_file} not found.\")"
   ]
  },
  {
   "cell_type": "markdown",
   "metadata": {},
   "source": [
    "## Setup Connection to Database"
   ]
  },
  {
   "cell_type": "markdown",
   "metadata": {},
   "source": [
    "Setup connection to the database with the [Python Driver](https://neo4j.com/docs/python-manual/5/)."
   ]
  },
  {
   "cell_type": "code",
   "execution_count": 4,
   "metadata": {},
   "outputs": [],
   "source": [
    "driver = GraphDatabase.driver(\n",
    "    HOST,\n",
    "    auth=(USERNAME, PASSWORD)\n",
    ")"
   ]
  },
  {
   "cell_type": "markdown",
   "metadata": {},
   "source": [
    "Test the connection"
   ]
  },
  {
   "cell_type": "code",
   "execution_count": 5,
   "metadata": {},
   "outputs": [
    {
     "data": {
      "text/html": [
       "<div>\n",
       "<style scoped>\n",
       "    .dataframe tbody tr th:only-of-type {\n",
       "        vertical-align: middle;\n",
       "    }\n",
       "\n",
       "    .dataframe tbody tr th {\n",
       "        vertical-align: top;\n",
       "    }\n",
       "\n",
       "    .dataframe thead th {\n",
       "        text-align: right;\n",
       "    }\n",
       "</style>\n",
       "<table border=\"1\" class=\"dataframe\">\n",
       "  <thead>\n",
       "    <tr style=\"text-align: right;\">\n",
       "      <th></th>\n",
       "      <th>Count</th>\n",
       "    </tr>\n",
       "  </thead>\n",
       "  <tbody>\n",
       "    <tr>\n",
       "      <th>0</th>\n",
       "      <td>1419</td>\n",
       "    </tr>\n",
       "  </tbody>\n",
       "</table>\n",
       "</div>"
      ],
      "text/plain": [
       "   Count\n",
       "0   1419"
      ]
     },
     "execution_count": 5,
     "metadata": {},
     "output_type": "execute_result"
    }
   ],
   "source": [
    "driver.execute_query(\n",
    "    \"\"\"\n",
    "    MATCH (n) RETURN COUNT(n) as Count\n",
    "    \"\"\",\n",
    "    database_=DATABASE,\n",
    "    routing_=RoutingControl.READ,\n",
    "    result_transformer_= lambda r: r.to_df()\n",
    ")"
   ]
  },
  {
   "cell_type": "markdown",
   "metadata": {},
   "source": [
    "## Create Vector Index "
   ]
  },
  {
   "cell_type": "markdown",
   "metadata": {},
   "source": [
    "Convert the embeddings to a vector property with the [setNodeVectorProperty](https://neo4j.com/docs/operations-manual/5/reference/procedures/#procedure_db_create_setNodeVectorProperty) procedure."
   ]
  },
  {
   "cell_type": "code",
   "execution_count": 6,
   "metadata": {},
   "outputs": [],
   "source": [
    "no_chunks = driver.execute_query(\n",
    "    \"\"\"\n",
    "    MATCH (n:Chunk) RETURN COUNT(n) as Count\n",
    "    \"\"\",\n",
    "    database_=DATABASE,\n",
    "    routing_=RoutingControl.READ,\n",
    "    result_transformer_= lambda r: r.to_df()\n",
    ")"
   ]
  },
  {
   "cell_type": "code",
   "execution_count": 7,
   "metadata": {},
   "outputs": [
    {
     "data": {
      "text/html": [
       "<div>\n",
       "<style scoped>\n",
       "    .dataframe tbody tr th:only-of-type {\n",
       "        vertical-align: middle;\n",
       "    }\n",
       "\n",
       "    .dataframe tbody tr th {\n",
       "        vertical-align: top;\n",
       "    }\n",
       "\n",
       "    .dataframe thead th {\n",
       "        text-align: right;\n",
       "    }\n",
       "</style>\n",
       "<table border=\"1\" class=\"dataframe\">\n",
       "  <thead>\n",
       "    <tr style=\"text-align: right;\">\n",
       "      <th></th>\n",
       "      <th>Count</th>\n",
       "    </tr>\n",
       "  </thead>\n",
       "  <tbody>\n",
       "    <tr>\n",
       "      <th>0</th>\n",
       "      <td>610</td>\n",
       "    </tr>\n",
       "  </tbody>\n",
       "</table>\n",
       "</div>"
      ],
      "text/plain": [
       "   Count\n",
       "0    610"
      ]
     },
     "execution_count": 7,
     "metadata": {},
     "output_type": "execute_result"
    }
   ],
   "source": [
    "no_chunks"
   ]
  },
  {
   "cell_type": "code",
   "execution_count": 8,
   "metadata": {},
   "outputs": [
    {
     "name": "stdout",
     "output_type": "stream",
     "text": [
      "Running 7 batches with size 100\n"
     ]
    }
   ],
   "source": [
    "batch_size = 100\n",
    "nr_batches = int(no_chunks.iloc[0].Count / batch_size) + 1\n",
    "print(f'Running {nr_batches} batches with size {batch_size}')"
   ]
  },
  {
   "cell_type": "code",
   "execution_count": 9,
   "metadata": {},
   "outputs": [],
   "source": [
    "for batch in range(nr_batches):\n",
    "    query = f\"\"\"\n",
    "        MATCH(c:Chunk)\n",
    "        WHERE c.id >= {(batch*batch_size)+1} AND c.id <= {(batch+1)*batch_size}\n",
    "        CALL db.create.setNodeVectorProperty(c, \"embedding\", c.embedding)\n",
    "        RETURN count(c) AS propertySetCount\n",
    "    \"\"\"\n",
    "\n",
    "    driver.execute_query(\n",
    "        query,\n",
    "        database_=DATABASE,\n",
    "        routing_=RoutingControl.WRITE,\n",
    "    )\n",
    "    \n",
    "    if ((batch % 10 == 0) & (batch != 0)):\n",
    "        print(f\"Finished: {batch}/{nr_batches} batches ({round(batch/nr_batches*100,2)}%)\")"
   ]
  },
  {
   "cell_type": "markdown",
   "metadata": {},
   "source": [
    "Create the [vector index](https://neo4j.com/docs/cypher-manual/current/indexes/semantic-indexes/vector-indexes/#create-vector-index) on Embeddings in Neo4j"
   ]
  },
  {
   "cell_type": "code",
   "execution_count": 10,
   "metadata": {},
   "outputs": [],
   "source": [
    "query = \"\"\"\n",
    "    CREATE VECTOR INDEX `chunk-embeddings` IF NOT EXISTS\n",
    "    FOR (c:Chunk) ON (c.embedding)\n",
    "    OPTIONS {\n",
    "        indexConfig: {\n",
    "            `vector.dimensions`: 1536,\n",
    "            `vector.similarity_function`: 'cosine'\n",
    "        } \n",
    "    }\n",
    "\"\"\""
   ]
  },
  {
   "cell_type": "code",
   "execution_count": 11,
   "metadata": {},
   "outputs": [
    {
     "data": {
      "text/plain": [
       "EagerResult(records=[], summary=<neo4j._work.summary.ResultSummary object at 0x1774acdd0>, keys=[])"
      ]
     },
     "execution_count": 11,
     "metadata": {},
     "output_type": "execute_result"
    }
   ],
   "source": [
    "driver.execute_query(\n",
    "    query,\n",
    "    database_=DATABASE,\n",
    "    routing_=RoutingControl.WRITE\n",
    ")"
   ]
  },
  {
   "cell_type": "markdown",
   "metadata": {},
   "source": [
    "Create the [vector index](https://neo4j.com/docs/cypher-manual/current/indexes/semantic-indexes/vector-indexes/#create-vector-index) on Definitions in Neo4j"
   ]
  },
  {
   "cell_type": "code",
   "execution_count": 12,
   "metadata": {},
   "outputs": [],
   "source": [
    "query = \"\"\"\n",
    "    CREATE VECTOR INDEX `definition-embeddings` IF NOT EXISTS\n",
    "    FOR (def:Definition) ON (def.embedding)\n",
    "    OPTIONS {\n",
    "        indexConfig: {\n",
    "            `vector.dimensions`: 1536,\n",
    "            `vector.similarity_function`: 'cosine'\n",
    "        } \n",
    "    }\n",
    "\"\"\""
   ]
  },
  {
   "cell_type": "code",
   "execution_count": 13,
   "metadata": {},
   "outputs": [
    {
     "data": {
      "text/plain": [
       "EagerResult(records=[], summary=<neo4j._work.summary.ResultSummary object at 0x1774afd50>, keys=[])"
      ]
     },
     "execution_count": 13,
     "metadata": {},
     "output_type": "execute_result"
    }
   ],
   "source": [
    "driver.execute_query(\n",
    "    query,\n",
    "    database_=DATABASE,\n",
    "    routing_=RoutingControl.WRITE\n",
    ")"
   ]
  },
  {
   "cell_type": "markdown",
   "metadata": {},
   "source": [
    "Show the results"
   ]
  },
  {
   "cell_type": "code",
   "execution_count": 14,
   "metadata": {},
   "outputs": [
    {
     "data": {
      "text/html": [
       "<div>\n",
       "<style scoped>\n",
       "    .dataframe tbody tr th:only-of-type {\n",
       "        vertical-align: middle;\n",
       "    }\n",
       "\n",
       "    .dataframe tbody tr th {\n",
       "        vertical-align: top;\n",
       "    }\n",
       "\n",
       "    .dataframe thead th {\n",
       "        text-align: right;\n",
       "    }\n",
       "</style>\n",
       "<table border=\"1\" class=\"dataframe\">\n",
       "  <thead>\n",
       "    <tr style=\"text-align: right;\">\n",
       "      <th></th>\n",
       "      <th>id</th>\n",
       "      <th>name</th>\n",
       "      <th>state</th>\n",
       "      <th>populationPercent</th>\n",
       "      <th>type</th>\n",
       "      <th>entityType</th>\n",
       "      <th>labelsOrTypes</th>\n",
       "      <th>properties</th>\n",
       "      <th>indexProvider</th>\n",
       "      <th>owningConstraint</th>\n",
       "      <th>lastRead</th>\n",
       "      <th>readCount</th>\n",
       "    </tr>\n",
       "  </thead>\n",
       "  <tbody>\n",
       "    <tr>\n",
       "      <th>0</th>\n",
       "      <td>6</td>\n",
       "      <td>chunk-embeddings</td>\n",
       "      <td>POPULATING</td>\n",
       "      <td>0.0</td>\n",
       "      <td>VECTOR</td>\n",
       "      <td>NODE</td>\n",
       "      <td>[Chunk]</td>\n",
       "      <td>[embedding]</td>\n",
       "      <td>vector-2.0</td>\n",
       "      <td>None</td>\n",
       "      <td>None</td>\n",
       "      <td>NaN</td>\n",
       "    </tr>\n",
       "    <tr>\n",
       "      <th>1</th>\n",
       "      <td>7</td>\n",
       "      <td>definition-embeddings</td>\n",
       "      <td>POPULATING</td>\n",
       "      <td>0.0</td>\n",
       "      <td>VECTOR</td>\n",
       "      <td>NODE</td>\n",
       "      <td>[Definition]</td>\n",
       "      <td>[embedding]</td>\n",
       "      <td>vector-2.0</td>\n",
       "      <td>None</td>\n",
       "      <td>None</td>\n",
       "      <td>NaN</td>\n",
       "    </tr>\n",
       "    <tr>\n",
       "      <th>2</th>\n",
       "      <td>0</td>\n",
       "      <td>index_343aff4e</td>\n",
       "      <td>ONLINE</td>\n",
       "      <td>100.0</td>\n",
       "      <td>LOOKUP</td>\n",
       "      <td>NODE</td>\n",
       "      <td>None</td>\n",
       "      <td>None</td>\n",
       "      <td>token-lookup-1.0</td>\n",
       "      <td>None</td>\n",
       "      <td>2025-05-15T09:54:11.633000000+00:00</td>\n",
       "      <td>6929.0</td>\n",
       "    </tr>\n",
       "    <tr>\n",
       "      <th>3</th>\n",
       "      <td>1</td>\n",
       "      <td>index_f7700477</td>\n",
       "      <td>ONLINE</td>\n",
       "      <td>100.0</td>\n",
       "      <td>LOOKUP</td>\n",
       "      <td>RELATIONSHIP</td>\n",
       "      <td>None</td>\n",
       "      <td>None</td>\n",
       "      <td>token-lookup-1.0</td>\n",
       "      <td>None</td>\n",
       "      <td>2025-05-15T06:38:36.692000000+00:00</td>\n",
       "      <td>120.0</td>\n",
       "    </tr>\n",
       "    <tr>\n",
       "      <th>4</th>\n",
       "      <td>2</td>\n",
       "      <td>unique_chunk</td>\n",
       "      <td>ONLINE</td>\n",
       "      <td>100.0</td>\n",
       "      <td>RANGE</td>\n",
       "      <td>NODE</td>\n",
       "      <td>[Chunk]</td>\n",
       "      <td>[id]</td>\n",
       "      <td>range-1.0</td>\n",
       "      <td>unique_chunk</td>\n",
       "      <td>2025-05-16T07:13:53.427000000+00:00</td>\n",
       "      <td>2454.0</td>\n",
       "    </tr>\n",
       "  </tbody>\n",
       "</table>\n",
       "</div>"
      ],
      "text/plain": [
       "   id                   name       state  populationPercent    type  \\\n",
       "0   6       chunk-embeddings  POPULATING                0.0  VECTOR   \n",
       "1   7  definition-embeddings  POPULATING                0.0  VECTOR   \n",
       "2   0         index_343aff4e      ONLINE              100.0  LOOKUP   \n",
       "3   1         index_f7700477      ONLINE              100.0  LOOKUP   \n",
       "4   2           unique_chunk      ONLINE              100.0   RANGE   \n",
       "\n",
       "     entityType labelsOrTypes   properties     indexProvider owningConstraint  \\\n",
       "0          NODE       [Chunk]  [embedding]        vector-2.0             None   \n",
       "1          NODE  [Definition]  [embedding]        vector-2.0             None   \n",
       "2          NODE          None         None  token-lookup-1.0             None   \n",
       "3  RELATIONSHIP          None         None  token-lookup-1.0             None   \n",
       "4          NODE       [Chunk]         [id]         range-1.0     unique_chunk   \n",
       "\n",
       "                              lastRead  readCount  \n",
       "0                                 None        NaN  \n",
       "1                                 None        NaN  \n",
       "2  2025-05-15T09:54:11.633000000+00:00     6929.0  \n",
       "3  2025-05-15T06:38:36.692000000+00:00      120.0  \n",
       "4  2025-05-16T07:13:53.427000000+00:00     2454.0  "
      ]
     },
     "execution_count": 14,
     "metadata": {},
     "output_type": "execute_result"
    }
   ],
   "source": [
    "schema_result_df  = driver.execute_query(\n",
    "    'SHOW INDEXES',\n",
    "    database_=DATABASE,\n",
    "    routing_=RoutingControl.READ,\n",
    "    result_transformer_= lambda r: r.to_df()\n",
    ")\n",
    "schema_result_df.head()"
   ]
  },
  {
   "cell_type": "markdown",
   "metadata": {},
   "source": [
    "## Experiment with the Vector Search"
   ]
  },
  {
   "cell_type": "markdown",
   "metadata": {},
   "source": [
    "Define the Embeddings Model"
   ]
  },
  {
   "cell_type": "code",
   "execution_count": 15,
   "metadata": {},
   "outputs": [],
   "source": [
    "embedding_model = OpenAIEmbeddings(\n",
    "    model=EMBEDDINGS_MODEL,\n",
    "    openai_api_key=OPENAI_API_KEY\n",
    ")"
   ]
  },
  {
   "cell_type": "code",
   "execution_count": 16,
   "metadata": {},
   "outputs": [
    {
     "data": {
      "text/plain": [
       "'text-embedding-ada-002'"
      ]
     },
     "execution_count": 16,
     "metadata": {},
     "output_type": "execute_result"
    }
   ],
   "source": [
    "embedding_model.model"
   ]
  },
  {
   "cell_type": "markdown",
   "metadata": {},
   "source": [
    "Define the function to perform a Vector Search"
   ]
  },
  {
   "cell_type": "code",
   "execution_count": 17,
   "metadata": {},
   "outputs": [],
   "source": [
    "def vector_search_chunks(message, nn=5, embedding_model=embedding_model):\n",
    "    message_vector = embedding_model.embed_query(message)\n",
    "    similarity_query = \"\"\" \n",
    "        CALL db.index.vector.queryNodes(\"chunk-embeddings\", $nn, $message_vector) YIELD node, score\n",
    "        WITH node as chunk, score ORDER BY score DESC\n",
    "        MATCH (d:Document)<-[:PART_OF]-(chunk)\n",
    "        RETURN score, d.file_name as file_name, chunk.id as chunk_id, chunk.page as page, chunk.chunk_eng AS chunk\n",
    "    \"\"\"\n",
    "    results_df = driver.execute_query(\n",
    "        similarity_query,\n",
    "        database_=DATABASE,\n",
    "        routing_=RoutingControl.READ,\n",
    "        message_vector=message_vector,\n",
    "        nn = nn, \n",
    "        result_transformer_= lambda r: r.to_df()\n",
    "    )\n",
    "    return results_df"
   ]
  },
  {
   "cell_type": "markdown",
   "metadata": {},
   "source": [
    "#### Example"
   ]
  },
  {
   "cell_type": "markdown",
   "metadata": {},
   "source": [
    "Let's run an example with the vector search on the chunks. Examples: \n",
    "\n",
    "-  \"Can I enable push notifications?\"\n",
    "-  \"How can I use the online services safely?\"\n",
    "-  \"What is meant with the Rabofoon?\""
   ]
  },
  {
   "cell_type": "code",
   "execution_count": 18,
   "metadata": {},
   "outputs": [],
   "source": [
    "message = \"How can I use the online services safely?\""
   ]
  },
  {
   "cell_type": "code",
   "execution_count": 19,
   "metadata": {},
   "outputs": [],
   "source": [
    "results_df = vector_search_chunks(message, 5, embedding_model)"
   ]
  },
  {
   "cell_type": "code",
   "execution_count": 20,
   "metadata": {},
   "outputs": [
    {
     "data": {
      "text/html": [
       "<div>\n",
       "<style scoped>\n",
       "    .dataframe tbody tr th:only-of-type {\n",
       "        vertical-align: middle;\n",
       "    }\n",
       "\n",
       "    .dataframe tbody tr th {\n",
       "        vertical-align: top;\n",
       "    }\n",
       "\n",
       "    .dataframe thead th {\n",
       "        text-align: right;\n",
       "    }\n",
       "</style>\n",
       "<table border=\"1\" class=\"dataframe\">\n",
       "  <thead>\n",
       "    <tr style=\"text-align: right;\">\n",
       "      <th></th>\n",
       "      <th>score</th>\n",
       "      <th>file_name</th>\n",
       "      <th>chunk_id</th>\n",
       "      <th>page</th>\n",
       "      <th>chunk</th>\n",
       "    </tr>\n",
       "  </thead>\n",
       "  <tbody>\n",
       "    <tr>\n",
       "      <th>0</th>\n",
       "      <td>0.925720</td>\n",
       "      <td>Terms &amp; Conditions for Online Business Service...</td>\n",
       "      <td>128</td>\n",
       "      <td>14</td>\n",
       "      <td>Page | 14\\n\\nSection 6: How to use our Online ...</td>\n",
       "    </tr>\n",
       "    <tr>\n",
       "      <th>1</th>\n",
       "      <td>0.923584</td>\n",
       "      <td>Terms &amp; Conditions for Online Business Service...</td>\n",
       "      <td>132</td>\n",
       "      <td>15</td>\n",
       "      <td>Page | 15\\n\\niv. switch to using any other rec...</td>\n",
       "    </tr>\n",
       "    <tr>\n",
       "      <th>2</th>\n",
       "      <td>0.923233</td>\n",
       "      <td>Terms &amp; Conditions for Online Business Service...</td>\n",
       "      <td>133</td>\n",
       "      <td>15</td>\n",
       "      <td>6.3. Using Internet, telecommunication and/or ...</td>\n",
       "    </tr>\n",
       "    <tr>\n",
       "      <th>3</th>\n",
       "      <td>0.919617</td>\n",
       "      <td>Payment and Online Services Terms Sept 2022.pdf</td>\n",
       "      <td>243</td>\n",
       "      <td>17</td>\n",
       "      <td>18 Terms and Conditions for Payment and Online...</td>\n",
       "    </tr>\n",
       "    <tr>\n",
       "      <th>4</th>\n",
       "      <td>0.917267</td>\n",
       "      <td>Payment and Online Services Terms Sept 2022.pdf</td>\n",
       "      <td>267</td>\n",
       "      <td>23</td>\n",
       "      <td>Chapter 4  \\nOnline services</td>\n",
       "    </tr>\n",
       "  </tbody>\n",
       "</table>\n",
       "</div>"
      ],
      "text/plain": [
       "      score                                          file_name  chunk_id  \\\n",
       "0  0.925720  Terms & Conditions for Online Business Service...       128   \n",
       "1  0.923584  Terms & Conditions for Online Business Service...       132   \n",
       "2  0.923233  Terms & Conditions for Online Business Service...       133   \n",
       "3  0.919617    Payment and Online Services Terms Sept 2022.pdf       243   \n",
       "4  0.917267    Payment and Online Services Terms Sept 2022.pdf       267   \n",
       "\n",
       "   page                                              chunk  \n",
       "0    14  Page | 14\\n\\nSection 6: How to use our Online ...  \n",
       "1    15  Page | 15\\n\\niv. switch to using any other rec...  \n",
       "2    15  6.3. Using Internet, telecommunication and/or ...  \n",
       "3    17  18 Terms and Conditions for Payment and Online...  \n",
       "4    23                       Chapter 4  \\nOnline services  "
      ]
     },
     "execution_count": 20,
     "metadata": {},
     "output_type": "execute_result"
    }
   ],
   "source": [
    "results_df"
   ]
  },
  {
   "cell_type": "code",
   "execution_count": 21,
   "metadata": {},
   "outputs": [
    {
     "name": "stdout",
     "output_type": "stream",
     "text": [
      "[\n",
      "  {\n",
      "    \"score\": 0.9257202148,\n",
      "    \"file_name\": \"Terms & Conditions for Online Business Services - April 2024.pdf\",\n",
      "    \"chunk_id\": 128,\n",
      "    \"page\": 14,\n",
      "    \"chunk\": \"Page | 14\\n\\nSection 6: How to use our Online Services safely\\n\\n6.1. What you need to do\\n\\na. Before using any Online Services you and each User must make sure that the Devices are (i) compatible with the Online Services, (ii) free of any viruses, (iii) adequately protected by installing up-to-date security, anti-virus and other software and (iv) adequately locked with a Security Code or other appropriate security measure, if possible.  \\nb. It is essential that you and each User take all reasonable steps to protect all Security Resources and Security Codes including by:  \\ni. not keeping a written record of any Security Code or, if you do keep a record of a Security Code, keeping it in a secure place separate from any other Security Code or Security Resource and anything which may identify you or your accounts;  \\nii. never storing or saving any Security Resources together nor record any Security Code on any software which saves it automatically;\"\n",
      "  },\n",
      "  {\n",
      "    \"score\": 0.9235839844,\n",
      "    \"file_name\": \"Terms & Conditions for Online Business Services - April 2024.pdf\",\n",
      "    \"chunk_id\": 132,\n",
      "    \"page\": 15,\n",
      "    \"chunk\": \"Page | 15\\n\\niv. switch to using any other recommended Security Resources or additional security measures, in line with Clause sub c of this clause. f. If you or a User do not follow the requirements of this clause, you may be liable for any losses which arise as a result of unauthorized access to the Online Service. e. You may be required to assist us and/or the police or other competent authorities in any inquiries related to a breach of security of the Online Services. In connection with these inquiries, we may disclose information to the police or other competent authorities to prevent or recover losses.\\n\\n6.2. Secure environment\\n\\nAre you visiting the Website using a browser? Then you must check and ensure that you are still in the secure environment of our Online Service. You can tell from the address bar in your Internet browser.\\n\\n6.3. Using Internet, telecommunication and/or other services, hardware and software safely\"\n",
      "  },\n",
      "  {\n",
      "    \"score\": 0.9232330322,\n",
      "    \"file_name\": \"Terms & Conditions for Online Business Services - April 2024.pdf\",\n",
      "    \"chunk_id\": 133,\n",
      "    \"page\": 15,\n",
      "    \"chunk\": \"6.3. Using Internet, telecommunication and/or other services, hardware and software safely\\n\\na. It is your responsibility to arrange all Internet, telecommunication and/or other services, goods, hardware (including a Device) and software needed to use an Online Service.  \\nb. You must use those Internet, telecommunication and/or other services, hardware, security, and software in such a way as not to cause us or a third party any damage.  \\nc. In addition to the software referred to in this article, we may provide software or arrange for software to be provided to make a data connection extra secure. If we do, you must install the software. We are in no event liable for the use and/or any side effects of this software.  \\n\\n6.4. Rules on Apps\\n\\nIf you want to access an Online Service and/or authenticate yourself for an Online Service via an App, the following rules apply:  \\na. Before installing the App, you must check whether it is one of our Apps.\"\n",
      "  },\n",
      "  {\n",
      "    \"score\": 0.9196166992,\n",
      "    \"file_name\": \"Payment and Online Services Terms Sept 2022.pdf\",\n",
      "    \"chunk_id\": 243,\n",
      "    \"page\": 17,\n",
      "    \"chunk\": \"18 Terms and Conditions for Payment and Online Services 2022\\n3) Ensure proper security of the equipment you use for your banking\\n Consider the following:\\n\\u2022 Ensure that the installed software on the equipment, such as computer, tablet, and/or smartphone, that you use for managing your banking is equipped with current (security) updates. Installed software includes the operating system and security programs, such as a virus scanner and firewall.\\n\\u2022 Do not install illegal software.\\n\\u2022 Secure access to the equipment you use for managing your banking with an access code.\\n\\u2022 Also ensure that applications provided by us, on the equipment you use for managing your banking, cannot be used by unauthorized persons.\\n\\u2022 Always log out when you are finished managing your banking.\\n4) Check your account\"\n",
      "  },\n",
      "  {\n",
      "    \"score\": 0.9172668457,\n",
      "    \"file_name\": \"Payment and Online Services Terms Sept 2022.pdf\",\n",
      "    \"chunk_id\": 267,\n",
      "    \"page\": 23,\n",
      "    \"chunk\": \"Chapter 4  \\nOnline services\"\n",
      "  }\n",
      "]\n"
     ]
    }
   ],
   "source": [
    "results = dumps(loads(results_df.to_json(orient=\"records\")), indent=2)\n",
    "print(results)"
   ]
  },
  {
   "cell_type": "markdown",
   "metadata": {},
   "source": [
    "### Vector Search on Definitions"
   ]
  },
  {
   "cell_type": "markdown",
   "metadata": {},
   "source": [
    "Now perform an Vector Search on the definitions."
   ]
  },
  {
   "cell_type": "code",
   "execution_count": 22,
   "metadata": {},
   "outputs": [],
   "source": [
    "def vector_search_definition(message, nn=5, embedding_model=embedding_model):\n",
    "    message_vector = embedding_model.embed_query(message)\n",
    "    similarity_query = \"\"\" \n",
    "        CALL db.index.vector.queryNodes(\"definition-embeddings\", $nn, $message_vector) YIELD node, score\n",
    "        WITH node as definition, score ORDER BY score DESC\n",
    "        RETURN score, definition.term as term, definition.description as description\n",
    "    \"\"\"\n",
    "    results_df = driver.execute_query(\n",
    "        similarity_query,\n",
    "        database_=DATABASE,\n",
    "        routing_=RoutingControl.READ,\n",
    "        message_vector=message_vector,\n",
    "        nn = nn, \n",
    "        result_transformer_= lambda r: r.to_df()\n",
    "    )\n",
    "    return results_df"
   ]
  },
  {
   "cell_type": "markdown",
   "metadata": {},
   "source": [
    "#### Example"
   ]
  },
  {
   "cell_type": "code",
   "execution_count": 23,
   "metadata": {},
   "outputs": [],
   "source": [
    "message = \"What is meant with the Rabofoon?\""
   ]
  },
  {
   "cell_type": "code",
   "execution_count": 24,
   "metadata": {},
   "outputs": [],
   "source": [
    "results_df = vector_search_definition(message, 5, embedding_model)"
   ]
  },
  {
   "cell_type": "code",
   "execution_count": 25,
   "metadata": {},
   "outputs": [
    {
     "name": "stdout",
     "output_type": "stream",
     "text": [
      "[\n",
      "  {\n",
      "    \"score\": 0.9451599121,\n",
      "    \"term\": \"rabofoon\",\n",
      "    \"description\": \"A service that allows you to give payment orders using the phone's keys. You give permission for the payment order according to the instructions of Rabofoon. Transfers with Rabofoon require the use of IBAN as a unique identifier.\"\n",
      "  },\n",
      "  {\n",
      "    \"score\": 0.9116210938,\n",
      "    \"term\": \"rabo\",\n",
      "    \"description\": \"Savings Account 2020\"\n",
      "  },\n",
      "  {\n",
      "    \"score\": 0.910446167,\n",
      "    \"term\": \"rabo alert\",\n",
      "    \"description\": \"An example of a push message or an email message that is sent to the email address specified by the user.\"\n",
      "  },\n",
      "  {\n",
      "    \"score\": 0.9073181152,\n",
      "    \"term\": \"rabo app\",\n",
      "    \"description\": \"To use a digital card, you need the Rabo App, unless we inform you otherwise.\"\n",
      "  },\n",
      "  {\n",
      "    \"score\": 0.9063873291,\n",
      "    \"term\": \"rabo alerts\",\n",
      "    \"description\": \"Notifications that can be received, and there is a concern if someone else gains access to your email address.\"\n",
      "  }\n",
      "]\n"
     ]
    }
   ],
   "source": [
    "results = dumps(loads(results_df.to_json(orient=\"records\")), indent=2)\n",
    "print(results)"
   ]
  },
  {
   "cell_type": "markdown",
   "metadata": {},
   "source": [
    "#### View results in the Neo4j Browser"
   ]
  },
  {
   "cell_type": "code",
   "execution_count": 27,
   "metadata": {
    "scrolled": true
   },
   "outputs": [
    {
     "name": "stdout",
     "output_type": "stream",
     "text": [
      "[-0.02015688270330429, -0.028769487515091896, 0.004130402114242315, -0.006511572282761335, -0.015453176572918892, -0.006654898636043072, 0.021108048036694527, -0.03447647765278816, -0.010391153395175934, -0.011648515239357948, 0.015114405192434788, -0.015804976224899292, 0.0110100619494915, -0.01975296437740326, 0.007257520221173763, 0.0004434155998751521, 0.04688071459531784, 0.004273728467524052, 0.013199045322835445, -0.004697192460298538, 0.02122531458735466, -0.0020847455598413944, 0.00013711680367123336, -0.017329446971416473, 0.015427117235958576, -0.007570232264697552, 0.014515040442347527, -0.019101480022072792, 0.028300419449806213, -0.024039721116423607, 0.020990781486034393, -0.001970736077055335, -0.00666792830452323, -0.01467139646410942, -0.01834576018154621, -0.005084824748337269, 0.0036222452763468027, -0.0009576799930073321, 0.00502944877371192, 0.009172880090773106, 0.01579194702208042, 0.011055666022002697, -0.0038795811124145985, 0.009602858684957027, -0.005140200722962618, 0.019583577290177345, -0.0027378571685403585, -0.0007573489565402269, -0.01945328153669834, 0.022437073290348053, 0.024599997326731682, 0.014032943174242973, -0.019857201725244522, 0.0020423990208655596, 0.010006778873503208, 0.005488744005560875, -0.015388027764856815, 0.0033649096731096506, -0.005847059655934572, -0.001086347852833569, 0.005058765411376953, 0.0004295715771149844, -0.024235166609287262, 0.01095794327557087, -0.0032639296259731054, -0.022202540189027786, -0.004436599090695381, 0.0004483017255552113, -0.01282118447124958, -0.0013754434185102582, 0.03984469920396805, 0.00862563494592905, 0.008306408300995827, -0.0024560908786952496, 0.011980772018432617, -0.016417371109128, -0.011589881964027882, 0.015049256384372711, 0.007459479849785566, -0.008475793525576591, 0.019140569493174553, -0.007524628192186356, -0.006234691943973303, 0.012254394590854645, 0.017094913870096207, 0.003967531491070986, -0.007785221561789513, 0.01718612015247345, -0.02968156337738037, -0.005211863666772842, -0.017107943072915077, 0.025186331942677498, -0.00022740827989764512, 0.0011270655086264014, -0.0005203720065765083, 0.004768855404108763, -0.019583577290177345, 0.009075158275663853, -0.01609162986278534, -0.04135613888502121, -0.0049414983950555325, 0.012078494764864445, -0.02596811205148697, -0.011830930598080158, -0.0015562300104647875, -0.006286810617893934, -6.178909097798169e-05, 0.030723936855793, 0.014801693148911, -0.020065676420927048, -0.0018941867165267467, 0.0541512630879879, 0.013296767137944698, -0.04031376540660858, -0.027727115899324417, -0.01756398007273674, 0.0015554155688732862, -0.014032943174242973, -0.0034333153162151575, -0.03549279272556305, 0.016300104558467865, 0.0010073555167764425, 0.020717158913612366, -0.008169596083462238, 0.013088293373584747, 0.00898395013064146, -0.024756353348493576, -0.022541310638189316, 0.00012032076483592391, -0.013218589127063751, 0.022854022681713104, 0.014032943174242973, 0.012176216579973698, 0.003374681808054447, -0.0002805448602885008, 0.025694487616419792, -0.007140253204852343, -0.003285102779045701, -0.013485697098076344, -0.027492580935359, 0.0013933591544628143, 0.032443851232528687, -0.023583684116601944, 0.0009812961798161268, 0.0053454176522791386, 0.0013339114375412464, 0.006306355353444815, 0.0034984636586159468, 0.013498727232217789, -0.005420338362455368, 0.011198991909623146, -0.01756398007273674, 0.02744046226143837, -0.026202645152807236, 0.013114352710545063, 0.00751811359077692, 0.002772059990093112, 0.049643002450466156, -0.0017410882283002138, 0.006697244942188263, -0.007088134530931711, 0.019153598695993423, -0.0013697429094463587, 0.004713479429483414, 0.014150209724903107, 0.029577327892184258, 0.016339192166924477, 0.006566948257386684, -0.009837392717599869, -0.010176164098083973, 0.025420865043997765, 0.03418982774019241, -0.023700950667262077, 0.04276334121823311, -0.0073813023045659065, 0.008130507543683052, 0.004478945396840572, -0.005244438070803881, -0.01284072920680046, 0.01828061230480671, -0.045238979160785675, -0.00895137619227171, 0.010032838210463524, 0.02564236894249916, -0.007804765831679106, -0.003667849116027355, 0.015192583203315735, -0.014332625083625317, 0.0003035503614228219, -0.00844321958720684, 0.004834003746509552, 0.01941419206559658, 0.01688643917441368, -0.0039349570870399475, -0.7100643515586853, 0.004635301418602467, -0.0037688289303332567, 0.0007658996619284153, -0.0013917305041104555, -0.016313133761286736, 0.0022248143795877695, -0.00022292933135759085, -0.007557202596217394, 0.017785485833883286, -0.01940116286277771, 0.004224867094308138, 0.00967452209442854, -0.004990359768271446, -0.012293484061956406, -0.02780529297888279, 0.009296662174165249, -0.0014096462400630116, 0.0029153863433748484, 0.014593218453228474, -0.004583182744681835, 0.011283685453236103, -0.011407466605305672, 0.006690730340778828, 0.022945230826735497, -0.014749574474990368, 0.011811385862529278, 0.0005069351755082607, -0.0009698952781036496, 0.00824125949293375, -0.030723936855793, 0.010378124192357063, 0.010755984112620354, 0.00856700073927641, 0.05243134871125221, -0.023740040138363838, -0.01716006174683571, 0.054359737783670425, -0.003443087451159954, 0.021095018833875656, -0.0034105132799595594, -0.028821606189012527, -0.0008444847771897912, -0.010247827507555485, -0.0205477736890316, -0.001654766732826829, 0.029447030276060104, 0.01570073887705803, -0.008593060076236725, -0.01719915121793747, -0.021524997428059578, -0.007361757569015026, -0.005889405962079763, 0.020339298993349075, 0.002614075317978859, 0.011290200054645538, 0.028665250167250633, -0.004387737717479467, 0.004185778088867664, 0.008847138844430447, -0.03215720131993294, -0.013485697098076344, -0.0067037600092589855, -0.01521864254027605, -0.007570232264697552, 0.014150209724903107, -0.013837498612701893, 0.009746185503900051, 0.007922032848000526, -0.01186350453644991, 0.016247985884547234, -0.0018306671408936381, -0.009557255543768406, -0.0037883734330534935, 0.013127381913363934, 0.028613131493330002, 0.01611768826842308, -0.023570654913783073, -0.01828061230480671, 0.0016018337337300181, -0.020365357398986816, 0.004775370005518198, -0.03181842714548111, 0.014879871159791946, 0.017733367159962654, -0.009211969561874866, 0.000564347137697041, 0.008990464732050896, 0.02385730668902397, -0.00402942206710577, 0.014502011239528656, 0.007492054253816605, 0.0012940081069245934, 0.005628813058137894, 0.008488822728395462, 0.027935590595006943, -0.017798515036702156, 0.008189140819013119, -0.0004918696358799934, -0.0036645918153226376, -0.007596291601657867, 0.011791842058300972, 0.012957996688783169, 0.0005407308926805854, -0.006084850989282131, 3.878359711961821e-05, -0.017042795196175575, 0.01333585660904646, 0.012423780746757984, -0.03270444646477699, -0.006153256632387638, -0.00438448041677475, 0.025186331942677498, -0.005518060643225908, -0.0017785484669730067, -0.03476313129067421, 0.027701055631041527, 0.01791578158736229, 0.018098197877407074, -0.02777923457324505, 0.004097827710211277, -0.024990886449813843, 0.019492371007800102, -0.010410698130726814, -0.003078256966546178, 0.015948303043842316, 0.002234586514532566, -0.00951165147125721, -0.02311461605131626, 0.0026173328515142202, 0.00751811359077692, -0.013902646489441395, 0.01898421347141266, -0.010860221460461617, 0.01003935281187296, 0.01302314456552267, -0.007648410275578499, -0.0015586729859933257, 0.010124045424163342, -0.003407255979254842, -0.015948303043842316, 0.00037562064244411886, -0.0021091760136187077, -0.007557202596217394, -0.014371714554727077, -0.02824830263853073, -0.016247985884547234, -0.009081672877073288, -0.008110962808132172, 0.004778627771884203, 0.005062022712081671, 0.019166629761457443, -0.012769066728651524, 0.007602806203067303, 0.03319957107305527, -0.01373326126486063, -0.038645971566438675, -0.0026824811939150095, -0.02007870562374592, -0.009088187478482723, 0.024326374754309654, 0.006120682694017887, -0.013655083253979683, 0.0030310244765132666, -0.01115990336984396, -0.016417371109128, 0.020287180319428444, -0.006462710909545422, -0.020404446870088577, -0.03880232572555542, -0.015648620203137398, -0.023700950667262077, 0.0029951930046081543, 0.009387869387865067, 0.0014975965023040771, 0.0054952590726315975, -0.009557255543768406, 0.007830825634300709, -0.02970762364566326, 0.010026322677731514, 0.013186015188694, 0.012619225308299065, -0.02785741165280342, -0.006478998344391584, 0.00137055735103786, 0.011381407268345356, 0.014684426598250866, 0.033851053565740585, -0.009400899522006512, 0.02007870562374592, -0.010827646590769291, 0.009583314880728722, -0.008723356761038303, 0.009576799347996712, 0.005208606366068125, -0.0008053958299569786, 0.02595508098602295, 0.02560328133404255, 0.020665040239691734, 0.023544594645500183, 0.009036068804562092, 0.006123939994722605, 0.025850843638181686, -0.0034039984457194805, 0.027674997225403786, -0.035310376435518265, 0.01649554818868637, -0.020352328196167946, 0.038255080580711365, 0.01902330294251442, -0.017303388565778732, -0.016664935275912285, -0.019127540290355682, 0.029499148949980736, 0.00788294430822134, 0.023336119949817657, -0.010593113489449024, 0.008000210858881474, 0.015857094898819923, -0.008365041576325893, 0.01908845081925392, -0.012697403319180012, 0.008293378166854382, 0.007081619929522276, -0.002374655334278941, -0.005690703634172678, 0.0026173328515142202, 0.04682859778404236, 0.001972364727407694, -0.02850889414548874, 0.0012223449302837253, 0.01186350453644991, 0.006944808643311262, 0.009987234137952328, 0.010742953978478909, -0.003218325786292553, 0.012586651369929314, -0.020378386601805687, 0.023518536239862442, 0.001548086409457028, -0.003443087451159954, 0.02929067425429821, 0.023310061544179916, 0.0009340636897832155, 0.009479077532887459, 0.020704129710793495, -0.015974363312125206, -0.0006449681241065264, -0.0005623112665489316, 0.008306408300995827, -0.020638979971408844, 0.01826758310198784, -0.017446713522076607, -0.0001581882097525522, 0.004768855404108763, -0.01210455410182476, -0.00898395013064146, 0.023231882601976395, 0.025186331942677498, 0.005185804329812527, 0.0071532828733325005, 0.029082199558615685, 0.011909108608961105, -0.003260672325268388, -0.003703680820763111, 9.563566709402949e-05, 0.015440146438777447, -0.0075050839222967625, 0.0023518535308539867, -0.01799396052956581, 0.013720231130719185, 0.0017003705725073814, -0.011413982138037682, 0.008104448206722736, 0.005713505670428276, -0.005055507645010948, -0.02532965876162052, 0.02715381048619747, 0.005667902063578367, 0.005358447320759296, -0.012306513264775276, -0.025368746370077133, -0.0030391679611057043, 0.0016604672418907285, -0.0063291569240391254, -0.0032036674674600363, -0.0322614386677742, -0.001690598321147263, -0.009016524069011211, 0.028013767674565315, 0.016247985884547234, 0.01898421347141266, 0.006035989616066217, 0.003465889487415552, -0.0012166444212198257, -0.0006571834674105048, 0.018515145406126976, -0.014749574474990368, 0.011583367362618446, 0.0011799985077232122, 0.014775633811950684, -0.0072119166143238544, -0.002254131017252803, -0.011635486036539078, 0.03958410397171974, -0.0009935115231201053, -0.007739617954939604, -0.026254763826727867, 0.004397510085254908, -0.004687420092523098, -0.013186015188694, -0.009563770145177841, -0.009094702079892159, 0.0063193850219249725, -0.0036711066495627165, 0.0005574251408688724, 0.0016132347518578172, -0.011811385862529278, 0.024391522631049156, 0.009954660199582577, -0.014241417869925499, 0.01153776329010725, 0.008202170953154564, 0.010664775967597961, 0.08073177188634872, 0.012567106634378433, -0.0008180183358490467, 0.01465836726129055, -0.013159955851733685, -0.010703865438699722, -0.019531460478901863, -0.02414395846426487, 0.016717053949832916, -0.016274044290184975, 0.01097748801112175, -0.02234586514532566, 0.015140464529395103, -0.011993801221251488, 0.012052435427904129, -0.021655293181538582, -0.004006620496511459, -0.013863557949662209, 0.039062920957803726, -0.007759162224829197, -0.010547509416937828, 0.024313343688845634, 0.011238081380724907, 0.013954765163362026, 0.016378281638026237, -0.00557017931714654, -0.0012361889239400625, 0.02015688270330429, 0.00278997584246099, -0.013498727232217789, -0.008084903471171856, 0.029004022479057312, -0.0017573753139004111, 0.004055481404066086, 0.013576905243098736, -0.00953119620680809, 0.018072137609124184, -0.008352011442184448, 0.01904936134815216, -0.011316259391605854, 0.010306460782885551, 0.011114299297332764, 0.008013240993022919, 0.010260856710374355, 0.01610465906560421, 0.007570232264697552, 0.0038372348062694073, 0.0009332493646070361, -0.006394305266439915, -0.018554234877228737, 0.0024577195290476084, 0.003216697135940194, -0.012951481156051159, 0.004706964362412691, 0.005964326672255993, 0.002392571186646819, -0.013967795297503471, 0.008612604811787605, 0.015831036493182182, 0.011433525942265987, -0.028065886348485947, -0.01861938275396824, 0.015857094898819923, -0.001379515160806477, -0.005081566981971264, -0.04609893634915352, -0.014215358532965183, -0.004752568434923887, -0.005153230391442776, -0.0027427433524280787, 0.004205322824418545, 0.0021450077183544636, -0.006879660300910473, 0.016912497580051422, 0.0076744696125388145, 0.011993801221251488, 0.016391310840845108, -3.786744855460711e-05, -0.014397773891687393, 0.005661386996507645, 0.007824310101568699, -0.0056516146287322044, 0.0007182599510997534, -0.01794184185564518, -0.03080211579799652, 0.014306565746665001, 0.02122531458735466, -0.010651746764779091, -0.011348833329975605, -0.010482360608875751, 0.01614374853670597, -0.006951323244720697, 0.019505400210618973, -0.01170063391327858, 0.010690835304558277, -0.0260202307254076, 0.013798409141600132, 1.8857377654057927e-05, -0.008501852862536907, -0.0008070245385169983, 0.019283896312117577, -0.017472773790359497, -0.019270867109298706, 0.025069065392017365, 0.019101480022072792, 0.002092889044433832, 0.0007272178772836924, 0.022150421515107155, -0.020652011036872864, -0.00895137619227171, 0.020625950768589973, -0.030567580834031105, -0.01333585660904646, 0.00733569823205471, -0.016365252435207367, -0.0058568320237100124, 0.004729766398668289, 0.029759742319583893, -0.009824363514780998, -0.029733682051301003, -0.0208344254642725, -0.027570759877562523, 0.01686037890613079, 0.010944914072751999, -0.015583472326397896, -0.002094517694786191, -0.024665145203471184, -0.016586756333708763, 0.01335540134459734, 0.010397667996585369, 0.024639086797833443, 0.025420865043997765, -0.011896079406142235, -0.030098512768745422, -0.021407730877399445, -0.014736545272171497, -0.007374787237495184, 0.0017736623995006084, -0.004977330099791288, -0.006609294563531876, -0.03627457097172737, 0.010195708833634853, 0.00019463054195512086, -0.009400899522006512, -0.028456775471568108, -0.023349149152636528, 0.0018094939878210425, 0.005996900610625744, -0.011615941300988197, 0.012234849855303764, -0.03984469920396805, 0.014032943174242973, -0.0075050839222967625, 0.007088134530931711, -0.010886280797421932, -0.040756773203611374, -0.0033649096731096506, -0.016690993681550026, 0.028717368841171265, 0.01210455410182476, 0.03218325972557068, 0.0011979143600910902, 0.0052900416776537895, 0.004921953659504652, -0.00450174743309617, -0.009244543500244617, -0.01317298598587513, -0.023127645254135132, -0.036769699305295944, 0.017355507239699364, -0.0026873673778027296, 0.02007870562374592, 0.017694277688860893, 0.004908923991024494, 0.011837445199489594, 0.0035603544674813747, -0.0023290517274290323, -0.01136186346411705, -0.0053812493570148945, -0.001319253002293408, -0.013290252536535263, -0.013036174699664116, 0.002734599867835641, -0.016625845804810524, -0.005843802355229855, -0.005153230391442776, 0.01981811225414276, 0.005306328646838665, 0.00038009960553608835, -0.00439425278455019, 0.005048993043601513, -0.014019913971424103, 0.022046184167265892, 0.005013161338865757, 0.02013082429766655, -0.0006014002137817442, -0.004299787804484367, 0.019557518884539604, -0.004739538766443729, 0.02417001873254776, -0.002638506004586816, 0.0024870361667126417, -0.00677542295306921, -0.018085166811943054, -0.0007891087443567812, 0.001132766017690301, 0.009785274043679237, -0.023153705522418022, 0.02751864120364189, -0.023336119949817657, -0.023231882601976395, -0.023166734725236893, -0.015987392514944077, -0.026085378602147102, 0.002765545155853033, 0.02892584353685379, -0.011791842058300972, 0.026098407804965973, -0.000866472371853888, -0.02422213740646839, 0.011205507442355156, -0.014697455801069736, 0.017107943072915077, -0.020013557747006416, 0.029577327892184258, 0.029785800725221634, -0.0060913655906915665, -0.01284072920680046, 0.021863767877221107, -0.013824468478560448, -0.025043005123734474, 0.009381354786455631, 0.02268463745713234, 0.030984530225396156, -0.037525419145822525, 0.01320555992424488, 0.0069969273172318935, -0.02273675613105297, -0.017290357500314713, 0.028118005022406578, -0.013407520018517971, 0.017537921667099, -0.013159955851733685, 0.005807970650494099, -0.01575285755097866, -0.0036287601105868816, -0.027701055631041527, -0.0040815407410264015, -0.016169806942343712, -0.01614374853670597, -0.027362285181879997, 0.018893005326390266, -0.010801587253808975, -0.00017620578000787646, -0.005205349065363407, -0.031193004921078682, 0.012273939326405525, -0.003172722179442644, -0.010905824601650238, 0.009941630065441132, -0.020365357398986816, 0.028091946616768837, 0.020625950768589973, -0.0038665514439344406, 0.0006502614705823362, -0.02492573857307434, -0.026280822232365608, 0.0005089710466563702, 0.009733155369758606, 0.02311461605131626, -0.010801587253808975, -0.0183718204498291, -0.013381460681557655, 0.026788979768753052, 0.0005684188799932599, 0.014397773891687393, 0.00402942206710577, -0.005244438070803881, 0.010944914072751999, -0.02824830263853073, -0.004987102001905441, -0.007752647157758474, -0.022020123898983, -0.00033551373053342104, -0.0030375393107533455, -0.011563822627067566, -0.028039827942848206, -0.00187952839769423, 0.024039721116423607, -0.026202645152807236, -0.022958260029554367, 0.0020896317437291145, -0.006006672978401184, 0.01115990336984396, 0.002161294687539339, 0.016026481986045837, 0.013889617286622524, 0.015922244638204575, -0.045551691204309464, 0.008189140819013119, -0.004179263487458229, 0.02702351287007332, 0.008117477409541607, 0.0032574147917330265, 0.027648936957120895, -0.007635380607098341, 0.025342687964439392, -0.024378493428230286, 0.003983818460255861, 0.01297102589160204, -0.010723410174250603, 0.01713400147855282, 0.0029772771522402763, -0.016717053949832916, 0.031193004921078682, -0.005931752268224955, 0.007974151521921158, -0.021785590797662735, -0.0337989367544651, 0.010084956884384155, -0.004133659414947033, 0.027935590595006943, -0.0006893504178151488, -0.016560697928071022, -0.002618961501866579, 0.005071795079857111, 0.0012736491626128554, -0.0055604069493710995, -0.029056141152977943, -0.017837604507803917, 0.018489087000489235, 0.03223537653684616, -0.011472615413367748, -0.010156619362533092, -0.016417371109128, -0.014006883837282658, -0.00602295994758606, 0.0004381223116070032, 0.005426852963864803, 0.007426905911415815, 0.015309849753975868, 0.03252203017473221, -0.007198886945843697, 0.013967795297503471, -0.0009047469939105213, -0.01833273097872734, 0.001239446341060102, -0.014202328398823738, -0.03434618189930916, -0.029785800725221634, -0.02457393705844879, 0.013668112456798553, 0.0023339376784861088, -0.011114299297332764, -0.004000105429440737, 0.020248090848326683, -0.021798620000481606, 0.016912497580051422, -0.017407625913619995, 0.0126257399097085, -0.013075263239443302, -0.007394331973046064, 0.009752700105309486, 0.01798092946410179, -0.006990412250161171, 0.009974204003810883, -0.0033062761649489403, -0.025121184065937996, -0.006918749306350946, 0.008325952105224133, 0.019283896312117577, -0.005511546041816473, -0.01976599358022213, -0.00721843121573329, 0.0475582554936409, -0.017381565645337105, 0.0072119166143238544, -0.00898395013064146, -0.03267838433384895, -0.010078441351652145, -0.010567054152488708, -0.010312975384294987, 0.010606142692267895, -0.0066223242320120335, 0.002172695705667138, -0.017772454768419266, -0.005895921029150486, 0.01228045392781496, 0.014775633811950684, -0.014918959699571133, -0.004208580125123262, 0.011563822627067566, 0.0017345733940601349, 0.01243029534816742, -0.012534532696008682, 0.0020863742101937532, 0.013941735960543156, -0.01825455203652382, 0.0018974441336467862, 0.005371476989239454, -0.022528281435370445, -0.014280506409704685, -0.00675587821751833, -0.03145359829068184, 0.005022933706641197, 0.004130402114242315, 0.0016246356535702944, -0.021108048036694527, 0.001807865221053362, -0.039427749812603, 0.005035963375121355, -0.00020104357099626213, 0.010189193300902843, -0.020951692014932632, -0.0015448289923369884, -0.018801799044013023, -0.01906239241361618, -0.015987392514944077, 0.022072242572903633, 0.010801587253808975, -0.0007736360421404243, -0.005749337375164032, -0.012521502561867237, 0.004625529050827026, 0.0025130955036729574, 0.0035147506278008223, -0.005159744992852211, -0.008430189453065395, -0.015570443123579025, -0.018020018935203552, -0.009589829482138157, -0.010658261366188526, -0.0019919092301279306, 0.019466310739517212, -0.028326479718089104, 0.02738834358751774, 0.20326268672943115, -0.020612921565771103, -0.0013648568419739604, 0.014397773891687393, 0.014202328398823738, -0.010195708833634853, 0.009811333380639553, -0.007635380607098341, 0.01117944810539484, -0.008417160250246525, -0.007283579558134079, -0.001972364727407694, -0.0019886516965925694, 0.002107547363266349, -0.012501957826316357, 0.01003935281187296, -0.022528281435370445, -0.0068275416269898415, -0.03989681601524353, -0.012241365388035774, 0.015140464529395103, 0.0024642343632876873, 0.007042530924081802, 0.0012467755004763603, 0.01173972338438034, 0.009648462757468224, -0.016664935275912285, 0.0019935378804802895, 0.016313133761286736, 0.013681142590939999, 0.006905719637870789, -0.009394384920597076, -0.013811439275741577, -0.011622455902397633, -0.014189299196004868, 0.029863979667425156, 0.00011645258200587705, -0.010860221460461617, 0.015374998562037945, 0.01645646058022976, -0.009101216681301594, -0.0021205770317465067, 0.01155730802565813, 0.004641816020011902, -0.0013412405969575047, 0.01041721273213625, -0.005283527076244354, -0.01151821855455637, 0.0023893138859421015, 0.019166629761457443, -0.013231619261205196, 0.002467491663992405, 0.005781911313533783, 0.011446556076407433, 0.01101657748222351, -0.00723797595128417, 0.0025798724964261055, 0.0036548194475471973, -0.006619066931307316, 0.0073813023045659065, -0.0208344254642725, 0.026815040037035942, -0.004876350052654743, 0.01863241381943226, 0.0008233116241171956, 0.01188304927200079, -0.004899152088910341, 0.0013111095177009702, -0.0025130955036729574, 0.0025440410245209932, 0.0028160351794213057, -0.013231619261205196, -0.008808049373328686, -0.007420390844345093, -0.02341429889202118, -0.03775995224714279, 0.00011156645632581785, 0.007557202596217394, 0.0017231724923476577, 0.03369469940662384, 0.0013477554311975837, 0.01904936134815216, -0.030619699507951736, -0.012860273942351341, -0.013433579355478287, -0.024274256080389023, 0.01411112118512392, 0.012599680572748184, -0.012723462656140327, 0.008365041576325893, 0.01467139646410942, -0.005456170067191124, -0.013798409141600132, -0.010840676724910736, 0.007746132556349039, 0.03033304773271084, -0.00936181005090475, 0.030880292877554893, -0.016352223232388496, -0.009882996790111065, -0.028300419449806213, -0.007641895208507776, 0.030463343486189842, -0.010345549322664738, -0.007661439944058657, -0.015518324449658394, 0.011212022043764591, -0.0046678753569722176, 0.01503622718155384, -0.015388027764856815, -0.011622455902397633, -0.01210455410182476, -0.006430136971175671, 0.0024023435544222593, 0.05717414617538452, -0.012599680572748184, -0.01610465906560421, -0.014345655217766762, 0.008365041576325893, -0.008338982239365578, 0.0021140621975064278, -0.026554446667432785, 0.01336843054741621, 0.0034137708134949207, -0.012501957826316357, -0.012984056025743484, -0.019596608355641365, 0.005459427367895842, 0.010488876141607761, -0.024313343688845634, 0.0017443456454202533, 0.013029659166932106, 0.0026906246785074472, -0.004003362730145454, 0.0007540915394201875, 0.0032264695037156343, -0.00394147215411067, 0.013094807974994183, -0.015153493732213974, -0.009094702079892159, 0.004625529050827026, 0.007433420512825251, 0.01429353654384613, 0.007635380607098341, -0.011316259391605854, -0.00807838886976242, 0.030541522428393364, -0.02676292136311531, -0.0027981193270534277, -0.020248090848326683, -0.023922454565763474, -0.008417160250246525, -0.02190285734832287, -0.027492580935359, 0.01653463765978813, 0.0036417897790670395, -0.029134318232536316, -0.02414395846426487, 0.015414087101817131, -0.014684426598250866, -0.0409652478992939, 0.0014552500797435641, 0.0074138762429356575, -0.015010167844593525, 0.0013436836889013648, 0.003980561159551144, -0.16938556730747223, 0.020769277587532997, 0.02345338650047779, -0.025720547884702682, 0.006638611666858196, -0.00856700073927641, 0.006886174902319908, -0.009238028898835182, -0.013655083253979683, 0.004990359768271446, -0.0025000658351927996, -0.0035114933270961046, -0.03377287834882736, -0.008560486137866974, -0.003827462438493967, -0.0098895113915205, 0.0006974939606152475, 0.009479077532887459, 0.013036174699664116, 0.02235889621078968, -2.2623764380114153e-05, -0.010065412148833275, 0.011218536645174026, -0.00529981404542923, 0.003260672325268388, -0.017081882804632187, -0.01645646058022976, 0.014345655217766762, -0.005693961400538683, -0.015140464529395103, -0.011759268119931221, -0.011987286619842052, -0.025915993377566338, -0.000903932610526681, 0.0020733445417135954, -0.0176030695438385, -0.002250873716548085, -0.007733102887868881, 0.00844321958720684, 0.0028062628116458654, 0.0011612684465944767, 0.01688643917441368, -0.002912128809839487, -7.539134116996138e-07, 0.001812751404941082, 0.04252880811691284, 0.037160590291023254, -0.015453176572918892, 0.004107600077986717, 0.002728085033595562, 0.00895137619227171, -0.004778627771884203, 0.03319957107305527, -0.009772244840860367, 0.03038516640663147, 0.012977540493011475, 0.0065897502936422825, 0.010990518145263195, -0.005084824748337269, -0.005000131670385599, -0.008163081482052803, -0.013316311873495579, 0.00639756303280592, -0.002092889044433832, -0.006472483277320862, 0.009602858684957027, -0.02814406529068947, -0.002430031541734934, -0.020730188116431236, -0.004895894322544336, -0.007374787237495184, 0.0024137443397194147, 0.013772349804639816, -0.01757701113820076, 0.00448220269754529, 0.025499043986201286, -0.01683432050049305, 0.003187380498275161, 0.008755931630730629, -0.001868127379566431, -0.0030619699973613024, 0.04862668737769127, -0.010104500688612461, 0.019948408007621765, 0.013707201927900314, 0.006599522661417723, 0.0004914624732919037, -0.007185857277363539, 0.00842367485165596, -0.015870125964283943, -0.004110857378691435, 0.007472509518265724, 0.00347891915589571, -0.021095018833875656, -0.0010366722708567977, 0.019231777638196945, -0.00037826731568202376, 0.01297102589160204, 0.004127144813537598, -0.013472667895257473, -0.00784385483711958, 0.008384586311876774, -0.024756353348493576, 0.011075210757553577, 0.04323241114616394, -0.0019397905562072992, 0.015114405192434788, 0.01947934180498123, 0.041590671986341476, -0.01907542161643505, 0.011655030772089958, -0.009029554203152657, 0.011583367362618446, 0.009948144666850567, -0.009759214706718922, 0.010456301271915436, 0.0019316470716148615, -0.010358579456806183, 0.021147137507796288, 0.006501799914985895, 0.055506348609924316, -0.00019778615387622267, 0.006866630632430315, 0.005016419105231762, -0.0034105132799595594, -0.0023160220589488745, -0.06707669049501419, -0.013576905243098736, 0.01210455410182476, -0.0027574016712605953, 0.002545669674873352, 0.007368272636085749, 0.0018893006490543485, 0.03004639409482479, -0.014449892565608025, 0.004078283440321684, -0.0065571763552725315, -0.030541522428393364, -0.018423939123749733, 0.016300104558467865, 0.009935115464031696, 0.01726429909467697, 3.8376419979613274e-05, -0.008697297424077988, 0.007374787237495184, 0.004563638009130955, 0.011746237985789776, 0.004276985768228769, -0.0018274097237735987, -0.0021564087364822626, -0.02119925618171692, -0.025134213268756866, -0.021068958565592766, -0.009023039601743221, 0.010554024018347263, 0.004677647724747658, -0.02777923457324505, -0.012339087203145027, 0.011153388768434525, -0.016977645456790924, -0.003180865664035082, -0.011830930598080158, -0.0345025397837162, -0.01461927779018879, 0.026645652949810028, -0.03512796014547348, 0.005065280012786388, -0.0034886912908405066, -0.0016743112355470657, -0.009596344083547592, -0.009413928724825382, -0.0010334148537367582, -0.00951165147125721, 0.007049045991152525, 0.03150571510195732, 0.003443087451159954, 0.0005505030858330429, 0.008312922902405262, -0.01721218042075634, -0.027492580935359, 0.04495232552289963, -0.021003810688853264, -0.0037753437645733356, 0.01906239241361618, 0.005439882632344961, 0.00936832558363676, 0.0020423990208655596, 0.003156434977427125, -0.013218589127063751, 0.015257731080055237, -0.009446502663195133, -0.013863557949662209, 0.002565214177593589, -0.007602806203067303, 0.035023726522922516, -0.01101657748222351, 0.011094755493104458, -0.00374928442761302, -0.014332625083625317, 0.00916636548936367, -0.01278861053287983, -0.0023095072247087955, -0.03413770720362663, -0.02199406549334526, 0.0219549760222435, -0.013668112456798553, 0.0011034492636099458, -0.01443686243146658, -0.002991935471072793, -0.0002640541933942586, 0.0003772493510041386, 0.030202750116586685, 0.003145033959299326, -0.006459453608840704, -0.006853600963950157, -0.01498410850763321, -0.010495390743017197, 0.01137489266693592, 0.005557149648666382, -0.030723936855793, -0.01302314456552267, 0.010723410174250603, -0.004560380708426237, 0.005130428355187178, 0.03004639409482479, 0.007609321270138025, -0.014580189250409603, 0.007127223536372185, -0.07338304072618484, 0.04018346965312958, -0.0052900416776537895, -0.025147242471575737, -0.004283500369638205, -0.020808367058634758, 0.011225051246583462, -0.020352328196167946, 0.004381223116070032, -0.0016775686526671052, -0.012189246714115143, 0.0357794463634491, -0.013472667895257473, -0.01172017864882946, -0.027674997225403786, -0.011231566779315472, 0.03981864079833031, -0.008345496840775013, 0.014267477206885815, 0.009980719536542892, 0.0036906511522829533, 0.0059447819367051125, 0.006358474027365446, 0.005638584960252047, 0.013902646489441395, 0.009485592134296894, 0.0015969476662576199, 0.024065781384706497, -0.017042795196175575, 0.005042478442192078, 0.004260698799043894, -0.0367436408996582, -0.00786339957267046, 0.009589829482138157, -0.008814564906060696, -0.029004022479057312, 0.008873198181390762, 0.00824125949293375, -0.0073813023045659065, 0.04406630992889404, -0.013615993782877922, -0.019544489681720734, 0.008254289627075195, -0.030880292877554893, 0.007426905911415815, 0.004605984780937433, -0.013459638692438602, 0.01790275238454342, 0.016234954819083214, -0.036404866725206375, 0.012345602735877037, 0.022228598594665527, -0.00784385483711958, -0.024065781384706497, -0.00990905612707138, 0.000669805915094912, 0.010280401445925236, -0.003596185939386487, 0.0022753041703253984, -0.012925421819090843, 0.03176631033420563, -0.009915570728480816, 0.017811544239521027, 0.00641059223562479, -0.007081619929522276, -0.0027427433524280787, -0.0059447819367051125, 0.012495443224906921, 0.015010167844593525, -0.04456143453717232, -0.017850633710622787, 0.00529981404542923, 0.007531143259257078, 0.0054040513932704926, -0.00967452209442854, 0.016990676522254944, -0.01243029534816742, 0.009400899522006512, -0.015283790417015553, 0.013811439275741577, -0.010456301271915436, 0.0033649096731096506, -0.02850889414548874, 0.0059675839729607105, 0.021316522732377052, 0.007192371878772974, -0.006166286300867796, -0.0027460006531327963, -0.0001803793420549482, 0.016912497580051422, -0.02045656554400921, 0.018853917717933655, -0.004156461451202631, -0.0014886385761201382, 0.01261271070688963, 0.02052171342074871, 0.00880153477191925, -0.012319543398916721, 0.027648936957120895, 0.02162923477590084, -0.015257731080055237, -0.010306460782885551, -0.007628865540027618, -0.029108259826898575, 0.007694013882428408, -0.001346126664429903, 0.0037069381214678288, -0.027205929160118103, -0.0029105001594871283, 0.021824680268764496, 0.01829364150762558, -0.008501852862536907, 0.013107837177813053, 0.02129046432673931, 0.015570443123579025, -0.0031645784620195627, -0.016313133761286736, -0.012143642641603947, -0.027544699609279633, 0.03950592875480652, 0.036430928856134415, 0.021134108304977417, 0.01940116286277771, -0.01136186346411705, -0.003889353247359395, 0.022437073290348053, 0.00550503097474575, -0.029447030276060104, -0.0006714346236549318, 0.01336843054741621, 0.006892689969390631, -0.01761609874665737, -0.020300209522247314, -0.007042530924081802, -0.0281961839646101, 0.020365357398986816, 0.009394384920597076, 0.004921953659504652, -0.024287285283207893, 0.024678174406290054, 0.003908897750079632, -0.009335750713944435, 0.012006831355392933, -0.006309612654149532, 0.01186350453644991, 0.009198939427733421, 0.018176374956965446, -0.007433420512825251, -0.016677964478731155, 0.0037818585988134146, -0.000347118271747604, 0.009661492891609669, 0.005013161338865757, -0.027492580935359, 0.006723304279148579, 0.0011588253546506166, 0.01645646058022976, 0.004462658427655697, 0.002527753822505474, 0.031297240406274796, -0.016352223232388496, 0.0008713584975339472, 0.0051206559874117374, -0.011804871261119843, -0.0008567001204937696, 0.010534479282796383, -0.004273728467524052, 0.009224998764693737, -0.028482835739850998, 0.011049151420593262, -0.00430955970659852, -0.03254808858036995, -0.018749680370092392, 0.01716006174683571, -0.017094913870096207, -0.007459479849785566, 0.03442436084151268, -0.02237192541360855, -0.004661360755562782, -0.02633294090628624, 0.01761609874665737, -0.00649528531357646, -0.030098512768745422, 0.04870486631989479, -0.0014186041662469506, -0.025121184065937996, 0.01721218042075634, 0.0031336331740021706]\n"
     ]
    }
   ],
   "source": [
    "search_prompt = \"Rabofoon\"\n",
    "\n",
    "query_vector = embedding_model.embed_query(search_prompt)\n",
    "print(query_vector)"
   ]
  },
  {
   "cell_type": "markdown",
   "metadata": {},
   "source": [
    "Now take the embedding above and paste the following query in the browser: \n",
    "\n",
    ":params query_vector => [-0.02015688270330429, -0.028769487515091896, 0.004130402114242315, -0.006511572282761335, -0.015453176572918892, -0.006654898636043072, 0.021108048036694527, -0.03447647765278816, -0.010391153395175934, -0.011648515239357948, 0.015114405192434788, -0.015804976224899292, 0.0110100619494915, -0.01975296437740326, 0.007257520221173763, 0.0004434155998751521, 0.04688071459531784, 0.004273728467524052, 0.013199045322835445, -0.004697192460298538, 0.02122531458735466, -0.0020847455598413944, 0.00013711680367123336, -0.017329446971416473, 0.015427117235958576, -0.007570232264697552, 0.014515040442347527, -0.019101480022072792, 0.028300419449806213, -0.024039721116423607, 0.020990781486034393, -0.001970736077055335, -0.00666792830452323, -0.01467139646410942, -0.01834576018154621, -0.005084824748337269, 0.0036222452763468027, -0.0009576799930073321, 0.00502944877371192, 0.009172880090773106, 0.01579194702208042, 0.011055666022002697, -0.0038795811124145985, 0.009602858684957027, -0.005140200722962618, 0.019583577290177345, -0.0027378571685403585, -0.0007573489565402269, -0.01945328153669834, 0.022437073290348053, 0.024599997326731682, 0.014032943174242973, -0.019857201725244522, 0.0020423990208655596, 0.010006778873503208, 0.005488744005560875, -0.015388027764856815, .... ]"
   ]
  },
  {
   "cell_type": "markdown",
   "metadata": {},
   "source": [
    "Now observe the result back in the browser for a search on chunks: \n",
    "\n",
    "```\n",
    "CALL db.index.vector.queryNodes(\"chunk-embeddings\", 3, $query_vector) YIELD node, score\n",
    "WITH node as chunk, score ORDER BY score DESC\n",
    "RETURN score, chunk\n",
    "```"
   ]
  },
  {
   "cell_type": "markdown",
   "metadata": {},
   "source": [
    "Now observe the result back in the browser for a search on definitions: \n",
    "\n",
    "```\n",
    "CALL db.index.vector.queryNodes(\"definition-embeddings\", 3, $query_vector) YIELD node, score\n",
    "WITH node as definition, score ORDER BY score DESC\n",
    "RETURN score, definition\n",
    "```"
   ]
  }
 ],
 "metadata": {
  "createdOn": 1712246150170,
  "creator": "admin",
  "customFields": {},
  "hide_input": false,
  "kernelspec": {
   "display_name": "Python 3 (ipykernel)",
   "language": "python",
   "name": "python3"
  },
  "language_info": {
   "codemirror_mode": {
    "name": "ipython",
    "version": 3
   },
   "file_extension": ".py",
   "mimetype": "text/x-python",
   "name": "python",
   "nbconvert_exporter": "python",
   "pygments_lexer": "ipython3",
   "version": "3.11.5"
  },
  "modifiedBy": "admin",
  "tags": []
 },
 "nbformat": 4,
 "nbformat_minor": 4
}
