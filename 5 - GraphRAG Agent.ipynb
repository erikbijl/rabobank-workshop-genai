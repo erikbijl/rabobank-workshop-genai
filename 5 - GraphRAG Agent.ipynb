{
 "cells": [
  {
   "cell_type": "markdown",
   "metadata": {},
   "source": [
    "# Module 6 - GraphRAG and Agent"
   ]
  },
  {
   "cell_type": "code",
   "execution_count": 1,
   "metadata": {
    "id": "FHKg4DVZiQ98"
   },
   "outputs": [],
   "source": [
    "#!pip install graphdatascience neo4j dotenv openai langchain, langgraph, pydantic, gradio"
   ]
  },
  {
   "cell_type": "markdown",
   "metadata": {},
   "source": [
    "Import our usual suspects (and some more...)"
   ]
  },
  {
   "cell_type": "code",
   "execution_count": 2,
   "metadata": {},
   "outputs": [],
   "source": [
    "import os\n",
    "import pandas as pd\n",
    "from dotenv import load_dotenv\n",
    "from graphdatascience import GraphDataScience\n",
    "from neo4j import Query, GraphDatabase, RoutingControl, Result\n",
    "from langchain.schema import HumanMessage\n",
    "from langchain_openai import OpenAIEmbeddings, ChatOpenAI\n",
    "from langchain_core.messages import HumanMessage\n",
    "from langchain_core.prompts import ChatPromptTemplate, PromptTemplate\n",
    "from langchain_core.output_parsers import StrOutputParser\n",
    "from langgraph.prebuilt import create_react_agent\n",
    "from openai import OpenAI\n",
    "from typing import List, Optional\n",
    "from pydantic import BaseModel, Field, validator\n",
    "import functools\n",
    "from langchain_core.tools import tool\n",
    "import gradio as gr\n",
    "import time\n",
    "from json import loads, dumps"
   ]
  },
  {
   "cell_type": "markdown",
   "metadata": {
    "id": "ynPe6RLRWSKd"
   },
   "source": [
    "## Setup"
   ]
  },
  {
   "cell_type": "markdown",
   "metadata": {
    "id": "pa61u1jfyk3t"
   },
   "source": [
    "Load env variables"
   ]
  },
  {
   "cell_type": "code",
   "execution_count": 3,
   "metadata": {},
   "outputs": [],
   "source": [
    "env_file = 'ws.env'"
   ]
  },
  {
   "cell_type": "code",
   "execution_count": 4,
   "metadata": {
    "id": "CHR_0lmElZ-R"
   },
   "outputs": [],
   "source": [
    "if os.path.exists(env_file):\n",
    "    load_dotenv(env_file, override=True)\n",
    "\n",
    "    # Neo4j\n",
    "    HOST = os.getenv('NEO4J_URI')\n",
    "    USERNAME = os.getenv('NEO4J_USERNAME')\n",
    "    PASSWORD = os.getenv('NEO4J_PASSWORD')\n",
    "    DATABASE = os.getenv('NEO4J_DATABASE')\n",
    "\n",
    "    # AI\n",
    "    OPENAI_API_KEY = os.getenv('OPENAI_API_KEY')\n",
    "    os.environ['OPENAI_API_KEY']=OPENAI_API_KEY\n",
    "    LLM = os.getenv('LLM')\n",
    "    EMBEDDINGS_MODEL = os.getenv('EMBEDDINGS_MODEL')\n",
    "else:\n",
    "    print(f\"File {env_file} not found.\")"
   ]
  },
  {
   "cell_type": "markdown",
   "metadata": {},
   "source": [
    "Setup connection to the database with the [Python Driver](https://neo4j.com/docs/python-manual/5/)."
   ]
  },
  {
   "cell_type": "code",
   "execution_count": 5,
   "metadata": {},
   "outputs": [],
   "source": [
    "driver = GraphDatabase.driver(\n",
    "    HOST,\n",
    "    auth=(USERNAME, PASSWORD)\n",
    ")"
   ]
  },
  {
   "cell_type": "markdown",
   "metadata": {},
   "source": [
    "Test the connection"
   ]
  },
  {
   "cell_type": "code",
   "execution_count": 6,
   "metadata": {
    "id": "5w4eCb7xZZ-S"
   },
   "outputs": [
    {
     "data": {
      "text/html": [
       "<div>\n",
       "<style scoped>\n",
       "    .dataframe tbody tr th:only-of-type {\n",
       "        vertical-align: middle;\n",
       "    }\n",
       "\n",
       "    .dataframe tbody tr th {\n",
       "        vertical-align: top;\n",
       "    }\n",
       "\n",
       "    .dataframe thead th {\n",
       "        text-align: right;\n",
       "    }\n",
       "</style>\n",
       "<table border=\"1\" class=\"dataframe\">\n",
       "  <thead>\n",
       "    <tr style=\"text-align: right;\">\n",
       "      <th></th>\n",
       "      <th>Count</th>\n",
       "    </tr>\n",
       "  </thead>\n",
       "  <tbody>\n",
       "    <tr>\n",
       "      <th>0</th>\n",
       "      <td>1388</td>\n",
       "    </tr>\n",
       "  </tbody>\n",
       "</table>\n",
       "</div>"
      ],
      "text/plain": [
       "   Count\n",
       "0   1388"
      ]
     },
     "execution_count": 6,
     "metadata": {},
     "output_type": "execute_result"
    }
   ],
   "source": [
    "driver.execute_query(\n",
    "    \"\"\"\n",
    "    MATCH (n) RETURN COUNT(n) as Count\n",
    "    \"\"\",\n",
    "    database_=DATABASE,\n",
    "    routing_=RoutingControl.READ,\n",
    "    result_transformer_= lambda r: r.to_df()\n",
    ")"
   ]
  },
  {
   "cell_type": "markdown",
   "metadata": {
    "id": "cdTfdAyV2ZaR"
   },
   "source": [
    "Test whether we got our constraints"
   ]
  },
  {
   "cell_type": "code",
   "execution_count": 7,
   "metadata": {
    "id": "cdTfdAyV2ZaR"
   },
   "outputs": [],
   "source": [
    "schema_result_df  = driver.execute_query(\n",
    "    'show indexes',\n",
    "    database_=DATABASE,\n",
    "    routing_=RoutingControl.READ,\n",
    "    result_transformer_= lambda r: r.to_df()\n",
    ")"
   ]
  },
  {
   "cell_type": "code",
   "execution_count": 8,
   "metadata": {
    "id": "cdTfdAyV2ZaR"
   },
   "outputs": [
    {
     "data": {
      "text/html": [
       "<div>\n",
       "<style scoped>\n",
       "    .dataframe tbody tr th:only-of-type {\n",
       "        vertical-align: middle;\n",
       "    }\n",
       "\n",
       "    .dataframe tbody tr th {\n",
       "        vertical-align: top;\n",
       "    }\n",
       "\n",
       "    .dataframe thead th {\n",
       "        text-align: right;\n",
       "    }\n",
       "</style>\n",
       "<table border=\"1\" class=\"dataframe\">\n",
       "  <thead>\n",
       "    <tr style=\"text-align: right;\">\n",
       "      <th></th>\n",
       "      <th>id</th>\n",
       "      <th>name</th>\n",
       "      <th>state</th>\n",
       "      <th>populationPercent</th>\n",
       "      <th>type</th>\n",
       "      <th>entityType</th>\n",
       "      <th>labelsOrTypes</th>\n",
       "      <th>properties</th>\n",
       "      <th>indexProvider</th>\n",
       "      <th>owningConstraint</th>\n",
       "      <th>lastRead</th>\n",
       "      <th>readCount</th>\n",
       "    </tr>\n",
       "  </thead>\n",
       "  <tbody>\n",
       "    <tr>\n",
       "      <th>0</th>\n",
       "      <td>6</td>\n",
       "      <td>chunk-embeddings</td>\n",
       "      <td>ONLINE</td>\n",
       "      <td>100.0</td>\n",
       "      <td>VECTOR</td>\n",
       "      <td>NODE</td>\n",
       "      <td>[Chunk]</td>\n",
       "      <td>[embedding]</td>\n",
       "      <td>vector-2.0</td>\n",
       "      <td>None</td>\n",
       "      <td>2025-05-16T10:24:41.768000000+00:00</td>\n",
       "      <td>120</td>\n",
       "    </tr>\n",
       "    <tr>\n",
       "      <th>1</th>\n",
       "      <td>7</td>\n",
       "      <td>definition-embeddings</td>\n",
       "      <td>ONLINE</td>\n",
       "      <td>100.0</td>\n",
       "      <td>VECTOR</td>\n",
       "      <td>NODE</td>\n",
       "      <td>[Definition]</td>\n",
       "      <td>[embedding]</td>\n",
       "      <td>vector-2.0</td>\n",
       "      <td>None</td>\n",
       "      <td>2025-05-16T10:24:41.783000000+00:00</td>\n",
       "      <td>744</td>\n",
       "    </tr>\n",
       "    <tr>\n",
       "      <th>2</th>\n",
       "      <td>0</td>\n",
       "      <td>index_343aff4e</td>\n",
       "      <td>ONLINE</td>\n",
       "      <td>100.0</td>\n",
       "      <td>LOOKUP</td>\n",
       "      <td>NODE</td>\n",
       "      <td>None</td>\n",
       "      <td>None</td>\n",
       "      <td>token-lookup-1.0</td>\n",
       "      <td>None</td>\n",
       "      <td>2025-05-16T10:24:38.954000000+00:00</td>\n",
       "      <td>7183</td>\n",
       "    </tr>\n",
       "    <tr>\n",
       "      <th>3</th>\n",
       "      <td>1</td>\n",
       "      <td>index_f7700477</td>\n",
       "      <td>ONLINE</td>\n",
       "      <td>100.0</td>\n",
       "      <td>LOOKUP</td>\n",
       "      <td>RELATIONSHIP</td>\n",
       "      <td>None</td>\n",
       "      <td>None</td>\n",
       "      <td>token-lookup-1.0</td>\n",
       "      <td>None</td>\n",
       "      <td>2025-05-16T10:24:40.327000000+00:00</td>\n",
       "      <td>140</td>\n",
       "    </tr>\n",
       "    <tr>\n",
       "      <th>4</th>\n",
       "      <td>2</td>\n",
       "      <td>unique_chunk</td>\n",
       "      <td>ONLINE</td>\n",
       "      <td>100.0</td>\n",
       "      <td>RANGE</td>\n",
       "      <td>NODE</td>\n",
       "      <td>[Chunk]</td>\n",
       "      <td>[id]</td>\n",
       "      <td>range-1.0</td>\n",
       "      <td>unique_chunk</td>\n",
       "      <td>2025-05-16T10:02:22.855000000+00:00</td>\n",
       "      <td>7026</td>\n",
       "    </tr>\n",
       "    <tr>\n",
       "      <th>5</th>\n",
       "      <td>4</td>\n",
       "      <td>unique_document</td>\n",
       "      <td>ONLINE</td>\n",
       "      <td>100.0</td>\n",
       "      <td>RANGE</td>\n",
       "      <td>NODE</td>\n",
       "      <td>[Document]</td>\n",
       "      <td>[id]</td>\n",
       "      <td>range-1.0</td>\n",
       "      <td>unique_document</td>\n",
       "      <td>2025-05-15T09:24:03.456000000+00:00</td>\n",
       "      <td>625</td>\n",
       "    </tr>\n",
       "  </tbody>\n",
       "</table>\n",
       "</div>"
      ],
      "text/plain": [
       "   id                   name   state  populationPercent    type    entityType  \\\n",
       "0   6       chunk-embeddings  ONLINE              100.0  VECTOR          NODE   \n",
       "1   7  definition-embeddings  ONLINE              100.0  VECTOR          NODE   \n",
       "2   0         index_343aff4e  ONLINE              100.0  LOOKUP          NODE   \n",
       "3   1         index_f7700477  ONLINE              100.0  LOOKUP  RELATIONSHIP   \n",
       "4   2           unique_chunk  ONLINE              100.0   RANGE          NODE   \n",
       "5   4        unique_document  ONLINE              100.0   RANGE          NODE   \n",
       "\n",
       "  labelsOrTypes   properties     indexProvider owningConstraint  \\\n",
       "0       [Chunk]  [embedding]        vector-2.0             None   \n",
       "1  [Definition]  [embedding]        vector-2.0             None   \n",
       "2          None         None  token-lookup-1.0             None   \n",
       "3          None         None  token-lookup-1.0             None   \n",
       "4       [Chunk]         [id]         range-1.0     unique_chunk   \n",
       "5    [Document]         [id]         range-1.0  unique_document   \n",
       "\n",
       "                              lastRead  readCount  \n",
       "0  2025-05-16T10:24:41.768000000+00:00        120  \n",
       "1  2025-05-16T10:24:41.783000000+00:00        744  \n",
       "2  2025-05-16T10:24:38.954000000+00:00       7183  \n",
       "3  2025-05-16T10:24:40.327000000+00:00        140  \n",
       "4  2025-05-16T10:02:22.855000000+00:00       7026  \n",
       "5  2025-05-15T09:24:03.456000000+00:00        625  "
      ]
     },
     "execution_count": 8,
     "metadata": {},
     "output_type": "execute_result"
    }
   ],
   "source": [
    "schema_result_df.head(100)"
   ]
  },
  {
   "cell_type": "markdown",
   "metadata": {},
   "source": [
    "## Agents with GraphRAG"
   ]
  },
  {
   "cell_type": "markdown",
   "metadata": {},
   "source": [
    "### Lets create a Retrieval agent"
   ]
  },
  {
   "cell_type": "code",
   "execution_count": 9,
   "metadata": {},
   "outputs": [],
   "source": [
    "client = OpenAI()"
   ]
  },
  {
   "cell_type": "code",
   "execution_count": 10,
   "metadata": {},
   "outputs": [],
   "source": [
    "llm = ChatOpenAI(model_name=LLM, temperature=0)"
   ]
  },
  {
   "cell_type": "code",
   "execution_count": 11,
   "metadata": {},
   "outputs": [
    {
     "data": {
      "text/plain": [
       "'gpt-4o'"
      ]
     },
     "execution_count": 11,
     "metadata": {},
     "output_type": "execute_result"
    }
   ],
   "source": [
    "llm.model_name"
   ]
  },
  {
   "cell_type": "code",
   "execution_count": 12,
   "metadata": {},
   "outputs": [],
   "source": [
    "embedding_model = OpenAIEmbeddings(\n",
    "    model=EMBEDDINGS_MODEL,\n",
    "    openai_api_key=OPENAI_API_KEY\n",
    ")"
   ]
  },
  {
   "cell_type": "code",
   "execution_count": 13,
   "metadata": {},
   "outputs": [
    {
     "data": {
      "text/plain": [
       "'text-embedding-ada-002'"
      ]
     },
     "execution_count": 13,
     "metadata": {},
     "output_type": "execute_result"
    }
   ],
   "source": [
    "embedding_model.model"
   ]
  },
  {
   "cell_type": "markdown",
   "metadata": {},
   "source": [
    "### Tool 1"
   ]
  },
  {
   "cell_type": "code",
   "execution_count": 14,
   "metadata": {},
   "outputs": [],
   "source": [
    "def retrieve_products() -> pd.DataFrame:\n",
    "    \"\"\"Retrieve the products in the database. Products are specified with name. \"\"\"\n",
    "    return driver.execute_query(\n",
    "        \"\"\"\n",
    "        MATCH (p:ProductType)\n",
    "        RETURN p.name as name\n",
    "        \"\"\",\n",
    "        database_=DATABASE,\n",
    "        routing_=RoutingControl.READ,\n",
    "        result_transformer_= lambda r: r.to_df(),\n",
    "    )['name'].tolist()"
   ]
  },
  {
   "cell_type": "code",
   "execution_count": 15,
   "metadata": {},
   "outputs": [
    {
     "data": {
      "text/plain": [
       "['SpaarRekening',\n",
       " 'DirectRekening',\n",
       " 'Kortlopende Reis',\n",
       " 'BeleggersRekening',\n",
       " 'RaboBusiness Banking']"
      ]
     },
     "execution_count": 15,
     "metadata": {},
     "output_type": "execute_result"
    }
   ],
   "source": [
    "retrieve_products()"
   ]
  },
  {
   "cell_type": "markdown",
   "metadata": {},
   "source": [
    "### Tool 2"
   ]
  },
  {
   "cell_type": "code",
   "execution_count": 16,
   "metadata": {},
   "outputs": [],
   "source": [
    "map_products_prompt = \"\"\"\n",
    "As an intelligent assistant, your primary objective is to map a product name to product names in the database.\n",
    "\n",
    "Examples:\n",
    "#####\n",
    "Product: savings account. \n",
    "Database Products: ['SpaarRekening', 'DirectRekening', 'Kortlopende Reis', 'BeleggersRekening', 'RaboBusiness Banking']\n",
    "Assistant: Product: SpaarRekening\n",
    "#####\n",
    "#####\n",
    "Product: Direct Rekening. \n",
    "Database Products: ['SpaarRekening', 'DirectRekening', 'Kortlopende Reis', 'BeleggersRekening', 'RaboBusiness Banking']Assistant: Customer: Jan Blok\n",
    "Assistant: Product: DirectRekening\n",
    "\n",
    "#####\n",
    "#####\n",
    "Product: Reis verzekering. \n",
    "Database Products: ['SpaarRekening', 'DirectRekening', 'Kortlopende Reis', 'BeleggersRekening', 'RaboBusiness Banking']Assistant: Customer: Jan Blok\n",
    "Assistant: Product: Kortlopende Reis\n",
    "#####\n",
    "\"\"\"\n",
    "\n",
    "def map_product_to_database_products(product) -> str:\n",
    "    \"\"\"Map products from the user question to the actual products in the database.\"\"\"\n",
    "\n",
    "    response = client.beta.chat.completions.parse(\n",
    "        model=LLM,\n",
    "        temperature=0,\n",
    "        messages=[\n",
    "            {\"role\": \"system\", \"content\": map_products_prompt},\n",
    "            {\"role\": \"user\", \"content\": \"Product: \" + product},\n",
    "            {\"role\": \"user\", \"content\": \"Database Products: \" + str(retrieve_products())},\n",
    "            \n",
    "        ],\n",
    "#        response_format=DefinitionList,\n",
    "    )\n",
    "    return response.choices[0].message.content "
   ]
  },
  {
   "cell_type": "code",
   "execution_count": 17,
   "metadata": {},
   "outputs": [
    {
     "data": {
      "text/plain": [
       "'Product: SpaarRekening'"
      ]
     },
     "execution_count": 17,
     "metadata": {},
     "output_type": "execute_result"
    }
   ],
   "source": [
    "map_product_to_database_products('savings account')"
   ]
  },
  {
   "cell_type": "markdown",
   "metadata": {},
   "source": [
    "### Tool 3"
   ]
  },
  {
   "cell_type": "code",
   "execution_count": 18,
   "metadata": {},
   "outputs": [],
   "source": [
    "def retrieve_document_from_product(product_name) -> pd.DataFrame:\n",
    "    \"\"\"Retrieve the documents of products in the database. Products are specified with their name. \"\"\"\n",
    "    return driver.execute_query(\n",
    "        \"\"\"\n",
    "        MATCH (p:ProductType)<-[:RELATED_TO]-(d:Document)\n",
    "        WHERE LOWER(p.name) = LOWER($product_name)\n",
    "        RETURN d.file_name\n",
    "        \"\"\",\n",
    "        database_=DATABASE,\n",
    "        routing_=RoutingControl.READ,\n",
    "        product_name = product_name,\n",
    "        result_transformer_= lambda r: r.to_df(),\n",
    "    ).iloc[0]['d.file_name']"
   ]
  },
  {
   "cell_type": "code",
   "execution_count": 19,
   "metadata": {},
   "outputs": [
    {
     "data": {
      "text/plain": [
       "'Rabo SpaarRekening 2020.pdf'"
      ]
     },
     "execution_count": 19,
     "metadata": {},
     "output_type": "execute_result"
    }
   ],
   "source": [
    "retrieve_document_from_product('SpaarRekening')"
   ]
  },
  {
   "cell_type": "markdown",
   "metadata": {},
   "source": [
    "### Tool 4"
   ]
  },
  {
   "cell_type": "code",
   "execution_count": 20,
   "metadata": {},
   "outputs": [],
   "source": [
    "def get_context_graphrag(search_prompt, document):\n",
    "    query_vector = embedding_model.embed_query(search_prompt)\n",
    "\n",
    "    similarity_query = \"\"\" \n",
    "        CALL db.index.vector.queryNodes(\"chunk-embeddings\", 30, $query_vector) YIELD node, score\n",
    "        WITH node as chunk, score ORDER BY score DESC\n",
    "        CALL (chunk) {\n",
    "            MATCH (chunk)-[r:OVERLAPPING_DEFINITIONS]-(overlapping_chunk:Chunk)\n",
    "            WHERE r.overlap > 3\n",
    "            RETURN collect(overlapping_chunk) AS overlapping_chunks\n",
    "        }\n",
    "        WITH [chunk] + overlapping_chunks AS chunks\n",
    "        UNWIND chunks as chunk\n",
    "        MATCH (d:Document{file_name: $document})<-[:PART_OF]-(chunk)\n",
    "        RETURN d.file_name as file_name, chunk.id as chunk_id, chunk.page as page, chunk.chunk_eng AS chunk\n",
    "       \"\"\"\n",
    "    results_1 = driver.execute_query(\n",
    "        similarity_query,\n",
    "        database_=DATABASE,\n",
    "        routing_=RoutingControl.READ,\n",
    "        query_vector=query_vector,\n",
    "        document=document,\n",
    "        result_transformer_= lambda r: r.to_df()\n",
    "    )\n",
    "\n",
    "    chunk_ids = list(set(results_1['chunk_id'].to_list()))\n",
    "\n",
    "    definition_query = \"\"\"    \n",
    "       CALL db.index.vector.queryNodes(\"definition-embeddings\", 5, $query_vector) YIELD node, score\n",
    "            WITH node as definition, score ORDER BY score DESC\n",
    "            WHERE definition.degree < 20\n",
    "            WITH definition LIMIT 1\n",
    "            MATCH (definition)<-[:MENTIONS]-(chunk:Chunk)\n",
    "            WHERE NOT (chunk.id IN $chunk_ids)\n",
    "            WITH chunk LIMIT 3\n",
    "            MATCH (d:Document{file_name: $document})<-[:PART_OF]-(chunk)\n",
    "            RETURN d.file_name as file_name, chunk.id as chunk_id, chunk.page as page, chunk.chunk_eng AS chunk\n",
    "    \"\"\"\n",
    "    results_2 = driver.execute_query(\n",
    "        definition_query,\n",
    "        database_=DATABASE,\n",
    "        routing_=RoutingControl.READ,\n",
    "        chunk_ids=chunk_ids,\n",
    "        document=document,\n",
    "        query_vector=query_vector,\n",
    "        result_transformer_= lambda r: r.to_df()\n",
    "    )\n",
    "\n",
    "    results = pd.concat([results_1,results_2]).drop_duplicates()\n",
    "    results = results.to_json(orient=\"records\")\n",
    "    parsed = loads(results)\n",
    "    context = dumps(parsed, indent=2)\n",
    "    return context"
   ]
  },
  {
   "cell_type": "code",
   "execution_count": 21,
   "metadata": {},
   "outputs": [],
   "source": [
    "def generate_prompt(search_prompt, context):\n",
    "    prompt_template = \"\"\"\n",
    "\n",
    "    You are a chatbot on Rabobank product. Your goal is to help people with questions on product policies.  \n",
    "    A user will come to you with questions on their policy. Their questions must be answered based on the relevant documents of the policy.\n",
    "    Respond in English. \n",
    "\n",
    "    The question is the following: \n",
    "    {search_prompt}\n",
    "    \n",
    "    Always respond in the language in which the question was asked. So, do not respond in a different language.\n",
    "    \n",
    "    The context is the following: \n",
    "    {context}\n",
    "\n",
    "    Please explain your answer as thorough as possbile based on the context above. Don't come up with anything yourself.\n",
    "    \n",
    "    Please end your message with listing your sources with file name and page number. \n",
    "    \"\"\"\n",
    "    prompt = PromptTemplate.from_template(prompt_template)\n",
    "    \n",
    "    theprompt = prompt.format_prompt(search_prompt=search_prompt, context=context)\n",
    "    return theprompt"
   ]
  },
  {
   "cell_type": "code",
   "execution_count": 22,
   "metadata": {},
   "outputs": [],
   "source": [
    "context = get_context_graphrag(\"What are the rules for shared savings account?\", \"Rabo SpaarRekening 2020.pdf\")"
   ]
  },
  {
   "cell_type": "code",
   "execution_count": 23,
   "metadata": {},
   "outputs": [],
   "source": [
    "def perform_search_in_document(document, search_prompt) -> [str, str]:\n",
    "    \"\"\"Peform a search in the document to search relevant text to answer a user question. The document first needs to be determined before a search should be performed.\"\"\"\n",
    "    context = get_context_graphrag(document, search_prompt)\n",
    "    return context"
   ]
  },
  {
   "cell_type": "code",
   "execution_count": 24,
   "metadata": {},
   "outputs": [],
   "source": [
    "def answer_question_in_document(document, question) -> str:\n",
    "    \"\"\"This function is answering a question based on a search in a document (vector search on document). Document and question both need to be provided.\"\"\"\n",
    "    context = perform_search_in_document(question, document)\n",
    "    theprompt = generate_prompt(question, context)\n",
    "    return llm(theprompt.to_messages()).content"
   ]
  },
  {
   "cell_type": "code",
   "execution_count": 25,
   "metadata": {},
   "outputs": [
    {
     "name": "stderr",
     "output_type": "stream",
     "text": [
      "/var/folders/l0/vn55w75s41703t1w811dtf080000gp/T/ipykernel_21502/4170615823.py:5: LangChainDeprecationWarning: The method `BaseChatModel.__call__` was deprecated in langchain-core 0.1.7 and will be removed in 1.0. Use :meth:`~invoke` instead.\n",
      "  return llm(theprompt.to_messages()).content\n"
     ]
    }
   ],
   "source": [
    "result = answer_question_in_document(\"What are the rules for shared savings account?\", \"Rabo SpaarRekening 2020.pdf\",)"
   ]
  },
  {
   "cell_type": "code",
   "execution_count": 26,
   "metadata": {},
   "outputs": [
    {
     "name": "stdout",
     "output_type": "stream",
     "text": [
      "I'm sorry, but I cannot provide an answer to your question about the \"Rabo SpaarRekening 2020.pdf\" policy because there is no context or content provided from the document. To assist you effectively, I would need specific information or excerpts from the document that relate to your question. If you can provide more details or context, I would be happy to help you further.\n",
      "\n",
      "Sources: None available due to lack of context.\n"
     ]
    }
   ],
   "source": [
    "print(result)"
   ]
  },
  {
   "cell_type": "markdown",
   "metadata": {},
   "source": [
    "### Tool 5"
   ]
  },
  {
   "cell_type": "code",
   "execution_count": 27,
   "metadata": {},
   "outputs": [],
   "source": [
    "def retrieve_products_of_customers(customer_id) -> pd.DataFrame:\n",
    "    \"\"\"Retrieve the products of a customer in the database. Customers are specified with their id. \"\"\"\n",
    "    return driver.execute_query(\n",
    "        \"\"\"\n",
    "        MATCH (c:Customer)-[:HAS_PRODUCT]->(p:Product)\n",
    "        WHERE c.id = $customer_id\n",
    "        RETURN p.id as product_id, p.name as product_name\n",
    "        \"\"\",\n",
    "        database_=DATABASE,\n",
    "        routing_=RoutingControl.READ,\n",
    "        customer_id = customer_id,\n",
    "        result_transformer_= lambda r: r.to_df(),\n",
    "    )"
   ]
  },
  {
   "cell_type": "code",
   "execution_count": 28,
   "metadata": {},
   "outputs": [
    {
     "data": {
      "text/html": [
       "<div>\n",
       "<style scoped>\n",
       "    .dataframe tbody tr th:only-of-type {\n",
       "        vertical-align: middle;\n",
       "    }\n",
       "\n",
       "    .dataframe tbody tr th {\n",
       "        vertical-align: top;\n",
       "    }\n",
       "\n",
       "    .dataframe thead th {\n",
       "        text-align: right;\n",
       "    }\n",
       "</style>\n",
       "<table border=\"1\" class=\"dataframe\">\n",
       "  <thead>\n",
       "    <tr style=\"text-align: right;\">\n",
       "      <th></th>\n",
       "      <th>product_id</th>\n",
       "      <th>product_name</th>\n",
       "    </tr>\n",
       "  </thead>\n",
       "  <tbody>\n",
       "    <tr>\n",
       "      <th>0</th>\n",
       "      <td>ef31587f-5c96-4ab2-99e6-99f3b6fa88e8</td>\n",
       "      <td>DirectRekening Product</td>\n",
       "    </tr>\n",
       "    <tr>\n",
       "      <th>1</th>\n",
       "      <td>f64aae41-23d9-45d7-9310-48c7a1fd158b</td>\n",
       "      <td>RaboBusiness Banking Product</td>\n",
       "    </tr>\n",
       "    <tr>\n",
       "      <th>2</th>\n",
       "      <td>576fd5fe-5d27-424a-865f-56617a2955a7</td>\n",
       "      <td>Kortlopende Reis Product</td>\n",
       "    </tr>\n",
       "  </tbody>\n",
       "</table>\n",
       "</div>"
      ],
      "text/plain": [
       "                             product_id                  product_name\n",
       "0  ef31587f-5c96-4ab2-99e6-99f3b6fa88e8        DirectRekening Product\n",
       "1  f64aae41-23d9-45d7-9310-48c7a1fd158b  RaboBusiness Banking Product\n",
       "2  576fd5fe-5d27-424a-865f-56617a2955a7      Kortlopende Reis Product"
      ]
     },
     "execution_count": 28,
     "metadata": {},
     "output_type": "execute_result"
    }
   ],
   "source": [
    "retrieve_products_of_customers(16)"
   ]
  },
  {
   "cell_type": "markdown",
   "metadata": {},
   "source": [
    "### Tool 6"
   ]
  },
  {
   "cell_type": "code",
   "execution_count": 29,
   "metadata": {},
   "outputs": [],
   "source": [
    "def retrieve_information_from_product(product_id) -> pd.DataFrame:\n",
    "    \"\"\"Retrieve the information of a product in the database. Product is specified with id.\"\"\"\n",
    "    result = driver.execute_query(\n",
    "        \"\"\"\n",
    "       MATCH (p:Product{id: $product_id})\n",
    "        RETURN properties(p) as props\n",
    "        \"\"\",\n",
    "        database_=DATABASE,\n",
    "        routing_=RoutingControl.READ,\n",
    "        product_id = product_id,\n",
    "        result_transformer_= lambda r: r.to_df(),\n",
    "    )\n",
    "    return result.iloc[0]['props']"
   ]
  },
  {
   "cell_type": "code",
   "execution_count": 30,
   "metadata": {},
   "outputs": [
    {
     "data": {
      "text/plain": [
       "{'id': 'ef31587f-5c96-4ab2-99e6-99f3b6fa88e8',\n",
       " 'expirationDate': neo4j.time.Date(2020, 4, 1),\n",
       " 'name': 'DirectRekening Product',\n",
       " 'iban': 'NL85RABO1352165826'}"
      ]
     },
     "execution_count": 30,
     "metadata": {},
     "output_type": "execute_result"
    }
   ],
   "source": [
    "retrieve_information_from_product(\"ef31587f-5c96-4ab2-99e6-99f3b6fa88e8\")"
   ]
  },
  {
   "cell_type": "markdown",
   "metadata": {},
   "source": [
    "### Tool 7"
   ]
  },
  {
   "cell_type": "code",
   "execution_count": 31,
   "metadata": {},
   "outputs": [],
   "source": [
    "def retrieve_customers_from_database_based_on_full_name(full_name) -> pd.DataFrame:\n",
    "    \"\"\"Retrieve customers from the database database based on full_name. customer_id is returned.\"\"\"\n",
    "    \n",
    "    query = \"\"\"MATCH (c:Customer) WHERE c.name = $name RETURN c.id\"\"\"\n",
    "\n",
    "    result = driver.execute_query(\n",
    "        query,\n",
    "        database_=DATABASE,\n",
    "        routing_=RoutingControl.READ,\n",
    "        name = full_name,\n",
    "        result_transformer_= lambda r: r.to_df(),\n",
    "    )\n",
    "    return result"
   ]
  },
  {
   "cell_type": "code",
   "execution_count": 32,
   "metadata": {},
   "outputs": [
    {
     "data": {
      "text/html": [
       "<div>\n",
       "<style scoped>\n",
       "    .dataframe tbody tr th:only-of-type {\n",
       "        vertical-align: middle;\n",
       "    }\n",
       "\n",
       "    .dataframe tbody tr th {\n",
       "        vertical-align: top;\n",
       "    }\n",
       "\n",
       "    .dataframe thead th {\n",
       "        text-align: right;\n",
       "    }\n",
       "</style>\n",
       "<table border=\"1\" class=\"dataframe\">\n",
       "  <thead>\n",
       "    <tr style=\"text-align: right;\">\n",
       "      <th></th>\n",
       "      <th>c.id</th>\n",
       "    </tr>\n",
       "  </thead>\n",
       "  <tbody>\n",
       "    <tr>\n",
       "      <th>0</th>\n",
       "      <td>48</td>\n",
       "    </tr>\n",
       "  </tbody>\n",
       "</table>\n",
       "</div>"
      ],
      "text/plain": [
       "   c.id\n",
       "0    48"
      ]
     },
     "execution_count": 32,
     "metadata": {},
     "output_type": "execute_result"
    }
   ],
   "source": [
    "retrieve_customers_from_database_based_on_full_name(\"Lucas Van den Berg\")"
   ]
  },
  {
   "cell_type": "markdown",
   "metadata": {},
   "source": [
    "## Setting up the Agent"
   ]
  },
  {
   "cell_type": "code",
   "execution_count": 33,
   "metadata": {},
   "outputs": [],
   "source": [
    "llm = ChatOpenAI(model_name=LLM, temperature=0)"
   ]
  },
  {
   "cell_type": "code",
   "execution_count": 34,
   "metadata": {},
   "outputs": [
    {
     "data": {
      "text/plain": [
       "'Hello! How can I assist you today?'"
      ]
     },
     "execution_count": 34,
     "metadata": {},
     "output_type": "execute_result"
    }
   ],
   "source": [
    "response = llm.invoke([HumanMessage(content=\"hi!\")])\n",
    "response.content"
   ]
  },
  {
   "cell_type": "code",
   "execution_count": 35,
   "metadata": {},
   "outputs": [],
   "source": [
    "tools = [\n",
    "    retrieve_products,\n",
    "    map_product_to_database_products,\n",
    "    retrieve_document_from_product,\n",
    "    answer_question_in_document,\n",
    "    retrieve_products_of_customers,\n",
    "    retrieve_information_from_product,\n",
    "    retrieve_customers_from_database_based_on_full_name,\n",
    "]\n",
    "\n",
    "llm_with_tools = llm.bind_tools(tools)"
   ]
  },
  {
   "cell_type": "markdown",
   "metadata": {},
   "source": [
    "## Running Agents with LangGraph"
   ]
  },
  {
   "cell_type": "code",
   "execution_count": 36,
   "metadata": {},
   "outputs": [],
   "source": [
    "agent_executor = create_react_agent(llm, tools)"
   ]
  },
  {
   "cell_type": "code",
   "execution_count": 37,
   "metadata": {},
   "outputs": [],
   "source": [
    "response = agent_executor.invoke({\"messages\": [HumanMessage(content=\"hi!\")]})"
   ]
  },
  {
   "cell_type": "code",
   "execution_count": 38,
   "metadata": {},
   "outputs": [
    {
     "data": {
      "text/plain": [
       "[HumanMessage(content='hi!', additional_kwargs={}, response_metadata={}, id='9762b298-9ddc-4251-93a6-3ff225dac6b4'),\n",
       " AIMessage(content='Hello! How can I assist you today?', additional_kwargs={'refusal': None}, response_metadata={'token_usage': {'completion_tokens': 11, 'prompt_tokens': 264, 'total_tokens': 275, 'completion_tokens_details': {'accepted_prediction_tokens': 0, 'audio_tokens': 0, 'reasoning_tokens': 0, 'rejected_prediction_tokens': 0}, 'prompt_tokens_details': {'audio_tokens': 0, 'cached_tokens': 0}}, 'model_name': 'gpt-4o-2024-08-06', 'system_fingerprint': 'fp_f5bdcc3276', 'finish_reason': 'stop', 'logprobs': None}, id='run-461dcc70-e747-402c-a0e4-1181c320b966-0', usage_metadata={'input_tokens': 264, 'output_tokens': 11, 'total_tokens': 275, 'input_token_details': {'audio': 0, 'cache_read': 0}, 'output_token_details': {'audio': 0, 'reasoning': 0}})]"
      ]
     },
     "execution_count": 38,
     "metadata": {},
     "output_type": "execute_result"
    }
   ],
   "source": [
    "response[\"messages\"]"
   ]
  },
  {
   "cell_type": "markdown",
   "metadata": {},
   "source": [
    "#### Run some examples! "
   ]
  },
  {
   "cell_type": "code",
   "execution_count": 39,
   "metadata": {},
   "outputs": [],
   "source": [
    "def ask_to_agent(question):\n",
    "    for step in agent_executor.stream(\n",
    "        {\"messages\": [HumanMessage(content=question)]},\n",
    "        stream_mode=\"values\",\n",
    "    ):\n",
    "        step[\"messages\"][-1].pretty_print()"
   ]
  },
  {
   "cell_type": "code",
   "execution_count": 40,
   "metadata": {},
   "outputs": [],
   "source": [
    "question = \"What Products does Jan Kok have?\""
   ]
  },
  {
   "cell_type": "code",
   "execution_count": 41,
   "metadata": {},
   "outputs": [
    {
     "name": "stdout",
     "output_type": "stream",
     "text": [
      "================================\u001b[1m Human Message \u001b[0m=================================\n",
      "\n",
      "What Products does Jan Kok have?\n",
      "==================================\u001b[1m Ai Message \u001b[0m==================================\n",
      "Tool Calls:\n",
      "  retrieve_customers_from_database_based_on_full_name (call_ePBKSSCsO3aPJunMwVoXfW97)\n",
      " Call ID: call_ePBKSSCsO3aPJunMwVoXfW97\n",
      "  Args:\n",
      "    full_name: Jan Kok\n",
      "=================================\u001b[1m Tool Message \u001b[0m=================================\n",
      "Name: retrieve_customers_from_database_based_on_full_name\n",
      "\n",
      "   c.id\n",
      "0    16\n",
      "==================================\u001b[1m Ai Message \u001b[0m==================================\n",
      "Tool Calls:\n",
      "  retrieve_products_of_customers (call_QPgZ2puXBbrVWplEff4qIN2c)\n",
      " Call ID: call_QPgZ2puXBbrVWplEff4qIN2c\n",
      "  Args:\n",
      "    customer_id: 16\n",
      "=================================\u001b[1m Tool Message \u001b[0m=================================\n",
      "Name: retrieve_products_of_customers\n",
      "\n",
      "                             product_id                  product_name\n",
      "0  ef31587f-5c96-4ab2-99e6-99f3b6fa88e8        DirectRekening Product\n",
      "1  f64aae41-23d9-45d7-9310-48c7a1fd158b  RaboBusiness Banking Product\n",
      "2  576fd5fe-5d27-424a-865f-56617a2955a7      Kortlopende Reis Product\n",
      "==================================\u001b[1m Ai Message \u001b[0m==================================\n",
      "\n",
      "Jan Kok has the following products:\n",
      "\n",
      "1. DirectRekening Product\n",
      "2. RaboBusiness Banking Product\n",
      "3. Kortlopende Reis Product\n"
     ]
    }
   ],
   "source": [
    "ask_to_agent(question)"
   ]
  },
  {
   "cell_type": "code",
   "execution_count": 42,
   "metadata": {},
   "outputs": [],
   "source": [
    "question = \"I got a question on my savings account, what are the rules for a joint account?\""
   ]
  },
  {
   "cell_type": "code",
   "execution_count": 43,
   "metadata": {},
   "outputs": [
    {
     "name": "stdout",
     "output_type": "stream",
     "text": [
      "================================\u001b[1m Human Message \u001b[0m=================================\n",
      "\n",
      "I got a question on my savings account, what are the rules for a joint account?\n",
      "==================================\u001b[1m Ai Message \u001b[0m==================================\n",
      "Tool Calls:\n",
      "  retrieve_products (call_Y6LhzCJuN7oTi5TN6OIKaeRt)\n",
      " Call ID: call_Y6LhzCJuN7oTi5TN6OIKaeRt\n",
      "  Args:\n",
      "=================================\u001b[1m Tool Message \u001b[0m=================================\n",
      "Name: retrieve_products\n",
      "\n",
      "[\"SpaarRekening\", \"DirectRekening\", \"Kortlopende Reis\", \"BeleggersRekening\", \"RaboBusiness Banking\"]\n",
      "==================================\u001b[1m Ai Message \u001b[0m==================================\n",
      "Tool Calls:\n",
      "  map_product_to_database_products (call_tXp8jsaJlZzexU57BkRBXcXV)\n",
      " Call ID: call_tXp8jsaJlZzexU57BkRBXcXV\n",
      "  Args:\n",
      "    product: savings account\n",
      "=================================\u001b[1m Tool Message \u001b[0m=================================\n",
      "Name: map_product_to_database_products\n",
      "\n",
      "Product: SpaarRekening\n",
      "==================================\u001b[1m Ai Message \u001b[0m==================================\n",
      "Tool Calls:\n",
      "  retrieve_document_from_product (call_lImI4ph6dBxbI8ubwBMqR4kD)\n",
      " Call ID: call_lImI4ph6dBxbI8ubwBMqR4kD\n",
      "  Args:\n",
      "    product_name: SpaarRekening\n",
      "=================================\u001b[1m Tool Message \u001b[0m=================================\n",
      "Name: retrieve_document_from_product\n",
      "\n",
      "Rabo SpaarRekening 2020.pdf\n",
      "==================================\u001b[1m Ai Message \u001b[0m==================================\n",
      "Tool Calls:\n",
      "  answer_question_in_document (call_ngmEg9yXB9g2Fs9CRWl4lOuo)\n",
      " Call ID: call_ngmEg9yXB9g2Fs9CRWl4lOuo\n",
      "  Args:\n",
      "    document: Rabo SpaarRekening 2020.pdf\n",
      "    question: What are the rules for a joint account?\n",
      "=================================\u001b[1m Tool Message \u001b[0m=================================\n",
      "Name: answer_question_in_document\n",
      "\n",
      "The rules for a joint account at Rabobank, as outlined in the provided context, are as follows:\n",
      "\n",
      "1. **Joint Account Usage**: If the savings account is a joint account, it can only be used together by all account holders. This means that any actions related to the account must be agreed upon and executed by all account holders collectively. (Source: Rabo SpaarRekening 2020.pdf, page 8, chunk 71)\n",
      "\n",
      "2. **Communication and Information Sharing**: Rabobank only needs to inform one account holder about any updates or information. It is the responsibility of that account holder to share the information with the other account holders. All account holders are bound by the information provided to any one of them, regardless of whether they live at the same address. (Source: Rabo SpaarRekening 2020.pdf, page 8, chunk 68)\n",
      "\n",
      "3. **Termination of Agreement**: For a joint account, the agreement can only be terminated if all account holders agree to do so together. This means that no single account holder can unilaterally terminate the joint account agreement. (Source: Rabo SpaarRekening 2020.pdf, page 7, chunk 67)\n",
      "\n",
      "4. **Conversion of Account Types**: If account holders no longer want the joint-and/or account to be used separately by any account holder, they can request to convert it to a joint account. Once converted, the account can only be used with the cooperation of all account holders. (Source: Rabo SpaarRekening 2020.pdf, page 8, chunk 71)\n",
      "\n",
      "5. **Legal and Financial Actions**: In some cases, the law requires account holders to grant each other power of attorney to use the savings account individually. This power of attorney remains valid even if an account holder dies or is placed under guardianship. (Source: Rabo SpaarRekening 2020.pdf, page 8, chunk 70)\n",
      "\n",
      "These rules ensure that all account holders have equal rights and responsibilities regarding the management and use of the joint account.\n",
      "\n",
      "**Sources**:\n",
      "- Rabo SpaarRekening 2020.pdf, page 8, chunk 71\n",
      "- Rabo SpaarRekening 2020.pdf, page 8, chunk 68\n",
      "- Rabo SpaarRekening 2020.pdf, page 7, chunk 67\n",
      "- Rabo SpaarRekening 2020.pdf, page 8, chunk 70\n",
      "==================================\u001b[1m Ai Message \u001b[0m==================================\n",
      "\n",
      "The rules for a joint account at Rabobank are as follows:\n",
      "\n",
      "1. **Joint Account Usage**: The account can only be used collectively by all account holders. Any actions must be agreed upon and executed together.\n",
      "\n",
      "2. **Communication and Information Sharing**: Rabobank informs only one account holder about updates. That account holder is responsible for sharing the information with others. All account holders are bound by the information provided to any one of them.\n",
      "\n",
      "3. **Termination of Agreement**: The agreement can only be terminated if all account holders agree to do so together.\n",
      "\n",
      "4. **Conversion of Account Types**: Account holders can request to convert a joint-and/or account to a joint account, which then requires cooperation from all account holders for use.\n",
      "\n",
      "5. **Legal and Financial Actions**: Account holders may need to grant each other power of attorney to use the account individually, which remains valid even if an account holder dies or is placed under guardianship.\n",
      "\n",
      "These rules ensure equal rights and responsibilities for all account holders.\n"
     ]
    }
   ],
   "source": [
    "ask_to_agent(question)"
   ]
  },
  {
   "cell_type": "code",
   "execution_count": 44,
   "metadata": {},
   "outputs": [],
   "source": [
    "question = \"When is my travel insurance exprired? My name is Daan Visser\""
   ]
  },
  {
   "cell_type": "code",
   "execution_count": 45,
   "metadata": {},
   "outputs": [
    {
     "name": "stdout",
     "output_type": "stream",
     "text": [
      "================================\u001b[1m Human Message \u001b[0m=================================\n",
      "\n",
      "When is my travel insurance exprired? My name is Daan Visser\n",
      "==================================\u001b[1m Ai Message \u001b[0m==================================\n",
      "Tool Calls:\n",
      "  retrieve_customers_from_database_based_on_full_name (call_v8HLRPzCOb6Zjf9lUQMEDyNj)\n",
      " Call ID: call_v8HLRPzCOb6Zjf9lUQMEDyNj\n",
      "  Args:\n",
      "    full_name: Daan Visser\n",
      "=================================\u001b[1m Tool Message \u001b[0m=================================\n",
      "Name: retrieve_customers_from_database_based_on_full_name\n",
      "\n",
      "   c.id\n",
      "0    47\n",
      "==================================\u001b[1m Ai Message \u001b[0m==================================\n",
      "Tool Calls:\n",
      "  retrieve_products_of_customers (call_f5D5LAQWCl6q2WSopYwE2XMS)\n",
      " Call ID: call_f5D5LAQWCl6q2WSopYwE2XMS\n",
      "  Args:\n",
      "    customer_id: 47\n",
      "=================================\u001b[1m Tool Message \u001b[0m=================================\n",
      "Name: retrieve_products_of_customers\n",
      "\n",
      "                             product_id                  product_name\n",
      "0  5494327a-a164-43c0-99b6-bc9c837cca25      Kortlopende Reis Product\n",
      "1  f7f36635-926e-4dda-9790-0b43d7df4290        DirectRekening Product\n",
      "2  e155a521-bc1c-4725-8390-9a3da0f1790e  RaboBusiness Banking Product\n",
      "==================================\u001b[1m Ai Message \u001b[0m==================================\n",
      "Tool Calls:\n",
      "  retrieve_information_from_product (call_fPlSbPi9DBrqcZW5cmIXWxnK)\n",
      " Call ID: call_fPlSbPi9DBrqcZW5cmIXWxnK\n",
      "  Args:\n",
      "    product_id: 5494327a-a164-43c0-99b6-bc9c837cca25\n",
      "=================================\u001b[1m Tool Message \u001b[0m=================================\n",
      "Name: retrieve_information_from_product\n",
      "\n",
      "{'id': '5494327a-a164-43c0-99b6-bc9c837cca25', 'expirationDate': neo4j.time.Date(2018, 9, 12), 'name': 'Kortlopende Reis Product'}\n",
      "==================================\u001b[1m Ai Message \u001b[0m==================================\n",
      "\n",
      "Your travel insurance, \"Kortlopende Reis Product,\" expired on September 12, 2018.\n"
     ]
    }
   ],
   "source": [
    "ask_to_agent(question)"
   ]
  },
  {
   "cell_type": "code",
   "execution_count": 55,
   "metadata": {},
   "outputs": [],
   "source": [
    "question = \"When is my IBAN of my Saving account? My name Lucas vd Berg\""
   ]
  },
  {
   "cell_type": "code",
   "execution_count": 56,
   "metadata": {},
   "outputs": [
    {
     "name": "stdout",
     "output_type": "stream",
     "text": [
      "================================\u001b[1m Human Message \u001b[0m=================================\n",
      "\n",
      "When is my IBAN of my Saving account? My name Lucas vd Berg\n",
      "==================================\u001b[1m Ai Message \u001b[0m==================================\n",
      "Tool Calls:\n",
      "  retrieve_customers_from_database_based_on_full_name (call_yjbwfAnoOGg18ex0PnhqQs7O)\n",
      " Call ID: call_yjbwfAnoOGg18ex0PnhqQs7O\n",
      "  Args:\n",
      "    full_name: Lucas vd Berg\n",
      "=================================\u001b[1m Tool Message \u001b[0m=================================\n",
      "Name: retrieve_customers_from_database_based_on_full_name\n",
      "\n",
      "Empty DataFrame\n",
      "Columns: [c.id]\n",
      "Index: []\n",
      "==================================\u001b[1m Ai Message \u001b[0m==================================\n",
      "\n",
      "I couldn't find any customer information for \"Lucas vd Berg\" in the database. Please ensure that the name is correct or provide additional details to help locate your account.\n"
     ]
    }
   ],
   "source": [
    "ask_to_agent(question)"
   ]
  },
  {
   "cell_type": "code",
   "execution_count": null,
   "metadata": {},
   "outputs": [],
   "source": []
  },
  {
   "cell_type": "markdown",
   "metadata": {},
   "source": [
    "## Chatbot"
   ]
  },
  {
   "cell_type": "markdown",
   "metadata": {},
   "source": [
    "Now create a chatbot with the agent providing the responses"
   ]
  },
  {
   "cell_type": "code",
   "execution_count": 57,
   "metadata": {},
   "outputs": [
    {
     "name": "stdout",
     "output_type": "stream",
     "text": [
      "* Running on local URL:  http://127.0.0.1:7862\n",
      "* Running on public URL: https://da7fcd088718a5923c.gradio.live\n",
      "\n",
      "This share link expires in 72 hours. For free permanent hosting and GPU upgrades, run `gradio deploy` from the terminal in the working directory to deploy to Hugging Face Spaces (https://huggingface.co/spaces)\n"
     ]
    },
    {
     "data": {
      "text/html": [
       "<div><iframe src=\"https://da7fcd088718a5923c.gradio.live\" width=\"100%\" height=\"500\" allow=\"autoplay; camera; microphone; clipboard-read; clipboard-write;\" frameborder=\"0\" allowfullscreen></iframe></div>"
      ],
      "text/plain": [
       "<IPython.core.display.HTML object>"
      ]
     },
     "metadata": {},
     "output_type": "display_data"
    },
    {
     "data": {
      "text/plain": []
     },
     "execution_count": 57,
     "metadata": {},
     "output_type": "execute_result"
    },
    {
     "name": "stdout",
     "output_type": "stream",
     "text": [
      "================================\u001b[1m Human Message \u001b[0m=================================\n",
      "\n",
      "User: When is my IBAN of my Saving account? My name Lucas vd Berg\n",
      "==================================\u001b[1m Ai Message \u001b[0m==================================\n",
      "Tool Calls:\n",
      "  retrieve_customers_from_database_based_on_full_name (call_P25s0oVpTqQ2NoNjcleegq6N)\n",
      " Call ID: call_P25s0oVpTqQ2NoNjcleegq6N\n",
      "  Args:\n",
      "    full_name: Lucas vd Berg\n",
      "=================================\u001b[1m Tool Message \u001b[0m=================================\n",
      "Name: retrieve_customers_from_database_based_on_full_name\n",
      "\n",
      "Empty DataFrame\n",
      "Columns: [c.id]\n",
      "Index: []\n",
      "==================================\u001b[1m Ai Message \u001b[0m==================================\n",
      "\n",
      "I couldn't find any customer information for \"Lucas vd Berg\" in the database. Please ensure that the name is correct or provide additional details to help locate your account.\n",
      "================================\u001b[1m Human Message \u001b[0m=================================\n",
      "\n",
      "User: When is my IBAN of my Saving account? My name Lucas vd Berg\n",
      "Assistant: I couldn't find any customer information for \"Lucas vd Berg\" in the database. Please ensure that the name is correct or provide additional details to help locate your account.\n",
      "User: Oh sorry, my name is Lucas Van den Berg\n",
      "==================================\u001b[1m Ai Message \u001b[0m==================================\n",
      "Tool Calls:\n",
      "  retrieve_customers_from_database_based_on_full_name (call_noWojtLUWSiSRkYY0i60jEx2)\n",
      " Call ID: call_noWojtLUWSiSRkYY0i60jEx2\n",
      "  Args:\n",
      "    full_name: Lucas Van den Berg\n",
      "=================================\u001b[1m Tool Message \u001b[0m=================================\n",
      "Name: retrieve_customers_from_database_based_on_full_name\n",
      "\n",
      "   c.id\n",
      "0    48\n",
      "==================================\u001b[1m Ai Message \u001b[0m==================================\n",
      "Tool Calls:\n",
      "  retrieve_products_of_customers (call_AyZKZf84ZEua0QbS07bnJTIh)\n",
      " Call ID: call_AyZKZf84ZEua0QbS07bnJTIh\n",
      "  Args:\n",
      "    customer_id: 48\n",
      "=================================\u001b[1m Tool Message \u001b[0m=================================\n",
      "Name: retrieve_products_of_customers\n",
      "\n",
      "                             product_id               product_name\n",
      "0  7e90fa08-d7de-415a-930b-5c7af827282a      SpaarRekening Product\n",
      "1  5b18f5cc-7d21-4010-9dfc-501f7afa33d0  BeleggersRekening Product\n",
      "2  ad2076cf-23be-4e03-8e8d-76c93f90d8e8     DirectRekening Product\n",
      "==================================\u001b[1m Ai Message \u001b[0m==================================\n",
      "Tool Calls:\n",
      "  retrieve_information_from_product (call_gkCdO10g4U7vZzGnH6YZEI8l)\n",
      " Call ID: call_gkCdO10g4U7vZzGnH6YZEI8l\n",
      "  Args:\n",
      "    product_id: 7e90fa08-d7de-415a-930b-5c7af827282a\n",
      "=================================\u001b[1m Tool Message \u001b[0m=================================\n",
      "Name: retrieve_information_from_product\n",
      "\n",
      "{'id': '7e90fa08-d7de-415a-930b-5c7af827282a', 'expirationDate': neo4j.time.Date(2018, 11, 22), 'name': 'SpaarRekening Product', 'iban': 'NL04RABO2440550104'}\n",
      "==================================\u001b[1m Ai Message \u001b[0m==================================\n",
      "\n",
      "The IBAN for your Saving Account (SpaarRekening Product) is NL04RABO2440550104.\n"
     ]
    }
   ],
   "source": [
    "def user(user_message, history):\n",
    "    if history is None:\n",
    "        history = []\n",
    "    history.append({\"role\": \"user\", \"content\": user_message})\n",
    "    return \"\", history\n",
    "\n",
    "def get_answer(history):\n",
    "    steps = []\n",
    "    full_prompt = \"\\n\".join([f\"{msg['role'].capitalize()}: {msg['content']}\" for msg in history])\n",
    "    \n",
    "    for step in agent_executor.stream(\n",
    "            {\"messages\": [HumanMessage(content=full_prompt)]},\n",
    "            stream_mode=\"values\",\n",
    "    ):\n",
    "        step[\"messages\"][-1].pretty_print()\n",
    "        steps.append(step[\"messages\"][-1].content)\n",
    "    \n",
    "    return steps[-1]\n",
    "\n",
    "def bot(history):\n",
    "    bot_message = get_answer(history)\n",
    "    history.append({\"role\": \"assistant\", \"content\": \"\"})\n",
    "\n",
    "    for character in bot_message:\n",
    "        history[-1][\"content\"] += character\n",
    "        time.sleep(0.01)\n",
    "        yield history\n",
    "\n",
    "with gr.Blocks() as demo:\n",
    "    chatbot = gr.Chatbot(\n",
    "        label=\"Chatbot on a Graph\",\n",
    "        avatar_images=[\n",
    "            \"https://png.pngtree.com/png-vector/20220525/ourmid/pngtree-concept-of-facial-animal-avatar-chatbot-dog-chat-machine-illustration-vector-png-image_46652864.jpg\",\n",
    "            \"https://d-cb.jc-cdn.com/sites/crackberry.com/files/styles/larger/public/article_images/2023/08/openai-logo.jpg\"\n",
    "        ],\n",
    "        type=\"messages\", \n",
    "    )\n",
    "    msg = gr.Textbox(label=\"Message\")\n",
    "    clear = gr.Button(\"Clear\")\n",
    "\n",
    "    msg.submit(user, [msg, chatbot], [msg, chatbot], queue=False).then(\n",
    "        bot, [chatbot], chatbot\n",
    "    )\n",
    "\n",
    "    clear.click(lambda: [], None, chatbot, queue=False)\n",
    "\n",
    "demo.queue()\n",
    "demo.launch(share=True)"
   ]
  },
  {
   "cell_type": "markdown",
   "metadata": {},
   "source": [
    "If you want to have the light-mode for the chatbot paste the following after the URL: /?__theme=light"
   ]
  },
  {
   "cell_type": "code",
   "execution_count": null,
   "metadata": {},
   "outputs": [],
   "source": []
  },
  {
   "cell_type": "code",
   "execution_count": null,
   "metadata": {},
   "outputs": [],
   "source": []
  },
  {
   "cell_type": "code",
   "execution_count": null,
   "metadata": {},
   "outputs": [],
   "source": []
  }
 ],
 "metadata": {
  "colab": {
   "provenance": []
  },
  "kernelspec": {
   "display_name": "Python 3 (ipykernel)",
   "language": "python",
   "name": "python3"
  },
  "language_info": {
   "codemirror_mode": {
    "name": "ipython",
    "version": 3
   },
   "file_extension": ".py",
   "mimetype": "text/x-python",
   "name": "python",
   "nbconvert_exporter": "python",
   "pygments_lexer": "ipython3",
   "version": "3.11.5"
  }
 },
 "nbformat": 4,
 "nbformat_minor": 4
}
