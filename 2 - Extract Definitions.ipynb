{
 "cells": [
  {
   "cell_type": "markdown",
   "metadata": {},
   "source": [
    "# Module 2 - Taming Unstructured Data\n",
    "\n",
    "This module has the following objectives:\n",
    "- Creating a graph from Unstructured Data"
   ]
  },
  {
   "cell_type": "code",
   "execution_count": 3,
   "metadata": {
    "id": "FHKg4DVZiQ98"
   },
   "outputs": [],
   "source": [
    "# !pip install graphdatascience neo4j dotenv pydantic openai"
   ]
  },
  {
   "cell_type": "markdown",
   "metadata": {},
   "source": [
    "Import our usual suspects (and some more...)"
   ]
  },
  {
   "cell_type": "code",
   "execution_count": 4,
   "metadata": {},
   "outputs": [],
   "source": [
    "import os\n",
    "import pandas as pd\n",
    "from dotenv import load_dotenv\n",
    "from graphdatascience import GraphDataScience\n",
    "from neo4j import Query, GraphDatabase, RoutingControl, Result\n",
    "from typing import List, Optional\n",
    "from pydantic import BaseModel, Field, validator\n",
    "from openai import OpenAI\n",
    "import json"
   ]
  },
  {
   "cell_type": "markdown",
   "metadata": {
    "id": "ynPe6RLRWSKd"
   },
   "source": [
    "# Setup"
   ]
  },
  {
   "cell_type": "markdown",
   "metadata": {
    "id": "pa61u1jfyk3t"
   },
   "source": [
    "Load env variables"
   ]
  },
  {
   "cell_type": "code",
   "execution_count": 5,
   "metadata": {},
   "outputs": [],
   "source": [
    "env_file = 'credentials.env'"
   ]
  },
  {
   "cell_type": "code",
   "execution_count": 6,
   "metadata": {
    "id": "CHR_0lmElZ-R"
   },
   "outputs": [],
   "source": [
    "if os.path.exists(env_file):\n",
    "    load_dotenv(env_file, override=True)\n",
    "\n",
    "    # Neo4j\n",
    "    HOST = os.getenv('NEO4J_URI')\n",
    "    USERNAME = os.getenv('NEO4J_USERNAME')\n",
    "    PASSWORD = os.getenv('NEO4J_PASSWORD')\n",
    "    DATABASE = os.getenv('NEO4J_DATABASE')\n",
    "\n",
    "    # AI\n",
    "    OPENAI_API_KEY = os.getenv('OPENAI_API_KEY')\n",
    "    os.environ['OPENAI_API_KEY']=OPENAI_API_KEY\n",
    "    LLM = os.getenv('LLM')\n",
    "    EMBEDDINGS_MODEL = os.getenv('EMBEDDINGS_MODEL')\n",
    "else:\n",
    "    print(f\"File {env_file} not found.\")"
   ]
  },
  {
   "cell_type": "markdown",
   "metadata": {},
   "source": [
    "Connect to neo4j db"
   ]
  },
  {
   "cell_type": "code",
   "execution_count": 7,
   "metadata": {},
   "outputs": [],
   "source": [
    "driver = GraphDatabase.driver(\n",
    "    HOST,\n",
    "    auth=(USERNAME, PASSWORD)\n",
    ")"
   ]
  },
  {
   "cell_type": "markdown",
   "metadata": {},
   "source": [
    "Test the connection"
   ]
  },
  {
   "cell_type": "code",
   "execution_count": 8,
   "metadata": {
    "id": "5w4eCb7xZZ-S"
   },
   "outputs": [
    {
     "data": {
      "text/html": [
       "<div>\n",
       "<style scoped>\n",
       "    .dataframe tbody tr th:only-of-type {\n",
       "        vertical-align: middle;\n",
       "    }\n",
       "\n",
       "    .dataframe tbody tr th {\n",
       "        vertical-align: top;\n",
       "    }\n",
       "\n",
       "    .dataframe thead th {\n",
       "        text-align: right;\n",
       "    }\n",
       "</style>\n",
       "<table border=\"1\" class=\"dataframe\">\n",
       "  <thead>\n",
       "    <tr style=\"text-align: right;\">\n",
       "      <th></th>\n",
       "      <th>Count</th>\n",
       "    </tr>\n",
       "  </thead>\n",
       "  <tbody>\n",
       "    <tr>\n",
       "      <th>0</th>\n",
       "      <td>902</td>\n",
       "    </tr>\n",
       "  </tbody>\n",
       "</table>\n",
       "</div>"
      ],
      "text/plain": [
       "   Count\n",
       "0    902"
      ]
     },
     "execution_count": 8,
     "metadata": {},
     "output_type": "execute_result"
    }
   ],
   "source": [
    "driver.execute_query(\n",
    "    \"\"\"\n",
    "    MATCH (n) RETURN COUNT(n) as Count\n",
    "    \"\"\",\n",
    "    database_=DATABASE,\n",
    "    routing_=RoutingControl.READ,\n",
    "    result_transformer_= lambda r: r.to_df()\n",
    ")"
   ]
  },
  {
   "cell_type": "markdown",
   "metadata": {},
   "source": [
    "## Unstructured data"
   ]
  },
  {
   "cell_type": "markdown",
   "metadata": {},
   "source": [
    "Let's define some unstrucutured data from some of our Neo4j colleagues"
   ]
  },
  {
   "cell_type": "code",
   "execution_count": 71,
   "metadata": {},
   "outputs": [],
   "source": [
    "chunk_df = driver.execute_query(\n",
    "    \"\"\"\n",
    "    MATCH (c:Chunk)-[:PART_OF]->(d:Document) RETURN c.chunk as text, c.id as chunk_id, d.file_name as document LIMIT 10\n",
    "    \"\"\",\n",
    "    database_=DATABASE,\n",
    "    routing_=RoutingControl.READ,\n",
    "    result_transformer_= lambda r: r.to_df()\n",
    ")"
   ]
  },
  {
   "cell_type": "code",
   "execution_count": 72,
   "metadata": {},
   "outputs": [
    {
     "data": {
      "text/html": [
       "<div>\n",
       "<style scoped>\n",
       "    .dataframe tbody tr th:only-of-type {\n",
       "        vertical-align: middle;\n",
       "    }\n",
       "\n",
       "    .dataframe tbody tr th {\n",
       "        vertical-align: top;\n",
       "    }\n",
       "\n",
       "    .dataframe thead th {\n",
       "        text-align: right;\n",
       "    }\n",
       "</style>\n",
       "<table border=\"1\" class=\"dataframe\">\n",
       "  <thead>\n",
       "    <tr style=\"text-align: right;\">\n",
       "      <th></th>\n",
       "      <th>text</th>\n",
       "      <th>chunk_id</th>\n",
       "      <th>document</th>\n",
       "    </tr>\n",
       "  </thead>\n",
       "  <tbody>\n",
       "    <tr>\n",
       "      <th>0</th>\n",
       "      <td>Rabo \\nSpaarRekening 2020</td>\n",
       "      <td>0</td>\n",
       "      <td>Rabo SpaarRekening 2020.pdf</td>\n",
       "    </tr>\n",
       "    <tr>\n",
       "      <th>1</th>\n",
       "      <td>Pagina 2/14\\nInhoud\\nRabo SpaarRekening  Novem...</td>\n",
       "      <td>1</td>\n",
       "      <td>Rabo SpaarRekening 2020.pdf</td>\n",
       "    </tr>\n",
       "    <tr>\n",
       "      <th>2</th>\n",
       "      <td>Pagina 3/14\\nProductkenmerken, Rabo SpaarReken...</td>\n",
       "      <td>2</td>\n",
       "      <td>Rabo SpaarRekening 2020.pdf</td>\n",
       "    </tr>\n",
       "    <tr>\n",
       "      <th>3</th>\n",
       "      <td>openen, wijzigen of opheffen. Hiervoor zijn ee...</td>\n",
       "      <td>3</td>\n",
       "      <td>Rabo SpaarRekening 2020.pdf</td>\n",
       "    </tr>\n",
       "    <tr>\n",
       "      <th>4</th>\n",
       "      <td>wij de bijbehorende rente. Wij kunnen de schij...</td>\n",
       "      <td>4</td>\n",
       "      <td>Rabo SpaarRekening 2020.pdf</td>\n",
       "    </tr>\n",
       "  </tbody>\n",
       "</table>\n",
       "</div>"
      ],
      "text/plain": [
       "                                                text  chunk_id  \\\n",
       "0                          Rabo \\nSpaarRekening 2020         0   \n",
       "1  Pagina 2/14\\nInhoud\\nRabo SpaarRekening  Novem...         1   \n",
       "2  Pagina 3/14\\nProductkenmerken, Rabo SpaarReken...         2   \n",
       "3  openen, wijzigen of opheffen. Hiervoor zijn ee...         3   \n",
       "4  wij de bijbehorende rente. Wij kunnen de schij...         4   \n",
       "\n",
       "                      document  \n",
       "0  Rabo SpaarRekening 2020.pdf  \n",
       "1  Rabo SpaarRekening 2020.pdf  \n",
       "2  Rabo SpaarRekening 2020.pdf  \n",
       "3  Rabo SpaarRekening 2020.pdf  \n",
       "4  Rabo SpaarRekening 2020.pdf  "
      ]
     },
     "execution_count": 72,
     "metadata": {},
     "output_type": "execute_result"
    }
   ],
   "source": [
    "chunk_df.head()"
   ]
  },
  {
   "cell_type": "markdown",
   "metadata": {},
   "source": [
    "## Define the Domain Model"
   ]
  },
  {
   "cell_type": "markdown",
   "metadata": {},
   "source": [
    "[Pydantic Models](https://docs.pydantic.dev/latest/api/base_model/) are simply classes which inherit from BaseModel and define fields as annotated attributes."
   ]
  },
  {
   "cell_type": "code",
   "execution_count": 73,
   "metadata": {},
   "outputs": [],
   "source": [
    "class Definition(BaseModel):\n",
    "    \"\"\"\n",
    "    Represents a term with its definition and description.\n",
    "    \"\"\"\n",
    "    term: str = Field(..., description=\"The description or explanation of the term\")\n",
    "    description: str = Field(..., description=\"The description or explanation of the term\")\n",
    "    chunk_id: int = Field(..., description=\"The id of the chunk from which the term was derived from.\")\n",
    "\n",
    "class DefinitionList(BaseModel):\n",
    "    definitions:List[Definition]"
   ]
  },
  {
   "cell_type": "code",
   "execution_count": 74,
   "metadata": {},
   "outputs": [],
   "source": [
    "system_message = \"\"\"\n",
    "    You are an expert in extracting structured information from a text. \n",
    "    Identify defnitions/terms that are explicitly explained in the text. Please extract the following details: \n",
    "    - Term: The description or explanation of the term \n",
    "    - Description: The description or explanation of the term\n",
    "    - chunk_id: The id of the chunk from which the term was derived from. \n",
    "\n",
    "    Be concise, take the following points in consideration:\n",
    "    - Don't come up with anything yourself. \n",
    "    - Only map explicit definitions and terms that are explained in the text.\n",
    "    - Don't translate things. Only store them in the origal language. \n",
    "    \n",
    "    Present the extracted information in a clear, structured format. Be concise.\n",
    "\"\"\""
   ]
  },
  {
   "cell_type": "code",
   "execution_count": 75,
   "metadata": {},
   "outputs": [],
   "source": [
    "client = OpenAI()"
   ]
  },
  {
   "cell_type": "code",
   "execution_count": 76,
   "metadata": {},
   "outputs": [],
   "source": [
    "def extract(document, chunk_id, model=LLM, temperature=0):\n",
    "    response = client.beta.chat.completions.parse(\n",
    "        model=model,\n",
    "        temperature=temperature,\n",
    "        messages=[\n",
    "            {\"role\": \"system\", \"content\": system_message},\n",
    "            {\"role\": \"user\", \"content\": document},\n",
    "            {\"role\": \"user\", \"content\": \"chunk_id: \" + str(chunk_id)},\n",
    "        ],\n",
    "        response_format=DefinitionList,\n",
    "    )\n",
    "    return json.loads(response.choices[0].message.content)"
   ]
  },
  {
   "cell_type": "code",
   "execution_count": 77,
   "metadata": {},
   "outputs": [
    {
     "name": "stdout",
     "output_type": "stream",
     "text": [
      "text          Rabo \\nSpaarRekening 2020\n",
      "chunk_id                              0\n",
      "document    Rabo SpaarRekening 2020.pdf\n",
      "Name: 0, dtype: object\n",
      "text        Pagina 2/14\\nInhoud\\nRabo SpaarRekening  Novem...\n",
      "chunk_id                                                    1\n",
      "document                          Rabo SpaarRekening 2020.pdf\n",
      "Name: 1, dtype: object\n",
      "text        Pagina 3/14\\nProductkenmerken, Rabo SpaarReken...\n",
      "chunk_id                                                    2\n",
      "document                          Rabo SpaarRekening 2020.pdf\n",
      "Name: 2, dtype: object\n",
      "text        openen, wijzigen of opheffen. Hiervoor zijn ee...\n",
      "chunk_id                                                    3\n",
      "document                          Rabo SpaarRekening 2020.pdf\n",
      "Name: 3, dtype: object\n",
      "text        wij de bijbehorende rente. Wij kunnen de schij...\n",
      "chunk_id                                                    4\n",
      "document                          Rabo SpaarRekening 2020.pdf\n",
      "Name: 4, dtype: object\n",
      "text        U kunt er voor kiezen de rente op een andere r...\n",
      "chunk_id                                                    5\n",
      "document                          Rabo SpaarRekening 2020.pdf\n",
      "Name: 5, dtype: object\n",
      "text        Pagina 4/14\\nProductkenmerken, Rabo SpaarReken...\n",
      "chunk_id                                                    6\n",
      "document                          Rabo SpaarRekening 2020.pdf\n",
      "Name: 6, dtype: object\n",
      "text        uw Rabo SpaarRekening.\\nHoe kunt u zien hoevee...\n",
      "chunk_id                                                    7\n",
      "document                          Rabo SpaarRekening 2020.pdf\n",
      "Name: 7, dtype: object\n",
      "text        Als u via de Rabofoon of de Rabo Bankieren App...\n",
      "chunk_id                                                    8\n",
      "document                          Rabo SpaarRekening 2020.pdf\n",
      "Name: 8, dtype: object\n",
      "text        Rabobank. Wij verrekenen dan de eventueel te b...\n",
      "chunk_id                                                    9\n",
      "document                          Rabo SpaarRekening 2020.pdf\n",
      "Name: 9, dtype: object\n"
     ]
    }
   ],
   "source": [
    "for _, row in chunk_df.iterrows(): \n",
    "    print(row)"
   ]
  },
  {
   "cell_type": "code",
   "execution_count": 78,
   "metadata": {},
   "outputs": [],
   "source": [
    "rows = [extract(row.text, row.chunk_id) for _, row in chunk_df.iterrows()]"
   ]
  },
  {
   "cell_type": "code",
   "execution_count": 79,
   "metadata": {},
   "outputs": [],
   "source": [
    "rows = {'definitions': [entry for d in rows for entry in d['definitions']]}"
   ]
  },
  {
   "cell_type": "code",
   "execution_count": 80,
   "metadata": {},
   "outputs": [],
   "source": [
    "structured_data = DefinitionList.model_validate({'definitions': rows['definitions']})"
   ]
  },
  {
   "cell_type": "code",
   "execution_count": 81,
   "metadata": {},
   "outputs": [
    {
     "name": "stdout",
     "output_type": "stream",
     "text": [
      "definitions\n",
      "  term: Rabo SpaarRekening\n",
      "  description: A type of savings account offered by Rabobank.\n",
      "  chunk_id: 0\n",
      "\n",
      "  term: Rabo SpaarRekening\n",
      "  description: A type of savings account offered by Rabobank.\n",
      "  chunk_id: 1\n",
      "\n",
      "  term: Rabo SpaarRekening\n",
      "  description: Een spaarrekening waarvan u het tegoed altijd en zonder kosten kunt opnemen. Het rentepercentage is afhankelijk van de hoogte van het tegoed.\n",
      "  chunk_id: 2\n",
      "\n",
      "  term: Rabo SpaarRekening voor particuliere klanten\n",
      "  description: Een vrij opneembare spaarrekening voor particuliere klanten, te gebruiken via overboekingsformulieren of Rabo Online Bankieren.\n",
      "  chunk_id: 2\n",
      "\n",
      "  term: Rabo SpaarRekening openen\n",
      "  description: U kunt de Rabo SpaarRekening kosteloos online openen, of via de Rabobank. U mag drie Rabo SpaarRekeningen bij ons aanhouden op uw eigen naam, en drie Rabo SpaarRekeningen samen met iemand anders. U kunt een rekening openen voor uzelf of samen met uw partner of iemand anders, of op naam van uw kind.\n",
      "  chunk_id: 2\n",
      "\n",
      "  term: Mogelijkheden voor minderjarigen\n",
      "  description: Jongeren tot 16 jaar kunnen zelf een Rabo SpaarRekening openen, wijzigen of opheffen.\n",
      "  chunk_id: 2\n",
      "\n",
      "  term: Rabo JongerenRekening\n",
      "  description: Een rekening die nodig is voor jongeren om een Rabo SpaarRekening te openen, wijzigen of opheffen via Rabo Online Bankieren.\n",
      "  chunk_id: 3\n",
      "\n",
      "  term: Rabo Online Bankieren\n",
      "  description: Een platform dat toegang biedt tot het beheren van bankrekeningen, zoals het openen, wijzigen of opheffen van een Rabo SpaarRekening.\n",
      "  chunk_id: 3\n",
      "\n",
      "  term: Rabo SpaarRekening\n",
      "  description: Een spaarrekening die door jongeren vanaf 16 jaar zelfstandig kan worden geopend, gewijzigd of opgeheven via Rabo Online Bankieren.\n",
      "  chunk_id: 3\n",
      "\n",
      "  term: Variabele rente\n",
      "  description: De rente die altijd door de bank mag worden gewijzigd.\n",
      "  chunk_id: 3\n",
      "\n",
      "  term: Gecombineerd tegoed\n",
      "  description: Het gecombineerd tegoed bepalen wij dan door alle saldi op uw betaal-, spaar- en beleggersrekeningen bij elkaar op te tellen. Over dit tegoed wordt dan de rente berekend.\n",
      "  chunk_id: 4\n",
      "\n",
      "  term: Productkenmerken\n",
      "  description: \n",
      "  chunk_id: 5\n",
      "\n",
      "  term: Rabo SpaarRekening\n",
      "  description: Een spaarrekening bij Rabobank waar u geld kunt overboeken en opnemen.\n",
      "  chunk_id: 6\n",
      "\n",
      "  term: Rabofoon\n",
      "  description: Een dienst van Rabobank waarmee u telefonisch bankzaken kunt regelen, zoals het overboeken van geld.\n",
      "  chunk_id: 6\n",
      "\n",
      "  term: SEPA\n",
      "  description: Single Euro Payments Area, een Europese betaalruimte waarbinnen u gemakkelijk en veilig eurobetalingen kunt doen.\n",
      "  chunk_id: 6\n",
      "\n",
      "  term: Rabo SpaarRekening\n",
      "  description: Een spaarrekening bij de Rabobank waarvoor geen andere producten of diensten noodzakelijk zijn voor het openen en gebruiken ervan.\n",
      "  chunk_id: 7\n",
      "\n",
      "  term: Rabofoon\n",
      "  description: Een dienst waarmee u informatie over uw spaarrekening kunt beluisteren, mits geactiveerd.\n",
      "  chunk_id: 7\n",
      "\n",
      "  term: Rabo Online Bankieren\n",
      "  description: Een dienst waarmee u online het tegoed, de af- en bijboekingen en de opgebouwde of in rekening te brengen rente kunt bekijken, en zelf een afschrift kunt samenstellen.\n",
      "  chunk_id: 7\n",
      "\n",
      "  term: Rabo Internetbankieren\n",
      "  description: Een dienst die nodig is om online het actuele tegoed en de mutaties van uw Rabo SpaarRekening te raadplegen of overboekingen uit te voeren.\n",
      "  chunk_id: 7\n",
      "\n",
      "  term: Rabo Bankieren App\n",
      "  description: Een app die nodig is om online het actuele tegoed en de mutaties van uw Rabo SpaarRekening te raadplegen of overboekingen uit te voeren.\n",
      "  chunk_id: 7\n",
      "\n",
      "  term: Rabofoon\n",
      "  description: Een dienst van Rabobank waarmee klanten hun actuele tegoed en mutaties kunnen raadplegen of overboekingen kunnen uitvoeren via de telefoon.\n",
      "  chunk_id: 8\n",
      "\n",
      "  term: Rabo Bankieren App\n",
      "  description: Een applicatie van Rabobank waarmee klanten hun actuele tegoed en mutaties kunnen raadplegen of overboekingen kunnen uitvoeren.\n",
      "  chunk_id: 8\n",
      "\n",
      "  term: Rabo Online Bankieren\n",
      "  description: Onderdeel van de particuliere betaalpakketten van Rabobank waarmee klanten online hun bankzaken kunnen regelen.\n",
      "  chunk_id: 8\n",
      "\n",
      "  term: Rabo SpaarRekening\n",
      "  description: Een spaarrekening bij Rabobank die kosteloos online kan worden opgezegd.\n",
      "  chunk_id: 8\n",
      "\n",
      "  term: vermogensrendementsheffing\n",
      "  description: Jaarlijks moet u vermogensrendementsheffing betalen over uw netto-vermogen (bezittingen minus schulden) op 1 januari.\n",
      "  chunk_id: 9\n",
      "\n",
      "  term: heffingsvrij vermogen\n",
      "  description: Het heffingsvrij vermogen is dat gedeelte van het box 3 vermogen waarover geen belasting wordt geheven.\n",
      "  chunk_id: 9\n",
      "\n",
      "  term: depositogarantiestelsel\n",
      "  description: Uw tegoed op Rabo SpaarRekening valt onder de dekking van het depositogarantiestelsel.\n",
      "  chunk_id: 9\n",
      "\n"
     ]
    }
   ],
   "source": [
    "for k, details_list in structured_data.model_dump().items():\n",
    "    print(f\"{k}\")\n",
    "    for details in details_list:\n",
    "        for key, value in details.items():\n",
    "            print(f\"  {key}: {value}\")\n",
    "        print()"
   ]
  },
  {
   "cell_type": "markdown",
   "metadata": {
    "id": "0OMlYdxHWZLx"
   },
   "source": [
    "## Graph creation\n",
    "Now that data is structured and validated, we can save it to the database"
   ]
  },
  {
   "cell_type": "markdown",
   "metadata": {},
   "source": [
    "Create Definition Nodes"
   ]
  },
  {
   "cell_type": "code",
   "execution_count": 17,
   "metadata": {},
   "outputs": [],
   "source": [
    "records, summary, keys = driver.execute_query(\n",
    "    \"\"\"\n",
    "        UNWIND $rows AS row\n",
    "        MERGE (d:Definition{term:row.term})\n",
    "        SET d.description = row.description\n",
    "    \"\"\",\n",
    "    database_=DATABASE,\n",
    "    routing_=RoutingControl.WRITE,\n",
    "    rows = rows['definitions']\n",
    ")"
   ]
  },
  {
   "cell_type": "markdown",
   "metadata": {},
   "source": [
    "Create relationships to Chunks"
   ]
  },
  {
   "cell_type": "code",
   "execution_count": 18,
   "metadata": {},
   "outputs": [],
   "source": [
    "records, summary, keys = driver.execute_query(\n",
    "    \"\"\"\n",
    "    MATCH (d:Definition)\n",
    "    MATCH (c:Chunk)\n",
    "    WHERE toLower(c.chunk) CONTAINS toLower(d.term)\n",
    "    MERGE (c)-[:MENTIONS]->(d)\n",
    "    \"\"\",\n",
    "    database_=DATABASE,\n",
    "    routing_=RoutingControl.WRITE\n",
    ")"
   ]
  }
 ],
 "metadata": {
  "colab": {
   "provenance": []
  },
  "kernelspec": {
   "display_name": "Python 3 (ipykernel)",
   "language": "python",
   "name": "python3"
  },
  "language_info": {
   "codemirror_mode": {
    "name": "ipython",
    "version": 3
   },
   "file_extension": ".py",
   "mimetype": "text/x-python",
   "name": "python",
   "nbconvert_exporter": "python",
   "pygments_lexer": "ipython3",
   "version": "3.11.5"
  }
 },
 "nbformat": 4,
 "nbformat_minor": 4
}
