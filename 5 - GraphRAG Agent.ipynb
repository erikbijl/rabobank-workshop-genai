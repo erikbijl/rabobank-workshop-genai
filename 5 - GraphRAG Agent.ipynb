{
 "cells": [
  {
   "cell_type": "markdown",
   "metadata": {},
   "source": [
    "# Module 6 - GraphRAG and Agent"
   ]
  },
  {
   "cell_type": "markdown",
   "metadata": {},
   "source": [
    "In the following notebook are we creating an agent on top of the Graph."
   ]
  },
  {
   "cell_type": "markdown",
   "metadata": {},
   "source": [
    "Import our usual suspects (and some more...)"
   ]
  },
  {
   "cell_type": "code",
   "execution_count": 2,
   "metadata": {},
   "outputs": [],
   "source": [
    "import os\n",
    "import pandas as pd\n",
    "from dotenv import load_dotenv\n",
    "from graphdatascience import GraphDataScience\n",
    "from neo4j import Query, GraphDatabase, RoutingControl, Result\n",
    "from langchain.schema import HumanMessage\n",
    "from langchain_openai import OpenAIEmbeddings, ChatOpenAI\n",
    "from langchain_core.messages import HumanMessage\n",
    "from langchain_core.prompts import ChatPromptTemplate, PromptTemplate\n",
    "from langchain_core.output_parsers import StrOutputParser\n",
    "from langgraph.prebuilt import create_react_agent\n",
    "from openai import OpenAI\n",
    "from typing import List, Optional\n",
    "from pydantic import BaseModel, Field, validator\n",
    "import functools\n",
    "from langchain_core.tools import tool\n",
    "import gradio as gr\n",
    "import time\n",
    "from json import loads, dumps\n",
    "from typing_extensions import TypedDict\n",
    "from typing import Literal\n",
    "from langgraph.graph import StateGraph, Graph, START, END\n",
    "from langgraph.checkpoint.memory import MemorySaver"
   ]
  },
  {
   "cell_type": "markdown",
   "metadata": {
    "id": "ynPe6RLRWSKd"
   },
   "source": [
    "## Setup"
   ]
  },
  {
   "cell_type": "markdown",
   "metadata": {
    "id": "pa61u1jfyk3t"
   },
   "source": [
    "Load env variables"
   ]
  },
  {
   "cell_type": "code",
   "execution_count": 3,
   "metadata": {},
   "outputs": [],
   "source": [
    "env_file = 'ws.env'"
   ]
  },
  {
   "cell_type": "code",
   "execution_count": 4,
   "metadata": {
    "id": "CHR_0lmElZ-R"
   },
   "outputs": [],
   "source": [
    "if os.path.exists(env_file):\n",
    "    load_dotenv(env_file, override=True)\n",
    "\n",
    "    # Neo4j\n",
    "    HOST = os.getenv('NEO4J_URI')\n",
    "    USERNAME = os.getenv('NEO4J_USERNAME')\n",
    "    PASSWORD = os.getenv('NEO4J_PASSWORD')\n",
    "    DATABASE = os.getenv('NEO4J_DATABASE')\n",
    "\n",
    "    # AI\n",
    "    OPENAI_API_KEY = os.getenv('OPENAI_API_KEY')\n",
    "    os.environ['OPENAI_API_KEY']=OPENAI_API_KEY\n",
    "    LLM = os.getenv('LLM')\n",
    "    EMBEDDINGS_MODEL = os.getenv('EMBEDDINGS_MODEL')\n",
    "else:\n",
    "    print(f\"File {env_file} not found.\")"
   ]
  },
  {
   "cell_type": "markdown",
   "metadata": {},
   "source": [
    "Setup connection to the database with the [Python Driver](https://neo4j.com/docs/python-manual/5/)."
   ]
  },
  {
   "cell_type": "code",
   "execution_count": 5,
   "metadata": {},
   "outputs": [],
   "source": [
    "driver = GraphDatabase.driver(\n",
    "    HOST,\n",
    "    auth=(USERNAME, PASSWORD)\n",
    ")"
   ]
  },
  {
   "cell_type": "markdown",
   "metadata": {},
   "source": [
    "Test the connection"
   ]
  },
  {
   "cell_type": "code",
   "execution_count": 6,
   "metadata": {
    "id": "5w4eCb7xZZ-S"
   },
   "outputs": [
    {
     "data": {
      "text/html": [
       "<div>\n",
       "<style scoped>\n",
       "    .dataframe tbody tr th:only-of-type {\n",
       "        vertical-align: middle;\n",
       "    }\n",
       "\n",
       "    .dataframe tbody tr th {\n",
       "        vertical-align: top;\n",
       "    }\n",
       "\n",
       "    .dataframe thead th {\n",
       "        text-align: right;\n",
       "    }\n",
       "</style>\n",
       "<table border=\"1\" class=\"dataframe\">\n",
       "  <thead>\n",
       "    <tr style=\"text-align: right;\">\n",
       "      <th></th>\n",
       "      <th>Count</th>\n",
       "    </tr>\n",
       "  </thead>\n",
       "  <tbody>\n",
       "    <tr>\n",
       "      <th>0</th>\n",
       "      <td>1388</td>\n",
       "    </tr>\n",
       "  </tbody>\n",
       "</table>\n",
       "</div>"
      ],
      "text/plain": [
       "   Count\n",
       "0   1388"
      ]
     },
     "execution_count": 6,
     "metadata": {},
     "output_type": "execute_result"
    }
   ],
   "source": [
    "driver.execute_query(\n",
    "    \"\"\"\n",
    "    MATCH (n) RETURN COUNT(n) as Count\n",
    "    \"\"\",\n",
    "    database_=DATABASE,\n",
    "    routing_=RoutingControl.READ,\n",
    "    result_transformer_= lambda r: r.to_df()\n",
    ")"
   ]
  },
  {
   "cell_type": "markdown",
   "metadata": {
    "id": "cdTfdAyV2ZaR"
   },
   "source": [
    "Test whether we got our constraints"
   ]
  },
  {
   "cell_type": "code",
   "execution_count": 7,
   "metadata": {
    "id": "cdTfdAyV2ZaR"
   },
   "outputs": [],
   "source": [
    "schema_result_df  = driver.execute_query(\n",
    "    'show indexes',\n",
    "    database_=DATABASE,\n",
    "    routing_=RoutingControl.READ,\n",
    "    result_transformer_= lambda r: r.to_df()\n",
    ")"
   ]
  },
  {
   "cell_type": "code",
   "execution_count": 8,
   "metadata": {
    "id": "cdTfdAyV2ZaR"
   },
   "outputs": [
    {
     "data": {
      "text/html": [
       "<div>\n",
       "<style scoped>\n",
       "    .dataframe tbody tr th:only-of-type {\n",
       "        vertical-align: middle;\n",
       "    }\n",
       "\n",
       "    .dataframe tbody tr th {\n",
       "        vertical-align: top;\n",
       "    }\n",
       "\n",
       "    .dataframe thead th {\n",
       "        text-align: right;\n",
       "    }\n",
       "</style>\n",
       "<table border=\"1\" class=\"dataframe\">\n",
       "  <thead>\n",
       "    <tr style=\"text-align: right;\">\n",
       "      <th></th>\n",
       "      <th>id</th>\n",
       "      <th>name</th>\n",
       "      <th>state</th>\n",
       "      <th>populationPercent</th>\n",
       "      <th>type</th>\n",
       "      <th>entityType</th>\n",
       "      <th>labelsOrTypes</th>\n",
       "      <th>properties</th>\n",
       "      <th>indexProvider</th>\n",
       "      <th>owningConstraint</th>\n",
       "      <th>lastRead</th>\n",
       "      <th>readCount</th>\n",
       "    </tr>\n",
       "  </thead>\n",
       "  <tbody>\n",
       "    <tr>\n",
       "      <th>0</th>\n",
       "      <td>6</td>\n",
       "      <td>chunk-embeddings</td>\n",
       "      <td>ONLINE</td>\n",
       "      <td>100.0</td>\n",
       "      <td>VECTOR</td>\n",
       "      <td>NODE</td>\n",
       "      <td>[Chunk]</td>\n",
       "      <td>[embedding]</td>\n",
       "      <td>vector-2.0</td>\n",
       "      <td>None</td>\n",
       "      <td>2025-05-16T10:47:05.495000000+00:00</td>\n",
       "      <td>128</td>\n",
       "    </tr>\n",
       "    <tr>\n",
       "      <th>1</th>\n",
       "      <td>7</td>\n",
       "      <td>definition-embeddings</td>\n",
       "      <td>ONLINE</td>\n",
       "      <td>100.0</td>\n",
       "      <td>VECTOR</td>\n",
       "      <td>NODE</td>\n",
       "      <td>[Definition]</td>\n",
       "      <td>[embedding]</td>\n",
       "      <td>vector-2.0</td>\n",
       "      <td>None</td>\n",
       "      <td>2025-05-16T10:47:05.506000000+00:00</td>\n",
       "      <td>752</td>\n",
       "    </tr>\n",
       "    <tr>\n",
       "      <th>2</th>\n",
       "      <td>0</td>\n",
       "      <td>index_343aff4e</td>\n",
       "      <td>ONLINE</td>\n",
       "      <td>100.0</td>\n",
       "      <td>LOOKUP</td>\n",
       "      <td>NODE</td>\n",
       "      <td>None</td>\n",
       "      <td>None</td>\n",
       "      <td>token-lookup-1.0</td>\n",
       "      <td>None</td>\n",
       "      <td>2025-05-16T10:47:42.559000000+00:00</td>\n",
       "      <td>7212</td>\n",
       "    </tr>\n",
       "    <tr>\n",
       "      <th>3</th>\n",
       "      <td>1</td>\n",
       "      <td>index_f7700477</td>\n",
       "      <td>ONLINE</td>\n",
       "      <td>100.0</td>\n",
       "      <td>LOOKUP</td>\n",
       "      <td>RELATIONSHIP</td>\n",
       "      <td>None</td>\n",
       "      <td>None</td>\n",
       "      <td>token-lookup-1.0</td>\n",
       "      <td>None</td>\n",
       "      <td>2025-05-16T10:45:38.133000000+00:00</td>\n",
       "      <td>146</td>\n",
       "    </tr>\n",
       "    <tr>\n",
       "      <th>4</th>\n",
       "      <td>2</td>\n",
       "      <td>unique_chunk</td>\n",
       "      <td>ONLINE</td>\n",
       "      <td>100.0</td>\n",
       "      <td>RANGE</td>\n",
       "      <td>NODE</td>\n",
       "      <td>[Chunk]</td>\n",
       "      <td>[id]</td>\n",
       "      <td>range-1.0</td>\n",
       "      <td>unique_chunk</td>\n",
       "      <td>2025-05-16T10:02:22.855000000+00:00</td>\n",
       "      <td>7026</td>\n",
       "    </tr>\n",
       "    <tr>\n",
       "      <th>5</th>\n",
       "      <td>4</td>\n",
       "      <td>unique_document</td>\n",
       "      <td>ONLINE</td>\n",
       "      <td>100.0</td>\n",
       "      <td>RANGE</td>\n",
       "      <td>NODE</td>\n",
       "      <td>[Document]</td>\n",
       "      <td>[id]</td>\n",
       "      <td>range-1.0</td>\n",
       "      <td>unique_document</td>\n",
       "      <td>2025-05-15T09:24:03.456000000+00:00</td>\n",
       "      <td>625</td>\n",
       "    </tr>\n",
       "  </tbody>\n",
       "</table>\n",
       "</div>"
      ],
      "text/plain": [
       "   id                   name   state  populationPercent    type    entityType  \\\n",
       "0   6       chunk-embeddings  ONLINE              100.0  VECTOR          NODE   \n",
       "1   7  definition-embeddings  ONLINE              100.0  VECTOR          NODE   \n",
       "2   0         index_343aff4e  ONLINE              100.0  LOOKUP          NODE   \n",
       "3   1         index_f7700477  ONLINE              100.0  LOOKUP  RELATIONSHIP   \n",
       "4   2           unique_chunk  ONLINE              100.0   RANGE          NODE   \n",
       "5   4        unique_document  ONLINE              100.0   RANGE          NODE   \n",
       "\n",
       "  labelsOrTypes   properties     indexProvider owningConstraint  \\\n",
       "0       [Chunk]  [embedding]        vector-2.0             None   \n",
       "1  [Definition]  [embedding]        vector-2.0             None   \n",
       "2          None         None  token-lookup-1.0             None   \n",
       "3          None         None  token-lookup-1.0             None   \n",
       "4       [Chunk]         [id]         range-1.0     unique_chunk   \n",
       "5    [Document]         [id]         range-1.0  unique_document   \n",
       "\n",
       "                              lastRead  readCount  \n",
       "0  2025-05-16T10:47:05.495000000+00:00        128  \n",
       "1  2025-05-16T10:47:05.506000000+00:00        752  \n",
       "2  2025-05-16T10:47:42.559000000+00:00       7212  \n",
       "3  2025-05-16T10:45:38.133000000+00:00        146  \n",
       "4  2025-05-16T10:02:22.855000000+00:00       7026  \n",
       "5  2025-05-15T09:24:03.456000000+00:00        625  "
      ]
     },
     "execution_count": 8,
     "metadata": {},
     "output_type": "execute_result"
    }
   ],
   "source": [
    "schema_result_df.head(100)"
   ]
  },
  {
   "cell_type": "markdown",
   "metadata": {},
   "source": [
    "## Agents with GraphRAG"
   ]
  },
  {
   "cell_type": "markdown",
   "metadata": {},
   "source": [
    "### Lets create a Retrieval agent"
   ]
  },
  {
   "cell_type": "code",
   "execution_count": 9,
   "metadata": {},
   "outputs": [],
   "source": [
    "client = OpenAI()"
   ]
  },
  {
   "cell_type": "code",
   "execution_count": 10,
   "metadata": {},
   "outputs": [],
   "source": [
    "llm = ChatOpenAI(model_name=LLM, temperature=0)"
   ]
  },
  {
   "cell_type": "code",
   "execution_count": 11,
   "metadata": {},
   "outputs": [
    {
     "data": {
      "text/plain": [
       "'gpt-4o'"
      ]
     },
     "execution_count": 11,
     "metadata": {},
     "output_type": "execute_result"
    }
   ],
   "source": [
    "llm.model_name"
   ]
  },
  {
   "cell_type": "code",
   "execution_count": 12,
   "metadata": {},
   "outputs": [],
   "source": [
    "embedding_model = OpenAIEmbeddings(\n",
    "    model=EMBEDDINGS_MODEL,\n",
    "    openai_api_key=OPENAI_API_KEY\n",
    ")"
   ]
  },
  {
   "cell_type": "code",
   "execution_count": 13,
   "metadata": {},
   "outputs": [
    {
     "data": {
      "text/plain": [
       "'text-embedding-ada-002'"
      ]
     },
     "execution_count": 13,
     "metadata": {},
     "output_type": "execute_result"
    }
   ],
   "source": [
    "embedding_model.model"
   ]
  },
  {
   "cell_type": "markdown",
   "metadata": {},
   "source": [
    "### Tool 1 - Retrieve Products"
   ]
  },
  {
   "cell_type": "markdown",
   "metadata": {},
   "source": [
    "Define a function that retrieves products from the Database"
   ]
  },
  {
   "cell_type": "code",
   "execution_count": 14,
   "metadata": {},
   "outputs": [],
   "source": [
    "def retrieve_products() -> pd.DataFrame:\n",
    "    \"\"\"Retrieve the products in the database. Products are specified with name. \"\"\"\n",
    "    return driver.execute_query(\n",
    "        \"\"\"\n",
    "        MATCH (p:ProductType)\n",
    "        RETURN p.name as name\n",
    "        \"\"\",\n",
    "        database_=DATABASE,\n",
    "        routing_=RoutingControl.READ,\n",
    "        result_transformer_= lambda r: r.to_df(),\n",
    "    )['name'].tolist()"
   ]
  },
  {
   "cell_type": "code",
   "execution_count": 15,
   "metadata": {},
   "outputs": [
    {
     "data": {
      "text/plain": [
       "['SpaarRekening',\n",
       " 'DirectRekening',\n",
       " 'Kortlopende Reis',\n",
       " 'BeleggersRekening',\n",
       " 'RaboBusiness Banking']"
      ]
     },
     "execution_count": 15,
     "metadata": {},
     "output_type": "execute_result"
    }
   ],
   "source": [
    "retrieve_products()"
   ]
  },
  {
   "cell_type": "markdown",
   "metadata": {},
   "source": [
    "### Tool 2 - Map Products to Database"
   ]
  },
  {
   "cell_type": "markdown",
   "metadata": {},
   "source": [
    "To map a product from some a question we need to map it to the database."
   ]
  },
  {
   "cell_type": "code",
   "execution_count": 16,
   "metadata": {},
   "outputs": [],
   "source": [
    "map_products_prompt = \"\"\"\n",
    "As an intelligent assistant, your primary objective is to map a product name to product names in the database.\n",
    "\n",
    "Examples:\n",
    "#####\n",
    "Product: savings account. \n",
    "Database Products: ['SpaarRekening', 'DirectRekening', 'Kortlopende Reis', 'BeleggersRekening', 'RaboBusiness Banking']\n",
    "Assistant: Product: SpaarRekening\n",
    "#####\n",
    "#####\n",
    "Product: Direct Rekening. \n",
    "Database Products: ['SpaarRekening', 'DirectRekening', 'Kortlopende Reis', 'BeleggersRekening', 'RaboBusiness Banking']Assistant: Customer: Jan Blok\n",
    "Assistant: Product: DirectRekening\n",
    "\n",
    "#####\n",
    "#####\n",
    "Product: Reis verzekering. \n",
    "Database Products: ['SpaarRekening', 'DirectRekening', 'Kortlopende Reis', 'BeleggersRekening', 'RaboBusiness Banking']Assistant: Customer: Jan Blok\n",
    "Assistant: Product: Kortlopende Reis\n",
    "#####\n",
    "\"\"\""
   ]
  },
  {
   "cell_type": "code",
   "execution_count": 17,
   "metadata": {},
   "outputs": [],
   "source": [
    "def map_product_to_database_products(product) -> str:\n",
    "    \"\"\"Map products from the user question to the actual products in the database.\"\"\"\n",
    "\n",
    "    response = client.beta.chat.completions.parse(\n",
    "        model=LLM,\n",
    "        temperature=0,\n",
    "        messages=[\n",
    "            {\"role\": \"system\", \"content\": map_products_prompt},\n",
    "            {\"role\": \"user\", \"content\": \"Product: \" + product},\n",
    "            {\"role\": \"user\", \"content\": \"Database Products: \" + str(retrieve_products())},\n",
    "            \n",
    "        ],\n",
    "#        response_format=DefinitionList,\n",
    "    )\n",
    "    return response.choices[0].message.content "
   ]
  },
  {
   "cell_type": "code",
   "execution_count": 18,
   "metadata": {},
   "outputs": [
    {
     "data": {
      "text/plain": [
       "'Product: SpaarRekening'"
      ]
     },
     "execution_count": 18,
     "metadata": {},
     "output_type": "execute_result"
    }
   ],
   "source": [
    "map_product_to_database_products('savings account')"
   ]
  },
  {
   "cell_type": "markdown",
   "metadata": {},
   "source": [
    "### Tool 3 - Retrieve product documents"
   ]
  },
  {
   "cell_type": "markdown",
   "metadata": {},
   "source": [
    "Define a function that retrieves a document from a specific product"
   ]
  },
  {
   "cell_type": "code",
   "execution_count": 19,
   "metadata": {},
   "outputs": [],
   "source": [
    "def retrieve_document_from_product(product_name) -> pd.DataFrame:\n",
    "    \"\"\"Retrieve the documents of products in the database. Products are specified with their name. \"\"\"\n",
    "    return driver.execute_query(\n",
    "        \"\"\"\n",
    "        MATCH (p:ProductType)<-[:RELATED_TO]-(d:Document)\n",
    "        WHERE LOWER(p.name) = LOWER($product_name)\n",
    "        RETURN d.file_name\n",
    "        \"\"\",\n",
    "        database_=DATABASE,\n",
    "        routing_=RoutingControl.READ,\n",
    "        product_name = product_name,\n",
    "        result_transformer_= lambda r: r.to_df(),\n",
    "    ).iloc[0]['d.file_name']"
   ]
  },
  {
   "cell_type": "code",
   "execution_count": 20,
   "metadata": {},
   "outputs": [
    {
     "data": {
      "text/plain": [
       "'Rabo SpaarRekening 2020.pdf'"
      ]
     },
     "execution_count": 20,
     "metadata": {},
     "output_type": "execute_result"
    }
   ],
   "source": [
    "retrieve_document_from_product('SpaarRekening')"
   ]
  },
  {
   "cell_type": "markdown",
   "metadata": {},
   "source": [
    "### Tool 4 - GraphRAG Document Search"
   ]
  },
  {
   "cell_type": "markdown",
   "metadata": {},
   "source": [
    "The following function performs GraphRAG but only on a specific document."
   ]
  },
  {
   "cell_type": "code",
   "execution_count": 21,
   "metadata": {},
   "outputs": [],
   "source": [
    "def get_context_graphrag(search_prompt, document):\n",
    "    query_vector = embedding_model.embed_query(search_prompt)\n",
    "\n",
    "    similarity_query = \"\"\" \n",
    "        CALL db.index.vector.queryNodes(\"chunk-embeddings\", 30, $query_vector) YIELD node, score\n",
    "        WITH node as chunk, score ORDER BY score DESC\n",
    "        CALL (chunk) {\n",
    "            MATCH (chunk)-[r:OVERLAPPING_DEFINITIONS]-(overlapping_chunk:Chunk)\n",
    "            WHERE r.overlap > 3\n",
    "            RETURN collect(overlapping_chunk) AS overlapping_chunks\n",
    "        }\n",
    "        WITH [chunk] + overlapping_chunks AS chunks\n",
    "        UNWIND chunks as chunk\n",
    "        MATCH (d:Document{file_name: $document})<-[:PART_OF]-(chunk)\n",
    "        RETURN d.file_name as file_name, chunk.id as chunk_id, chunk.page as page, chunk.chunk_eng AS chunk\n",
    "       \"\"\"\n",
    "    results_1 = driver.execute_query(\n",
    "        similarity_query,\n",
    "        database_=DATABASE,\n",
    "        routing_=RoutingControl.READ,\n",
    "        query_vector=query_vector,\n",
    "        document=document,\n",
    "        result_transformer_= lambda r: r.to_df()\n",
    "    )\n",
    "\n",
    "    chunk_ids = list(set(results_1['chunk_id'].to_list()))\n",
    "\n",
    "    definition_query = \"\"\"    \n",
    "       CALL db.index.vector.queryNodes(\"definition-embeddings\", 5, $query_vector) YIELD node, score\n",
    "            WITH node as definition, score ORDER BY score DESC\n",
    "            WHERE definition.degree < 20\n",
    "            WITH definition LIMIT 1\n",
    "            MATCH (definition)<-[:MENTIONS]-(chunk:Chunk)\n",
    "            WHERE NOT (chunk.id IN $chunk_ids)\n",
    "            WITH chunk LIMIT 3\n",
    "            MATCH (d:Document{file_name: $document})<-[:PART_OF]-(chunk)\n",
    "            RETURN d.file_name as file_name, chunk.id as chunk_id, chunk.page as page, chunk.chunk_eng AS chunk\n",
    "    \"\"\"\n",
    "    results_2 = driver.execute_query(\n",
    "        definition_query,\n",
    "        database_=DATABASE,\n",
    "        routing_=RoutingControl.READ,\n",
    "        chunk_ids=chunk_ids,\n",
    "        document=document,\n",
    "        query_vector=query_vector,\n",
    "        result_transformer_= lambda r: r.to_df()\n",
    "    )\n",
    "\n",
    "    results = pd.concat([results_1,results_2]).drop_duplicates()\n",
    "    results = results.to_json(orient=\"records\")\n",
    "    parsed = loads(results)\n",
    "    context = dumps(parsed, indent=2)\n",
    "    return context"
   ]
  },
  {
   "cell_type": "code",
   "execution_count": 22,
   "metadata": {},
   "outputs": [],
   "source": [
    "def generate_prompt(search_prompt, context):\n",
    "    prompt_template = \"\"\"\n",
    "\n",
    "    You are a chatbot on Rabobank product. Your goal is to help people with questions on product policies.  \n",
    "    A user will come to you with questions on their policy. Their questions must be answered based on the relevant documents of the policy.\n",
    "    Respond in English. \n",
    "\n",
    "    The question is the following: \n",
    "    {search_prompt}\n",
    "    \n",
    "    Always respond in the language in which the question was asked. So, do not respond in a different language.\n",
    "    \n",
    "    The context is the following: \n",
    "    {context}\n",
    "\n",
    "    Please explain your answer as thorough as possbile based on the context above. Don't come up with anything yourself.\n",
    "    \n",
    "    Please end your message with listing your sources with file name and page number. \n",
    "    \"\"\"\n",
    "    prompt = PromptTemplate.from_template(prompt_template)\n",
    "    \n",
    "    theprompt = prompt.format_prompt(search_prompt=search_prompt, context=context)\n",
    "    return theprompt"
   ]
  },
  {
   "cell_type": "code",
   "execution_count": 23,
   "metadata": {},
   "outputs": [],
   "source": [
    "context = get_context_graphrag(\"What are the rules for shared savings account?\", \"Rabo SpaarRekening 2020.pdf\")"
   ]
  },
  {
   "cell_type": "code",
   "execution_count": 24,
   "metadata": {},
   "outputs": [
    {
     "name": "stdout",
     "output_type": "stream",
     "text": [
      "[\n",
      "  {\n",
      "    \"file_name\": \"Rabo SpaarRekening 2020.pdf\",\n",
      "    \"chunk_id\": 79,\n",
      "    \"page\": 10,\n",
      "    \"chunk\": \"You must comply with these.  \\n5 For (the use of) an online service, the instructions and regulations included in the general terms and conditions applicable to that online service apply.  \\n20. Bankruptcy, suspension of payments, statutory debt restructuring, and seizure  \\n1 If you are bankrupt or in statutory debt restructuring, you may no longer use the savings account. If the court grants you a suspension of payments, the law refers to this as suspension of payments. You may then no longer use the savings account alone, but only together with your administrator.  \\n2 Is the savings account held by multiple account holders and does one or more of the account holders experience one of the cases mentioned in paragraph 1? Then none of you may use the savings account anymore. We reserve the right to offset a debt that one of you owes us with the balance.  \\n3 If the savings account is seized, you may no longer use the part of the balance that is seized.\"\n",
      "  },\n",
      "  {\n",
      "    \"file_name\": \"Rabo SpaarRekening 2020.pdf\",\n",
      "    \"chunk_id\": 68,\n",
      "    \"page\": 8,\n",
      "    \"chunk\": \"Page 9/14\\nGeneral Terms and Conditions Rabo Savings Account 2020 November 2023\\n11. Savings account with multiple account holders\\n 1  If the savings account has multiple account holders, it is a joint account. This is only different if we have agreed with you that it is a joint-and account. The following rules apply to both a joint account and a joint-and account.\\n 2  We only need to inform one account holder. This can be done either in writing or electronically. You must immediately inform each other of any information we provide to one of you. Each of you is bound by the information we have given to one of you. This also applies if the account holders do not live at the same address. In that case, we send the information to the address you have provided to us.\\n 3  If you inform us or make a notification to us, we assume that you are doing so on behalf of the other account holder(s) as well.\"\n",
      "  },\n",
      "  {\n",
      "    \"file_name\": \"Rabo SpaarRekening 2020.pdf\",\n",
      "    \"chunk_id\": 57,\n",
      "    \"page\": 4,\n",
      "    \"chunk\": \"Terms and Conditions  \\nRabo Savings Account  \\n2020\"\n",
      "  },\n",
      "  {\n",
      "    \"file_name\": \"Rabo SpaarRekening 2020.pdf\",\n",
      "    \"chunk_id\": 46,\n",
      "    \"page\": 0,\n",
      "    \"chunk\": \"Rabo \\nSavings Account 2020\"\n",
      "  },\n",
      "  {\n",
      "    \"file_name\": \"Rabo SpaarRekening 2020.pdf\",\n",
      "    \"chunk_id\": 69,\n",
      "    \"page\": 8,\n",
      "    \"chunk\": \"account holder(s) does.\\n4 If an account holder dies, their heirs may only use the savings account together in their place and perform other (legal) actions related to the savings account. They may, for example, jointly inform us that an and/or account should become an and account.\\n12. And/or account\\nThe following rules also apply to an and/or account.\\n1 You may use the savings account separately. This also applies after the death of one of the account holders. And if a judge places an account holder under guardianship or conservatorship. Each account holder may also separately perform other (legal) actions related to the savings account. Examples include:\\n\\u2022 granting a power of attorney\\n\\u2022 notifying a change of address\\n\\u2022 terminating the agreement.\\nThe cooperation of the other account holder(s) is not required for this. All account holders are bound by these (legal) actions.\"\n",
      "  },\n",
      "  {\n",
      "    \"file_name\": \"Rabo SpaarRekening 2020.pdf\",\n",
      "    \"chunk_id\": 71,\n",
      "    \"page\": 8,\n",
      "    \"chunk\": \"to give to another.\\n13. Joint Account\\n  Is the savings account a joint account? Then you may only use the savings account together. Furthermore, the rules \\nstated in article 11 of these general terms and conditions apply.\\n14. Converting a Joint-and/Or Account to a Joint Account\\n Do you no longer want another account holder to use the joint-and/or account separately? Then you can do the following:\\n 1  Inform us that you want the other account holder to no longer use the savings account without your \\ncooperation. Then the savings account becomes a joint account. Note: you may also no longer use the savings account \\nwithout the cooperation of the other account holder(s). The account holders may only do this together. Instructions given to us before or shortly after the joint-and/or account is converted to a joint account may be executed by us if we can no longer prevent this.\\n3. General Provisions\"\n",
      "  },\n",
      "  {\n",
      "    \"file_name\": \"Rabo SpaarRekening 2020.pdf\",\n",
      "    \"chunk_id\": 70,\n",
      "    \"page\": 8,\n",
      "    \"chunk\": \"to these (legal) actions.  \\n2 The cooperation of all account holders is necessary to change the account holders.  \\n   We may, if we find it necessary, require the cooperation of all account holders for the use of the savings account or the performance of other legal actions. We may also convert an and/or account into an and account if we find it necessary.  \\n3 If the balance falls within a community, what is stated in paragraph 1 applies. This also applies if the community is dissolved or divided.  \\n4 In some cases, the law states that account holders must grant each other power of attorney to use the savings account individually. This also includes acts of disposition. By entering into the agreement, you grant each other this power of attorney. This power of attorney does not end if an account holder dies. Nor if a judge places an account holder under guardianship or administration. You may grant this power of attorney to another person.  \\n13. And-account\"\n",
      "  },\n",
      "  {\n",
      "    \"file_name\": \"Rabo SpaarRekening 2020.pdf\",\n",
      "    \"chunk_id\": 82,\n",
      "    \"page\": 11,\n",
      "    \"chunk\": \"Page 12/14\\nGeneral Terms and Conditions Rabo Savings Account 2020 November 2023\\n2 You must check the information as soon as possible after receipt. Can you use an online service for the savings account? Then you must regularly, but at least once every two weeks, check if there is electronic information. Do you see that there is electronic information? Then you must check it as soon as possible.\\n3 Is there something incorrect in the information? Do you think information is missing? Then you must let us know immediately.\\n4 Have you not responded to this information within thirteen months after the information has been made available to you? Then we are not obliged to make corrections anymore. After that period, we do not have to correct the savings account, for example, if an amount has been wrongly debited from the savings account. After that period, the content of that information is considered to have been approved by you.\\n5 We may always correct errors.\"\n",
      "  },\n",
      "  {\n",
      "    \"file_name\": \"Rabo SpaarRekening 2020.pdf\",\n",
      "    \"chunk_id\": 63,\n",
      "    \"page\": 6,\n",
      "    \"chunk\": \"2. Provisions for the \\nsavings account\\nGeneral terms and conditions Rabo Savings Account 2020 November 2023\"\n",
      "  },\n",
      "  {\n",
      "    \"file_name\": \"Rabo SpaarRekening 2020.pdf\",\n",
      "    \"chunk_id\": 78,\n",
      "    \"page\": 10,\n",
      "    \"chunk\": \"representative.\\n19. How you can use the savings account\\n 1 You can use the savings account. We determine how and with which means. You must use the means we have provided you. Means include forms, cards, codes, tools, software, and/or other items. You are responsible for this and for their use.\\n 2 Are you no longer allowed to use the savings account (alone)? Then you must immediately return all means to us.\\n 3 We are not required to execute transfer orders if the balance is insufficient. Or if we have reserved an amount for the execution of another transfer order, making the balance insufficient to execute the transfer order. We may also refuse to allow you to use the savings account if we deem it necessary.\\n 4 We may give instructions and regulations. For example, for the use of the savings account. You must comply with these.\"\n",
      "  },\n",
      "  {\n",
      "    \"file_name\": \"Rabo SpaarRekening 2020.pdf\",\n",
      "    \"chunk_id\": 60,\n",
      "    \"page\": 6,\n",
      "    \"chunk\": \"Page 7/14\\n2. Purpose of the savings account\\n 1 The savings account is intended for saving. You may not use the savings account for payment transactions.\\n 2 You may only use the savings account for private purposes.\\n3. Cash deposits and withdrawals\\n  You may deposit cash into the savings account. You may also withdraw cash from the savings account. We may impose conditions and restrictions on this. The option to deposit cash will be discontinued in mid-2020.\\n Check the website for the current status.\\n4. Number of accounts\\n We may determine how many Rabo Savings Accounts you may hold with us.\\n \\n5. Transferring to the savings account\\n 1 You can transfer amounts to the savings account.\\n 2 You can transfer amounts from an account at another bank to the savings account. This is possible if amounts can be transferred from that other bank to the savings account.\\n 3 We can determine that you may no longer transfer money to the account. We determine how long this lasts.\"\n",
      "  },\n",
      "  {\n",
      "    \"file_name\": \"Rabo SpaarRekening 2020.pdf\",\n",
      "    \"chunk_id\": 55,\n",
      "    \"page\": 3,\n",
      "    \"chunk\": \"Rabobank. We will then directly offset any interest payable with your balance.\\nDo you pay tax on your savings?\\nThe balance on your Rabo Savings Account on January 1 is an asset in box 3. Annually, you must pay capital gains tax on your net assets (assets minus liabilities) on January 1. You only need to pay this tax if your net assets exceed the tax-free allowance that applies. The tax-free allowance is the portion of the box 3 assets on which no tax is levied. More information about this can be found on the website of the Tax Authorities.\\nIs the savings account in the name of a minor child? Then the balance of the savings account is (fiscally) attributed to (at least one of) the parents.\\nDeposit Guarantee Scheme\\nYour balance on the Rabo Savings Account is covered by the Deposit Guarantee Scheme. We inform you about the Deposit Guarantee Scheme through the\"\n",
      "  },\n",
      "  {\n",
      "    \"file_name\": \"Rabo SpaarRekening 2020.pdf\",\n",
      "    \"chunk_id\": 72,\n",
      "    \"page\": 9,\n",
      "    \"chunk\": \"Page 10/14\\nGeneral Terms and Conditions Rabo Savings Account 2020 November 2023\\n2 This notification has another consequence. Only the authorizations given by all account holders together remain valid, all other authorizations expire.\\n3 After your death, your heirs may also make such a notification to us. With the same consequences.\\n15. Authorization to a third party\\n1 You may give someone else permission to use the savings account on your behalf. This permission is called authorization. The person to whom you give this permission is the authorized representative. We may impose conditions on this authorization. We are not obliged to accept an authorization. Nor are we obliged to allow the authorized representative to use the savings account.\\n2 The rules that apply to you also apply to the authorized representative. This also applies to the instructions and regulations. We may also issue rules, instructions, and regulations specifically for the\"\n",
      "  },\n",
      "  {\n",
      "    \"file_name\": \"Rabo SpaarRekening 2020.pdf\",\n",
      "    \"chunk_id\": 77,\n",
      "    \"page\": 10,\n",
      "    \"chunk\": \"Page 11/14\\nGeneral Terms and Conditions Rabo Savings Account 2020 November 2023\\n3 The articles 15 and 16 apply - insofar as applicable - also to someone else acting on your behalf. \\nWhere we refer to 'authorized representative', we mean the person acting on your behalf based on the law.\\n18. Minor account holder\\n1 If the account holder is a minor, the account holder is not allowed to use the savings account independently. \\nNor is he allowed to independently perform legal acts concerning the savings account.\\nThe account holder will then be represented by a legal representative.\\n2 Do we use the word 'you' or 'account holder' in the agreement or in these general terms and conditions? Then \\nwe also mean a minor account holder, possibly represented by a legal representative.\\n19. How you can use the savings account\"\n",
      "  },\n",
      "  {\n",
      "    \"file_name\": \"Rabo SpaarRekening 2020.pdf\",\n",
      "    \"chunk_id\": 51,\n",
      "    \"page\": 2,\n",
      "    \"chunk\": \"You can choose to have the interest credited to a different account. Do you need to pay us interest? Then we will always deduct this from the savings account itself. Product features\"\n",
      "  },\n",
      "  {\n",
      "    \"file_name\": \"Rabo SpaarRekening 2020.pdf\",\n",
      "    \"chunk_id\": 47,\n",
      "    \"page\": 1,\n",
      "    \"chunk\": \"Page 2/14\\nContents\\nRabo Savings Account November 2023\\nProduct Features\\nGeneral Terms and Conditions Rabo Savings Account 2020\"\n",
      "  },\n",
      "  {\n",
      "    \"file_name\": \"Rabo SpaarRekening 2020.pdf\",\n",
      "    \"chunk_id\": 64,\n",
      "    \"page\": 7,\n",
      "    \"chunk\": \"Page 8/14 General Terms and Conditions Rabo Savings Account 2020 November 2023\\n8. Calculation and Booking of Interest\\n 1 We periodically credit the interest calculated by us on the balance to the savings account. You accrue interest on this interest from the moment it is credited. Do you have to pay us interest? Then we periodically debit the interest calculated by us on the balance from the savings account. If you withdraw funds from the savings account, you cannot withdraw the portion of the balance needed to pay the interest. We may change this at any time. We may directly offset the interest to be paid with your balance.\\n 2 Have you chosen to have the interest transferred to an interest account? Then we will transfer the interest to this interest account after it is credited.\\n 3 When an amount is credited to the savings account, we determine from which date you will receive or have to pay interest on it. When an amount is debited from the savings account, we determine until which\"\n",
      "  },\n",
      "  {\n",
      "    \"file_name\": \"Rabo SpaarRekening 2020.pdf\",\n",
      "    \"chunk_id\": 83,\n",
      "    \"page\": 12,\n",
      "    \"chunk\": \"Page 13/14\\nGeneral Terms and Conditions Rabo Savings Account 2020 November 2023\\n24. Merger, division, contract takeover or transfer\\n 1 Merger and division\\n   We can merge with another legal entity. This is called merging. We can also be divided into parts. This is called splitting. If we merge or split, our legal successors can independently and each for the whole:\\n \\u2022 exercise all rights and powers against you\\n \\u2022 fulfill all our obligations towards you.\\n 2 Contract takeover\\n   We may transfer the legal relationship with you and the associated rights, obligations, and ancillary rights to another party. This can be in whole or in part. This is called contract takeover. You are already giving us permission for this by entering into the agreement.\\n 3 Transfer\\n   We may transfer the claims against you, the rights from the agreement, and the associated ancillary rights to another party.\"\n",
      "  },\n",
      "  {\n",
      "    \"file_name\": \"Rabo SpaarRekening 2020.pdf\",\n",
      "    \"chunk_id\": 62,\n",
      "    \"page\": 6,\n",
      "    \"chunk\": \"can also be zero. The interest rate is variable. This means that we can always change the interest rate. A change can, for example, result from market conditions, developments in the money or capital market, implementation of laws and regulations, or measures from our regulators.\\n\\n2. The interest rate may depend on the amount of the balance. We may determine from which amounts a certain interest rate applies. By determining these amounts, balance tiers are created. We determine which interest rate applies to each balance tier. We may always change the balance tiers and the associated interest rate. What is stated under 1 applies here.\\n\\n3. You can find information about the interest rate and/or balance tiers on the website. In advance, you will also find information about changes to the interest rate and/or balance tiers on the website. We can also inform you about this in advance in writing or electronically. For example, if we are going to charge interest.\\n\\n2. Provisions for the savings account\"\n",
      "  }\n",
      "]\n"
     ]
    }
   ],
   "source": [
    "print(context)"
   ]
  },
  {
   "cell_type": "code",
   "execution_count": 25,
   "metadata": {},
   "outputs": [],
   "source": [
    "def perform_search_in_document(document, search_prompt) -> [str, str]:\n",
    "    \"\"\"Peform a search in the document to search relevant text to answer a user question. The document first needs to be determined before a search should be performed.\"\"\"\n",
    "    context = get_context_graphrag(document, search_prompt)\n",
    "    return context"
   ]
  },
  {
   "cell_type": "code",
   "execution_count": 26,
   "metadata": {},
   "outputs": [],
   "source": [
    "def answer_question_in_document(question, document) -> str:\n",
    "    \"\"\"This function is answering a question based on a search in a document (vector search on document). Document and question both need to be provided.\"\"\"\n",
    "    context = perform_search_in_document(question, document)\n",
    "    theprompt = generate_prompt(question, context)\n",
    "    return llm(theprompt.to_messages()).content"
   ]
  },
  {
   "cell_type": "code",
   "execution_count": 27,
   "metadata": {},
   "outputs": [
    {
     "name": "stderr",
     "output_type": "stream",
     "text": [
      "/var/folders/l0/vn55w75s41703t1w811dtf080000gp/T/ipykernel_23624/881515064.py:5: LangChainDeprecationWarning: The method `BaseChatModel.__call__` was deprecated in langchain-core 0.1.7 and will be removed in 1.0. Use :meth:`~invoke` instead.\n",
      "  return llm(theprompt.to_messages()).content\n"
     ]
    }
   ],
   "source": [
    "result = answer_question_in_document(\"What are the rules for shared savings account?\", \"Rabo SpaarRekening 2020.pdf\")"
   ]
  },
  {
   "cell_type": "code",
   "execution_count": 28,
   "metadata": {},
   "outputs": [
    {
     "name": "stdout",
     "output_type": "stream",
     "text": [
      "The rules for a shared savings account, as outlined in the provided context, are as follows:\n",
      "\n",
      "1. **Joint Account**: If the savings account has multiple account holders, it is considered a joint account unless otherwise agreed upon as a joint-and account. For both types of accounts, the following rules apply:\n",
      "   - Only one account holder needs to be informed about account matters, and it is their responsibility to inform the other account holders. This applies even if the account holders do not live at the same address (Rabo SpaarRekening 2020.pdf, page 8, chunk 68).\n",
      "   - If an account holder dies, their heirs can use the account together in their place (Rabo SpaarRekening 2020.pdf, page 8, chunk 69).\n",
      "\n",
      "2. **And/Or Account**: \n",
      "   - Account holders can use the savings account separately, even after the death of one of the account holders or if a judge places an account holder under guardianship or conservatorship. Each account holder can perform legal actions related to the savings account independently, such as granting a power of attorney, notifying a change of address, or terminating the agreement (Rabo SpaarRekening 2020.pdf, page 8, chunk 69).\n",
      "   - The cooperation of all account holders is necessary to change the account holders. The bank may require the cooperation of all account holders for certain actions and may convert an and/or account into an and account if deemed necessary (Rabo SpaarRekening 2020.pdf, page 8, chunk 70).\n",
      "\n",
      "3. **Joint Account Usage**: \n",
      "   - For a joint account, all account holders must use the account together. The rules stated in article 11 of the general terms and conditions apply (Rabo SpaarRekening 2020.pdf, page 8, chunk 71).\n",
      "\n",
      "4. **Converting Accounts**: \n",
      "   - If account holders no longer want another account holder to use the joint-and/or account separately, they can inform the bank to convert it to a joint account. After conversion, the account can only be used with the cooperation of all account holders (Rabo SpaarRekening 2020.pdf, page 8, chunk 71).\n",
      "\n",
      "These rules ensure that all account holders are informed and agree on the usage of the shared savings account, providing a framework for managing the account collectively or individually, depending on the account type.\n",
      "\n",
      "**Sources:**\n",
      "- Rabo SpaarRekening 2020.pdf, page 8, chunk 68\n",
      "- Rabo SpaarRekening 2020.pdf, page 8, chunk 69\n",
      "- Rabo SpaarRekening 2020.pdf, page 8, chunk 70\n",
      "- Rabo SpaarRekening 2020.pdf, page 8, chunk 71\n"
     ]
    }
   ],
   "source": [
    "print(result)"
   ]
  },
  {
   "cell_type": "markdown",
   "metadata": {},
   "source": [
    "### Tool 5 - Retrieve products from Customer"
   ]
  },
  {
   "cell_type": "markdown",
   "metadata": {},
   "source": [
    "Define a function that retrieves the products from a customer"
   ]
  },
  {
   "cell_type": "code",
   "execution_count": 29,
   "metadata": {},
   "outputs": [],
   "source": [
    "def retrieve_products_of_customers(customer_id) -> pd.DataFrame:\n",
    "    \"\"\"Retrieve the products of a customer in the database. Customers are specified with their id. \"\"\"\n",
    "    return driver.execute_query(\n",
    "        \"\"\"\n",
    "        MATCH (c:Customer)-[:HAS_PRODUCT]->(p:Product)\n",
    "        WHERE c.id = $customer_id\n",
    "        RETURN p.id as product_id, p.name as product_name\n",
    "        \"\"\",\n",
    "        database_=DATABASE,\n",
    "        routing_=RoutingControl.READ,\n",
    "        customer_id = customer_id,\n",
    "        result_transformer_= lambda r: r.to_df(),\n",
    "    )"
   ]
  },
  {
   "cell_type": "code",
   "execution_count": 30,
   "metadata": {},
   "outputs": [
    {
     "data": {
      "text/html": [
       "<div>\n",
       "<style scoped>\n",
       "    .dataframe tbody tr th:only-of-type {\n",
       "        vertical-align: middle;\n",
       "    }\n",
       "\n",
       "    .dataframe tbody tr th {\n",
       "        vertical-align: top;\n",
       "    }\n",
       "\n",
       "    .dataframe thead th {\n",
       "        text-align: right;\n",
       "    }\n",
       "</style>\n",
       "<table border=\"1\" class=\"dataframe\">\n",
       "  <thead>\n",
       "    <tr style=\"text-align: right;\">\n",
       "      <th></th>\n",
       "      <th>product_id</th>\n",
       "      <th>product_name</th>\n",
       "    </tr>\n",
       "  </thead>\n",
       "  <tbody>\n",
       "    <tr>\n",
       "      <th>0</th>\n",
       "      <td>ef31587f-5c96-4ab2-99e6-99f3b6fa88e8</td>\n",
       "      <td>DirectRekening Product</td>\n",
       "    </tr>\n",
       "    <tr>\n",
       "      <th>1</th>\n",
       "      <td>f64aae41-23d9-45d7-9310-48c7a1fd158b</td>\n",
       "      <td>RaboBusiness Banking Product</td>\n",
       "    </tr>\n",
       "    <tr>\n",
       "      <th>2</th>\n",
       "      <td>576fd5fe-5d27-424a-865f-56617a2955a7</td>\n",
       "      <td>Kortlopende Reis Product</td>\n",
       "    </tr>\n",
       "  </tbody>\n",
       "</table>\n",
       "</div>"
      ],
      "text/plain": [
       "                             product_id                  product_name\n",
       "0  ef31587f-5c96-4ab2-99e6-99f3b6fa88e8        DirectRekening Product\n",
       "1  f64aae41-23d9-45d7-9310-48c7a1fd158b  RaboBusiness Banking Product\n",
       "2  576fd5fe-5d27-424a-865f-56617a2955a7      Kortlopende Reis Product"
      ]
     },
     "execution_count": 30,
     "metadata": {},
     "output_type": "execute_result"
    }
   ],
   "source": [
    "retrieve_products_of_customers(16)"
   ]
  },
  {
   "cell_type": "markdown",
   "metadata": {},
   "source": [
    "### Tool 6 - Retrieve information from a product"
   ]
  },
  {
   "cell_type": "markdown",
   "metadata": {},
   "source": [
    "Function retrieving all properties of a product"
   ]
  },
  {
   "cell_type": "code",
   "execution_count": 31,
   "metadata": {},
   "outputs": [],
   "source": [
    "def retrieve_information_from_product(product_id) -> pd.DataFrame:\n",
    "    \"\"\"Retrieve the information of a product in the database. Product is specified with id.\"\"\"\n",
    "    result = driver.execute_query(\n",
    "        \"\"\"\n",
    "       MATCH (p:Product{id: $product_id})\n",
    "        RETURN properties(p) as props\n",
    "        \"\"\",\n",
    "        database_=DATABASE,\n",
    "        routing_=RoutingControl.READ,\n",
    "        product_id = product_id,\n",
    "        result_transformer_= lambda r: r.to_df(),\n",
    "    )\n",
    "    return result.iloc[0]['props']"
   ]
  },
  {
   "cell_type": "code",
   "execution_count": 32,
   "metadata": {},
   "outputs": [
    {
     "data": {
      "text/plain": [
       "{'id': 'ef31587f-5c96-4ab2-99e6-99f3b6fa88e8',\n",
       " 'expirationDate': neo4j.time.Date(2020, 4, 1),\n",
       " 'name': 'DirectRekening Product',\n",
       " 'iban': 'NL85RABO1352165826'}"
      ]
     },
     "execution_count": 32,
     "metadata": {},
     "output_type": "execute_result"
    }
   ],
   "source": [
    "retrieve_information_from_product(\"ef31587f-5c96-4ab2-99e6-99f3b6fa88e8\")"
   ]
  },
  {
   "cell_type": "markdown",
   "metadata": {},
   "source": [
    "### Tool 7 - Retrieve Customer ID based on full name"
   ]
  },
  {
   "cell_type": "markdown",
   "metadata": {},
   "source": [
    "Retrieve customer id from the database based on name"
   ]
  },
  {
   "cell_type": "code",
   "execution_count": 33,
   "metadata": {},
   "outputs": [],
   "source": [
    "def retrieve_customer_id_from_database_based_on_full_name(full_name) -> pd.DataFrame:\n",
    "    \"\"\"Retrieve customers from the database database based on full_name. customer_id is returned.\"\"\"\n",
    "    \n",
    "    query = \"\"\"MATCH (c:Customer) WHERE c.name = $name RETURN c.id\"\"\"\n",
    "\n",
    "    result = driver.execute_query(\n",
    "        query,\n",
    "        database_=DATABASE,\n",
    "        routing_=RoutingControl.READ,\n",
    "        name = full_name,\n",
    "        result_transformer_= lambda r: r.to_df(),\n",
    "    )\n",
    "    return result"
   ]
  },
  {
   "cell_type": "code",
   "execution_count": 34,
   "metadata": {},
   "outputs": [
    {
     "data": {
      "text/html": [
       "<div>\n",
       "<style scoped>\n",
       "    .dataframe tbody tr th:only-of-type {\n",
       "        vertical-align: middle;\n",
       "    }\n",
       "\n",
       "    .dataframe tbody tr th {\n",
       "        vertical-align: top;\n",
       "    }\n",
       "\n",
       "    .dataframe thead th {\n",
       "        text-align: right;\n",
       "    }\n",
       "</style>\n",
       "<table border=\"1\" class=\"dataframe\">\n",
       "  <thead>\n",
       "    <tr style=\"text-align: right;\">\n",
       "      <th></th>\n",
       "      <th>c.id</th>\n",
       "    </tr>\n",
       "  </thead>\n",
       "  <tbody>\n",
       "    <tr>\n",
       "      <th>0</th>\n",
       "      <td>48</td>\n",
       "    </tr>\n",
       "  </tbody>\n",
       "</table>\n",
       "</div>"
      ],
      "text/plain": [
       "   c.id\n",
       "0    48"
      ]
     },
     "execution_count": 34,
     "metadata": {},
     "output_type": "execute_result"
    }
   ],
   "source": [
    "retrieve_customer_id_from_database_based_on_full_name(\"Lucas Van den Berg\")"
   ]
  },
  {
   "cell_type": "markdown",
   "metadata": {},
   "source": [
    "## Setting up the Agent"
   ]
  },
  {
   "cell_type": "code",
   "execution_count": 35,
   "metadata": {},
   "outputs": [],
   "source": [
    "llm = ChatOpenAI(model_name=LLM, temperature=0)"
   ]
  },
  {
   "cell_type": "code",
   "execution_count": 36,
   "metadata": {},
   "outputs": [
    {
     "data": {
      "text/plain": [
       "'Hello! How can I assist you today?'"
      ]
     },
     "execution_count": 36,
     "metadata": {},
     "output_type": "execute_result"
    }
   ],
   "source": [
    "response = llm.invoke([HumanMessage(content=\"hi!\")])\n",
    "response.content"
   ]
  },
  {
   "cell_type": "code",
   "execution_count": 37,
   "metadata": {},
   "outputs": [],
   "source": [
    "tools = [\n",
    "    retrieve_products,\n",
    "    map_product_to_database_products,\n",
    "    retrieve_document_from_product,\n",
    "    answer_question_in_document,\n",
    "    retrieve_products_of_customers,\n",
    "    retrieve_information_from_product,\n",
    "    retrieve_customer_id_from_database_based_on_full_name,\n",
    "]\n",
    "\n",
    "llm_with_tools = llm.bind_tools(tools)"
   ]
  },
  {
   "cell_type": "markdown",
   "metadata": {},
   "source": [
    "## Running Agents with LangGraph"
   ]
  },
  {
   "cell_type": "markdown",
   "metadata": {},
   "source": [
    "We are creating a simple [react agent](https://langchain-ai.github.io/langgraph/reference/agents/#langgraph.prebuilt.chat_agent_executor.create_react_agent) using Langgraph "
   ]
  },
  {
   "cell_type": "code",
   "execution_count": 38,
   "metadata": {},
   "outputs": [],
   "source": [
    "agent_executor = create_react_agent(llm, tools)"
   ]
  },
  {
   "cell_type": "code",
   "execution_count": 39,
   "metadata": {},
   "outputs": [],
   "source": [
    "response = agent_executor.invoke({\"messages\": [HumanMessage(content=\"hi!\")]})"
   ]
  },
  {
   "cell_type": "code",
   "execution_count": 40,
   "metadata": {},
   "outputs": [
    {
     "data": {
      "text/plain": [
       "[HumanMessage(content='hi!', additional_kwargs={}, response_metadata={}, id='bc35a925-57b8-4840-9722-83f7c40bc960'),\n",
       " AIMessage(content='Hello! How can I assist you today?', additional_kwargs={'refusal': None}, response_metadata={'token_usage': {'completion_tokens': 11, 'prompt_tokens': 264, 'total_tokens': 275, 'completion_tokens_details': {'accepted_prediction_tokens': 0, 'audio_tokens': 0, 'reasoning_tokens': 0, 'rejected_prediction_tokens': 0}, 'prompt_tokens_details': {'audio_tokens': 0, 'cached_tokens': 0}}, 'model_name': 'gpt-4o-2024-08-06', 'system_fingerprint': 'fp_f5bdcc3276', 'finish_reason': 'stop', 'logprobs': None}, id='run-3226430e-e4c8-4ac6-8233-2f425b7e8a1d-0', usage_metadata={'input_tokens': 264, 'output_tokens': 11, 'total_tokens': 275, 'input_token_details': {'audio': 0, 'cache_read': 0}, 'output_token_details': {'audio': 0, 'reasoning': 0}})]"
      ]
     },
     "execution_count": 40,
     "metadata": {},
     "output_type": "execute_result"
    }
   ],
   "source": [
    "response[\"messages\"]"
   ]
  },
  {
   "cell_type": "markdown",
   "metadata": {},
   "source": [
    "#### Run some examples! "
   ]
  },
  {
   "cell_type": "code",
   "execution_count": 41,
   "metadata": {},
   "outputs": [],
   "source": [
    "def ask_to_agent(question):\n",
    "    for step in agent_executor.stream(\n",
    "        {\"messages\": [HumanMessage(content=question)]},\n",
    "        stream_mode=\"values\",\n",
    "    ):\n",
    "        step[\"messages\"][-1].pretty_print()"
   ]
  },
  {
   "cell_type": "code",
   "execution_count": 42,
   "metadata": {},
   "outputs": [],
   "source": [
    "question = \"What Products does Jan Kok have?\""
   ]
  },
  {
   "cell_type": "code",
   "execution_count": 43,
   "metadata": {},
   "outputs": [
    {
     "name": "stdout",
     "output_type": "stream",
     "text": [
      "================================\u001b[1m Human Message \u001b[0m=================================\n",
      "\n",
      "What Products does Jan Kok have?\n",
      "==================================\u001b[1m Ai Message \u001b[0m==================================\n",
      "\n",
      "To find out what products Jan Kok has, I first need to retrieve the customer ID for Jan Kok. Let me do that for you.\n",
      "Tool Calls:\n",
      "  retrieve_customer_id_from_database_based_on_full_name (call_Si5oYQn0T9aKjrFAhRzK8oxX)\n",
      " Call ID: call_Si5oYQn0T9aKjrFAhRzK8oxX\n",
      "  Args:\n",
      "    full_name: Jan Kok\n",
      "=================================\u001b[1m Tool Message \u001b[0m=================================\n",
      "Name: retrieve_customer_id_from_database_based_on_full_name\n",
      "\n",
      "   c.id\n",
      "0    16\n",
      "==================================\u001b[1m Ai Message \u001b[0m==================================\n",
      "Tool Calls:\n",
      "  retrieve_products_of_customers (call_qK5ZBA2NTzzxeB75pqKt8Yf4)\n",
      " Call ID: call_qK5ZBA2NTzzxeB75pqKt8Yf4\n",
      "  Args:\n",
      "    customer_id: 16\n",
      "=================================\u001b[1m Tool Message \u001b[0m=================================\n",
      "Name: retrieve_products_of_customers\n",
      "\n",
      "                             product_id                  product_name\n",
      "0  ef31587f-5c96-4ab2-99e6-99f3b6fa88e8        DirectRekening Product\n",
      "1  f64aae41-23d9-45d7-9310-48c7a1fd158b  RaboBusiness Banking Product\n",
      "2  576fd5fe-5d27-424a-865f-56617a2955a7      Kortlopende Reis Product\n",
      "==================================\u001b[1m Ai Message \u001b[0m==================================\n",
      "\n",
      "Jan Kok has the following products:\n",
      "\n",
      "1. DirectRekening Product\n",
      "2. RaboBusiness Banking Product\n",
      "3. Kortlopende Reis Product\n"
     ]
    }
   ],
   "source": [
    "ask_to_agent(question)"
   ]
  },
  {
   "cell_type": "code",
   "execution_count": 44,
   "metadata": {},
   "outputs": [],
   "source": [
    "question = \"I got a question on my savings account, what are the rules for a joint account?\""
   ]
  },
  {
   "cell_type": "code",
   "execution_count": 45,
   "metadata": {},
   "outputs": [
    {
     "name": "stdout",
     "output_type": "stream",
     "text": [
      "================================\u001b[1m Human Message \u001b[0m=================================\n",
      "\n",
      "I got a question on my savings account, what are the rules for a joint account?\n",
      "==================================\u001b[1m Ai Message \u001b[0m==================================\n",
      "Tool Calls:\n",
      "  retrieve_products (call_5ebpNXPuhWLVOZqmqZCZUUeJ)\n",
      " Call ID: call_5ebpNXPuhWLVOZqmqZCZUUeJ\n",
      "  Args:\n",
      "=================================\u001b[1m Tool Message \u001b[0m=================================\n",
      "Name: retrieve_products\n",
      "\n",
      "[\"SpaarRekening\", \"DirectRekening\", \"Kortlopende Reis\", \"BeleggersRekening\", \"RaboBusiness Banking\"]\n",
      "==================================\u001b[1m Ai Message \u001b[0m==================================\n",
      "Tool Calls:\n",
      "  map_product_to_database_products (call_dfrVKJLnoPyGkVoDPDsGmx9K)\n",
      " Call ID: call_dfrVKJLnoPyGkVoDPDsGmx9K\n",
      "  Args:\n",
      "    product: savings account\n",
      "=================================\u001b[1m Tool Message \u001b[0m=================================\n",
      "Name: map_product_to_database_products\n",
      "\n",
      "Product: SpaarRekening\n",
      "==================================\u001b[1m Ai Message \u001b[0m==================================\n",
      "Tool Calls:\n",
      "  retrieve_document_from_product (call_WxAOOCdYsKQ8mkiNzSpJJhFe)\n",
      " Call ID: call_WxAOOCdYsKQ8mkiNzSpJJhFe\n",
      "  Args:\n",
      "    product_name: SpaarRekening\n",
      "=================================\u001b[1m Tool Message \u001b[0m=================================\n",
      "Name: retrieve_document_from_product\n",
      "\n",
      "Rabo SpaarRekening 2020.pdf\n",
      "==================================\u001b[1m Ai Message \u001b[0m==================================\n",
      "Tool Calls:\n",
      "  answer_question_in_document (call_IKQd8PaNIYylRJeA4YDRbRV5)\n",
      " Call ID: call_IKQd8PaNIYylRJeA4YDRbRV5\n",
      "  Args:\n",
      "    question: What are the rules for a joint account?\n",
      "    document: Rabo SpaarRekening 2020.pdf\n",
      "=================================\u001b[1m Tool Message \u001b[0m=================================\n",
      "Name: answer_question_in_document\n",
      "\n",
      "The rules for a joint account at Rabobank, as outlined in the provided context, are as follows:\n",
      "\n",
      "1. **Joint Account Usage**: If the savings account is a joint account, it can only be used together by all account holders. This means that any actions related to the account must be agreed upon and executed by all account holders collectively. (Source: Rabo SpaarRekening 2020.pdf, page 8, chunk 71)\n",
      "\n",
      "2. **Communication and Information Sharing**: Rabobank only needs to inform one account holder about any updates or information. It is the responsibility of the informed account holder to share this information with the other account holders. All account holders are bound by the information provided to any one of them, regardless of whether they live at the same address. (Source: Rabo SpaarRekening 2020.pdf, page 8, chunk 68)\n",
      "\n",
      "3. **Termination of Agreement**: For a joint account, the agreement can only be terminated if all account holders agree to do so together. This means that no single account holder can unilaterally terminate the joint account agreement. (Source: Rabo SpaarRekening 2020.pdf, page 7, chunk 67)\n",
      "\n",
      "4. **Conversion of Account Types**: If account holders no longer want the joint-and/or account to be used separately by any account holder, they can request to convert it to a joint account. Once converted, the account can only be used with the cooperation of all account holders. (Source: Rabo SpaarRekening 2020.pdf, page 8, chunk 71)\n",
      "\n",
      "5. **Legal Actions and Power of Attorney**: In some cases, the law requires account holders to grant each other power of attorney to use the savings account individually. This power of attorney remains valid even if an account holder dies or is placed under guardianship. (Source: Rabo SpaarRekening 2020.pdf, page 8, chunk 70)\n",
      "\n",
      "These rules ensure that all account holders have equal rights and responsibilities regarding the management and use of the joint account, promoting transparency and cooperation among them.\n",
      "\n",
      "**Sources**:\n",
      "- Rabo SpaarRekening 2020.pdf, page 8, chunk 71\n",
      "- Rabo SpaarRekening 2020.pdf, page 8, chunk 68\n",
      "- Rabo SpaarRekening 2020.pdf, page 7, chunk 67\n",
      "- Rabo SpaarRekening 2020.pdf, page 8, chunk 70\n",
      "==================================\u001b[1m Ai Message \u001b[0m==================================\n",
      "\n",
      "The rules for a joint account at Rabobank are as follows:\n",
      "\n",
      "1. **Joint Account Usage**: The account can only be used collectively by all account holders. Any actions must be agreed upon and executed by all account holders together.\n",
      "\n",
      "2. **Communication and Information Sharing**: Rabobank will inform only one account holder about updates or information. It is then that account holder's responsibility to share this information with the others. All account holders are bound by the information provided to any one of them.\n",
      "\n",
      "3. **Termination of Agreement**: The joint account agreement can only be terminated if all account holders agree to do so together.\n",
      "\n",
      "4. **Conversion of Account Types**: If account holders wish to change the account from a joint-and/or account to a joint account, they can request this conversion. Once converted, the account requires cooperation from all account holders for use.\n",
      "\n",
      "5. **Legal Actions and Power of Attorney**: In some cases, account holders must grant each other power of attorney to use the account individually. This remains valid even if an account holder dies or is placed under guardianship.\n",
      "\n",
      "These rules ensure equal rights and responsibilities among all account holders, promoting transparency and cooperation.\n"
     ]
    }
   ],
   "source": [
    "ask_to_agent(question)"
   ]
  },
  {
   "cell_type": "code",
   "execution_count": 46,
   "metadata": {},
   "outputs": [],
   "source": [
    "question = \"When is my travel insurance exprired? My name is Daan Visser\""
   ]
  },
  {
   "cell_type": "code",
   "execution_count": 47,
   "metadata": {},
   "outputs": [
    {
     "name": "stdout",
     "output_type": "stream",
     "text": [
      "================================\u001b[1m Human Message \u001b[0m=================================\n",
      "\n",
      "When is my travel insurance exprired? My name is Daan Visser\n",
      "==================================\u001b[1m Ai Message \u001b[0m==================================\n",
      "Tool Calls:\n",
      "  retrieve_customer_id_from_database_based_on_full_name (call_5NsAoVkjTKZGsnkZBePAkPEY)\n",
      " Call ID: call_5NsAoVkjTKZGsnkZBePAkPEY\n",
      "  Args:\n",
      "    full_name: Daan Visser\n",
      "=================================\u001b[1m Tool Message \u001b[0m=================================\n",
      "Name: retrieve_customer_id_from_database_based_on_full_name\n",
      "\n",
      "   c.id\n",
      "0    47\n",
      "==================================\u001b[1m Ai Message \u001b[0m==================================\n",
      "Tool Calls:\n",
      "  retrieve_products_of_customers (call_nzTddoZv8cvuPt8FF3byaizW)\n",
      " Call ID: call_nzTddoZv8cvuPt8FF3byaizW\n",
      "  Args:\n",
      "    customer_id: 47\n",
      "=================================\u001b[1m Tool Message \u001b[0m=================================\n",
      "Name: retrieve_products_of_customers\n",
      "\n",
      "                             product_id                  product_name\n",
      "0  5494327a-a164-43c0-99b6-bc9c837cca25      Kortlopende Reis Product\n",
      "1  f7f36635-926e-4dda-9790-0b43d7df4290        DirectRekening Product\n",
      "2  e155a521-bc1c-4725-8390-9a3da0f1790e  RaboBusiness Banking Product\n",
      "==================================\u001b[1m Ai Message \u001b[0m==================================\n",
      "Tool Calls:\n",
      "  retrieve_information_from_product (call_djRw5jmguOCySky2aYJy9Dqa)\n",
      " Call ID: call_djRw5jmguOCySky2aYJy9Dqa\n",
      "  Args:\n",
      "    product_id: 5494327a-a164-43c0-99b6-bc9c837cca25\n",
      "=================================\u001b[1m Tool Message \u001b[0m=================================\n",
      "Name: retrieve_information_from_product\n",
      "\n",
      "{'id': '5494327a-a164-43c0-99b6-bc9c837cca25', 'expirationDate': neo4j.time.Date(2018, 9, 12), 'name': 'Kortlopende Reis Product'}\n",
      "==================================\u001b[1m Ai Message \u001b[0m==================================\n",
      "\n",
      "Your travel insurance, named \"Kortlopende Reis Product,\" expired on September 12, 2018.\n"
     ]
    }
   ],
   "source": [
    "ask_to_agent(question)"
   ]
  },
  {
   "cell_type": "code",
   "execution_count": 57,
   "metadata": {},
   "outputs": [],
   "source": [
    "question = \"When is my IBAN of my Saving account? My name Lucas van den Berg\""
   ]
  },
  {
   "cell_type": "code",
   "execution_count": 49,
   "metadata": {},
   "outputs": [
    {
     "name": "stdout",
     "output_type": "stream",
     "text": [
      "================================\u001b[1m Human Message \u001b[0m=================================\n",
      "\n",
      "When is my IBAN of my Saving account? My name Lucas vd Berg\n",
      "==================================\u001b[1m Ai Message \u001b[0m==================================\n",
      "Tool Calls:\n",
      "  retrieve_customer_id_from_database_based_on_full_name (call_T8UVEInkJJonLz2twEQP8Y5U)\n",
      " Call ID: call_T8UVEInkJJonLz2twEQP8Y5U\n",
      "  Args:\n",
      "    full_name: Lucas vd Berg\n",
      "=================================\u001b[1m Tool Message \u001b[0m=================================\n",
      "Name: retrieve_customer_id_from_database_based_on_full_name\n",
      "\n",
      "Empty DataFrame\n",
      "Columns: [c.id]\n",
      "Index: []\n",
      "==================================\u001b[1m Ai Message \u001b[0m==================================\n",
      "\n",
      "I couldn't find any customer information for \"Lucas vd Berg\" in the database. Please ensure that the name is correct or provide additional details to help locate your account.\n"
     ]
    }
   ],
   "source": [
    "ask_to_agent(question)"
   ]
  },
  {
   "cell_type": "markdown",
   "metadata": {},
   "source": [
    "## Chatbot"
   ]
  },
  {
   "cell_type": "markdown",
   "metadata": {},
   "source": [
    "Now create a chatbot with the agent providing the responses"
   ]
  },
  {
   "cell_type": "code",
   "execution_count": 50,
   "metadata": {},
   "outputs": [
    {
     "name": "stdout",
     "output_type": "stream",
     "text": [
      "* Running on local URL:  http://127.0.0.1:7861\n",
      "* Running on public URL: https://2d895c5cd2d39bb1fb.gradio.live\n",
      "\n",
      "This share link expires in 72 hours. For free permanent hosting and GPU upgrades, run `gradio deploy` from the terminal in the working directory to deploy to Hugging Face Spaces (https://huggingface.co/spaces)\n"
     ]
    },
    {
     "data": {
      "text/html": [
       "<div><iframe src=\"https://2d895c5cd2d39bb1fb.gradio.live\" width=\"100%\" height=\"500\" allow=\"autoplay; camera; microphone; clipboard-read; clipboard-write;\" frameborder=\"0\" allowfullscreen></iframe></div>"
      ],
      "text/plain": [
       "<IPython.core.display.HTML object>"
      ]
     },
     "metadata": {},
     "output_type": "display_data"
    },
    {
     "data": {
      "text/plain": []
     },
     "execution_count": 50,
     "metadata": {},
     "output_type": "execute_result"
    }
   ],
   "source": [
    "def user(user_message, history):\n",
    "    if history is None:\n",
    "        history = []\n",
    "    history.append({\"role\": \"user\", \"content\": user_message})\n",
    "    return \"\", history\n",
    "\n",
    "def get_answer(history):\n",
    "    steps = []\n",
    "    full_prompt = \"\\n\".join([f\"{msg['role'].capitalize()}: {msg['content']}\" for msg in history])\n",
    "    \n",
    "    for step in agent_executor.stream(\n",
    "            {\"messages\": [HumanMessage(content=full_prompt)]},\n",
    "            stream_mode=\"values\",\n",
    "    ):\n",
    "        step[\"messages\"][-1].pretty_print()\n",
    "        steps.append(step[\"messages\"][-1].content)\n",
    "    \n",
    "    return steps[-1]\n",
    "\n",
    "def bot(history):\n",
    "    bot_message = get_answer(history)\n",
    "    history.append({\"role\": \"assistant\", \"content\": \"\"})\n",
    "\n",
    "    for character in bot_message:\n",
    "        history[-1][\"content\"] += character\n",
    "        time.sleep(0.01)\n",
    "        yield history\n",
    "\n",
    "with gr.Blocks() as demo:\n",
    "    chatbot = gr.Chatbot(\n",
    "        label=\"Chatbot on a Graph\",\n",
    "        avatar_images=[\n",
    "            \"https://png.pngtree.com/png-vector/20220525/ourmid/pngtree-concept-of-facial-animal-avatar-chatbot-dog-chat-machine-illustration-vector-png-image_46652864.jpg\",\n",
    "            \"https://d-cb.jc-cdn.com/sites/crackberry.com/files/styles/larger/public/article_images/2023/08/openai-logo.jpg\"\n",
    "        ],\n",
    "        type=\"messages\", \n",
    "    )\n",
    "    msg = gr.Textbox(label=\"Message\")\n",
    "    clear = gr.Button(\"Clear\")\n",
    "\n",
    "    msg.submit(user, [msg, chatbot], [msg, chatbot], queue=False).then(\n",
    "        bot, [chatbot], chatbot\n",
    "    )\n",
    "\n",
    "    clear.click(lambda: [], None, chatbot, queue=False)\n",
    "\n",
    "demo.queue()\n",
    "demo.launch(share=True)"
   ]
  },
  {
   "cell_type": "markdown",
   "metadata": {},
   "source": [
    "If you want to have the light-mode for the chatbot paste the following after the URL: /?__theme=light"
   ]
  },
  {
   "cell_type": "markdown",
   "metadata": {},
   "source": [
    "### LangGraph Workflow"
   ]
  },
  {
   "cell_type": "markdown",
   "metadata": {},
   "source": [
    "Within LangGraph you can also define [Agent Workflows](https://langchain-ai.github.io/langgraph/tutorials/workflows/). Below we are quickly setting up such a workflow. "
   ]
  },
  {
   "cell_type": "code",
   "execution_count": 51,
   "metadata": {},
   "outputs": [],
   "source": [
    "retrieve_product_customer_prompt = \"\"\"\n",
    "As an intelligent assistant, your primary objective is to find either a customer name or product from the text submitted. \n",
    "The goal is to retrieve either the product on which someone is asking a question. Or the customer name such that we can find the products from their. \n",
    "Please only return the product name that is extracted. \n",
    "\n",
    "Examples:\n",
    "#####\n",
    "User: I got a question about my savings account. \n",
    "Assistant: Product: savings account\n",
    "#####\n",
    "#####\n",
    "User: My name is Jan Blok and I got a question. \n",
    "Assistant: Customer: Jan Blok\n",
    "#####\n",
    "#####\n",
    "User: What is the policy on account? \n",
    "Assistant: Need more information\n",
    "#####\n",
    "\"\"\"\n",
    "\n",
    "def retrieve_product_or_customer_from_text(question):\n",
    "    \"\"\"Retrieve either products or customers from the text given by the user\"\"\"\n",
    "\n",
    "    response = client.beta.chat.completions.parse(\n",
    "        model=LLM,\n",
    "        temperature=0,\n",
    "        messages=[\n",
    "            {\"role\": \"system\", \"content\": retrieve_product_customer_prompt},\n",
    "            {\"role\": \"user\", \"content\": question},\n",
    "        ],\n",
    "#        response_format=DefinitionList,\n",
    "    )\n",
    "    return response.choices[0].message.content "
   ]
  },
  {
   "cell_type": "code",
   "execution_count": 52,
   "metadata": {},
   "outputs": [],
   "source": [
    "class State(TypedDict):\n",
    "    input: str\n",
    "    question: str\n",
    "    product: str\n",
    "    customer: str\n",
    "    document: str\n",
    "    answer: str\n",
    "\n",
    "from langgraph.types import interrupt, Command\n",
    "\n",
    "# no-op node that should be interrupted on\n",
    "def human_feedback(state: State):\n",
    "    pass\n",
    "\n",
    "\n",
    "def retrieve_product_customer(state):\n",
    "    result = retrieve_product_or_customer_from_text(state['input'])\n",
    "    if 'Customer: ' in result:\n",
    "        customer = result.split('Customer: ')[1]\n",
    "        print('It looks like you are the following customer: ' + customer)\n",
    "        state['customer'] = customer\n",
    "    elif 'Product: ' in result:\n",
    "        product = result.split('Product: ')[1]\n",
    "        print('It sounds like you got a question on the following product: ' + product)\n",
    "        state['product'] = product\n",
    "    return state\n",
    "\n",
    "def user_feedback(state):\n",
    "    print(\"I couldn't find information to start the flow. Could you specify a product on which you have questions or your customer name?\")\n",
    "    return state \n",
    "    \n",
    "def map_product_to_db(state):\n",
    "    result = map_product_to_database_products(state['product'])\n",
    "    product = result.split('Product: ')[1]\n",
    "    state['product'] = product\n",
    "    print(\"I have found the following product in the database: \" + product)\n",
    "    return state\n",
    "\n",
    "def retrieve_document(state):\n",
    "    result = retrieve_document_from_product(state['product'])\n",
    "    state['document'] = result\n",
    "    print(\"I found the following document on the product: \" + result)\n",
    "    return state\n",
    "\n",
    "def tools_condition(state) -> Literal[\"user_feedback\", \"map_product\"]: \n",
    "    if (state.get('product') is None):\n",
    "        return \"user_feedback\"\n",
    "    else: \n",
    "        return \"map_product\"\n",
    "\n",
    "def answer_question(state):\n",
    "    context = perform_search_in_document(state['question'], state['document'])\n",
    "    theprompt = generate_prompt(state['question'], context)\n",
    "    state['answer'] = llm(theprompt.to_messages()).content\n",
    "    return state \n",
    "    \n",
    "# Build graph\n",
    "builder = StateGraph(State)\n",
    "builder.add_node(\"retrieve_product_customer\", retrieve_product_customer)\n",
    "builder.add_node(\"user_feedback\", user_feedback)\n",
    "builder.add_node(\"map_product\", map_product_to_db)\n",
    "builder.add_node(\"retrieve_document\", retrieve_document)\n",
    "builder.add_node(\"human_feedback\", human_feedback)\n",
    "builder.add_node(\"answer_question\", answer_question)\n",
    "\n",
    "# Logic\n",
    "builder.add_edge(START, \"retrieve_product_customer\")\n",
    "builder.add_conditional_edges(\"retrieve_product_customer\", tools_condition)\n",
    "builder.add_edge(\"user_feedback\", END)\n",
    "builder.add_edge(\"map_product\", \"retrieve_document\")\n",
    "builder.add_edge(\"retrieve_document\", \"human_feedback\")\n",
    "builder.add_edge(\"human_feedback\", \"answer_question\")\n",
    "builder.add_edge(\"answer_question\", END)\n",
    "\n",
    "memory = MemorySaver()\n",
    "\n",
    "# Add\n",
    "graph = builder.compile(checkpointer=memory, interrupt_before=[\"human_feedback\"])"
   ]
  },
  {
   "cell_type": "code",
   "execution_count": 53,
   "metadata": {},
   "outputs": [
    {
     "name": "stdout",
     "output_type": "stream",
     "text": [
      "                   +-----------+                   \n",
      "                   | __start__ |                   \n",
      "                   +-----------+                   \n",
      "                          *                        \n",
      "                          *                        \n",
      "                          *                        \n",
      "           +---------------------------+           \n",
      "           | retrieve_product_customer |           \n",
      "           +---------------------------+           \n",
      "                 ...            ...                \n",
      "               ..                  ...             \n",
      "             ..                       ..           \n",
      "   +-------------+                      ..         \n",
      "   | map_product |                       .         \n",
      "   +-------------+                       .         \n",
      "          *                              .         \n",
      "          *                              .         \n",
      "          *                              .         \n",
      "+-------------------+                    .         \n",
      "| retrieve_document |                    .         \n",
      "+-------------------+                    .         \n",
      "          *                              .         \n",
      "          *                              .         \n",
      "          *                              .         \n",
      "  +----------------+                     .         \n",
      "  | human_feedback |                     .         \n",
      "  +----------------+                     .         \n",
      "          *                              .         \n",
      "          *                              .         \n",
      "          *                              .         \n",
      " +-----------------+            +---------------+  \n",
      " | answer_question |            | user_feedback |  \n",
      " +-----------------+            +---------------+  \n",
      "                 ***            ***                \n",
      "                    **        **                   \n",
      "                      **    **                     \n",
      "                    +---------+                    \n",
      "                    | __end__ |                    \n",
      "                    +---------+                    \n"
     ]
    }
   ],
   "source": [
    "graph.get_graph().print_ascii()"
   ]
  },
  {
   "cell_type": "code",
   "execution_count": 54,
   "metadata": {},
   "outputs": [
    {
     "name": "stdout",
     "output_type": "stream",
     "text": [
      "{'input': 'I got a question on my savings account, what are the rules for a shared account?'}\n",
      "It sounds like you got a question on the following product: savings account\n",
      "{'input': 'I got a question on my savings account, what are the rules for a shared account?', 'product': 'savings account'}\n",
      "I have found the following product in the database: SpaarRekening\n",
      "{'input': 'I got a question on my savings account, what are the rules for a shared account?', 'product': 'SpaarRekening'}\n",
      "I found the following document on the product: Rabo SpaarRekening 2020.pdf\n",
      "{'input': 'I got a question on my savings account, what are the rules for a shared account?', 'product': 'SpaarRekening', 'document': 'Rabo SpaarRekening 2020.pdf'}\n",
      "StateSnapshot(values={'input': 'I got a question on my savings account, what are the rules for a shared account?', 'product': 'SpaarRekening', 'document': 'Rabo SpaarRekening 2020.pdf'}, next=('human_feedback',), config={'configurable': {'thread_id': '25', 'checkpoint_ns': '', 'checkpoint_id': '1f03243a-b303-6028-8003-3eb0b4ff7d81'}}, metadata={'source': 'loop', 'writes': {'retrieve_document': {'input': 'I got a question on my savings account, what are the rules for a shared account?', 'product': 'SpaarRekening', 'document': 'Rabo SpaarRekening 2020.pdf'}}, 'thread_id': '25', 'step': 3, 'parents': {}}, created_at='2025-05-16T10:51:06.474462+00:00', parent_config={'configurable': {'thread_id': '25', 'checkpoint_ns': '', 'checkpoint_id': '1f03243a-b2f5-6be4-8002-016ccc8671fb'}}, tasks=(PregelTask(id='a633d2d2-8531-e779-8b4d-ee655c421fe2', name='human_feedback', path=('__pregel_pull', 'human_feedback'), error=None, interrupts=(), state=None, result=None),))\n"
     ]
    },
    {
     "name": "stdin",
     "output_type": "stream",
     "text": [
      "Please raise your question on SpaarRekening:  what are the rules on a joint account?\n"
     ]
    },
    {
     "name": "stdout",
     "output_type": "stream",
     "text": [
      "{'input': 'I got a question on my savings account, what are the rules for a shared account?', 'question': 'what are the rules on a joint account?', 'product': 'SpaarRekening', 'document': 'Rabo SpaarRekening 2020.pdf'}\n",
      "{'input': 'I got a question on my savings account, what are the rules for a shared account?', 'question': 'what are the rules on a joint account?', 'product': 'SpaarRekening', 'document': 'Rabo SpaarRekening 2020.pdf', 'answer': 'The rules for a joint account, as outlined in the provided context, are as follows:\\n\\n1. **Joint Account Usage**: If the savings account is a joint account, it can only be used together by all account holders. This means that any actions related to the account must be agreed upon and executed by all account holders collectively. (Source: Rabo SpaarRekening 2020.pdf, page 8, chunk 71)\\n\\n2. **Communication and Notifications**: When there are multiple account holders, the bank only needs to inform one account holder, either in writing or electronically. It is the responsibility of the informed account holder to share this information with the other account holders. All account holders are bound by the information provided to any one of them. (Source: Rabo SpaarRekening 2020.pdf, page 8, chunk 68)\\n\\n3. **Legal Actions and Power of Attorney**: Each account holder may separately perform legal actions related to the savings account, such as granting a power of attorney, notifying a change of address, or terminating the agreement. The cooperation of the other account holder(s) is not required for these actions. However, the cooperation of all account holders is necessary to change the account holders themselves. (Source: Rabo SpaarRekening 2020.pdf, page 8, chunks 69 and 70)\\n\\n4. **Conversion of Account Types**: If account holders no longer want the joint-and/or account to be used separately by another account holder, they can inform the bank to convert it to a joint account. After conversion, the account can only be used with the cooperation of all account holders. (Source: Rabo SpaarRekening 2020.pdf, page 8, chunk 71)\\n\\n5. **Termination of Agreement**: For a joint account, the agreement can only be terminated together by all account holders. (Source: Rabo SpaarRekening 2020.pdf, page 7, chunk 67)\\n\\nThese rules ensure that all account holders have equal rights and responsibilities regarding the management and use of the joint account.\\n\\n**Sources**:\\n- Rabo SpaarRekening 2020.pdf, page 8, chunks 68, 69, 70, 71\\n- Rabo SpaarRekening 2020.pdf, page 7, chunk 67'}\n"
     ]
    }
   ],
   "source": [
    "initial_input = {\"input\" : \"I got a question on my savings account, what are the rules for a shared account?\"}\n",
    "\n",
    "thread  = {\"configurable\": {\"thread_id\": \"25\"}}\n",
    "for event in graph.stream(initial_input, thread, stream_mode=\"values\"):\n",
    "    print(event)\n",
    "\n",
    "print(graph.get_state(thread))\n",
    "\n",
    "user_input = input(f\"Please raise your question on {graph.get_state(thread).values['product']}: \")\n",
    "\n",
    "graph.update_state(thread, {\"question\": user_input}, as_node=\"human_feedback\")\n",
    "\n",
    "graph.get_state(thread).next\n",
    "\n",
    "for event in graph.stream(None, thread, stream_mode=\"values\"):\n",
    "    print(event)"
   ]
  },
  {
   "cell_type": "code",
   "execution_count": 55,
   "metadata": {},
   "outputs": [
    {
     "data": {
      "text/plain": [
       "{'input': 'I got a question on my savings account, what are the rules for a shared account?',\n",
       " 'question': 'what are the rules on a joint account?',\n",
       " 'product': 'SpaarRekening',\n",
       " 'document': 'Rabo SpaarRekening 2020.pdf',\n",
       " 'answer': 'The rules for a joint account, as outlined in the provided context, are as follows:\\n\\n1. **Joint Account Usage**: If the savings account is a joint account, it can only be used together by all account holders. This means that any actions related to the account must be agreed upon and executed by all account holders collectively. (Source: Rabo SpaarRekening 2020.pdf, page 8, chunk 71)\\n\\n2. **Communication and Notifications**: When there are multiple account holders, the bank only needs to inform one account holder, either in writing or electronically. It is the responsibility of the informed account holder to share this information with the other account holders. All account holders are bound by the information provided to any one of them. (Source: Rabo SpaarRekening 2020.pdf, page 8, chunk 68)\\n\\n3. **Legal Actions and Power of Attorney**: Each account holder may separately perform legal actions related to the savings account, such as granting a power of attorney, notifying a change of address, or terminating the agreement. The cooperation of the other account holder(s) is not required for these actions. However, the cooperation of all account holders is necessary to change the account holders themselves. (Source: Rabo SpaarRekening 2020.pdf, page 8, chunks 69 and 70)\\n\\n4. **Conversion of Account Types**: If account holders no longer want the joint-and/or account to be used separately by another account holder, they can inform the bank to convert it to a joint account. After conversion, the account can only be used with the cooperation of all account holders. (Source: Rabo SpaarRekening 2020.pdf, page 8, chunk 71)\\n\\n5. **Termination of Agreement**: For a joint account, the agreement can only be terminated together by all account holders. (Source: Rabo SpaarRekening 2020.pdf, page 7, chunk 67)\\n\\nThese rules ensure that all account holders have equal rights and responsibilities regarding the management and use of the joint account.\\n\\n**Sources**:\\n- Rabo SpaarRekening 2020.pdf, page 8, chunks 68, 69, 70, 71\\n- Rabo SpaarRekening 2020.pdf, page 7, chunk 67'}"
      ]
     },
     "execution_count": 55,
     "metadata": {},
     "output_type": "execute_result"
    }
   ],
   "source": [
    "graph.get_state(thread).values"
   ]
  },
  {
   "cell_type": "markdown",
   "metadata": {},
   "source": [
    "Final Answer"
   ]
  },
  {
   "cell_type": "code",
   "execution_count": 56,
   "metadata": {},
   "outputs": [
    {
     "name": "stdout",
     "output_type": "stream",
     "text": [
      "The rules for a joint account, as outlined in the provided context, are as follows:\n",
      "\n",
      "1. **Joint Account Usage**: If the savings account is a joint account, it can only be used together by all account holders. This means that any actions related to the account must be agreed upon and executed by all account holders collectively. (Source: Rabo SpaarRekening 2020.pdf, page 8, chunk 71)\n",
      "\n",
      "2. **Communication and Notifications**: When there are multiple account holders, the bank only needs to inform one account holder, either in writing or electronically. It is the responsibility of the informed account holder to share this information with the other account holders. All account holders are bound by the information provided to any one of them. (Source: Rabo SpaarRekening 2020.pdf, page 8, chunk 68)\n",
      "\n",
      "3. **Legal Actions and Power of Attorney**: Each account holder may separately perform legal actions related to the savings account, such as granting a power of attorney, notifying a change of address, or terminating the agreement. The cooperation of the other account holder(s) is not required for these actions. However, the cooperation of all account holders is necessary to change the account holders themselves. (Source: Rabo SpaarRekening 2020.pdf, page 8, chunks 69 and 70)\n",
      "\n",
      "4. **Conversion of Account Types**: If account holders no longer want the joint-and/or account to be used separately by another account holder, they can inform the bank to convert it to a joint account. After conversion, the account can only be used with the cooperation of all account holders. (Source: Rabo SpaarRekening 2020.pdf, page 8, chunk 71)\n",
      "\n",
      "5. **Termination of Agreement**: For a joint account, the agreement can only be terminated together by all account holders. (Source: Rabo SpaarRekening 2020.pdf, page 7, chunk 67)\n",
      "\n",
      "These rules ensure that all account holders have equal rights and responsibilities regarding the management and use of the joint account.\n",
      "\n",
      "**Sources**:\n",
      "- Rabo SpaarRekening 2020.pdf, page 8, chunks 68, 69, 70, 71\n",
      "- Rabo SpaarRekening 2020.pdf, page 7, chunk 67\n"
     ]
    }
   ],
   "source": [
    "print(graph.get_state(thread).values['answer'])"
   ]
  }
 ],
 "metadata": {
  "colab": {
   "provenance": []
  },
  "kernelspec": {
   "display_name": "Python 3 (ipykernel)",
   "language": "python",
   "name": "python3"
  },
  "language_info": {
   "codemirror_mode": {
    "name": "ipython",
    "version": 3
   },
   "file_extension": ".py",
   "mimetype": "text/x-python",
   "name": "python",
   "nbconvert_exporter": "python",
   "pygments_lexer": "ipython3",
   "version": "3.11.5"
  }
 },
 "nbformat": 4,
 "nbformat_minor": 4
}
